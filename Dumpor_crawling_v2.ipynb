{
 "cells": [
  {
   "cell_type": "code",
   "execution_count": 1,
   "id": "e069526a",
   "metadata": {},
   "outputs": [],
   "source": [
    "import requests \n",
    "from bs4 import BeautifulSoup\n",
    "from selenium import webdriver\n",
    "from selenium.webdriver.chrome.options import Options\n",
    "import time \n",
    "import re \n",
    "from tqdm.notebook import tqdm\n",
    "import random\n",
    "\n",
    "import shutil #이미지저장\n",
    "\n",
    "import pandas as pd\n",
    "import numpy as np\n",
    "import os\n",
    "\n",
    "import re #숫자만 남기기"
   ]
  },
  {
   "cell_type": "code",
   "execution_count": 2,
   "id": "9cf713dd",
   "metadata": {},
   "outputs": [],
   "source": [
    "#pip install selenium"
   ]
  },
  {
   "cell_type": "code",
   "execution_count": 3,
   "id": "24a52bfd",
   "metadata": {},
   "outputs": [],
   "source": [
    "#pip install webdriver-manager"
   ]
  },
  {
   "cell_type": "markdown",
   "id": "9e21f562",
   "metadata": {},
   "source": [
    "오류 수정 내용 : \n",
    "1. 페이지 요청 오류 났을 시(너무 많은 요청 or 삭제된 계정) 모든 반환값을 -1로 저장\n",
    "2. timestamp 안뜨는거 수정\n",
    "3. 모든 반복문에 tqdm바(진행 상태 확인) 추가"
   ]
  },
  {
   "cell_type": "code",
   "execution_count": 2,
   "id": "01e28d2d",
   "metadata": {},
   "outputs": [],
   "source": [
    "def get_Posts_Followers_Followings(): #게시글 수, 팔로워 수, 팔로윙 수\n",
    "    \n",
    "    source = driver.page_source\n",
    "    soup = BeautifulSoup(source, 'html.parser')\n",
    "    #title = soup.find('title').text\n",
    "    profile_countable_list = []\n",
    "    \n",
    "    try:\n",
    "        #태그 위치\n",
    "        li_tags = soup.select('.container ul > li')\n",
    "\n",
    "        for li in li_tags:\n",
    "            text = li.text.replace(' ','') #공백 지우기\n",
    "            counts = int(re.sub('[^0-9]','',text)) #숫자만 냄구기\n",
    "            profile_countable_list.append(counts)\n",
    "        if len(profile_countable_list)<3:\n",
    "            profile_countable_list = ['-','-','-']\n",
    "    except:\n",
    "        print('get_Posts_Followers_Followings 예외 발생!')\n",
    "        profile_countable_list = ['-','-','-']  \n",
    "    \n",
    "    return profile_countable_list"
   ]
  },
  {
   "cell_type": "code",
   "execution_count": 3,
   "id": "e471f53a",
   "metadata": {},
   "outputs": [],
   "source": [
    "def get_InfluId_Biography_ProfileUrl(): #id, biography, 프로필사진url\n",
    "    \n",
    "    \n",
    "    #title = soup.find('title').text\n",
    "    source = driver.page_source\n",
    "    soup = BeautifulSoup(source, 'html.parser')   \n",
    "    profile_uncountable_list = []\n",
    "    \n",
    "    try: \n",
    "        #container = soup.select_one('.container a')['href']\n",
    "        container = soup.select_one('.container div.user__title > a').attrs['href']\n",
    "        profile_uncountable_list.append(container[3:])\n",
    "\n",
    "\n",
    "        biography = soup.select_one('.container .user__info-desc').text\n",
    "        profile_uncountable_list.append(biography)\n",
    "\n",
    "\n",
    "        user_img = soup.select_one('.container .user .user__img')\n",
    "        user_img_s = str(user_img)\n",
    "        left = user_img_s.find('url(')\n",
    "        right = user_img_s.rfind(')')\n",
    "        profile_uncountable_list.append(user_img_s[left+5:right-1])\n",
    "        if len(profile_uncountable_list)<3:\n",
    "            profile_uncountable_list = ['-','-','-']\n",
    "\n",
    "    except:\n",
    "        print('get_InfluId_Biography_ProfileUrl 예외 발생!')\n",
    "        profile_uncountable_list = ['-','-','-']\n",
    "        \n",
    "    return profile_uncountable_list"
   ]
  },
  {
   "cell_type": "code",
   "execution_count": 4,
   "id": "76326f73",
   "metadata": {},
   "outputs": [],
   "source": [
    "def get_Followers_dict(url, followers):\n",
    "    new_url = url + '/followers'    \n",
    "    \n",
    "    driver = webdriver.Chrome(executable_path=r'C:/Users/학생/Downloads/chromedriver_win32/chromedriver', chrome_options=options)\n",
    "    #driver = webdriver.Chrome(executable_path= r'C:/Users/ourus/Python_KPC/Insta_Crawling/chromedriver_win32/chromedriver', chrome_options=options)\n",
    "    driver.get(new_url)\n",
    "    \n",
    "    #title = soup.find('title').text\n",
    "    \n",
    "    try:  \n",
    "        time.sleep(0.5)\n",
    "        count = []\n",
    "        tmp = []\n",
    "        f_var = 0\n",
    "        followers_dict = {} #딕셔너리형태로 저장\n",
    "        \n",
    "        with tqdm(total=followers) as pbar:\n",
    "            while True:\n",
    "                \n",
    "                if (len(count)-len(tmp)) > 100:\n",
    "                    break\n",
    "\n",
    "                source = driver.page_source\n",
    "                soup = BeautifulSoup(source, 'html.parser')\n",
    "\n",
    "                a_tag = soup.select('.container .content__list.followers.grid.infinite_scroll a')\n",
    "\n",
    "                for a in a_tag:\n",
    "                    id_url = a.attrs['href'] #https://dumpor.com/v/계정\n",
    "                    followers_dict[id_url[21:]] = a.img['src'] # {계정이름 : 프로필이미지 url}\n",
    "\n",
    "                driver.execute_script(\"window.scrollTo(0, document.body.scrollHeight)\") #휠스크롤\n",
    "\n",
    "                time.sleep(0.5)\n",
    "                count.append('1')\n",
    "                \n",
    "                if f_var != len(followers_dict):\n",
    "                    f_var = len(followers_dict)\n",
    "                    tmp.append('1')\n",
    "                    pbar.update(1)\n",
    "                print('count:',len(count))\n",
    "                print('tmp:  ',len(tmp))\n",
    "                print('len(dict):',len(followers_dict))\n",
    "                print('-------------------------------')\n",
    "                \n",
    "    except:\n",
    "        return {'-':'-'}\n",
    "    \n",
    "\n",
    "    driver.close()\n",
    "    return followers_dict"
   ]
  },
  {
   "cell_type": "code",
   "execution_count": null,
   "id": "c11e5750",
   "metadata": {},
   "outputs": [],
   "source": []
  },
  {
   "cell_type": "code",
   "execution_count": 17,
   "id": "0341c192",
   "metadata": {},
   "outputs": [],
   "source": [
    "def time_change(x,nomalize = False):\n",
    "    import datetime\n",
    "    from datetime import date, datetime, timedelta\n",
    "#     from datetime import timedelta,datetime\n",
    "    from dateutil.relativedelta import relativedelta\n",
    "    '''검색결과에 있는 문자를 날짜로 변경\n",
    "    크롤링시 작성일자가 1분 전/1시간 전/1일 전으로 나타는 경우가 존재\n",
    "    이러한 패턴을 일반적인 YY-MM-DD형태로 변환\n",
    "    그리고 월별 계산이 중요하므로 모든 데이터는 1일로 통일\n",
    "    \n",
    "    Return\n",
    "    -------\n",
    "    x : datetime\n",
    "        날짜형형태로 전환\n",
    "        \n",
    "    Example\n",
    "    -------\n",
    "    >>> x = \"47분 전\"\n",
    "    >>> time_change(x)\n",
    "    datetime.datetime(2020, 6, 1, 0, 0)\n",
    "    \n",
    "    >>> x2 = \"2019.01.31\"\n",
    "    >>> time_change(x2)\n",
    "    datetime.datetime(2019, 1, 1, 0, 0)\n",
    "    '''\n",
    "    \n",
    "    number = re.compile('[0-9]+')\n",
    "    today = date.today()#datetime.datetime.today().date()\n",
    "    x = str(x)\n",
    "    # 일자\n",
    "    if \" day\" in x :\n",
    "        d = re.sub(r'[^0-9]', '', x)#re.findall(number, x)[0]\n",
    "        x = today - timedelta(days=int(d))\n",
    "    elif \" hour\" in x:\n",
    "        d = re.sub(r'[^0-9]', '', x)#re.findall(number, x)[0]\n",
    "        x = today\n",
    "    elif \" minute\" in x:\n",
    "        d = re.sub(r'[^0-9]', '', x)#re.findall(number, x)[0]\n",
    "        x = today\n",
    "    #elif x == \" month\":\n",
    "    #    x = today - timedelta(days=1)\n",
    "    elif \" month\" in x: # '%Y년 %m월 %d일'형태\n",
    "        m = re.sub(r'[^0-9]', '', x)\n",
    "        x = today - relativedelta(months=int(m))\n",
    "        #x = str(new_date.date())\n",
    "    elif \" year\" in x: # '%Y년 %m월 %d일'형태\n",
    "        y = re.sub(r'[^0-9]', '', x)\n",
    "        x = today - relativedelta(years=int(y))\n",
    "        #x = str(new_date.date())\n",
    "    else :\n",
    "        x = x\n",
    "    \n",
    "    #모든일자를 1일로 통일\n",
    "    if nomalize:\n",
    "        x = datetime.datetime.strptime(x.strftime('%Y-%m')+\"-01\",\"%Y-%m-%d\")\n",
    "    return x"
   ]
  },
  {
   "cell_type": "code",
   "execution_count": null,
   "id": "01eca9f1",
   "metadata": {},
   "outputs": [],
   "source": []
  },
  {
   "cell_type": "code",
   "execution_count": 6,
   "id": "3bdd005d",
   "metadata": {},
   "outputs": [],
   "source": [
    "def get_date():\n",
    "    \n",
    "    title = soup.find('title').text\n",
    "    try:\n",
    "        dates_text = soup.select('#card-page > .container .content__btns > div')[2].span.text\n",
    "        return dates_text\n",
    "    except:\n",
    "        return -1"
   ]
  },
  {
   "cell_type": "code",
   "execution_count": 7,
   "id": "52451dd0",
   "metadata": {},
   "outputs": [],
   "source": [
    "def get_post_url(posts):\n",
    "    #url 수집\n",
    "    url_halfs = []\n",
    "    count = 0\n",
    "    with tqdm(total=posts) as pbar:\n",
    "        while True:     \n",
    "            if count > posts:\n",
    "                break\n",
    "\n",
    "            source = driver.page_source\n",
    "            soup = BeautifulSoup(source, 'html.parser')\n",
    "\n",
    "            title = soup.find('title').text      \n",
    "            try:\n",
    "                #url저장\n",
    "                url_source = soup.select('.container a')\n",
    "\n",
    "                for url_half in url_source:\n",
    "                    if '/c/' in str(url_half):\n",
    "                        url_halfs.append(url_half.attrs['href'])           \n",
    "\n",
    "                #중복제거\n",
    "                url_halfs = list(set(url_halfs))\n",
    "                driver.execute_script(\"window.scrollTo(0, document.body.scrollHeight)\") #휠스크롤\n",
    "                time.sleep(0.5)\n",
    "                count = count + 1\n",
    "                pbar.update(1)\n",
    "                #print(count)\n",
    "            except:\n",
    "                url_halfs.append('-1')\n",
    "    print(f'수집된 url수:{len(url_halfs)}')\n",
    "    return url_halfs"
   ]
  },
  {
   "cell_type": "code",
   "execution_count": 8,
   "id": "e8a2ebc4",
   "metadata": {},
   "outputs": [],
   "source": [
    "def get_post_text():\n",
    "    main_text = soup.select_one('#card-page div.main__list').text\n",
    "    return main_text"
   ]
  },
  {
   "cell_type": "code",
   "execution_count": 18,
   "id": "0d452806",
   "metadata": {},
   "outputs": [],
   "source": [
    "def get_likes_replies(): #[좋아요 개수, 댓글 수]\n",
    "    likes_replies = []\n",
    "    print(\"좋아요,댓글,날짜,다운로드\",len(soup.select('#card-page > .container .content__btns > div')))\n",
    "    try:\n",
    "        likes_replies.append(soup.select('#card-page > .container .content__btns > div')[0].span.text)\n",
    "        likes_replies.append(soup.select('#card-page > .container .content__btns > div')[1].span.text)\n",
    "    except:\n",
    "        print('get_likes_replies 예외발생')\n",
    "        likes_replies.append(-1)\n",
    "        likes_replies.append(-1)\n",
    "    return likes_replies"
   ]
  },
  {
   "cell_type": "code",
   "execution_count": 19,
   "id": "a416085b",
   "metadata": {},
   "outputs": [],
   "source": [
    "def get_reply_info(replies): #댓글username : 댓글text\n",
    "    replies_dict = {} #딕셔너리형태로 저장\n",
    "    count = 0\n",
    "    with tqdm(total=int(replies)) as pbar:\n",
    "        while True:\n",
    "            if (count > int(float(replies)*0.9)) or (len(replies_dict) > int(replies)): #걍 스크롤 50번이면 댓글 다 가져올거야 제발\n",
    "                break\n",
    "\n",
    "            source = driver.page_source\n",
    "            soup = BeautifulSoup(source, 'html.parser')\n",
    "\n",
    "            title = soup.find('title').text\n",
    "            try:\n",
    "                tag = soup.select('#card-page > .container .wrap.comments.mb-4 > div > div > div > div')\n",
    "                replies_dict = {}\n",
    "                text_list = []\n",
    "                for a in tag:\n",
    "                    n = 1\n",
    "                    for b in a: #두개의 태그가 있어서..\n",
    "                        n = n+1\n",
    "                        text = b.text\n",
    "                        if n%2==0: #id\n",
    "                            text_list.append(text[1:])\n",
    "                        else: #댓글\n",
    "                            text_list.append(text)\n",
    "            except:\n",
    "                replies_dict = {'-':'-'}\n",
    "                break\n",
    "                \n",
    "\n",
    "            \n",
    "            replies_dict={text_list[i]: text_list[i + 1] for i in range(0, len(text_list), 2)}\n",
    "            print(\"수집한 댓글 수 : \",len(replies_dict)) #확인해 몇개 받았는지\n",
    "            \n",
    "            pbar.update(1)\n",
    "            \n",
    "            driver.execute_script(\"window.scrollTo(0, document.body.scrollHeight)\") #휠스크롤\n",
    "\n",
    "            time.sleep(1)\n",
    "            count = count + 1\n",
    "    \n",
    "    return replies_dict"
   ]
  },
  {
   "cell_type": "code",
   "execution_count": null,
   "id": "d0174966",
   "metadata": {},
   "outputs": [],
   "source": []
  },
  {
   "cell_type": "code",
   "execution_count": null,
   "id": "78195a18",
   "metadata": {},
   "outputs": [],
   "source": []
  },
  {
   "cell_type": "code",
   "execution_count": null,
   "id": "fbb452a8",
   "metadata": {},
   "outputs": [],
   "source": []
  },
  {
   "cell_type": "code",
   "execution_count": null,
   "id": "4d98e567",
   "metadata": {},
   "outputs": [],
   "source": []
  },
  {
   "cell_type": "code",
   "execution_count": null,
   "id": "c6f29b6f",
   "metadata": {},
   "outputs": [],
   "source": []
  },
  {
   "cell_type": "code",
   "execution_count": 11,
   "id": "21214d1f",
   "metadata": {},
   "outputs": [],
   "source": [
    "from selenium import webdriver"
   ]
  },
  {
   "cell_type": "markdown",
   "id": "cebc6515",
   "metadata": {},
   "source": [
    "#add\n",
    "### 15202623986    seulgistyles_\n",
    "### 2043464728      style_mans\n",
    "### 317091289        diegoosorio1\n",
    "### 30316172873    joysstyles_\n",
    "### 191403723        kostelevision\n",
    "### 22566228417    k_fashion_looks\n",
    "### 38980901318    dailyfashion_news\n",
    "### 35641698457    irenebaefashion\n",
    "### 1394688376      bsha_bsha\n",
    "### 1297647769      coolguy9283\n",
    "### 1996261596      style_88_"
   ]
  },
  {
   "cell_type": "code",
   "execution_count": 25,
   "id": "12415601",
   "metadata": {},
   "outputs": [],
   "source": [
    "keyword = \"style_mans\" \n",
    "before_data= keyword + '_게시글.csv'\n",
    "url = \"https://dumpor.com/v/{}/\".format(keyword)\n",
    "os.makedirs('./{}'.format(keyword),exist_ok=True) #하위폴더 생성\n",
    "os.makedirs('./{}/comms'.format(keyword),exist_ok=True) #하위폴더 생성\n",
    "headers = {'user-agent': 'Mozilla/5.0 (Windows NT 10.0; Win64; x64) AppleWebKit/537.36 (KHTML, like Gecko) Chrome/79.0.3945.130 Safari/537.36'}"
   ]
  },
  {
   "cell_type": "code",
   "execution_count": 24,
   "id": "5142fbbc",
   "metadata": {},
   "outputs": [],
   "source": [
    "#driver options\n",
    "options = Options()\n",
    "options.add_argument('--start-maximized') #전체화면\n",
    "options.add_argument(f'user-agent={headers}')\n",
    "options.add_argument('--headless') #headless(화면안켜고)"
   ]
  },
  {
   "cell_type": "code",
   "execution_count": 27,
   "id": "6a737e20",
   "metadata": {},
   "outputs": [
    {
     "name": "stderr",
     "output_type": "stream",
     "text": [
      "<ipython-input-27-3a0b7f061804>:2: DeprecationWarning: use options instead of chrome_options\n",
      "  driver = webdriver.Chrome(executable_path=r'C:/Users/학생/Downloads/chromedriver_win32/chromedriver', chrome_options=options)\n"
     ]
    }
   ],
   "source": [
    "#driver = webdriver.Chrome(executable_path= r'C:/Users/ourus/Python_KPC/Insta_Crawling/chromedriver_win32/chromedriver', chrome_options=options)\n",
    "driver = webdriver.Chrome(executable_path=r'C:/Users/학생/Downloads/chromedriver_win32/chromedriver', chrome_options=options)\n",
    "driver.get(url) \n"
   ]
  },
  {
   "cell_type": "code",
   "execution_count": 15,
   "id": "0c72bc71",
   "metadata": {},
   "outputs": [
    {
     "data": {
      "text/html": [
       "<div>\n",
       "<style scoped>\n",
       "    .dataframe tbody tr th:only-of-type {\n",
       "        vertical-align: middle;\n",
       "    }\n",
       "\n",
       "    .dataframe tbody tr th {\n",
       "        vertical-align: top;\n",
       "    }\n",
       "\n",
       "    .dataframe thead th {\n",
       "        text-align: right;\n",
       "    }\n",
       "</style>\n",
       "<table border=\"1\" class=\"dataframe\">\n",
       "  <thead>\n",
       "    <tr style=\"text-align: right;\">\n",
       "      <th></th>\n",
       "      <th>user_name</th>\n",
       "      <th>biography</th>\n",
       "      <th>media_count</th>\n",
       "      <th>followed_by_count</th>\n",
       "      <th>follow_count</th>\n",
       "      <th>profile_pic_url</th>\n",
       "    </tr>\n",
       "  </thead>\n",
       "  <tbody>\n",
       "    <tr>\n",
       "      <th>0</th>\n",
       "      <td>style_mans</td>\n",
       "      <td>style mans magazin 😎</td>\n",
       "      <td>668</td>\n",
       "      <td>27946</td>\n",
       "      <td>5235</td>\n",
       "      <td>https://cdn2.dumpor.com/view?q=%3D%3DwM4YmZidT...</td>\n",
       "    </tr>\n",
       "  </tbody>\n",
       "</table>\n",
       "</div>"
      ],
      "text/plain": [
       "    user_name             biography  media_count  followed_by_count  \\\n",
       "0  style_mans  style mans magazin 😎          668              27946   \n",
       "\n",
       "   follow_count                                    profile_pic_url  \n",
       "0          5235  https://cdn2.dumpor.com/view?q=%3D%3DwM4YmZidT...  "
      ]
     },
     "execution_count": 15,
     "metadata": {},
     "output_type": "execute_result"
    }
   ],
   "source": [
    "temp = get_Posts_Followers_Followings()\n",
    "temp1 = get_InfluId_Biography_ProfileUrl()\n",
    "profile = {}\n",
    "\n",
    "profile['user_name'] = temp1[0]    #계정\n",
    "profile['biography'] = temp1[1]    #프로필\n",
    "profile['media_count'] = temp[0]    #게시글수\n",
    "profile['followed_by_count'] = temp[1] #팔로워수\n",
    "profile['follow_count'] = temp[2]    #팔로윙수\n",
    "profile['profile_pic_url'] = temp1[2] #프로필사진url\n",
    "\n",
    "df = pd.DataFrame([profile])\n",
    "df.to_csv('./{}/{}_profile.csv'.format(keyword,keyword), encoding='utf-8-sig')\n",
    "df"
   ]
  },
  {
   "cell_type": "code",
   "execution_count": 185,
   "id": "24b6d7e9",
   "metadata": {},
   "outputs": [
    {
     "name": "stderr",
     "output_type": "stream",
     "text": [
      "<ipython-input-181-9d7afa5bfef2>:4: DeprecationWarning: use options instead of chrome_options\n",
      "  driver = webdriver.Chrome(executable_path= r'C:/Users/ourus/Python_KPC/Insta_Crawling/chromedriver_win32/chromedriver', chrome_options=options)\n"
     ]
    },
    {
     "data": {
      "application/vnd.jupyter.widget-view+json": {
       "model_id": "6b4a4691c15c4f31b5c84ce038ade6f9",
       "version_major": 2,
       "version_minor": 0
      },
      "text/plain": [
       "HBox(children=(HTML(value=''), FloatProgress(value=0.0, max=721.0), HTML(value='')))"
      ]
     },
     "metadata": {},
     "output_type": "display_data"
    },
    {
     "name": "stdout",
     "output_type": "stream",
     "text": [
      "count: 1\n",
      "tmp:   1\n",
      "len(dict): 24\n",
      "-------------------------------\n",
      "count: 2\n",
      "tmp:   2\n",
      "len(dict): 48\n",
      "-------------------------------\n",
      "count: 3\n",
      "tmp:   2\n",
      "len(dict): 48\n",
      "-------------------------------\n",
      "count: 4\n",
      "tmp:   2\n",
      "len(dict): 48\n",
      "-------------------------------\n",
      "count: 5\n",
      "tmp:   3\n",
      "len(dict): 72\n",
      "-------------------------------\n",
      "count: 6\n",
      "tmp:   3\n",
      "len(dict): 72\n",
      "-------------------------------\n",
      "count: 7\n",
      "tmp:   3\n",
      "len(dict): 72\n",
      "-------------------------------\n",
      "count: 8\n",
      "tmp:   4\n",
      "len(dict): 96\n",
      "-------------------------------\n",
      "count: 9\n",
      "tmp:   4\n",
      "len(dict): 96\n",
      "-------------------------------\n",
      "count: 10\n",
      "tmp:   4\n",
      "len(dict): 96\n",
      "-------------------------------\n",
      "count: 11\n",
      "tmp:   5\n",
      "len(dict): 120\n",
      "-------------------------------\n",
      "count: 12\n",
      "tmp:   5\n",
      "len(dict): 120\n",
      "-------------------------------\n",
      "count: 13\n",
      "tmp:   5\n",
      "len(dict): 120\n",
      "-------------------------------\n",
      "count: 14\n",
      "tmp:   5\n",
      "len(dict): 120\n",
      "-------------------------------\n",
      "count: 15\n",
      "tmp:   5\n",
      "len(dict): 120\n",
      "-------------------------------\n",
      "count: 16\n",
      "tmp:   5\n",
      "len(dict): 120\n",
      "-------------------------------\n",
      "count: 17\n",
      "tmp:   5\n",
      "len(dict): 120\n",
      "-------------------------------\n",
      "count: 18\n",
      "tmp:   5\n",
      "len(dict): 120\n",
      "-------------------------------\n",
      "count: 19\n",
      "tmp:   5\n",
      "len(dict): 120\n",
      "-------------------------------\n",
      "count: 20\n",
      "tmp:   5\n",
      "len(dict): 120\n",
      "-------------------------------\n",
      "count: 21\n",
      "tmp:   5\n",
      "len(dict): 120\n",
      "-------------------------------\n",
      "count: 22\n",
      "tmp:   5\n",
      "len(dict): 120\n",
      "-------------------------------\n",
      "count: 23\n",
      "tmp:   5\n",
      "len(dict): 120\n",
      "-------------------------------\n",
      "count: 24\n",
      "tmp:   5\n",
      "len(dict): 120\n",
      "-------------------------------\n",
      "count: 25\n",
      "tmp:   5\n",
      "len(dict): 120\n",
      "-------------------------------\n",
      "count: 26\n",
      "tmp:   5\n",
      "len(dict): 120\n",
      "-------------------------------\n",
      "count: 27\n",
      "tmp:   5\n",
      "len(dict): 120\n",
      "-------------------------------\n",
      "count: 28\n",
      "tmp:   5\n",
      "len(dict): 120\n",
      "-------------------------------\n",
      "count: 29\n",
      "tmp:   5\n",
      "len(dict): 120\n",
      "-------------------------------\n",
      "count: 30\n",
      "tmp:   5\n",
      "len(dict): 120\n",
      "-------------------------------\n",
      "count: 31\n",
      "tmp:   5\n",
      "len(dict): 120\n",
      "-------------------------------\n",
      "count: 32\n",
      "tmp:   5\n",
      "len(dict): 120\n",
      "-------------------------------\n",
      "count: 33\n",
      "tmp:   5\n",
      "len(dict): 120\n",
      "-------------------------------\n",
      "count: 34\n",
      "tmp:   5\n",
      "len(dict): 120\n",
      "-------------------------------\n",
      "count: 35\n",
      "tmp:   6\n",
      "len(dict): 144\n",
      "-------------------------------\n",
      "count: 36\n",
      "tmp:   6\n",
      "len(dict): 144\n",
      "-------------------------------\n",
      "count: 37\n",
      "tmp:   6\n",
      "len(dict): 144\n",
      "-------------------------------\n",
      "count: 38\n",
      "tmp:   6\n",
      "len(dict): 144\n",
      "-------------------------------\n",
      "count: 39\n",
      "tmp:   6\n",
      "len(dict): 144\n",
      "-------------------------------\n",
      "count: 40\n",
      "tmp:   6\n",
      "len(dict): 144\n",
      "-------------------------------\n",
      "count: 41\n",
      "tmp:   6\n",
      "len(dict): 144\n",
      "-------------------------------\n",
      "count: 42\n",
      "tmp:   6\n",
      "len(dict): 144\n",
      "-------------------------------\n",
      "count: 43\n",
      "tmp:   6\n",
      "len(dict): 144\n",
      "-------------------------------\n",
      "count: 44\n",
      "tmp:   6\n",
      "len(dict): 144\n",
      "-------------------------------\n",
      "count: 45\n",
      "tmp:   7\n",
      "len(dict): 167\n",
      "-------------------------------\n",
      "count: 46\n",
      "tmp:   7\n",
      "len(dict): 167\n",
      "-------------------------------\n",
      "count: 47\n",
      "tmp:   7\n",
      "len(dict): 167\n",
      "-------------------------------\n",
      "count: 48\n",
      "tmp:   8\n",
      "len(dict): 191\n",
      "-------------------------------\n",
      "count: 49\n",
      "tmp:   8\n",
      "len(dict): 191\n",
      "-------------------------------\n",
      "count: 50\n",
      "tmp:   8\n",
      "len(dict): 191\n",
      "-------------------------------\n",
      "count: 51\n",
      "tmp:   9\n",
      "len(dict): 215\n",
      "-------------------------------\n",
      "count: 52\n",
      "tmp:   9\n",
      "len(dict): 215\n",
      "-------------------------------\n",
      "count: 53\n",
      "tmp:   9\n",
      "len(dict): 215\n",
      "-------------------------------\n",
      "count: 54\n",
      "tmp:   10\n",
      "len(dict): 238\n",
      "-------------------------------\n",
      "count: 55\n",
      "tmp:   10\n",
      "len(dict): 238\n",
      "-------------------------------\n",
      "count: 56\n",
      "tmp:   11\n",
      "len(dict): 262\n",
      "-------------------------------\n",
      "count: 57\n",
      "tmp:   11\n",
      "len(dict): 262\n",
      "-------------------------------\n",
      "count: 58\n",
      "tmp:   11\n",
      "len(dict): 262\n",
      "-------------------------------\n",
      "count: 59\n",
      "tmp:   12\n",
      "len(dict): 285\n",
      "-------------------------------\n",
      "count: 60\n",
      "tmp:   12\n",
      "len(dict): 285\n",
      "-------------------------------\n",
      "count: 61\n",
      "tmp:   12\n",
      "len(dict): 285\n",
      "-------------------------------\n",
      "count: 62\n",
      "tmp:   13\n",
      "len(dict): 309\n",
      "-------------------------------\n",
      "count: 63\n",
      "tmp:   13\n",
      "len(dict): 309\n",
      "-------------------------------\n",
      "count: 64\n",
      "tmp:   14\n",
      "len(dict): 333\n",
      "-------------------------------\n",
      "count: 65\n",
      "tmp:   14\n",
      "len(dict): 333\n",
      "-------------------------------\n",
      "count: 66\n",
      "tmp:   14\n",
      "len(dict): 333\n",
      "-------------------------------\n",
      "count: 67\n",
      "tmp:   15\n",
      "len(dict): 355\n",
      "-------------------------------\n",
      "count: 68\n",
      "tmp:   15\n",
      "len(dict): 355\n",
      "-------------------------------\n",
      "count: 69\n",
      "tmp:   15\n",
      "len(dict): 355\n",
      "-------------------------------\n",
      "count: 70\n",
      "tmp:   15\n",
      "len(dict): 355\n",
      "-------------------------------\n",
      "count: 71\n",
      "tmp:   16\n",
      "len(dict): 379\n",
      "-------------------------------\n",
      "count: 72\n",
      "tmp:   16\n",
      "len(dict): 379\n",
      "-------------------------------\n",
      "count: 73\n",
      "tmp:   16\n",
      "len(dict): 379\n",
      "-------------------------------\n",
      "count: 74\n",
      "tmp:   17\n",
      "len(dict): 403\n",
      "-------------------------------\n",
      "count: 75\n",
      "tmp:   18\n",
      "len(dict): 426\n",
      "-------------------------------\n",
      "count: 76\n",
      "tmp:   18\n",
      "len(dict): 426\n",
      "-------------------------------\n",
      "count: 77\n",
      "tmp:   18\n",
      "len(dict): 426\n",
      "-------------------------------\n",
      "count: 78\n",
      "tmp:   19\n",
      "len(dict): 449\n",
      "-------------------------------\n",
      "count: 79\n",
      "tmp:   20\n",
      "len(dict): 473\n",
      "-------------------------------\n",
      "count: 80\n",
      "tmp:   20\n",
      "len(dict): 473\n",
      "-------------------------------\n",
      "count: 81\n",
      "tmp:   21\n",
      "len(dict): 497\n",
      "-------------------------------\n",
      "count: 82\n",
      "tmp:   21\n",
      "len(dict): 497\n",
      "-------------------------------\n",
      "count: 83\n",
      "tmp:   22\n",
      "len(dict): 521\n",
      "-------------------------------\n",
      "count: 84\n",
      "tmp:   22\n",
      "len(dict): 521\n",
      "-------------------------------\n",
      "count: 85\n",
      "tmp:   22\n",
      "len(dict): 521\n",
      "-------------------------------\n",
      "count: 86\n",
      "tmp:   23\n",
      "len(dict): 545\n",
      "-------------------------------\n",
      "count: 87\n",
      "tmp:   24\n",
      "len(dict): 568\n",
      "-------------------------------\n",
      "count: 88\n",
      "tmp:   24\n",
      "len(dict): 568\n",
      "-------------------------------\n",
      "count: 89\n",
      "tmp:   24\n",
      "len(dict): 568\n",
      "-------------------------------\n",
      "count: 90\n",
      "tmp:   25\n",
      "len(dict): 592\n",
      "-------------------------------\n",
      "count: 91\n",
      "tmp:   26\n",
      "len(dict): 615\n",
      "-------------------------------\n",
      "count: 92\n",
      "tmp:   26\n",
      "len(dict): 615\n",
      "-------------------------------\n",
      "count: 93\n",
      "tmp:   27\n",
      "len(dict): 639\n",
      "-------------------------------\n",
      "count: 94\n",
      "tmp:   27\n",
      "len(dict): 639\n",
      "-------------------------------\n",
      "count: 95\n",
      "tmp:   28\n",
      "len(dict): 662\n",
      "-------------------------------\n",
      "count: 96\n",
      "tmp:   28\n",
      "len(dict): 662\n",
      "-------------------------------\n",
      "count: 97\n",
      "tmp:   29\n",
      "len(dict): 685\n",
      "-------------------------------\n",
      "count: 98\n",
      "tmp:   29\n",
      "len(dict): 685\n",
      "-------------------------------\n",
      "count: 99\n",
      "tmp:   30\n",
      "len(dict): 708\n",
      "-------------------------------\n",
      "count: 100\n",
      "tmp:   30\n",
      "len(dict): 708\n",
      "-------------------------------\n",
      "count: 101\n",
      "tmp:   30\n",
      "len(dict): 708\n",
      "-------------------------------\n",
      "count: 102\n",
      "tmp:   31\n",
      "len(dict): 721\n",
      "-------------------------------\n",
      "count: 103\n",
      "tmp:   31\n",
      "len(dict): 721\n",
      "-------------------------------\n",
      "count: 104\n",
      "tmp:   31\n",
      "len(dict): 721\n",
      "-------------------------------\n",
      "count: 105\n",
      "tmp:   31\n",
      "len(dict): 721\n",
      "-------------------------------\n",
      "count: 106\n",
      "tmp:   31\n",
      "len(dict): 721\n",
      "-------------------------------\n",
      "count: 107\n",
      "tmp:   31\n",
      "len(dict): 721\n",
      "-------------------------------\n",
      "count: 108\n",
      "tmp:   31\n",
      "len(dict): 721\n",
      "-------------------------------\n",
      "count: 109\n",
      "tmp:   31\n",
      "len(dict): 721\n",
      "-------------------------------\n",
      "count: 110\n",
      "tmp:   31\n",
      "len(dict): 721\n",
      "-------------------------------\n",
      "count: 111\n",
      "tmp:   31\n",
      "len(dict): 721\n",
      "-------------------------------\n",
      "count: 112\n",
      "tmp:   31\n",
      "len(dict): 721\n",
      "-------------------------------\n",
      "count: 113\n",
      "tmp:   31\n",
      "len(dict): 721\n",
      "-------------------------------\n",
      "count: 114\n",
      "tmp:   31\n",
      "len(dict): 721\n",
      "-------------------------------\n",
      "count: 115\n",
      "tmp:   31\n",
      "len(dict): 721\n",
      "-------------------------------\n",
      "count: 116\n",
      "tmp:   31\n",
      "len(dict): 721\n",
      "-------------------------------\n",
      "count: 117\n",
      "tmp:   31\n",
      "len(dict): 721\n",
      "-------------------------------\n",
      "count: 118\n",
      "tmp:   31\n",
      "len(dict): 721\n",
      "-------------------------------\n",
      "count: 119\n",
      "tmp:   31\n",
      "len(dict): 721\n",
      "-------------------------------\n",
      "count: 120\n",
      "tmp:   31\n",
      "len(dict): 721\n",
      "-------------------------------\n",
      "count: 121\n",
      "tmp:   31\n",
      "len(dict): 721\n",
      "-------------------------------\n",
      "count: 122\n",
      "tmp:   31\n",
      "len(dict): 721\n",
      "-------------------------------\n",
      "count: 123\n",
      "tmp:   31\n",
      "len(dict): 721\n",
      "-------------------------------\n"
     ]
    },
    {
     "name": "stdout",
     "output_type": "stream",
     "text": [
      "count: 124\n",
      "tmp:   31\n",
      "len(dict): 721\n",
      "-------------------------------\n",
      "count: 125\n",
      "tmp:   31\n",
      "len(dict): 721\n",
      "-------------------------------\n",
      "count: 126\n",
      "tmp:   31\n",
      "len(dict): 721\n",
      "-------------------------------\n",
      "count: 127\n",
      "tmp:   31\n",
      "len(dict): 721\n",
      "-------------------------------\n",
      "count: 128\n",
      "tmp:   31\n",
      "len(dict): 721\n",
      "-------------------------------\n",
      "count: 129\n",
      "tmp:   31\n",
      "len(dict): 721\n",
      "-------------------------------\n",
      "count: 130\n",
      "tmp:   31\n",
      "len(dict): 721\n",
      "-------------------------------\n",
      "count: 131\n",
      "tmp:   31\n",
      "len(dict): 721\n",
      "-------------------------------\n",
      "count: 132\n",
      "tmp:   31\n",
      "len(dict): 721\n",
      "-------------------------------\n",
      "\n"
     ]
    }
   ],
   "source": [
    "#시간 각오하고 돌려야 됨\n",
    "temp2 = get_Followers_dict(url, temp[1])\n",
    "follower = temp2\n",
    "\n",
    "df1 = pd.DataFrame(follower.items(), columns=['follower_id', 'profile_img_url'])"
   ]
  },
  {
   "cell_type": "code",
   "execution_count": 186,
   "id": "de7161cf",
   "metadata": {},
   "outputs": [
    {
     "data": {
      "text/html": [
       "<div>\n",
       "<style scoped>\n",
       "    .dataframe tbody tr th:only-of-type {\n",
       "        vertical-align: middle;\n",
       "    }\n",
       "\n",
       "    .dataframe tbody tr th {\n",
       "        vertical-align: top;\n",
       "    }\n",
       "\n",
       "    .dataframe thead th {\n",
       "        text-align: right;\n",
       "    }\n",
       "</style>\n",
       "<table border=\"1\" class=\"dataframe\">\n",
       "  <thead>\n",
       "    <tr style=\"text-align: right;\">\n",
       "      <th></th>\n",
       "      <th>follower_id</th>\n",
       "      <th>profile_img_url</th>\n",
       "    </tr>\n",
       "  </thead>\n",
       "  <tbody>\n",
       "    <tr>\n",
       "      <th>0</th>\n",
       "      <td>dizm007</td>\n",
       "      <td>https://cdn2.dumpor.com/view?q=%3D%3DANtcjYjNW...</td>\n",
       "    </tr>\n",
       "    <tr>\n",
       "      <th>1</th>\n",
       "      <td>borckrene.parada</td>\n",
       "      <td>https://cdn3.dumpor.com/view?q=2YjYygjM9QWaz91...</td>\n",
       "    </tr>\n",
       "    <tr>\n",
       "      <th>2</th>\n",
       "      <td>say_lovng_tme</td>\n",
       "      <td>https://cdn3.dumpor.com/view?q=%3D%3DgN2ImM4IT...</td>\n",
       "    </tr>\n",
       "    <tr>\n",
       "      <th>3</th>\n",
       "      <td>yongpari_</td>\n",
       "      <td>https://cdn3.dumpor.com/view?q=2YjYygjM9QWaz91...</td>\n",
       "    </tr>\n",
       "    <tr>\n",
       "      <th>4</th>\n",
       "      <td>jookkani</td>\n",
       "      <td>https://cdn3.dumpor.com/view?q=%3D%3DgN2ImM4IT...</td>\n",
       "    </tr>\n",
       "    <tr>\n",
       "      <th>...</th>\n",
       "      <td>...</td>\n",
       "      <td>...</td>\n",
       "    </tr>\n",
       "    <tr>\n",
       "      <th>716</th>\n",
       "      <td>jong_won_kim0912</td>\n",
       "      <td>https://cdn3.dumpor.com/view?q=%3D%3DgN2ImM4IT...</td>\n",
       "    </tr>\n",
       "    <tr>\n",
       "      <th>717</th>\n",
       "      <td>mirae_hng</td>\n",
       "      <td>https://cdn3.dumpor.com/view?q=2YjYygjM9QWaz91...</td>\n",
       "    </tr>\n",
       "    <tr>\n",
       "      <th>718</th>\n",
       "      <td>littleblue_messi</td>\n",
       "      <td>https://cdn1.dumpor.com/view?q=%3DYjNiJDOy0DZp...</td>\n",
       "    </tr>\n",
       "    <tr>\n",
       "      <th>719</th>\n",
       "      <td>yeeelim_0.0</td>\n",
       "      <td>https://cdn3.dumpor.com/view?q=%3D%3DgN2ImM4IT...</td>\n",
       "    </tr>\n",
       "    <tr>\n",
       "      <th>720</th>\n",
       "      <td>tory_wfc</td>\n",
       "      <td>https://cdn3.dumpor.com/view?q=%3D%3DgN2ImM4IT...</td>\n",
       "    </tr>\n",
       "  </tbody>\n",
       "</table>\n",
       "<p>721 rows × 2 columns</p>\n",
       "</div>"
      ],
      "text/plain": [
       "          follower_id                                    profile_img_url\n",
       "0             dizm007  https://cdn2.dumpor.com/view?q=%3D%3DANtcjYjNW...\n",
       "1    borckrene.parada  https://cdn3.dumpor.com/view?q=2YjYygjM9QWaz91...\n",
       "2       say_lovng_tme  https://cdn3.dumpor.com/view?q=%3D%3DgN2ImM4IT...\n",
       "3           yongpari_  https://cdn3.dumpor.com/view?q=2YjYygjM9QWaz91...\n",
       "4            jookkani  https://cdn3.dumpor.com/view?q=%3D%3DgN2ImM4IT...\n",
       "..                ...                                                ...\n",
       "716  jong_won_kim0912  https://cdn3.dumpor.com/view?q=%3D%3DgN2ImM4IT...\n",
       "717         mirae_hng  https://cdn3.dumpor.com/view?q=2YjYygjM9QWaz91...\n",
       "718  littleblue_messi  https://cdn1.dumpor.com/view?q=%3DYjNiJDOy0DZp...\n",
       "719       yeeelim_0.0  https://cdn3.dumpor.com/view?q=%3D%3DgN2ImM4IT...\n",
       "720          tory_wfc  https://cdn3.dumpor.com/view?q=%3D%3DgN2ImM4IT...\n",
       "\n",
       "[721 rows x 2 columns]"
      ]
     },
     "execution_count": 186,
     "metadata": {},
     "output_type": "execute_result"
    }
   ],
   "source": [
    "df1"
   ]
  },
  {
   "cell_type": "code",
   "execution_count": 203,
   "id": "878c75f1",
   "metadata": {},
   "outputs": [
    {
     "data": {
      "application/vnd.jupyter.widget-view+json": {
       "model_id": "a492bd776a0944cfaf4585a6a4529838",
       "version_major": 2,
       "version_minor": 0
      },
      "text/plain": [
       "HBox(children=(HTML(value=''), FloatProgress(value=0.0, max=721.0), HTML(value='')))"
      ]
     },
     "metadata": {},
     "output_type": "display_data"
    },
    {
     "name": "stdout",
     "output_type": "stream",
     "text": [
      "dizm007\n",
      "borckrene.parada\n",
      "say_lovng_tme\n",
      "yongpari_\n",
      "jookkani\n",
      "foot_ballector\n",
      "05kim_pro14\n",
      "p__jaewon\n",
      "my.raculum\n",
      "gkrmtlrm\n",
      "jaesung123\n",
      "ixthxmxd\n",
      "ejunh23\n",
      "jaehwan86\n",
      "1been_37\n",
      "piniyua12i77\n",
      "city_in_seok\n",
      "yeongryun91\n",
      "kim_do_yoon1\n",
      "pol_vengers_j\n",
      "junopoly00\n",
      "basement_freestyleclub\n",
      "youra.0131\n",
      "ikjunzzz\n",
      "chefjun1121\n",
      "jetty.0318\n",
      "won2wonnie\n",
      "minn._.seok\n",
      "dkdlej88\n",
      "valkyrie_x_rose\n",
      "x_km.han_x\n",
      "suriaan_\n",
      "strawberry12244\n",
      "jejuddakseawoo_paju\n",
      "starmom_18\n",
      "adidascokr\n",
      "it_ji_yeon0130\n",
      "cho94_28\n",
      "gssj5030\n",
      "chic_w.y\n",
      "woosik__e\n",
      "oct.enth\n",
      "re4mo_myteamulsan\n",
      "bogus.hoon\n",
      "intaeee\n",
      "khpark510\n",
      "kimobcd\n",
      "boombapgto\n",
      "augustinus\n",
      "xinjimaye\n",
      "footballshirtthreads\n",
      "go_d_jisoo\n",
      "pedrosilva_stz\n",
      "johee_joy\n",
      "bagoggyeong146\n",
      "gjfc__\n",
      "kop._.chi\n",
      "kimkimkimjiji\n",
      "simkungdaddy\n",
      "pog_js\n",
      "best_fs__yongin\n",
      "tomo.sports.club\n",
      "mongjjjjjjj\n",
      "76a_0b\n",
      "jessicashih47\n",
      "foriser_sport\n",
      "channnn_ho\n",
      "sseoyuvi\n",
      "pumafootball_kr\n",
      "l_want_b\n",
      "s.minnns\n",
      "gng_insta\n",
      "wfc_bucheon\n",
      "puma_rc17\n",
      "coreaseller\n",
      "d.woong\n",
      "cr990221\n",
      "dongzhe_in_japan\n",
      "asiakiller_yzj\n",
      "mok_ys\n",
      "rollercost3\n",
      "jungcm0414\n",
      "kop_drm\n",
      "sasa_footballshirts\n",
      "wassiddassi\n",
      "rayzzlee\n",
      "kts4848\n",
      "dragon_0807\n",
      "go.dokhan\n",
      "joorrard\n",
      "3.s.23\n",
      "a3kam\n",
      "zawiyahgears\n",
      "taewoo.k\n",
      "pky3208\n",
      "mindayuk2021\n",
      "s.jae_jin_7777\n",
      "offtheball_korea_suwon\n",
      "skydydtjs7\n",
      "sky43897\n",
      "romguimaraes10\n",
      "free.1th\n",
      "k.j.moooooon\n",
      "hmkwon91\n",
      "giant.o_o\n",
      "victorcosta_442\n",
      "ddoung_ddang\n",
      "yejuni91\n",
      "mt.oizy\n",
      "coedaehyeon24\n",
      "0hun.lee\n",
      "long._.min_\n",
      "kwokhokwokho\n",
      "airchodan19\n",
      "newhyeono\n",
      "johnkim2004\n",
      "kim_byeonging_jun\n",
      "bangsil_oh\n",
      "cjp0000381\n",
      "ch_co.kr\n",
      "football_jersey_collector_\n",
      "kkyutima_jersey\n",
      "heejunii_\n",
      "kor_mc\n",
      "soccer910811\n",
      "terry03041012\n",
      "in.season.h\n",
      "no_look_pass_\n",
      "rest.dot\n",
      "ssossossoso\n",
      "cguy0303\n",
      "jinsung_hwang\n",
      "think__90\n",
      "lki2327\n",
      "__hwan22_\n",
      "kh_3388\n",
      "we.are.the.future.ii\n",
      "soccer_sum\n",
      "jinajak428\n",
      "nam90_\n",
      "young_june92\n",
      "lkee._.04\n",
      "kwakyoungil\n",
      "ryukwangha\n",
      "baba_dina_nath_acharya_ji\n",
      "kyunghokim98\n",
      "lockerroom_korea\n",
      "anderson.b35\n",
      "sncn_cnc\n",
      "healingsoccerarena\n",
      "hot_taewon\n",
      "foogow\n",
      "jy_oo2\n",
      "sy05.08\n",
      "w950325\n",
      "aevvvely\n",
      "kim_min_seo30\n",
      "foot_ball_training_seungsoon7\n",
      "albert.lee.sangyeob\n",
      "byungho__choi\n",
      "livin_younglife\n",
      "loenah._.eel\n",
      "hwooo9393\n",
      "gangnam_kspo\n",
      "y_jiseok\n",
      "juicyfresh.spearmint.freshmint\n",
      "f0912995193\n",
      "gweon.yongbin\n",
      "gang2172\n",
      "nike_x152\n",
      "shkim0405\n",
      "chenglaichiu\n",
      "up8down_golf_kids\n",
      "bbyun_do\n",
      "project.mozi.football\n",
      "mien_a_sensible\n",
      "jeongyeongdal79\n",
      "ssa_hoon_\n",
      "yoon_0.412\n",
      "96577ho\n",
      "kyuns.diary\n",
      "jaewan1542\n",
      "ha7_classicalshirts\n",
      "the_newkits\n",
      "ssaka_com_official\n",
      "d__h_10\n",
      "rb0734\n",
      "xaxo6.5\n",
      "gnlw56688\n",
      "1_subin_bin\n",
      "songquelme\n",
      "ulsan_ifc\n",
      "sonnyjersey\n",
      "cangeuni\n",
      "ace.4219\n",
      "fielderwear_official\n",
      "yubin1113\n",
      "tomymymyu\n",
      "hmjung618\n",
      "apnalchangchang_kimjeongmin\n",
      "bo_ogeun\n",
      "sunsang_10\n",
      "moon__bye\n",
      "hwamokjung\n",
      "wjswlgns2580\n",
      "sindb1004\n",
      "jamie__yoon\n",
      "interista_no.73_daelaam\n",
      "mkyt.n\n",
      "_s_gg_605\n",
      "ni_no_56\n",
      "jooyh10\n",
      "actor0855\n",
      "offfside_2020\n",
      "jhc5645\n",
      "yeongyeongheum6597\n",
      "jerome.choi\n",
      "l_kunhee\n",
      "noblesse_ego2\n",
      "mr_vunny\n",
      "7.71kg\n",
      "_iron_k_\n",
      "h_._.ju\n",
      "k_dong_seok_\n",
      "with_the_uniform\n",
      "a.b.zee_care\n",
      "gomzisu93\n",
      "joodir_\n",
      "yo_rrrrrrr\n",
      "junghwan.ahn1\n",
      "kangin.lee_jersey\n",
      "an_ssang_ble\n",
      "kkakdoododididid\n",
      "z.h.e.111\n",
      "leeseonghoon1619\n",
      "spurs_hs_1227\n",
      "johannnoetzel\n",
      "estebanangulo_68\n",
      "bolly3189\n",
      "water_puriifier\n",
      "overtherrrrrainbow\n",
      "seonghoon_\n",
      "heum813\n",
      "maengpd\n",
      "yechan__96\n",
      "ehdtksl.3daughter\n",
      "hojoon_4\n",
      "coollectionjersey\n",
      "i_am_mr_choi\n",
      "tkfkdgo7sh\n",
      "wonjeajang\n",
      "beanybala\n",
      "kevinsy1983\n",
      "j__m_222\n",
      "htetnyeinoo\n",
      "fc_return_\n",
      "bucketlittv\n",
      "gnas_gnoeyg_og\n",
      "wbcho16\n",
      "chaeri_umpa\n",
      "art_director.gon\n",
      "mount_jersey\n",
      "bi_n_llionaire8\n",
      "woojin7615\n",
      "soooooy0\n",
      "maegokfc\n",
      "homeiscoool\n",
      "eddu.galli\n",
      "_jkei1916_\n",
      "jsfootballshirts\n",
      "woo_kim427\n",
      "pksuperman777\n",
      "yu__flex\n",
      "jsjwnbz\n",
      "qhrtj1212\n",
      "yeezy_13amg\n",
      "sdg7780_\n",
      "amstead_kid__\n",
      "an_ssang_\n",
      "hyensuc_park\n",
      "jm.100_\n",
      "_00.03.02\n",
      "bj_bryan_official\n",
      "julian_lopez_99\n",
      "vmftmdyd8230\n",
      "urpoemsky\n",
      "albainekatyr\n",
      "kim_seungjik91\n",
      "gonzalo.picon\n",
      "gim___2269\n",
      "rla.wltn\n",
      "ehgus3959\n",
      "seokjunjang\n",
      "jyh0277\n",
      "llppsll\n",
      "yhchoi0103\n",
      "ys.won\n",
      "dayendaun\n",
      "joseongcan66\n",
      "alessandrodybala10\n",
      "hi._.dongdonge\n",
      "ssung__man\n",
      "seoyahooya\n",
      "jeong2nong\n",
      "red_black._.0\n",
      "andp_nukui\n",
      "seungu0413\n",
      "gree.jj\n",
      "jasonchai.cn\n",
      "eater.yuns\n",
      "b_soccer_off\n",
      "angyeongjab2\n",
      "khyoj_89\n",
      "mj._.bro_96\n",
      "oj_gram\n",
      "deareple_soccer\n",
      "kyubum__90\n",
      "224yslee\n",
      "iseonsaeng87\n",
      "lucy00809\n",
      "declanedwards20\n",
      "dawoon0715\n",
      "cor.trotar\n",
      "dongsoo9432\n",
      "15.103__26\n",
      "bosstman1842\n",
      "semin0417\n",
      "octopuskorea\n",
      "enb_square_football_academy\n",
      "juhyeok112\n",
      "re._.member_yu\n",
      "garen103\n",
      "__.stuber.__\n",
      "minseong2papa\n",
      "jamgumheze\n",
      "cooooolwh\n",
      "hyu_musix\n",
      "win_rain_94\n",
      "seongnaldo\n",
      "r_jose_p\n",
      "jaeyeong_p\n",
      "key_1613\n",
      "dabi85\n",
      "ffyydg664\n",
      "5.8.3o\n",
      "1_up_703\n",
      "thethe1982\n",
      "taeyko\n",
      "sosboy89411\n",
      "lazy_sam_\n",
      "super_young_ung\n",
      "el_hayme\n",
      "primabella.ash1\n",
      "bvvip_03x09\n",
      "yeongin_yun\n",
      "andrewmun86\n",
      "jjoon_nee__0906\n",
      "z.__kr\n",
      "hoori_han\n",
      "cglimited\n",
      "wonbeen._.99\n",
      "ruddy_brick\n",
      "xxjunnabe\n",
      "hyeonbin_0727\n",
      "jeon.yongha\n",
      "tn492\n",
      "2sooondae\n",
      "baam_s00\n",
      "phone_ssadagu\n",
      "yong_ones\n",
      "jaekyuzzang\n",
      "soccerism_\n",
      "pljung87\n",
      "whatever__sport\n",
      "toekick\n",
      "jeongseok615.lee\n",
      "jibrahimovic\n",
      "hun.__.22\n",
      "goonertwins\n",
      "guan8899z\n",
      "firefood2\n",
      "sg_talk\n",
      "k1joong86\n",
      "8.8.1.3_\n",
      "yongfengyf\n",
      "d_k2un\n",
      "kyuhan_0624\n",
      "superquenam\n",
      "nuno_lgs\n",
      "k.h.gong92\n",
      "9.cavani_\n",
      "yeonjooon\n",
      "junghwan1878\n",
      "robomad\n",
      "mowmowjj\n",
      "pamahwan\n",
      "beckszone23\n",
      "regular_min\n",
      "sung_ter09\n",
      "ky__un\n",
      "umbro_hyyuunn\n",
      "h.tae_ynwa\n",
      "h._.junny_\n",
      "js.k808\n",
      "noh_chae_hyun1007\n",
      "kaineid_\n",
      "0_joooooooon\n",
      "pdu28\n",
      "jbfchaemin\n",
      "__.178hunnnn\n",
      "jeonghaewoon\n",
      "hee_chen.s\n",
      "jsk_goni\n",
      "t2pac9\n",
      "9taey\n",
      "calcio___mania__\n",
      "gregazigo\n",
      "richard_seo_cityzens\n",
      "b102mo\n",
      "ma.jae_7\n",
      "_ryan._.t_\n",
      "jaejuni\n",
      "han_bori99\n",
      "club_sbs119\n",
      "1073sdh\n",
      "mkoj21\n",
      "k_double_sports_dongne\n",
      "won_0210ssw\n",
      "shobuchenko\n",
      "graunt_ryle\n",
      "gwangjuyouthfc\n",
      "plz_passinglikezidane\n",
      "fantasy7star\n",
      "yw___hobby\n",
      "x_xisoo\n",
      "pingjui15\n",
      "bbc_0403\n",
      "jinghanmichael\n",
      "chel_yongsung\n",
      "7eechani\n",
      "fifas.co.kr\n",
      "coachgg7\n",
      "jung_in_moon\n",
      "_z_i_o_\n",
      "wookjin10\n",
      "jun00_121\n",
      "deathmonkey2.0\n",
      "mg0371\n",
      "ngjis\n",
      "hayabusa_l4\n",
      "luxuryschool2\n",
      "fc.bbadda\n",
      "goo_b5\n",
      "melplica\n",
      "0_juneee\n",
      "laey_____\n",
      "uataka3886\n",
      "yj_papa\n",
      "y.donghyun\n",
      "byong_2\n",
      "uunjyh_180\n",
      "peric_mario1711\n",
      "gimhayun969\n",
      "futsal_shoess\n",
      "ddoublek_d\n",
      "chilgokha_service_area\n",
      "desigm_ihk\n",
      "topbuyshop_1004\n",
      "jaemigoods_1000bro\n",
      "sgraphics_fw\n",
      "chlms80\n",
      "oh_hoon_kwon_\n",
      "guangzu1111\n",
      "jiho_maniac\n",
      "hamin.jeong\n",
      "pilgi_daniel_jo\n",
      "double_s_1990\n",
      "pinkmadrid__yj\n",
      "gonggan_football\n",
      "daehyuncheon\n",
      "songmyungjong\n",
      "barunchicken_ochang\n",
      "shirtswelove___\n",
      "heroic_nia\n",
      "kop_singrick_1892\n",
      "nightstreet1004\n",
      "um_bro5\n",
      "zerojk_7300\n",
      "song3146\n",
      "open_your_eye_s\n",
      "giggsy_lockerroom\n",
      "wanabe_dante\n",
      "gcfc865\n",
      "j__4.8\n",
      "seo_bk27\n",
      "letsfil\n",
      "alsrms1213\n",
      "socc06_07\n",
      "je_hyeong1011\n",
      "milan_love93\n",
      "sung.ha\n",
      "wookstagram_0123\n",
      "xohyuny\n",
      "health_fitness_fit_well\n",
      "hyukjun_happy\n",
      "4478_soccer\n",
      "jy10.official\n",
      "kgh4205\n",
      "vamos_suwon\n",
      "ehql\n",
      "47du0424\n",
      "converse7068\n",
      "songkwang_b\n",
      "bae.junhan\n",
      "limjc258\n",
      "theoyoon\n",
      "plp_.3\n",
      "afootballshirtdream\n",
      "kjh_junani\n",
      "k_km_94\n",
      "aaronrokshin\n",
      "special_on1e\n",
      "5hj_29\n",
      "ikports\n",
      "kimxn_n\n",
      "eunu7997\n",
      "baramssan\n",
      "minho_admini\n",
      "20.hj\n",
      "iron_jersey\n",
      "han_ssang7\n",
      "serie_collection\n",
      "gourgour88\n",
      "gourgour8\n",
      "zzangfc23kdh\n",
      "traveler_leek\n",
      "ssamba_no.10\n",
      "moonlight_8mile_\n",
      "kkyutima_choi\n",
      "biwa__dangsin\n",
      "k_inwoo\n",
      "kyb9911\n",
      "shim_khun\n",
      "gusto_caro\n",
      "re4yong\n",
      "rebels_black\n",
      "heejinee_j\n",
      "doccer32\n",
      "zze.2\n",
      "seyunkang\n",
      "fc_slb\n",
      "garlic_papa\n",
      "sanarae.luv\n",
      "jongminute\n",
      "songfducshh\n",
      "hyeonmin2138\n",
      "aoasports\n",
      "jaehyeok6845\n",
      "88chan_e\n",
      "zizou_jang20\n",
      "cric_fs\n",
      "jeonghwan_7\n",
      "hy_eon94\n",
      "_gyu82\n",
      "kwon.hosung\n",
      "ohsood\n",
      "lukel1ke\n",
      "yjz88990\n",
      "seokganzi\n",
      "__futzoa.tr\n",
      "minsunglass\n",
      "junique_7\n",
      "bigroot4\n",
      "minseop_ee\n",
      "simyeonju99\n",
      "myho_0218\n",
      "kyoung_h5oooo\n",
      "im_seokhyun\n",
      "whdcjf_\n",
      "hyeonicon13\n",
      "91minkyo\n",
      "aragongju1\n",
      "_se_jin_05_\n",
      "chukchinnom_lys\n",
      "gyeonghagong\n",
      "hc_eagle_fc\n",
      "woodi_closet\n",
      "yu_chang_han\n",
      "yijunjoo\n",
      "rae._.6027\n",
      "yongaejeong3\n",
      "gaemoo_89\n",
      "yooilkyu\n",
      "sodexarase\n",
      "chongchan.k\n",
      "cajongmi40\n",
      "4mation_net\n",
      "morethan.jess\n",
      "s.joon_hw\n",
      "ggeuchorey\n",
      "juneoh0330\n",
      "kyeong_yeon_kim\n",
      "duckjil_ismylife\n",
      "yk5327\n",
      "t9performancetraining\n",
      "positivceo\n",
      "_son_h_s\n",
      "bjj_jacob\n",
      "battery.fc\n",
      "socks_ssocks\n",
      "_.raazn_\n",
      "giggsy_ruukhamsy\n",
      "pzsports_official\n",
      "lee_jongkyu_\n",
      "eagle_wfc\n",
      "hyoung_seok\n",
      "yamkkang\n",
      "13725gk\n",
      "ryan_the_flair_hair\n",
      "sgraphics_case\n",
      "globalfootballcoach\n",
      "myjershicollection\n",
      "watasiwa_young\n",
      "jaesik.07\n",
      "wooheeseong1\n",
      "royeoldo\n",
      "aplapla\n",
      "kimdaeggu\n",
      "peterhampshire91\n",
      "naturenuguri\n",
      "chanearl\n",
      "_ko.takk_\n",
      "jing.koo\n",
      "guswlskawkclsrn\n",
      "khanworld82\n",
      "namj0ng__v\n",
      "chukgufully\n",
      "ko_three3\n",
      "jomsuk\n",
      "ronald.cua\n",
      "dongkyy__\n",
      "ilmondo_hh\n",
      "hwang_inbum\n",
      "changwoo________\n",
      "thanku417\n",
      "javiartigas\n",
      "qkreoaks_\n",
      "fc__levelup\n",
      "lulukaiuc\n",
      "arsenal.the.invincibles\n",
      "0_s_chassi\n",
      "p____ho\n",
      "dpfqltn123\n",
      "jaekwon3377\n",
      "hanseokmoon\n",
      "futsaleon\n",
      "win.able\n",
      "ssong__92\n",
      "oh_ys_1992_04_05\n",
      "gotoguycrikb\n",
      "pangyowfc\n",
      "freak_maestro\n",
      "qi.3022\n",
      "one_junior_fc\n",
      "kik0014\n",
      "jungsk840701\n",
      "jungsy_pr10\n",
      "helpkinsider\n",
      "kavaz.volkan\n",
      "xnuine\n",
      "footballground_official\n",
      "jirong1983\n",
      "jsoccer_academy\n",
      "cric_korea\n",
      "head8848\n",
      "johasa_97\n",
      "alejandro.jeong\n",
      "stvystlong\n",
      "pohang_goleiro\n",
      "_futstar\n",
      "baejaehyeon9758\n",
      "jae_jin96\n",
      "the_agon\n",
      "joo.queen\n",
      "_0_coach\n",
      "paralela_kor\n",
      "offtheball_korea\n",
      "ssup_patch\n",
      "football_item\n",
      "eo_dbs_92\n",
      "doooki__11\n",
      "gujaeu6756\n",
      "sung_chu_kang\n",
      "myeongho_1979\n",
      "all_about_football_club\n",
      "wanderer_rabbit\n",
      "turtler_korea\n",
      "j_dhyuk\n",
      "bluehorsefc\n",
      "shindyy002\n",
      "wasports_uniform\n",
      "junggahui\n",
      "leehb__hbe\n",
      "abel_company1390\n",
      "chosungil7\n",
      "taepung_football_club\n",
      "seungsinjeong\n",
      "cersent0\n",
      "fc_ancheon\n",
      "health_berries\n",
      "dgg_suwon\n",
      "yellows4590\n",
      "fc_arachi\n",
      "imseog35\n",
      "mulltto_fc\n",
      "wiiiiiiisdom.aqua\n",
      "jong_won_kim0912\n",
      "mirae_hng\n",
      "littleblue_messi\n",
      "yeeelim_0.0\n",
      "tory_wfc\n",
      "\n"
     ]
    }
   ],
   "source": [
    "for row in tqdm(df1.iloc[:,0]):\n",
    "\n",
    "    print(row)"
   ]
  },
  {
   "cell_type": "code",
   "execution_count": 231,
   "id": "f3c8890d",
   "metadata": {},
   "outputs": [
    {
     "name": "stderr",
     "output_type": "stream",
     "text": [
      "<ipython-input-231-4ea599589649>:6: DeprecationWarning: use options instead of chrome_options\n",
      "  driver = webdriver.Chrome(executable_path= r'C:/Users/ourus/Python_KPC/Insta_Crawling/chromedriver_win32/chromedriver', chrome_options=options)\n"
     ]
    },
    {
     "data": {
      "application/vnd.jupyter.widget-view+json": {
       "model_id": "b66f4d05b92c42d69e332d16085e86f4",
       "version_major": 2,
       "version_minor": 0
      },
      "text/plain": [
       "HBox(children=(HTML(value=''), FloatProgress(value=0.0, max=536.0), HTML(value='')))"
      ]
     },
     "metadata": {},
     "output_type": "display_data"
    },
    {
     "name": "stdout",
     "output_type": "stream",
     "text": [
      "d__h_10\n",
      "https://dumpor.com/v/d__h_10/\n",
      "[196, 713, 167]\n",
      "196   713   167\n",
      "Do your best and god will do the rest먹스타그램,북스타그램,조카스타그램,레고스타그램 일상기록.\n",
      "rb0734\n",
      "https://dumpor.com/v/rb0734/\n",
      "[0, 1, 560]\n",
      "0   1   560\n",
      "\n",
      "xaxo6.5\n",
      "https://dumpor.com/v/xaxo6.5/\n",
      "[7, 70, 112]\n",
      "7   70   112\n",
      "\n",
      "gnlw56688\n",
      "https://dumpor.com/v/gnlw56688/\n",
      "[0, 599, 3834]\n",
      "0   599   3834\n",
      "@MarineCorps354 <- 여기로 팔로우/좋아요 부탁드립니다 (본계정리중)\n",
      "1_subin_bin\n",
      "https://dumpor.com/v/1_subin_bin/\n",
      "[30, 41, 487]\n",
      "30   41   487\n",
      "❤️본 계정은 인스타 정식 제휴계정 입니다❤️👉리스크 제로 하루2시간 투자🕜👉초보자가능👌 하루⌚ 40분만투자⌚👉핸드폰 Or PC 있을시 바로가능합니다💰수익보장100%수익 · 당일 수익 확인🕛👉주부&육아맘&투잡가능🔻오픈 톡 문의주세요🔻\n",
      "songquelme\n",
      "https://dumpor.com/v/songquelme/\n",
      "[107, 831, 457]\n",
      "107   831   457\n",
      "\n",
      "ulsan_ifc\n",
      "https://dumpor.com/v/ulsan_ifc/\n",
      "[8, 148, 202]\n",
      "8   148   202\n",
      "⚽️울산 IFC⚽️⚽️유치부/초등부/성인레슨⚽️취민반/엘리트반/선수반/개인레슨⚽️초등부 상시테스트모집⚽️프로출신 지도자의 디테일한 지도력울산 4개지점 보유(옥동,삼산,굴화,구영)⬇️문의문의⬇️📮인스타DM📞010-3008-5626 📞052-261-0077\n",
      "sonnyjersey\n",
      "https://dumpor.com/v/sonnyjersey/\n",
      "[114, 569, 877]\n",
      "114   569   877\n",
      "Sonheungmin Jersey Collection\n",
      "cangeuni\n",
      "https://dumpor.com/v/cangeuni/\n",
      "[147, 46, 155]\n",
      "147   46   155\n",
      "축구⚽️+ 유니폼👕+신발👟+그림🎨+러닝🏃\n",
      "ace.4219\n",
      "https://dumpor.com/v/ace.4219/\n",
      "[1, 26, 851]\n",
      "1   26   851\n",
      "Health Researcher.\n",
      "fielderwear_official\n",
      "https://dumpor.com/v/fielderwear_official/\n",
      "[1314, 2022, 1926]\n",
      "1314   2022   1926\n",
      "FIELDER FIELDERWEAR커스텀유니폼 / 스포츠웨어 전문브랜드\n",
      "yubin1113\n",
      "https://dumpor.com/v/yubin1113/\n",
      "[0, 138, 282]\n",
      "0   138   282\n",
      "\n",
      "tomymymyu\n",
      "https://dumpor.com/v/tomymymyu/\n",
      "[0, 0, 351]\n",
      "0   0   351\n",
      "\n",
      "hmjung618\n",
      "https://dumpor.com/v/hmjung618/\n",
      "[141, 133, 382]\n",
      "141   133   382\n",
      "\n",
      "apnalchangchang_kimjeongmin\n",
      "https://dumpor.com/v/apnalchangchang_kimjeongmin/\n",
      "[74, 301, 798]\n",
      "74   301   798\n",
      "Dobby is back태그맛집풋스타 매니저>.<풋풋 부회장\n",
      "bo_ogeun\n",
      "https://dumpor.com/v/bo_ogeun/\n",
      "[45, 45, 57]\n",
      "45   45   57\n",
      "운동 ⚽Cats 🐈❤\n",
      "sunsang_10\n",
      "https://dumpor.com/v/sunsang_10/\n",
      "[4, 151, 158]\n",
      "4   151   158\n",
      "\n",
      "moon__bye\n",
      "https://dumpor.com/v/moon__bye/\n",
      "[0, 1, 580]\n",
      "0   1   580\n",
      "\n",
      "hwamokjung\n",
      "https://dumpor.com/v/hwamokjung/\n",
      "[195, 368, 553]\n",
      "195   368   553\n",
      "\n",
      "wjswlgns2580\n",
      "https://dumpor.com/v/wjswlgns2580/\n",
      "[0, 127, 553]\n",
      "0   127   553\n",
      "\n",
      "sindb1004\n",
      "https://dumpor.com/v/sindb1004/\n",
      "[174, 198, 195]\n",
      "174   198   195\n",
      "86년식\n",
      "jamie__yoon\n",
      "https://dumpor.com/v/jamie__yoon/\n",
      "[1394, 530, 7493]\n",
      "1394   530   7493\n",
      "내가 찾으려던 것은 무수히 떨어지는 별이 아닌 힘겹게 오르는 한 줄기 빛이였어.\n",
      "interista_no.73_daelaam\n",
      "https://dumpor.com/v/interista_no.73_daelaam/\n",
      "[119, 108, 494]\n",
      "119   108   494\n",
      "@inter🐍⚫🔵 @incheonutd⚓️🔵⚫ @intercampus🐍⚫🔵 #interista #nerazzurri #biscione🐍 @javierzanetti '인테르' 팬 활동기간: 1년(2019년 12월~)응원하는 축구단의 지식 전문가 되는게 꿈이다.\n",
      "mkyt.n\n",
      "https://dumpor.com/v/mkyt.n/\n",
      "[0, 15, 199]\n",
      "0   15   199\n",
      "\n",
      "_s_gg_605\n",
      "https://dumpor.com/v/_s_gg_605/\n",
      "[2, 239, 917]\n",
      "2   239   917\n",
      "🖤❤ @fcseoul⚽️⚽️ @adidaskr\n",
      "ni_no_56\n",
      "https://dumpor.com/v/ni_no_56/\n",
      "[1, 135, 970]\n",
      "1   135   970\n",
      "The greatest successes come after overcoming the most difficult obstacles 💙\n",
      "jooyh10\n",
      "https://dumpor.com/v/jooyh10/\n",
      "[439, 110, 221]\n",
      "439   110   221\n",
      "어떻게 너를 사랑하지 않을 수가 있겠어Brown Eyed Soul0:29 ━━━━●───────────── 4:09⇆ ⠀ ⠀ ⠀ ⠀ ⠀ ⠀ ⠀ ◁ ⠀ ⠀ ❚❚ ⠀ ⠀ ▷ ⠀ ⠀ ⠀ ⠀ ⠀ ⠀ ↻\n",
      "actor0855\n",
      "https://dumpor.com/v/actor0855/\n",
      "[272, 917, 1460]\n",
      "272   917   1460\n",
      "국산/수입 전브랜드 시승 견적상담 문의/ 이진영 010-3332-2060Travel🇰🇷🇯🇵🇩🇪🇫🇷🏴󠁧󠁢󠁥󠁮󠁧󠁿🇳🇱🇹🇭🇵🇭🇷🇺🇻🇳🇭🇰🇲🇴🇵🇭@dlwlsdud0855 =🍽🍴🥢🥄@jeep_010_3332_2060 JEEP문의 및 상담\n",
      "offfside_2020\n",
      "https://dumpor.com/v/offfside_2020/\n",
      "[202, 1037, 788]\n",
      "202   1037   788\n",
      "유럽축구를 더욱 가까이 😎⚽🏆Official 유니폼 & 굿즈 샵🤝@strol.gwanggyo 입점중⠀네이버에서 검색하실때는 ‘OFFFSIDE’⠀구매는 여기서⬇️\n",
      "jhc5645\n",
      "https://dumpor.com/v/jhc5645/\n",
      "[21, 121, 199]\n",
      "21   121   199\n",
      "\n",
      "yeongyeongheum6597\n",
      "https://dumpor.com/v/yeongyeongheum6597/\n",
      "[0, 6, 18]\n",
      "0   6   18\n",
      "\n",
      "jerome.choi\n",
      "https://dumpor.com/v/jerome.choi/\n",
      "[267, 265, 588]\n",
      "267   265   588\n",
      "\n",
      "l_kunhee\n",
      "https://dumpor.com/v/l_kunhee/\n",
      "[1, 207, 148]\n",
      "1   207   148\n",
      "\n",
      "noblesse_ego2\n",
      "https://dumpor.com/v/noblesse_ego2/\n",
      "[1897, 1943, 5873]\n",
      "1897   1943   5873\n",
      "마진은 낮추고👇 퀄리티는 높이고👆👍피드에 없는 제품도 찾아드려요👍24시간 카톡 문의 환영 및 할인대기🥰👍시계, 의류, 신발 맛집 개별 문의환영🥰👍미게시 상품 많아요 최저가! 고퀄리티😍아래주소 클릭 후 문의주세요🙏\n",
      "mr_vunny\n",
      "https://dumpor.com/v/mr_vunny/\n",
      "[247, 226, 216]\n",
      "247   226   216\n",
      "청춘 기록소 & 축덕인생\n",
      "7.71kg\n",
      "https://dumpor.com/v/7.71kg/\n",
      "[20, 555, 136]\n",
      "20   555   136\n",
      "@ofl__football ✖️ @gp__1832\n",
      "_iron_k_\n",
      "https://dumpor.com/v/_iron_k_/\n",
      "[10, 735, 183]\n",
      "10   735   183\n",
      "🏫 🆂🅴🅽🅸🅾🆁 𝔦𝔫 ɪɴʜᴀ ᴜɴɪᴠ. ɴᴜʀsɪɴɢ𝒯𝓇𝓎 𝓃𝑜𝓉 𝓉𝑜 𝒷𝑒𝒸𝑜𝓂𝑒 𝒶 𝓂𝒶𝓃 𝑜𝒻 𝓈𝓊𝒸𝒸𝑒𝓈𝓈,𝒷𝓊𝓉 𝓇𝒶𝓉𝒽𝑒𝓇 𝓉𝑜 𝒷𝑒𝒸𝑜𝓂𝑒 𝒶 𝓂𝒶𝓃 𝑜𝒻 𝓋𝒶𝓁𝓊𝑒.Jersey Life ⚽️ 👉🏻 @iron_jersey\n",
      "h_._.ju\n",
      "https://dumpor.com/v/h_._.ju/\n",
      "[27, 355, 253]\n",
      "27   355   253\n",
      "\n",
      "k_dong_seok_\n",
      "https://dumpor.com/v/k_dong_seok_/\n",
      "[21, 292, 344]\n",
      "21   292   344\n",
      "@theothercolor_official\n",
      "with_the_uniform\n",
      "https://dumpor.com/v/with_the_uniform/\n",
      "[9, 192, 212]\n",
      "9   192   212\n",
      "축구 유니폼 수집가NO MARKING, NO BUY.But invisible.@berryvery_good\n",
      "a.b.zee_care\n",
      "https://dumpor.com/v/a.b.zee_care/\n",
      "[1064, 213, 1033]\n",
      "1064   213   1033\n",
      "Black hawker of The Royal Thai Army The young boy of Marisa Ngamsai\n",
      "gomzisu93\n",
      "https://dumpor.com/v/gomzisu93/\n",
      "[36, 339, 1065]\n",
      "36   339   1065\n",
      "라고할뻔\n",
      "joodir_\n",
      "https://dumpor.com/v/joodir_/\n",
      "[31, 173, 166]\n",
      "31   173   166\n",
      "Ich hoffe, du bist glücklich. 🙏Football X Barça❤️💙\n",
      "yo_rrrrrrr\n",
      "https://dumpor.com/v/yo_rrrrrrr/\n",
      "[32, 248, 346]\n",
      "32   248   346\n",
      "\n",
      "junghwan.ahn1\n",
      "https://dumpor.com/v/junghwan.ahn1/\n",
      "[26, 190, 319]\n",
      "26   190   319\n",
      "\n",
      "kangin.lee_jersey\n",
      "https://dumpor.com/v/kangin.lee_jersey/\n",
      "[6, 300, 1051]\n",
      "6   300   1051\n",
      "Kangin_Lee Jersey Collection\n",
      "an_ssang_ble\n",
      "https://dumpor.com/v/an_ssang_ble/\n",
      "[24, 137, 211]\n",
      "24   137   211\n",
      "96년생 173cm / 76kg안상민의 운동 기록장본계정 : @an_ssang_취미계정 : @an_ssang_ble2\n",
      "kkakdoododididid\n",
      "https://dumpor.com/v/kkakdoododididid/\n",
      "[0, 1, 31]\n",
      "0   1   31\n",
      "\n",
      "z.h.e.111\n",
      "https://dumpor.com/v/z.h.e.111/\n",
      "[121, 239, 3984]\n",
      "121   239   3984\n",
      "💖하은이와 함께 영앤리치 💓문의는 < 오픈톡 > 주세요 !!@\n",
      "leeseonghoon1619\n",
      "https://dumpor.com/v/leeseonghoon1619/\n",
      "[59, 104, 138]\n",
      "59   104   138\n",
      "인천 두아들 아빠 축구와 레플, 위닝을 좋아함#육아 #레플 #플스5 #위닝 #축구 #축구화#육아스타그램 #풋살 #풋살화\n",
      "spurs_hs_1227\n",
      "https://dumpor.com/v/spurs_hs_1227/\n",
      "[15, 144, 900]\n",
      "15   144   900\n",
      "⚽️Football⚽️(축구계정 맞팔 환영합니다!!👍)@ethan_hs_1227(original account)@gangwon_fc 🧡/@spursofficial🤍💙\n",
      "johannnoetzel\n",
      "https://dumpor.com/v/johannnoetzel/\n",
      "[236, 536, 253]\n",
      "236   536   253\n",
      "Football Coach - AFC A License/GK2Goalkeeper Player/Coach🧤🇰🇭@visakha_officialSubscribe to my Gluv Life Channel on YouTube & order NoetZ brand here:\n",
      "estebanangulo_68\n",
      "https://dumpor.com/v/estebanangulo_68/\n",
      "[40, 812, 4641]\n",
      "40   812   4641\n",
      "🇵🇪Me gustan las hamburguesas y las papas fritas con helado\n",
      "bolly3189\n",
      "https://dumpor.com/v/bolly3189/\n",
      "[1281, 153, 163]\n",
      "1281   153   163\n",
      "🇰🇷 대한민국 Republic of Korea대한민국은 민주공화국이다대한민국 주권은 국민에게 있고모든 권력은 국민으로부터 나온다\n",
      "water_puriifier\n",
      "https://dumpor.com/v/water_puriifier/\n",
      "[14, 525, 533]\n",
      "14   525   533\n",
      "@gavic.kr.....🕶\n",
      "overtherrrrrainbow\n",
      "https://dumpor.com/v/overtherrrrrainbow/\n",
      "[0, 11, 33]\n",
      "0   11   33\n",
      "나혼자 노는 인스타그램\n",
      "seonghoon_\n",
      "https://dumpor.com/v/seonghoon_/\n",
      "[894, 314, 286]\n",
      "894   314   286\n",
      "\n",
      "heum813\n",
      "https://dumpor.com/v/heum813/\n",
      "[42, 402, 7461]\n",
      "42   402   7461\n",
      "👇본계정 클릭하고 문의주세용👇📞본계정 @qqqq_ppppoooo문의카톡:hjk528👉코로나 땜에 힘든 요즘💚언제 어디서나 돈벌수 있는 재태크💚핸드폰 하나로 하루 30분투자 💚100% 즉시수익을 만들어드리고 있어\n",
      "maengpd\n",
      "https://dumpor.com/v/maengpd/\n",
      "[225, 117, 136]\n",
      "225   117   136\n",
      "\n",
      "yechan__96\n",
      "https://dumpor.com/v/yechan__96/\n",
      "[4, 217, 199]\n",
      "4   217   199\n",
      "OTB🇰🇷🇨🇳🇯🇵🇻🇳🇬🇧🇮🇪🇷🇺🇶🇦🇱🇧🇸🇾\n",
      "ehdtksl.3daughter\n",
      "https://dumpor.com/v/ehdtksl.3daughter/\n",
      "[18, 62, 187]\n",
      "18   62   187\n",
      "본캐: 김동산👨‍👧‍👧👩‍👧부캐: 김동희(•̀ᴗ•́)و산며들었다𝒔𝒂𝒏'𝒔, 𝒔𝒕𝒚𝒍𝒆 𝒔𝒆𝒆𝒑𝒆𝒅 𝒊𝒏𝒕𝒐 𝒎𝒚 𝒎𝒊𝒏𝒅\n",
      "hojoon_4\n",
      "https://dumpor.com/v/hojoon_4/\n",
      "[141, 1503, 1023]\n",
      "141   1503   1023\n",
      "ROKA21살 서울🇰🇷 #맞팔은디엠🇪🇸HALAMADRID🇪🇸⚽️레사모 Varane⚽️⚽️축스타그램 🍳쿡스타그램\n",
      "coollectionjersey\n",
      "https://dumpor.com/v/coollectionjersey/\n",
      "[3, 100, 84]\n",
      "3   100   84\n",
      "Collector jersey from 🇲🇨\n",
      "i_am_mr_choi\n",
      "https://dumpor.com/v/i_am_mr_choi/\n",
      "[50, 289, 596]\n",
      "50   289   596\n",
      "@spursofficial @suwonsamsungfc Dongguk University C&B Engineering🇺🇸 🇺🇸 🇯🇵 🇸🇬 🇲🇾 🇯🇵 🇭🇰 🇲🇴 🇹🇭 🇸🇬#COYS #tripholic #replica\n",
      "tkfkdgo7sh\n",
      "https://dumpor.com/v/tkfkdgo7sh/\n",
      "[19, 164, 215]\n",
      "19   164   215\n",
      "\n",
      "wonjeajang\n",
      "https://dumpor.com/v/wonjeajang/\n",
      "[519, 138, 205]\n",
      "519   138   205\n",
      "🇰🇷🇲🇽🇱🇷🇨🇦🇮🇳🇩🇪🇧🇪🇳🇱🇯🇵🇵🇭🇻🇳🇨🇳\n",
      "beanybala\n",
      "https://dumpor.com/v/beanybala/\n",
      "[377, 428, 631]\n",
      "377   428   631\n",
      "🇬🇧Bournemouth / London\n",
      "kevinsy1983\n",
      "https://dumpor.com/v/kevinsy1983/\n"
     ]
    },
    {
     "name": "stdout",
     "output_type": "stream",
     "text": [
      "[425, 56, 311]\n",
      "425   56   311\n",
      "CAT is the BEST!Nice guys finish last!\n",
      "j__m_222\n",
      "https://dumpor.com/v/j__m_222/\n",
      "[6, 51, 146]\n",
      "6   51   146\n",
      "\n",
      "htetnyeinoo\n",
      "https://dumpor.com/v/htetnyeinoo/\n",
      "[40, 71, 348]\n",
      "40   71   348\n",
      "𝑰 𝒂𝒎 🇲🇲\n",
      "fc_return_\n",
      "https://dumpor.com/v/fc_return_/\n",
      "[2, 23, 31]\n",
      "2   23   31\n",
      "Fc리턴 20대로 이루어진 실력최하 풋살팀\n",
      "bucketlittv\n",
      "https://dumpor.com/v/bucketlittv/\n",
      "[56, 591, 1392]\n",
      "56   591   1392\n",
      "형제가 함께 만드는 영상\n",
      "gnas_gnoeyg_og\n",
      "https://dumpor.com/v/gnas_gnoeyg_og/\n",
      "[170, 447, 1162]\n",
      "170   447   1162\n",
      "'설계사' 이득 보다는'고객' 이득을 최우선으로.보험'점검'은 필수보험'준비'는 선택.보험점검&준비보험금청구&문의저축&연금문의건강검진&안과검진문의교통사고처리&합의문의배상책임처리&합의문의..무료상담문의010 9498 0480언제든지 연락주세요\n",
      "wbcho16\n",
      "https://dumpor.com/v/wbcho16/\n",
      "[7, 126, 711]\n",
      "7   126   711\n",
      "찐맛집 소소한일상 공유합니다\n",
      "chaeri_umpa\n",
      "https://dumpor.com/v/chaeri_umpa/\n",
      "[116, 147, 324]\n",
      "116   147   324\n",
      "#레사모 #레플러 #레플리카\n",
      "art_director.gon\n",
      "https://dumpor.com/v/art_director.gon/\n",
      "[82, 146, 217]\n",
      "82   146   217\n",
      "art_director 🇰🇷korean. fashion. sneakers. soccer. Liverpool. Life. travel🇭🇰🇨🇳🇩🇪🇨🇿🇦🇹🏴󠁧󠁢󠁥󠁮󠁧󠁿🇪🇸🇫🇷\n",
      "mount_jersey\n",
      "https://dumpor.com/v/mount_jersey/\n",
      "[6, 99, 68]\n",
      "6   99   68\n",
      "@masonmount10\n",
      "bi_n_llionaire8\n",
      "https://dumpor.com/v/bi_n_llionaire8/\n",
      "[44, 1963, 852]\n",
      "44   1963   852\n",
      "ENFJ-A 평범한 일상 😀.LYP, 운동, 축구 ➡️ @lyp._.academy우리집 막내🐺💕➡️ @gooksu1110_취미,운동,축구,레슨,피지컬 문의: DM\n",
      "woojin7615\n",
      "https://dumpor.com/v/woojin7615/\n",
      "[60, 133, 424]\n",
      "60   133   424\n",
      "\n",
      "soooooy0\n",
      "https://dumpor.com/v/soooooy0/\n",
      "[349, 362, 407]\n",
      "349   362   407\n",
      "\n",
      "maegokfc\n",
      "https://dumpor.com/v/maegokfc/\n",
      "[20, 134, 334]\n",
      "20   134   334\n",
      "안녕하세요^^매곡FC축구회입니다^^저희 매곡Fc에서 함께 공차실회원님들 모집하고있습니다.함께해용~^^디엠많이주세요~^^\n",
      "homeiscoool\n",
      "https://dumpor.com/v/homeiscoool/\n",
      "[34, 230, 908]\n",
      "34   230   908\n",
      "촌스러운 아빠와 개구쟁이 6세 아들이 함께하는행복하고 즐거운 라이프🍉⬇️ 집 안, 집 밖 모두 행복한 생활을 위해서 🙂\n",
      "eddu.galli\n",
      "https://dumpor.com/v/eddu.galli/\n",
      "[95, 704, 2934]\n",
      "95   704   2934\n",
      "\n",
      "_jkei1916_\n",
      "https://dumpor.com/v/_jkei1916_/\n",
      "[6, 1245, 4054]\n",
      "6   1245   4054\n",
      "-2000s..Level 21👽🎃\n",
      "jsfootballshirts\n",
      "https://dumpor.com/v/jsfootballshirts/\n",
      "[31, 1237, 1261]\n",
      "31   1237   1261\n",
      "🇬🇧🇵🇭 |📍𝙻𝚘𝚗𝚍𝚘𝚗, 𝚄𝙺 | 🔵 𝙲𝙵𝙲 𝙵𝚊𝚗 #𝙺𝚃𝙱𝙵𝙵𝙷⚽️ 𝚂𝚑𝚊𝚛𝚒𝚗𝚐 𝚖𝚢 𝚏𝚘𝚘𝚝𝚋𝚊𝚕𝚕 𝚜𝚑𝚒𝚛𝚝 𝚌𝚘𝚕𝚕𝚎𝚌𝚝𝚒𝚘𝚗⛔️ 𝙽𝚘𝚝 𝚏𝚘𝚛 𝚜𝚊𝚕𝚎 | ⚠️ 𝙽𝚘 𝚜𝚠𝚊𝚙𝚜 | 🚫 𝙽𝚘 𝚏𝚊𝚔𝚎𝚜\n",
      "woo_kim427\n",
      "https://dumpor.com/v/woo_kim427/\n",
      "[0, 397, 930]\n",
      "0   397   930\n",
      "MCC '21Cuse '25\n",
      "pksuperman777\n",
      "https://dumpor.com/v/pksuperman777/\n",
      "[2, 18, 337]\n",
      "2   18   337\n",
      "\n",
      "yu__flex\n",
      "https://dumpor.com/v/yu__flex/\n",
      "[38, 63, 124]\n",
      "38   63   124\n",
      "\n",
      "jsjwnbz\n",
      "https://dumpor.com/v/jsjwnbz/\n",
      "[9, 12, 455]\n",
      "9   12   455\n",
      "본계정 @59_dnpdlqm⤵ ⤵ ⤵이제 투잡하나 정도는 선택 아닌 필수!!───────────♥실패 없는 성공길,이제 쉽게 가요.하은에게 지금바로 문의하세요!\n",
      "qhrtj1212\n",
      "https://dumpor.com/v/qhrtj1212/\n",
      "[364, 750, 2567]\n",
      "364   750   2567\n",
      "세계 6개국으로 수출되는 국제 ISO. kc인증된 미세먼지차단 방진망 원단 제조업체 \"청풍문 코리아\" 입니다\n",
      "yeezy_13amg\n",
      "https://dumpor.com/v/yeezy_13amg/\n",
      "[241, 340, 1516]\n",
      "241   340   1516\n",
      "🇦🇷AlmagroTiene que coincidir espacio y tiempo\n",
      "sdg7780_\n",
      "https://dumpor.com/v/sdg7780_/\n",
      "[39, 334, 4009]\n",
      "39   334   4009\n",
      "\n",
      "amstead_kid__\n",
      "https://dumpor.com/v/amstead_kid__/\n",
      "[16, 980, 681]\n",
      "16   980   681\n",
      "#14 *Things that start has an ending too!!! If you understand that it's easy to live*\n",
      "an_ssang_\n",
      "https://dumpor.com/v/an_ssang_/\n",
      "[201, 904, 896]\n",
      "201   904   896\n",
      "96.08.14(파주,인천)운동계정 : @an_ssang_ble취미계정 : @an_ssang_ble2\n",
      "hyensuc_park\n",
      "https://dumpor.com/v/hyensuc_park/\n",
      "[185, 108, 226]\n",
      "185   108   226\n",
      "bamsong_touch\n",
      "jm.100_\n",
      "https://dumpor.com/v/jm.100_/\n",
      "[91, 476, 593]\n",
      "91   476   593\n",
      "⚽️ 축구 Football🐵 일상 Daily life👟 신발 Sneakers-@hm_son7 @chelseafc\n",
      "_00.03.02\n",
      "https://dumpor.com/v/_00.03.02/\n",
      "[4, 194, 235]\n",
      "4   194   235\n",
      "00.03.02🔴⚫⚪ Rosoneri Vamos개딸: @ta._.mmy._.corgiHUFS19\n",
      "bj_bryan_official\n",
      "https://dumpor.com/v/bj_bryan_official/\n",
      "[51, 11151, 7434]\n",
      "51   11151   7434\n",
      "Jesus is My Savior!✟ GodFirstBro!John 3:16|Jeremiah 29:11|Philippians 4:13|Psalm 103:1-5Asian!Filipino! PH🇵🇭~>IT🇮🇹~>📍UK🇬🇧✍Sⓞⓝⓖ WⓡⓘⓣⓔⓡMCMXCV\n",
      "julian_lopez_99\n",
      "https://dumpor.com/v/julian_lopez_99/\n",
      "[45, 750, 2351]\n",
      "45   750   2351\n",
      "2️⃣1️⃣훌리안🇰🇷저는 한국아 학생 이에요🇰🇷~~💜네버랜드💜~~📸✈️Spotter @julian_lopez_fa💃16/4/16 🎵 9/10/17 Deny - Loyalty💔22/6/19 Deny 📌 Caseros\n",
      "vmftmdyd8230\n",
      "https://dumpor.com/v/vmftmdyd8230/\n",
      "[0, 0, 173]\n",
      "0   0   173\n",
      "\n",
      "urpoemsky\n",
      "https://dumpor.com/v/urpoemsky/\n",
      "[96, 853, 597]\n",
      "96   853   597\n",
      "🇰🇷 TV Writer👨🏻‍🎓 Dept. of Film\n",
      "albainekatyr\n",
      "https://dumpor.com/v/albainekatyr/\n",
      "[17, 36, 78]\n",
      "17   36   78\n",
      "\n",
      "kim_seungjik91\n",
      "https://dumpor.com/v/kim_seungjik91/\n",
      "[159, 539, 1392]\n",
      "159   539   1392\n",
      "\n",
      "gonzalo.picon\n",
      "https://dumpor.com/v/gonzalo.picon/\n",
      "[87, 3603, 7458]\n",
      "87   3603   7458\n",
      "♎Libra♎🕺🏻Dancer🕺🏻🌟Star Wars🎥🌎San Luis🌎\n",
      "gim___2269\n",
      "https://dumpor.com/v/gim___2269/\n",
      "[13, 56, 1177]\n",
      "13   56   1177\n",
      "문의는 본계정: @__eolha4로로맘의 인생역전 stoty초보였던 로로맘도 할 수 있었어요 !!로로맘이랑 같이 금융치료 받아봐욤😘👇로로맘 인생역전 스토리 궁금하신분👇\"\n",
      "rla.wltn\n",
      "https://dumpor.com/v/rla.wltn/\n",
      "[196, 1271, 1081]\n",
      "196   1271   1081\n",
      "운동🏸🏃🏻: @minton_rla.wltn Youtube : 필모티브 FILMotive\n",
      "ehgus3959\n",
      "https://dumpor.com/v/ehgus3959/\n",
      "[36, 207, 205]\n",
      "36   207   205\n",
      "\n",
      "seokjunjang\n",
      "https://dumpor.com/v/seokjunjang/\n",
      "[5, 57, 181]\n",
      "5   57   181\n",
      "\n",
      "jyh0277\n",
      "https://dumpor.com/v/jyh0277/\n",
      "[32, 426, 4935]\n",
      "32   426   4935\n",
      "안녕하세요!! #소통#맞팔\n",
      "llppsll\n",
      "https://dumpor.com/v/llppsll/\n",
      "[0, 5, 72]\n",
      "0   5   72\n",
      "\n",
      "yhchoi0103\n",
      "https://dumpor.com/v/yhchoi0103/\n",
      "[171, 115, 151]\n",
      "171   115   151\n",
      "\n",
      "ys.won\n",
      "https://dumpor.com/v/ys.won/\n",
      "[94, 229, 350]\n",
      "94   229   350\n",
      "\n",
      "dayendaun\n",
      "https://dumpor.com/v/dayendaun/\n",
      "[16, 80, 78]\n",
      "16   80   78\n",
      "\n",
      "joseongcan66\n",
      "https://dumpor.com/v/joseongcan66/\n",
      "[0, 3, 64]\n",
      "0   3   64\n",
      "\n",
      "alessandrodybala10\n",
      "https://dumpor.com/v/alessandrodybala10/\n",
      "[0, 1, 124]\n",
      "0   1   124\n",
      "\n",
      "hi._.dongdonge\n",
      "https://dumpor.com/v/hi._.dongdonge/\n",
      "[37, 609, 579]\n",
      "37   609   579\n",
      "30.5 / Witt-@dongplica_ : 레플모음#레알마드리드 #realmadrid #⚽️#에버튼 #everton #jamesrodriguez#키움히어로즈 #⚾️\n",
      "ssung__man\n",
      "https://dumpor.com/v/ssung__man/\n",
      "[3, 63, 71]\n",
      "3   63   71\n",
      "\n",
      "seoyahooya\n",
      "https://dumpor.com/v/seoyahooya/\n",
      "[1874, 23297, 2577]\n",
      "1874   23297   2577\n",
      "서야후야-위더스 갤러리 공방장공방 24시간 운영 (무료강습)각종 공구와 데칼판매Global commission work offer공방문의 및 기타 건프라 의뢰문의는DM 또는 010-2010-7540공방계정 @teamwithus_lab\n",
      "jeong2nong\n",
      "https://dumpor.com/v/jeong2nong/\n",
      "[162, 1362, 890]\n",
      "162   1362   890\n",
      "#청년농부 와 함께하는 청년파트너정직한 이웃 농부 입니다.정직한 생산자가 생산한정직한 농수산물을정직하게 판매합니다.#산지직송 #산지직송과일 #과일스타그램\n",
      "red_black._.0\n",
      "https://dumpor.com/v/red_black._.0/\n",
      "[0, 0, 3913]\n",
      "0   0   3913\n",
      "\n",
      "andp_nukui\n",
      "https://dumpor.com/v/andp_nukui/\n",
      "[42, 83, 270]\n",
      "42   83   270\n",
      "@andpheb_by_pheb_international\n",
      "seungu0413\n",
      "https://dumpor.com/v/seungu0413/\n",
      "[77, 576, 611]\n",
      "77   576   611\n",
      "@my_luvlove💕\n",
      "gree.jj\n",
      "https://dumpor.com/v/gree.jj/\n",
      "[128, 1160, 796]\n",
      "128   1160   796\n",
      "디지털 일러스트.\" 일상을 그려볼까? \"😏[ DM]ⓒ 2021greej All rights reserved.🛒\n",
      "jasonchai.cn\n",
      "https://dumpor.com/v/jasonchai.cn/\n",
      "[96, 157, 183]\n",
      "96   157   183\n",
      "ᴇɴᴊᴏʏ ʏᴏᴜʀ ʟɪғᴇ🏃🏻🚶🏻\n",
      "eater.yuns\n",
      "https://dumpor.com/v/eater.yuns/\n",
      "[0, 308, 206]\n",
      "0   308   206\n",
      "\n",
      "b_soccer_off\n",
      "https://dumpor.com/v/b_soccer_off/\n",
      "[88, 467, 2156]\n",
      "88   467   2156\n",
      "⚾Kiwoom Heroes⚾NYY⚾Softbank Hawks⚽️ARSENAL⚽️BVB⚽️FC서울⚽️Juventus FC⚽️Real Madird\n",
      "angyeongjab2\n",
      "https://dumpor.com/v/angyeongjab2/\n",
      "[78, 1771, 896]\n",
      "78   1771   896\n",
      "(25)Paradise is where I am.\n",
      "khyoj_89\n",
      "https://dumpor.com/v/khyoj_89/\n",
      "[66, 261, 599]\n",
      "66   261   599\n",
      "하쿠나 마타타ESFJ\n",
      "mj._.bro_96\n",
      "https://dumpor.com/v/mj._.bro_96/\n",
      "[9, 256, 328]\n",
      "9   256   328\n",
      "의 방구석 탈출기🙏\n",
      "oj_gram\n",
      "https://dumpor.com/v/oj_gram/\n",
      "[119, 395, 587]\n",
      "119   395   587\n",
      "@ozez_official\n",
      "deareple_soccer\n",
      "https://dumpor.com/v/deareple_soccer/\n",
      "[32, 348, 2900]\n",
      "32   348   2900\n",
      "#축구유니폼 #레플리카 #구매대행 #손흥민유니폼 #레플리카쇼핑몰 #레플리카신상 #레플샵 #축구레플리카 #손흥민팬 #토트넘유니폼 #리버풀유니폼 #맨유유니폼 #아스날유니폼 #레알유니폼 #레알마드리드유니폼\n",
      "kyubum__90\n",
      "https://dumpor.com/v/kyubum__90/\n",
      "[438, 440, 463]\n",
      "438   440   463\n",
      "\n",
      "224yslee\n",
      "https://dumpor.com/v/224yslee/\n",
      "[20, 643, 504]\n",
      "20   643   504\n",
      "Hello! 224football is my life\n",
      "iseonsaeng87\n",
      "https://dumpor.com/v/iseonsaeng87/\n",
      "[86, 952, 1135]\n",
      "86   952   1135\n",
      "\n",
      "lucy00809\n",
      "https://dumpor.com/v/lucy00809/\n",
      "[66, 70, 395]\n",
      "66   70   395\n",
      "\n",
      "declanedwards20\n",
      "https://dumpor.com/v/declanedwards20/\n",
      "[481, 305, 168]\n",
      "481   305   168\n",
      "Oxford United | FC Seoul | Team China supporter\n",
      "dawoon0715\n",
      "https://dumpor.com/v/dawoon0715/\n",
      "[37, 324, 678]\n",
      "37   324   678\n",
      "#맨유 #레알마드리드 #수원삼성블루윙즈 축구래플리카 수집을 좋아하는 직장인축덕이라면 타팀팬도 환영해요!\n",
      "cor.trotar\n",
      "https://dumpor.com/v/cor.trotar/\n",
      "[182, 208, 244]\n",
      "182   208   244\n",
      "🏃🏻‍♂️⚽️🇰🇷-#옥수 #한남 #반포 #이촌 #한강 #일상 #풋살 #축구 #러닝 #테니스 #나이키런 #레사모#Korea #Seoul #Tennis #Running #nikerun\n",
      "dongsoo9432\n",
      "https://dumpor.com/v/dongsoo9432/\n"
     ]
    },
    {
     "name": "stdout",
     "output_type": "stream",
     "text": [
      "[0, 28, 27]\n",
      "0   28   27\n",
      "\n",
      "15.103__26\n",
      "https://dumpor.com/v/15.103__26/\n",
      "[5, 0, 755]\n",
      "5   0   755\n",
      "오늘은 뭐 입지? 모카스우시 인스타 옷장 & 신발장 👟🩴🔄마켓 오픈전까지 비공개계정으로 닫아둘께요! 🙏🏻😭 #나이키 #디매 #나매 #사카이 #이지부스트350v2 #조던\n",
      "bosstman1842\n",
      "https://dumpor.com/v/bosstman1842/\n",
      "[30, 189, 714]\n",
      "30   189   714\n",
      "라포르테\n",
      "semin0417\n",
      "https://dumpor.com/v/semin0417/\n",
      "[901, 6080, 4393]\n",
      "901   6080   4393\n",
      "준석 준우아빠의 사생활 #이세민 #88#고선영 남편이라 써달라고함#이준석아빠 #이준우아빠#육아 #군인 #ROTC #118학군단#음악 #임창정#무조건맞팔 #소통#자전거 #라이딩 #로드 #MTB #스캇#스페셜라이즈드#매빅에어 #드론 #여행\n",
      "octopuskorea\n",
      "https://dumpor.com/v/octopuskorea/\n",
      "[31951, 2708, 227]\n",
      "31951   2708   227\n",
      "Official Nameset and Patch Seller 100% 정품 오피셜 마킹,패치만을 판매하는 옥토퍼스사커입니다. 방문마킹은 12월 재개합니다. Phone : +821030716501\n",
      "enb_square_football_academy\n",
      "https://dumpor.com/v/enb_square_football_academy/\n",
      "[36, 811, 5598]\n",
      "36   811   5598\n",
      "수원시 영통구 대학3로 7 나보나 스퀘어 4층경기대학교 야외 축구장\n",
      "juhyeok112\n",
      "https://dumpor.com/v/juhyeok112/\n",
      "[4, 126, 102]\n",
      "4   126   102\n",
      "ㅈㅜㅎㅕㄱ\n",
      "re._.member_yu\n",
      "https://dumpor.com/v/re._.member_yu/\n",
      "[11, 224, 532]\n",
      "11   224   532\n",
      "🥰 @hyeonzzin22 🥰\n",
      "garen103\n",
      "https://dumpor.com/v/garen103/\n",
      "[0, 24, 570]\n",
      "0   24   570\n",
      "\n",
      "__.stuber.__\n",
      "https://dumpor.com/v/__.stuber.__/\n",
      "[0, 1996, 5063]\n",
      "0   1996   5063\n",
      "JANIDU KAVEESHA JR나는 축구를 좋아한다⚽️❤C/12 බෝඩරේ 내 인생 내 꿈🌍❤@hm_son7❤@spursofficial 😍⚽️Call me Sooha ( 수하) 🍭❤@jongsuk020617 ™🇱🇰🇰🇷KPOP & KDRAMA ❤\n",
      "minseong2papa\n",
      "https://dumpor.com/v/minseong2papa/\n",
      "[102, 170, 199]\n",
      "102   170   199\n",
      "⚽️축구 유니폼 부자👨‍👦김씨부자네 축구레플 실착 일상👍축구레플&용품 콜렉션🙏#아들덕후 #아들스타그램 #축구유니폼 #축구매니아 #축구레플리카 #축덕 #축스타그램 #collector #football #footballkits #footballshirts\n",
      "jamgumheze\n",
      "https://dumpor.com/v/jamgumheze/\n",
      "[60, 52, 94]\n",
      "60   52   94\n",
      "스팸 때문에 새로 계정 팠음.Football Shirts Collector (2005~2012/ 2019~).NFL🏈.개발새발 사진찍음.\n",
      "cooooolwh\n",
      "https://dumpor.com/v/cooooolwh/\n",
      "[0, 15, 113]\n",
      "0   15   113\n",
      "\n",
      "hyu_musix\n",
      "https://dumpor.com/v/hyu_musix/\n",
      "[123, 984, 379]\n",
      "123   984   379\n",
      "#hyumusix1990. 06\n",
      "win_rain_94\n",
      "https://dumpor.com/v/win_rain_94/\n",
      "[39, 393, 636]\n",
      "39   393   636\n",
      "\n",
      "seongnaldo\n",
      "https://dumpor.com/v/seongnaldo/\n",
      "[352, 165, 207]\n",
      "352   165   207\n",
      "\n",
      "r_jose_p\n",
      "https://dumpor.com/v/r_jose_p/\n",
      "[2, 288, 2099]\n",
      "2   288   2099\n",
      "Chelsea 💙We make the simple moments last for a lifetime🏝️\n",
      "jaeyeong_p\n",
      "https://dumpor.com/v/jaeyeong_p/\n",
      "[230, 397, 663]\n",
      "230   397   663\n",
      "🎗광고, 부업 팔로하지마라\n",
      "key_1613\n",
      "https://dumpor.com/v/key_1613/\n",
      "[0, 0, 868]\n",
      "0   0   868\n",
      "\n",
      "dabi85\n",
      "https://dumpor.com/v/dabi85/\n",
      "[252, 757, 485]\n",
      "252   757   485\n",
      "키:182cm 몸무게:96kg체지방률:14.8%근육량:48.2% 🎖운동을 좋아하는 남자🎖헬스2년차 헬린이🎖근육량 50% 목표 !🎖체지방 2% 목표 !🎖다이어트중 !노력하는 만큼 결과는 당연하다.받아들이고 더 노력하자.\n",
      "ffyydg664\n",
      "https://dumpor.com/v/ffyydg664/\n",
      "[0, 0, 872]\n",
      "0   0   872\n",
      "\n",
      "5.8.3o\n",
      "https://dumpor.com/v/5.8.3o/\n",
      "[0, 0, 583]\n",
      "0   0   583\n",
      "\n",
      "1_up_703\n",
      "https://dumpor.com/v/1_up_703/\n",
      "[21, 299, 604]\n",
      "21   299   604\n",
      "ㅡ\n",
      "thethe1982\n",
      "https://dumpor.com/v/thethe1982/\n",
      "[196, 24, 145]\n",
      "196   24   145\n",
      "Reset⚽️🚴📱💶🚬🆘🏧🔚🚐🎗🇰🇷\n",
      "taeyko\n",
      "https://dumpor.com/v/taeyko/\n",
      "[640, 261, 219]\n",
      "640   261   219\n",
      "🇰🇷 #KOREA✈ 매일가고싶은 #여행📷 #일상 #스냅🍴 #먹방⚽️ 주말엔 #축구 #운동 #달리기\n",
      "sosboy89411\n",
      "https://dumpor.com/v/sosboy89411/\n",
      "[28, 71, 612]\n",
      "28   71   612\n",
      "\n",
      "lazy_sam_\n",
      "https://dumpor.com/v/lazy_sam_/\n",
      "[0, 164, 354]\n",
      "0   164   354\n",
      "🇰🇷🇷🇺🇯🇵🇺🇸\n",
      "super_young_ung\n",
      "https://dumpor.com/v/super_young_ung/\n",
      "[69, 259, 438]\n",
      "69   259   438\n",
      "Strong man\n",
      "el_hayme\n",
      "https://dumpor.com/v/el_hayme/\n",
      "[58, 368, 339]\n",
      "58   368   339\n",
      "Fotógrafo ocasional de la mexicanidad.Escritor en El Ahuizote diurno.Admirador canino.Tuita: @el_haymeortiz\n",
      "primabella.ash1\n",
      "https://dumpor.com/v/primabella.ash1/\n",
      "[8, 62, 477]\n",
      "8   62   477\n",
      "𝔾𝕃𝕆𝔹𝔸𝕃 𝔽𝔸𝕊ℍ𝕀𝕆ℕ 𝔹ℝ𝔸ℕ𝔻👑 𝔹𝕖 𝕒 𝕣𝕠𝕝𝕖 𝕞𝕠𝕕𝕖𝕝 𝕗𝕠𝕣 𝕪𝕠𝕦𝕣𝕤𝕖𝕝𝕗 👸 𝔼𝕧𝕖𝕣𝕪𝕥𝕙𝕚𝕟𝕘 𝕙𝕒𝕤 𝕓𝕖𝕒𝕦𝕥𝕪, 𝕓𝕦𝕥 𝕟𝕠𝕥 𝕖𝕧𝕖𝕣𝕪𝕠𝕟𝕖 𝕤𝕖𝕖𝕤 𝕚𝕥🌍 𝕎𝕠𝕣𝕝𝕕𝕨𝕚𝕕𝕖 𝔸𝕞𝕓𝕒𝕤𝕤𝕒𝕕𝕠𝕣𝕤✍️ 𝔻𝕄 ℕ𝕆𝕎🛒 𝕊𝕙𝕠𝕡 ℕ𝕠𝕨\n",
      "bvvip_03x09\n",
      "https://dumpor.com/v/bvvip_03x09/\n",
      "[9, 244, 183]\n",
      "9   244   183\n",
      "26 / 🇰🇷 /\n",
      "yeongin_yun\n",
      "https://dumpor.com/v/yeongin_yun/\n",
      "[2, 33, 586]\n",
      "2   33   586\n",
      "\n",
      "andrewmun86\n",
      "https://dumpor.com/v/andrewmun86/\n",
      "[606, 891, 5768]\n",
      "606   891   5768\n",
      "Liverpool ⚽️🏆\n",
      "jjoon_nee__0906\n",
      "https://dumpor.com/v/jjoon_nee__0906/\n",
      "[7, 132, 897]\n",
      "7   132   897\n",
      "⭐🌠⭐#21살 #스물한살 #항공과 🛫🛬 @manchesterunited #manchesterunited #mufc #manutd\n",
      "z.__kr\n",
      "https://dumpor.com/v/z.__kr/\n",
      "[37, 1092, 2078]\n",
      "37   1092   2078\n",
      "\n",
      "hoori_han\n",
      "https://dumpor.com/v/hoori_han/\n",
      "[0, 64, 790]\n",
      "0   64   790\n",
      "\n",
      "cglimited\n",
      "https://dumpor.com/v/cglimited/\n",
      "[74, 469, 484]\n",
      "74   469   484\n",
      "Football shirts collectorBig Fan of @manchesterunited @davidbeckham@waynerooney @anderherrera @hm_son7 and Park Ji-Sung\n",
      "wonbeen._.99\n",
      "https://dumpor.com/v/wonbeen._.99/\n",
      "[10, 65, 828]\n",
      "10   65   828\n",
      "\n",
      "ruddy_brick\n",
      "https://dumpor.com/v/ruddy_brick/\n",
      "[57, 95, 102]\n",
      "57   95   102\n",
      "부부계정@nodaji_bubuFS슛불고기 회장@shootbulgogi\n",
      "xxjunnabe\n",
      "https://dumpor.com/v/xxjunnabe/\n",
      "[35, 43, 276]\n",
      "35   43   276\n",
      "Minimalist\n",
      "hyeonbin_0727\n",
      "https://dumpor.com/v/hyeonbin_0727/\n",
      "[114, 152, 597]\n",
      "114   152   597\n",
      "\n",
      "jeon.yongha\n",
      "https://dumpor.com/v/jeon.yongha/\n",
      "[52, 296, 1119]\n",
      "52   296   1119\n",
      "\n",
      "tn492\n",
      "https://dumpor.com/v/tn492/\n",
      "[228, 164, 452]\n",
      "228   164   452\n",
      "\n",
      "2sooondae\n",
      "https://dumpor.com/v/2sooondae/\n",
      "[1, 574, 988]\n",
      "1   574   988\n",
      "편하고 유쾌한여유있는 ~ing\n",
      "baam_s00\n",
      "https://dumpor.com/v/baam_s00/\n",
      "[45, 102, 189]\n",
      "45   102   189\n",
      "GGMU🔴#일상 #맨유팬 #manutd #레플러\n",
      "phone_ssadagu\n",
      "https://dumpor.com/v/phone_ssadagu/\n",
      "[14, 35, 534]\n",
      "14   35   534\n",
      "\n",
      "yong_ones\n",
      "https://dumpor.com/v/yong_ones/\n",
      "[98, 480, 1037]\n",
      "98   480   1037\n",
      "@sam__ahn_poet감성 안식처 삼안 카페\n",
      "jaekyuzzang\n",
      "https://dumpor.com/v/jaekyuzzang/\n",
      "[1, 174, 408]\n",
      "1   174   408\n",
      "\n",
      "soccerism_\n",
      "https://dumpor.com/v/soccerism_/\n",
      "[2, 501, 626]\n",
      "2   501   626\n",
      "IN MY HEART BROTHER\n",
      "pljung87\n",
      "https://dumpor.com/v/pljung87/\n",
      "[225, 317, 545]\n",
      "225   317   545\n",
      "장애인 국가대표 축구선수 🇰🇷팔로우 해주세요~^^87년생 - 술(노술) X , 담배(노담) X, 연애 X.. // 34년동안 안함.(진실)거짓말안좋아요...#축구사랑 #국가대표 #축구 #축구선수 #87년생 #운동 #운동하는남자 #축구국가대표 #파주 #paju\n",
      "whatever__sport\n",
      "https://dumpor.com/v/whatever__sport/\n",
      "[10, 73, 93]\n",
      "10   73   93\n",
      "Based in S.Korea🇰🇷Studying in the U.K🇬🇧축구에 진심인편 :)하고자 하는 것을 이루기위해 달리는중...근데 힘듬^^YNWA💪🏼🔥👇🏼👇🏼👇🏼본계: @shlim_p⚽️ @liverpoolfc, @sfc.seongnam\n",
      "toekick\n",
      "https://dumpor.com/v/toekick/\n",
      "[1469, 1686, 2255]\n",
      "1469   1686   2255\n",
      "풋볼크리에이터 '토킥(TOEKICK)'\n",
      "jeongseok615.lee\n",
      "https://dumpor.com/v/jeongseok615.lee/\n",
      "[80, 332, 961]\n",
      "80   332   961\n",
      "#833#JS#청년축구단#김청축NO.8#NO.22#동탄나노스타디움#k리그팬&🎗#달리기#수영#테니스#캠핑(?)\n",
      "jibrahimovic\n",
      "https://dumpor.com/v/jibrahimovic/\n",
      "[437, 251, 344]\n",
      "437   251   344\n",
      "@lets._.drawing_ 짐을 싸 떠나자인천공항에서 작별인사잠시 안녕✈️\n",
      "hun.__.22\n",
      "https://dumpor.com/v/hun.__.22/\n",
      "[1, 212, 229]\n",
      "1   212   229\n",
      "🇰🇷🇵🇭🇨🇭🇪🇸🇯🇵🇻🇳#realmadrid C.F ⚽️🏆\n",
      "goonertwins\n",
      "https://dumpor.com/v/goonertwins/\n",
      "[4, 499, 466]\n",
      "4   499   466\n",
      "930608 닭띠/🇰🇷男子/불교卍/구너/June 8th,1993 🐓/S.Korean♂/BUDDHISM/GOONERI ♥ 🏴󠁧󠁢󠁥󠁮󠁧󠁿⚽️ EPL N.London @arsenal FC #coyg&🇰🇷⚾️ KBO 서울 @lgtwinsbaseballclub #엘팬\n",
      "guan8899z\n",
      "https://dumpor.com/v/guan8899z/\n",
      "[1, 41, 808]\n",
      "1   41   808\n",
      "\n",
      "firefood2\n",
      "https://dumpor.com/v/firefood2/\n",
      "[669, 455, 433]\n",
      "669   455   433\n",
      "KU MEDICINE RT #지식이네💏 #Luv_CHAEI #마이저지🤙@luv__chaei\n",
      "sg_talk\n",
      "https://dumpor.com/v/sg_talk/\n",
      "[412, 171, 278]\n",
      "412   171   278\n",
      "하루를 후회없이!🚙👶🍼🍗🍴🎵⚽️\n",
      "k1joong86\n",
      "https://dumpor.com/v/k1joong86/\n",
      "[1254, 266, 290]\n",
      "1254   266   290\n",
      "#덕분에챌린지 #와줘서고마워 #아빠가우주최강으로행복하게해줄께 🤭\n",
      "8.8.1.3_\n",
      "https://dumpor.com/v/8.8.1.3_/\n",
      "[4521, 1011, 760]\n",
      "4521   1011   760\n",
      "suzidaddy (8813_)13.10.14 PM 14:47 3.34kg 👶🏼표영태 표수지 story🏞🤟🏼\n",
      "yongfengyf\n",
      "https://dumpor.com/v/yongfengyf/\n",
      "[0, 60, 268]\n",
      "0   60   268\n",
      "\n",
      "d_k2un\n",
      "https://dumpor.com/v/d_k2un/\n",
      "[1, 126, 236]\n",
      "1   126   236\n",
      "01.04.06You'll Never Walk Alone2021.04.13~2022.10.12 ROKA\n",
      "kyuhan_0624\n",
      "https://dumpor.com/v/kyuhan_0624/\n",
      "[0, 117, 221]\n",
      "0   117   221\n",
      "\n",
      "superquenam\n",
      "https://dumpor.com/v/superquenam/\n",
      "[374, 414, 330]\n",
      "374   414   330\n",
      "몸의 80%가 개소리로 되어있는 남자,호두마루아범, 산동여왕 이루다의 아빠.쾌하다 쾌해. 쾌한인생 쾌하게 살다 가자꾸나.쾌남의 길 함께 가실 분 모집합니다.이런 남자를 가진 변혜옥,이런 아빠를 둔 이루다.당신들은 대체..\n",
      "nuno_lgs\n",
      "https://dumpor.com/v/nuno_lgs/\n",
      "[21, 88, 1008]\n",
      "21   88   1008\n",
      "\n",
      "k.h.gong92\n",
      "https://dumpor.com/v/k.h.gong92/\n",
      "[1468, 617, 3532]\n",
      "1468   617   3532\n",
      "일상,건축,축구팬 KyungNamFC(K리그2)Chelsea(EPL)\n",
      "9.cavani_\n",
      "https://dumpor.com/v/9.cavani_/\n",
      "[39, 213, 791]\n",
      "39   213   791\n",
      "\n",
      "yeonjooon\n",
      "https://dumpor.com/v/yeonjooon/\n",
      "[297, 353, 498]\n",
      "297   353   498\n",
      "\n",
      "junghwan1878\n",
      "https://dumpor.com/v/junghwan1878/\n",
      "[47, 2, 400]\n",
      "47   2   400\n",
      "비판을 받지 아니하려거든 비판하지 말라(마태복음 7장 1절)@manchesterunited @thekfa @hdecvolleyball@paulpogba @hm_son7 @hjyang14v\n",
      "robomad\n",
      "https://dumpor.com/v/robomad/\n",
      "[99, 1060, 4286]\n",
      "99   1060   4286\n",
      "It’s better to be a warrior in a garden than a gardener in a war.\n",
      "mowmowjj\n",
      "https://dumpor.com/v/mowmowjj/\n"
     ]
    },
    {
     "name": "stdout",
     "output_type": "stream",
     "text": [
      "[8, 30, 632]\n",
      "8   30   632\n",
      "\n",
      "pamahwan\n",
      "https://dumpor.com/v/pamahwan/\n",
      "[339, 586, 1580]\n",
      "339   586   1580\n",
      "\n",
      "beckszone23\n",
      "https://dumpor.com/v/beckszone23/\n",
      "[0, 59, 263]\n",
      "0   59   263\n",
      "\n",
      "regular_min\n",
      "https://dumpor.com/v/regular_min/\n",
      "[116, 88, 239]\n",
      "116   88   239\n",
      "⚽️🎽🎮🎳🇰🇷✈🇯🇵🇹🇭🇻🇳🇷🇺\n",
      "sung_ter09\n",
      "https://dumpor.com/v/sung_ter09/\n",
      "[1, 121, 468]\n",
      "1   121   468\n",
      "👫🏻 𝟸𝟶𝟷𝟿. 𝟷𝟸. 𝟷𝟸💍 𝟸𝟶𝟸𝟷. 𝟶𝟿. 𝟶𝟺💁🏻‍♂️ @sooooohyun53\n",
      "ky__un\n",
      "https://dumpor.com/v/ky__un/\n",
      "[7, 445, 337]\n",
      "7   445   337\n",
      "🇰🇷\n",
      "umbro_hyyuunn\n",
      "https://dumpor.com/v/umbro_hyyuunn/\n",
      "[400, 462, 509]\n",
      "400   462   509\n",
      "💎💎롯데김포공항점 엄브로💎💎☎️02)6116-2949롯데김포 엄브로 매니저.축구레플리카를 좋아하는 나의 계정.방문구매하시는 모든 고객님께 사은양말을 증정합니다.상품문의 디엠,방문,친구추가환영입니다😄😄#엄브로#umbro#롯데백화점#김포공항\n",
      "h.tae_ynwa\n",
      "https://dumpor.com/v/h.tae_ynwa/\n",
      "[47, 1746, 989]\n",
      "47   1746   989\n",
      "@liverpoolfc\n",
      "h._.junny_\n",
      "https://dumpor.com/v/h._.junny_/\n",
      "[549, 1043, 948]\n",
      "549   1043   948\n",
      "#REALMADRID/#대구fc/#포항스틸러스\n",
      "js.k808\n",
      "https://dumpor.com/v/js.k808/\n",
      "[324, 1042, 3069]\n",
      "324   1042   3069\n",
      "Jun.k-선량한 제주도민🏝-前볼링선수🎳-ManchersterUTD-박지성때문에맨유를좋아함-제주도에서 박지성 박물관 만들기-💸💸💸💰💰💰-박지성 서포터-박지성 컬렉터👕⚽️🇰🇷-ʝ.ѕ.ραяк ѕυρρσятєя-ραякʝιѕυиg ¢σℓℓє¢тσя\n",
      "noh_chae_hyun1007\n",
      "https://dumpor.com/v/noh_chae_hyun1007/\n",
      "[609, 742, 1306]\n",
      "609   742   1306\n",
      "Manchester United is Red🔥맨체스터 유나이티드 12년 팬🙌임창정 가수님 팬✌ & 빠빠라기 13기👍\n",
      "kaineid_\n",
      "https://dumpor.com/v/kaineid_/\n",
      "[47, 250, 411]\n",
      "47   250   411\n",
      "I'd rather be hated for who I am than be loved for who I'm not.사진 계정 : @kaineid_photo\n",
      "0_joooooooon\n",
      "https://dumpor.com/v/0_joooooooon/\n",
      "[141, 425, 393]\n",
      "141   425   393\n",
      "음린🙄..#음스타그램🦒\n",
      "pdu28\n",
      "https://dumpor.com/v/pdu28/\n",
      "[49, 301, 411]\n",
      "49   301   411\n",
      "순천 오토월드 #썬팅 #ppf#블랙박스#차쟁이그램🚘#축덕⚽️\n",
      "jbfchaemin\n",
      "https://dumpor.com/v/jbfchaemin/\n",
      "[3448, 108, 718]\n",
      "3448   108   718\n",
      "축구를 엄청 좋아하는 29살 남자, 맨시티: @mancity 전북현대: @jeonbuk1994 별명: 해민쓰, 민이, 햄님(이 애칭이 가장 좋음^^) D-2\n",
      "__.178hunnnn\n",
      "https://dumpor.com/v/__.178hunnnn/\n",
      "[7, 739, 632]\n",
      "7   739   632\n",
      "#직업군인 #특전사 #🇰🇷Slow and steady win the race🔴 @arsenal\n",
      "jeonghaewoon\n",
      "https://dumpor.com/v/jeonghaewoon/\n",
      "[275, 842, 1229]\n",
      "275   842   1229\n",
      "🇺🇸 🇻🇳\n",
      "hee_chen.s\n",
      "https://dumpor.com/v/hee_chen.s/\n",
      "[0, 136, 288]\n",
      "0   136   288\n",
      "\n",
      "jsk_goni\n",
      "https://dumpor.com/v/jsk_goni/\n",
      "[5, 98, 288]\n",
      "5   98   288\n",
      "\n",
      "t2pac9\n",
      "https://dumpor.com/v/t2pac9/\n",
      "[0, 52, 276]\n",
      "0   52   276\n",
      "\n",
      "9taey\n",
      "https://dumpor.com/v/9taey/\n",
      "[53, 390, 365]\n",
      "53   390   365\n",
      "/ 철들면 재미없다\n",
      "calcio___mania__\n",
      "https://dumpor.com/v/calcio___mania__/\n",
      "[35, 113, 426]\n",
      "35   113   426\n",
      "Football⚽️ / clothing, clothes ❤️\n",
      "gregazigo\n",
      "https://dumpor.com/v/gregazigo/\n",
      "[42, 528, 290]\n",
      "42   528   290\n",
      "@22_scalp\n",
      "richard_seo_cityzens\n",
      "https://dumpor.com/v/richard_seo_cityzens/\n",
      "[814, 671, 475]\n",
      "814   671   475\n",
      "#mancity #cityzen #daily 19년째시티즌(Cityzen) since 2002-2003~⚽️축덕life20/21 챔스 우승 맨체스터시티🙏🏻\n",
      "b102mo\n",
      "https://dumpor.com/v/b102mo/\n",
      "[9, 59, 1085]\n",
      "9   59   1085\n",
      "┍━━━━━━━━»•» 🌸 «•«━☆☆☆☆☆☆━━┑⭐혜원과 함께하면 결과는 늘 ❛ 해피엔딩 ❜⭐확실한 부업을 찾으신다면! 💌 본계정:@joo_miojv 으로 문의주세요.💌 (｡◠‿◠｡)┕━»•» 🌸 «•«━━━━━━━━━☆☆☆☆☆━━┙\n",
      "ma.jae_7\n",
      "https://dumpor.com/v/ma.jae_7/\n",
      "[584, 347, 647]\n",
      "584   347   647\n",
      "#축구 #먹스타그램 #사진 #일상\n",
      "_ryan._.t_\n",
      "https://dumpor.com/v/_ryan._.t_/\n",
      "[217, 931, 1446]\n",
      "217   931   1446\n",
      "- superbia in proelia -🇰🇷대구,울산🕴일상_🎈유아체육_⚽️족쟁이⚽️대구FC⚾️삼성라이온즈_🏴󠁧󠁢󠁥󠁮󠁧󠁿맨체스터시티_🏅Team_일우\n",
      "jaejuni\n",
      "https://dumpor.com/v/jaejuni/\n",
      "[9, 4062, 894]\n",
      "9   4062   894\n",
      "FTCV 🇰🇷\n",
      "han_bori99\n",
      "https://dumpor.com/v/han_bori99/\n",
      "[3, 203, 489]\n",
      "3   203   489\n",
      "Dongguk.U/🇰🇷/23@mancity /@instawakgood/@heroesbaseballclub그냥 일기장/독일어 공부 중\n",
      "club_sbs119\n",
      "https://dumpor.com/v/club_sbs119/\n",
      "[20, 519, 3889]\n",
      "20   519   3889\n",
      "🎉스포츠 승부예측 어플 #승부사온라인🏈추천인코드 [ 멤버십 ] 필수 입력!🏅멤버십 회원으로 가입시 11,000원 즉시지급⚽️친구 지인 추천시 5,000원 무제한 지급🎊🤳가장 빠른 1:1 실시간 상담 센터🏓💥카카오톡 아이디 : bts119\n",
      "1073sdh\n",
      "https://dumpor.com/v/1073sdh/\n",
      "[839, 417, 515]\n",
      "839   417   515\n",
      "한번뿐인인생... 작살나게축구,캠핑,댄스,오토바이,운동화,옷,레고 을 사랑하는 노총각아저씨주계정 @1073son캠핑계정 @1073retona운동 @1073sp\n",
      "mkoj21\n",
      "https://dumpor.com/v/mkoj21/\n",
      "[27, 227, 6635]\n",
      "27   227   6635\n",
      "🔝 상위 1-9위내 인기게시물 한달보장🔝 한국인 팔로워/좋아요/댓글-KAKAO <인스타로봇>친구추가즉시 무료 팔로워 300명 이벤트 항시진행!24시간 ⬇ 문 의 ⬇📞 010-4967-8848[DM/댓글❌\n",
      "k_double_sports_dongne\n",
      "https://dumpor.com/v/k_double_sports_dongne/\n",
      "[50, 76, 54]\n",
      "50   76   54\n",
      "디케이FC 재송동 풋상장네이버 : 디케이FC (대관&용병예약)위치 : 부산 해운대 재반로 176 (재송동미진마트 옥상)이용시간 : 07~23시유튜브 : 동네스포츠더블케이\n",
      "won_0210ssw\n",
      "https://dumpor.com/v/won_0210ssw/\n",
      "[99, 206, 2030]\n",
      "99   206   2030\n",
      "인천/남/12/ENFJ-A고양이 3둥이냉이:남 11살 검은색 흰색달래:여 11살 검갈흰 3색타타:여 5살 검은색 회색1일 1게시물 기본(은아니고 그냥 올리고싶을때 올림)#축구 #일상 #풍경 #냥이 #고양이 #밥스타그램 #인천은강하다\n",
      "shobuchenko\n",
      "https://dumpor.com/v/shobuchenko/\n",
      "[0, 8, 247]\n",
      "0   8   247\n",
      "\n",
      "graunt_ryle\n",
      "https://dumpor.com/v/graunt_ryle/\n",
      "[1079, 424, 386]\n",
      "1079   424   386\n",
      "🍵 🏕 🎤⚘Golf 6thE93 335iPanamera gts\n",
      "gwangjuyouthfc\n",
      "https://dumpor.com/v/gwangjuyouthfc/\n",
      "[56, 297, 686]\n",
      "56   297   686\n",
      "- Since 2009 -회원수 250명 (광주북구 최대 인원)많은 부모님의 선택에는 이유가 있습니다.^^●실내축구장 위치●광주 북구 매곡동 106-11번지 매화빌딩 205호●문의전화●062.464.0062●유아부.초등부.중등부.선수반●\n",
      "plz_passinglikezidane\n",
      "https://dumpor.com/v/plz_passinglikezidane/\n",
      "[44, 111, 219]\n",
      "44   111   219\n",
      "#Nike#Adidas#outlet#Football Equipment#패싱라이크지단#축구화#풋살화 #유니폼제품관련문의 구매의사는 카톡kulgul으로.\n",
      "fantasy7star\n",
      "https://dumpor.com/v/fantasy7star/\n",
      "[1159, 587, 793]\n",
      "1159   587   793\n",
      "\n",
      "yw___hobby\n",
      "https://dumpor.com/v/yw___hobby/\n",
      "[25, 237, 85]\n",
      "25   237   85\n",
      "\n",
      "x_xisoo\n",
      "https://dumpor.com/v/x_xisoo/\n",
      "[27, 61, 55]\n",
      "27   61   55\n",
      "LIFE TO EAT🍚WORK TO EAT🍣EXERCISE TO EAT🥩\n",
      "pingjui15\n",
      "https://dumpor.com/v/pingjui15/\n",
      "[0, 10, 1880]\n",
      "0   10   1880\n",
      "\n",
      "bbc_0403\n",
      "https://dumpor.com/v/bbc_0403/\n",
      "[0, 71, 116]\n",
      "0   71   116\n",
      "\n",
      "jinghanmichael\n",
      "https://dumpor.com/v/jinghanmichael/\n",
      "[9, 12, 660]\n",
      "9   12   660\n",
      "\n",
      "chel_yongsung\n",
      "https://dumpor.com/v/chel_yongsung/\n",
      "[68, 16, 87]\n",
      "68   16   87\n",
      "원투 펀치 6개 적중 (1분 38~1분 45초)\n",
      "7eechani\n",
      "https://dumpor.com/v/7eechani/\n",
      "[0, 3, 163]\n",
      "0   3   163\n",
      "I don't have time to worry about who doesn't like me.I'm too busy loving the people who love me.❤\n",
      "fifas.co.kr\n",
      "https://dumpor.com/v/fifas.co.kr/\n",
      "[1486, 893, 1840]\n",
      "1486   893   1840\n",
      "국내 스포츠 용품 유통전문기업 (주)피파스포츠@jomakorea@kelmekorea\n",
      "coachgg7\n",
      "https://dumpor.com/v/coachgg7/\n",
      "[24, 54, 40]\n",
      "24   54   40\n",
      "\n",
      "jung_in_moon\n",
      "https://dumpor.com/v/jung_in_moon/\n",
      "[42, 348, 838]\n",
      "42   348   838\n",
      "GGMU @manchesterunited 🔴⚽️KOREA @thekfa 🇰🇷#ʀᴇᴘʟɪᴄᴀ #sᴏᴄᴄᴇʀ #ғᴏᴏᴛʙᴀʟʟ #ᴍᴀɴᴄʜᴇsᴛᴇʀᴜɴɪᴛᴇᴅ #ɢɢᴍᴜ #ᴋᴏʀᴇᴀ본계 @moon_jung_in_\n",
      "_z_i_o_\n",
      "https://dumpor.com/v/_z_i_o_/\n",
      "[174, 1597, 1065]\n",
      "174   1597   1065\n",
      ".ㅡㅡㅡㅡㅡㅡㅡㅡㅡ.photographer [zio].ㅡㅡㅡㅡㅡㅡㅡㅡㅡ..\n",
      "wookjin10\n",
      "https://dumpor.com/v/wookjin10/\n",
      "[1, 283, 375]\n",
      "1   283   375\n",
      "\n",
      "jun00_121\n",
      "https://dumpor.com/v/jun00_121/\n",
      "[0, 263, 242]\n",
      "0   263   242\n",
      "\n",
      "deathmonkey2.0\n",
      "https://dumpor.com/v/deathmonkey2.0/\n",
      "[462, 309, 344]\n",
      "462   309   344\n",
      "Beauty Pretty Society\n",
      "mg0371\n",
      "https://dumpor.com/v/mg0371/\n",
      "[3, 117, 82]\n",
      "3   117   82\n",
      "\n",
      "ngjis\n",
      "https://dumpor.com/v/ngjis/\n",
      "[59, 149, 851]\n",
      "59   149   851\n",
      "@iseul.choi @my.junny\n",
      "hayabusa_l4\n",
      "https://dumpor.com/v/hayabusa_l4/\n",
      "[280, 491, 1022]\n",
      "280   491   1022\n",
      "Republic Of KOREA Marine Corps. I.B.S Amphibious Raid. [Motorcycle Diary] 14/15 SUZUKI GSX-1300R HAYABUSA\n",
      "luxuryschool2\n",
      "https://dumpor.com/v/luxuryschool2/\n",
      "[6, 2, 3442]\n",
      "6   2   3442\n",
      "👇본계정 클릭하고 문의주세용👇📞💚본계정 @eun_.1108👉0%리스크, 원금 보장👉전문가에게 문의주세요!📱👉이제는 인공이아닌 알파고 분석기가📱👉수익을 내드리는 시스템 입니다👌👉문의카톡:ce389\n",
      "fc.bbadda\n",
      "https://dumpor.com/v/fc.bbadda/\n",
      "[25, 108, 110]\n",
      "25   108   110\n",
      "FC빠따⚽️실력하 매너최상 풋살맛집2-30대 연령일요일 오전 8-10시상암월드컵풋살장&구파발롯데몰 사용⚽️가입 및 매칭문의⚽️DM으로 연락주시면 수시로 확인하겠습니다🎃\n",
      "goo_b5\n",
      "https://dumpor.com/v/goo_b5/\n",
      "[2, 128, 157]\n",
      "2   128   157\n",
      "🙏⚽️🎮🎳\n",
      "melplica\n",
      "https://dumpor.com/v/melplica/\n",
      "[118, 1112, 295]\n",
      "118   1112   295\n",
      "헬린이 레플러 ⚽️운동 소통 좋아요 ➰\n",
      "0_juneee\n",
      "https://dumpor.com/v/0_juneee/\n",
      "[635, 748, 773]\n",
      "635   748   773\n",
      "Barista / 일상 / 커피&카페 / 여행 / 먹스타그램\n",
      "laey_____\n",
      "https://dumpor.com/v/laey_____/\n",
      "[2, 23, 92]\n",
      "2   23   92\n",
      "\n",
      "uataka3886\n",
      "https://dumpor.com/v/uataka3886/\n",
      "[1, 66, 656]\n",
      "1   66   656\n",
      "\n",
      "yj_papa\n",
      "https://dumpor.com/v/yj_papa/\n",
      "[71, 42, 536]\n",
      "71   42   536\n",
      "\n",
      "y.donghyun\n",
      "https://dumpor.com/v/y.donghyun/\n",
      "[13, 39, 59]\n",
      "13   39   59\n",
      "\n",
      "byong_2\n",
      "https://dumpor.com/v/byong_2/\n",
      "[13, 211, 277]\n",
      "13   211   277\n",
      "housing manager\n",
      "uunjyh_180\n",
      "https://dumpor.com/v/uunjyh_180/\n",
      "[6, 14, 622]\n",
      "6   14   622\n",
      "👉문의는 본 계정 @mojitoo__0214‍♀️폰 하나면 언제 어디서나♀️간단한 타이핑 만으로도‍♀️당일 수익 보실수 있는‍♀️초간단 성공 노하우 공유\n",
      "peric_mario1711\n",
      "https://dumpor.com/v/peric_mario1711/\n",
      "[0, 95, 921]\n",
      "0   95   921\n",
      "Hvala vam puno sto me obradovali na 100 follow to mi znači puno! Idemo do 200 sad\n",
      "gimhayun969\n",
      "https://dumpor.com/v/gimhayun969/\n",
      "[11, 1214, 6354]\n",
      "11   1214   6354\n",
      "네이버 블로그 놀러오세요.↓↓\n",
      "futsal_shoess\n",
      "https://dumpor.com/v/futsal_shoess/\n"
     ]
    },
    {
     "name": "stdout",
     "output_type": "stream",
     "text": [
      "[314, 1149, 1259]\n",
      "314   1149   1259\n",
      "주관적인 풋살화 소개 및 용품 소개 #풋살 #풋살화 #풋살화리뷰 #축구 #축구화 #축구화리뷰\n",
      "ddoublek_d\n",
      "https://dumpor.com/v/ddoublek_d/\n",
      "[90, 551, 367]\n",
      "90   551   367\n",
      "\n",
      "chilgokha_service_area\n",
      "https://dumpor.com/v/chilgokha_service_area/\n",
      "[6, 40, 67]\n",
      "6   40   67\n",
      "#칠곡휴게소화장실 #칠곡휴게소부산방향 #칠곡휴게소자율식당 #칠곡휴게소 #대주산업 #대신기업 #한국도로공사\n",
      "desigm_ihk\n",
      "https://dumpor.com/v/desigm_ihk/\n",
      "[158, 114, 104]\n",
      "158   114   104\n",
      "소소한 취미축구 유니폼 트레이닝복 컬렉션\n",
      "topbuyshop_1004\n",
      "https://dumpor.com/v/topbuyshop_1004/\n",
      "[86, 251, 627]\n",
      "86   251   627\n",
      "❗해외 명품 99.9%최상(미러급)❗100% 실사 위주 업데이트❗피드에 없는 제품은 자유롭게 문의 주세요❗현금 결제👌카드결제👌👇모든 제품 문의는 아래 링크로👇DM🚫\n",
      "jaemigoods_1000bro\n",
      "https://dumpor.com/v/jaemigoods_1000bro/\n",
      "[497, 763, 1006]\n",
      "497   763   1006\n",
      "\n",
      "sgraphics_fw\n",
      "https://dumpor.com/v/sgraphics_fw/\n",
      "[157, 713, 1563]\n",
      "157   713   1563\n",
      "에스그래픽스 풋볼웨어⚽️🇰🇷전사유니폼 할인 이벤트중🎁상의27000원 세트45000원🖥그래픽디자이너가 직접 만듭니다!👇카톡채널 “SGraphics”\n",
      "chlms80\n",
      "https://dumpor.com/v/chlms80/\n",
      "[718, 124, 116]\n",
      "718   124   116\n",
      "\"world wild east\" 🇰🇷🇯🇵🇨🇳🇹🇭🇺🇸🇭🇰🇹🇼🇸🇬🇧🇴🇮🇩I'm a Architect drawing pictures.Also I am a traveler to Earth.Welcome to my SNS.\n",
      "oh_hoon_kwon_\n",
      "https://dumpor.com/v/oh_hoon_kwon_/\n",
      "[403, 1138, 2221]\n",
      "403   1138   2221\n",
      "FOSTA SKI TEAM\n",
      "guangzu1111\n",
      "https://dumpor.com/v/guangzu1111/\n",
      "[281, 1046, 6546]\n",
      "281   1046   6546\n",
      "광저우도매상입니다 브랜드 가죽 1:1제작 👜👠⌚️최상급 퀄러티💼합리적인 가격💶EMS 국제특송✈️정품동일상품 👍제품구성 👁쇼핑백 더스트백 🛍영수증 개런티카드 고객믿음💯재구매률💯고객만족 💯문의카톡:gl888신용100%보장해드립니다카카오스토리 gl88888\n",
      "jiho_maniac\n",
      "https://dumpor.com/v/jiho_maniac/\n",
      "[404, 941, 1576]\n",
      "404   941   1576\n",
      "Something special.축구⚽머플러🚩맥주🍺유니폼🎽그리고..😎\n",
      "hamin.jeong\n",
      "https://dumpor.com/v/hamin.jeong/\n",
      "[169, 799, 592]\n",
      "169   799   592\n",
      "새로운 시작\n",
      "pilgi_daniel_jo\n",
      "https://dumpor.com/v/pilgi_daniel_jo/\n",
      "[70, 215, 241]\n",
      "70   215   241\n",
      "Asian & French cuisine chef.I make the goal in Aus. Experience in Aus. #Chinadoll #lotusgallery #lotusbarangaroo #lotusdoublebay\n",
      "double_s_1990\n",
      "https://dumpor.com/v/double_s_1990/\n",
      "[55, 887, 1017]\n",
      "55   887   1017\n",
      "\n",
      "pinkmadrid__yj\n",
      "https://dumpor.com/v/pinkmadrid__yj/\n",
      "[69, 597, 1216]\n",
      "69   597   1216\n",
      "🦇JUGADOR DEL @academiavalenciacf 🤍 GRAN FAN DEL @realmadrid 🏫 ESTUDIANTE DE LA ESCUELA YEOMYEONG #07\n",
      "gonggan_football\n",
      "https://dumpor.com/v/gonggan_football/\n",
      "[1747, 7582, 3738]\n",
      "1747   7582   3738\n",
      "𝙶𝙾𝙽𝙶𝙶𝙰𝙽 𝙵𝙾𝙾𝚃𝙱𝙰𝙻𝙻𝙶𝙶𝙵𝙱 𝙲𝚘. 𝙳𝚊𝚎𝚐𝚞 𝟸𝟶𝟷𝟻다양한 일상과 공간들을 축구공간에서 채워보세요• 카톡 '축구공간'• 𝙽𝙰𝚅𝙴𝚁 𝚂𝚃𝙾𝚁𝙴 '축구공간'\n",
      "daehyuncheon\n",
      "https://dumpor.com/v/daehyuncheon/\n",
      "[47, 337, 478]\n",
      "47   337   478\n",
      "\n",
      "songmyungjong\n",
      "https://dumpor.com/v/songmyungjong/\n",
      "[95, 115, 211]\n",
      "95   115   211\n",
      "GS Retail Co., Ltd. 1984.09.25(子)\n",
      "barunchicken_ochang\n",
      "https://dumpor.com/v/barunchicken_ochang/\n",
      "[18, 578, 1073]\n",
      "18   578   1073\n",
      "🏠청주시 청원구 오창읍 양청택지2길 10📞043)217-5892🛵⏰11:30~02:00👏58마리만 조리후 새기름으로 교체👏🐓58번째 튀겨진 치킨은 골든티켓 증정❗️💶방문포장시 2000원 할인👍\n",
      "shirtswelove___\n",
      "https://dumpor.com/v/shirtswelove___/\n",
      "[159, 407, 298]\n",
      "159   407   298\n",
      "ARCHIVING FOR MY FOOTBALL KITS COLLECTION ⚽️👕❤️🤙🏻 계정비활성화로 다 날리고 새로 팜 🤯 이번엔 왠일로 오래가나했네 🤬#playerissue #replica #nike #축스타그램 #레플리카 #나이키\n",
      "heroic_nia\n",
      "https://dumpor.com/v/heroic_nia/\n",
      "[7, 72, 161]\n",
      "7   72   161\n",
      "?\n",
      "kop_singrick_1892\n",
      "https://dumpor.com/v/kop_singrick_1892/\n",
      "[368, 700, 1678]\n",
      "368   700   1678\n",
      "강릉주문진LIVERPOOLYNWAReal Madrid\n",
      "nightstreet1004\n",
      "https://dumpor.com/v/nightstreet1004/\n",
      "[163, 178, 146]\n",
      "163   178   146\n",
      "나랑 놀자🎵축구⚽친구👬맛집🍚술🍻\n",
      "um_bro5\n",
      "https://dumpor.com/v/um_bro5/\n",
      "[799, 609, 2652]\n",
      "799   609   2652\n",
      "GoPro🇰🇷GoPro Award 🏆x2\n",
      "zerojk_7300\n",
      "https://dumpor.com/v/zerojk_7300/\n",
      "[52, 84, 121]\n",
      "52   84   121\n",
      "#골키퍼 를 좋아하는 #아재⚽️⚽️⚽️⚽️#축구 를 좋아하는 #아재👍👍👍👍#택배기사 #아재 🤩🤩🤩🤩\n",
      "song3146\n",
      "https://dumpor.com/v/song3146/\n",
      "[162, 318, 752]\n",
      "162   318   752\n",
      "#대구fc @tsuba0408 @daegufc.co.kr @dw14_official @daegu_fc_angelclub\n",
      "open_your_eye_s\n",
      "https://dumpor.com/v/open_your_eye_s/\n",
      "[0, 0, 3473]\n",
      "0   0   3473\n",
      "\n",
      "giggsy_lockerroom\n",
      "https://dumpor.com/v/giggsy_lockerroom/\n",
      "[10, 7241, 245]\n",
      "10   7241   245\n",
      "@giggsy_ruukhamsy #라준모 🌼#RWMR Repeated Will Make Reversion\n",
      "wanabe_dante\n",
      "https://dumpor.com/v/wanabe_dante/\n",
      "[1, 320, 437]\n",
      "1   320   437\n",
      "모두의 카일라이 대외협력, 축구하는 건설인#모두의카일라이\n",
      "gcfc865\n",
      "https://dumpor.com/v/gcfc865/\n",
      "[0, 4, 270]\n",
      "0   4   270\n",
      "\n",
      "j__4.8\n",
      "https://dumpor.com/v/j__4.8/\n",
      "[66, 10053, 3683]\n",
      "66   10053   3683\n",
      "\n",
      "seo_bk27\n",
      "https://dumpor.com/v/seo_bk27/\n",
      "[0, 22, 261]\n",
      "0   22   261\n",
      "\n",
      "letsfil\n",
      "https://dumpor.com/v/letsfil/\n",
      "[96, 168, 260]\n",
      "96   168   260\n",
      "\n",
      "alsrms1213\n",
      "https://dumpor.com/v/alsrms1213/\n",
      "[12, 179, 4358]\n",
      "12   179   4358\n",
      "본계정:@ledysobjct 💕문의카톡:by363💕편하게 문의 주세요 💕초보자도 쉽게 적응가능합니다💕믿고 따라만 주시면 가능한 수익 !!💕고수익 최소 5배 ~10배 💕합법적인 부업 상위 1% 💕1:1 개인 리딩 프로젝트 💕\n",
      "socc06_07\n",
      "https://dumpor.com/v/socc06_07/\n",
      "[0, 456, 323]\n",
      "0   456   323\n",
      "@incheonutd@manchesterunited #sneakers\n",
      "je_hyeong1011\n",
      "https://dumpor.com/v/je_hyeong1011/\n",
      "[163, 193, 451]\n",
      "163   193   451\n",
      "LACAZETTEArsenal FCLG Twins박용택RE4MO StaffDo not sell\n",
      "milan_love93\n",
      "https://dumpor.com/v/milan_love93/\n",
      "[62, 241, 224]\n",
      "62   241   224\n",
      "AC milan fan\n",
      "sung.ha\n",
      "https://dumpor.com/v/sung.ha/\n",
      "[19, 266, 174]\n",
      "19   266   174\n",
      "\n",
      "wookstagram_0123\n",
      "https://dumpor.com/v/wookstagram_0123/\n",
      "[940, 828, 736]\n",
      "940   828   736\n",
      "미지니 남편❤도언이 아빠💙:))KIKAADIDAS⚽️⚽️⚽️⚽️\n",
      "xohyuny\n",
      "https://dumpor.com/v/xohyuny/\n",
      "[56, 533, 465]\n",
      "56   533   465\n",
      "🇰🇷🇨🇳🇻🇳🇸🇬🇨🇷🇦🇪🇬🇷🇮🇹🇳🇱🇧🇪🇬🇧🇫🇷🇨🇿coys ⚽️\n",
      "health_fitness_fit_well\n",
      "https://dumpor.com/v/health_fitness_fit_well/\n",
      "[206, 425, 6299]\n",
      "206   425   6299\n",
      "#건강#다이어트\n",
      "hyukjun_happy\n",
      "https://dumpor.com/v/hyukjun_happy/\n",
      "[56, 425, 386]\n",
      "56   425   386\n",
      "23/나 잘난 맛에 산다SSU Philosophy/UOS Urban Administration레플 컬렉터⚽️/시장주의자\n",
      "4478_soccer\n",
      "https://dumpor.com/v/4478_soccer/\n",
      "[108, 127, 320]\n",
      "108   127   320\n",
      "@leeee_4478 @chelseafc\n",
      "jy10.official\n",
      "https://dumpor.com/v/jy10.official/\n",
      "[71, 231, 421]\n",
      "71   231   421\n",
      "Football Player(U-7)Team : Ulsan hakseong🇰🇷 no.10use both footed🦶🦶managed by mom#youthfootball#유소년축구\n",
      "kgh4205\n",
      "https://dumpor.com/v/kgh4205/\n",
      "[151, 1091, 592]\n",
      "151   1091   592\n",
      "\n",
      "vamos_suwon\n",
      "https://dumpor.com/v/vamos_suwon/\n",
      "[44, 181, 358]\n",
      "44   181   358\n",
      "🔵⚪🔴👍👍👍👍👍비공개계정,조건&만남,광고,투자충,foreignerscammer=Don't follow me.\n",
      "ehql\n",
      "https://dumpor.com/v/ehql/\n",
      "[40, 181, 345]\n",
      "40   181   345\n",
      "도비\n",
      "47du0424\n",
      "https://dumpor.com/v/47du0424/\n",
      "[0, 3, 1090]\n",
      "0   3   1090\n",
      "\n",
      "converse7068\n",
      "https://dumpor.com/v/converse7068/\n",
      "[0, 40, 102]\n",
      "0   40   102\n",
      "\n",
      "songkwang_b\n",
      "https://dumpor.com/v/songkwang_b/\n",
      "[2, 115, 405]\n",
      "2   115   405\n",
      "\n",
      "bae.junhan\n",
      "https://dumpor.com/v/bae.junhan/\n",
      "[0, 140, 651]\n",
      "0   140   651\n",
      "\n",
      "limjc258\n",
      "https://dumpor.com/v/limjc258/\n",
      "[3, 55, 133]\n",
      "3   55   133\n",
      "\n",
      "theoyoon\n",
      "https://dumpor.com/v/theoyoon/\n",
      "[601, 222, 484]\n",
      "601   222   484\n",
      "趣味はダイエット特技はリバウンド\n",
      "plp_.3\n",
      "https://dumpor.com/v/plp_.3/\n",
      "[0, 1, 150]\n",
      "0   1   150\n",
      "\n",
      "afootballshirtdream\n",
      "https://dumpor.com/v/afootballshirtdream/\n",
      "[53, 2613, 1667]\n",
      "53   2613   1667\n",
      "Football shirts maniac 👕 (#457) Follow My dream to become the biggest shirt collector of the world!!!🌍\n",
      "kjh_junani\n",
      "https://dumpor.com/v/kjh_junani/\n",
      "[85, 361, 429]\n",
      "85   361   429\n",
      "\n",
      "k_km_94\n",
      "https://dumpor.com/v/k_km_94/\n",
      "[2, 169, 388]\n",
      "2   169   388\n",
      "\n",
      "aaronrokshin\n",
      "https://dumpor.com/v/aaronrokshin/\n",
      "[13, 224, 210]\n",
      "13   224   210\n",
      "\n",
      "special_on1e\n",
      "https://dumpor.com/v/special_on1e/\n",
      "[55, 190, 1174]\n",
      "55   190   1174\n",
      "\n",
      "5hj_29\n",
      "https://dumpor.com/v/5hj_29/\n",
      "[38, 32, 62]\n",
      "38   32   62\n",
      "Man in Football ⚽️🏃‍♂️Wear a Soccer Jersey Every Day 👕Watch the K League 🇰🇷🏟with 👫 @ha_oo.yy ❤😍\n",
      "ikports\n",
      "https://dumpor.com/v/ikports/\n",
      "[241, 316, 414]\n",
      "241   316   414\n",
      "익포츠구매 희망시 DM 주세요📲⌨Enjoy🐍..스포츠는 장비빨?!http://blog.naver.com/kimbk0403\n",
      "kimxn_n\n",
      "https://dumpor.com/v/kimxn_n/\n",
      "[6, 167, 125]\n",
      "6   167   125\n",
      "⚽️⚽️⚽️\n",
      "eunu7997\n",
      "https://dumpor.com/v/eunu7997/\n",
      "[32, 49, 82]\n",
      "32   49   82\n",
      "\n",
      "baramssan\n",
      "https://dumpor.com/v/baramssan/\n",
      "[2, 91, 233]\n",
      "2   91   233\n",
      "\n",
      "minho_admini\n",
      "https://dumpor.com/v/minho_admini/\n",
      "[103, 96, 198]\n",
      "103   96   198\n",
      "축구 ⚽️ Team 👏INCHEONUTD 💙🖤 / RED ANGELS 💫RED DEVIL 👹 / KFA 🇰🇷⚽️레플리카 축구 유니폼 👕\n",
      "20.hj\n",
      "https://dumpor.com/v/20.hj/\n",
      "[365, 129, 202]\n",
      "365   129   202\n",
      "🇰🇷🇺🇸🇲🇽🏴󠁧󠁢󠁥󠁮󠁧󠁿🇫🇷🇹🇭🇸🇬🇮🇹🇦🇪🇯🇵🇪🇸🇨🇳🇻🇳🇵🇭🇨🇭🇱🇦\n",
      "iron_jersey\n",
      "https://dumpor.com/v/iron_jersey/\n",
      "[31, 383, 174]\n",
      "31   383   174\n",
      "Jersey life of 👉🏻@_iron_k_ 👈🏻ᴍᴀᴅʀɪᴅɪsᴛᴀ🇪🇸⚽️ from 🇰🇷 #레사모_8ToniKroos#레알마드리드 #realmadrid #madridista#셀프마킹 #셀프작업 #handmade\n",
      "han_ssang7\n",
      "https://dumpor.com/v/han_ssang7/\n",
      "[118, 24, 91]\n",
      "118   24   91\n",
      "잡스타 그램👌🏻 축구덕후, 레플리카⚽️Apple iphone Macbook ipad🍎토끼집사❤️ 일상(daily) 여행😍식물 키우기🌵🌹\n",
      "serie_collection\n",
      "https://dumpor.com/v/serie_collection/\n"
     ]
    },
    {
     "name": "stdout",
     "output_type": "stream",
     "text": [
      "[30, 95, 54]\n",
      "30   95   54\n",
      "레사모 사수올로Serie A collection 🇰🇷🇮🇹SASSUOLO💚\n",
      "gourgour88\n",
      "https://dumpor.com/v/gourgour88/\n",
      "[249, 774, 1147]\n",
      "249   774   1147\n",
      "본계정👉gourgour8Football Shirts Collection.\n",
      "gourgour8\n",
      "https://dumpor.com/v/gourgour8/\n",
      "[1696, 1740, 3904]\n",
      "1696   1740   3904\n",
      "축스타그램 👉 gourgour88\n",
      "zzangfc23kdh\n",
      "https://dumpor.com/v/zzangfc23kdh/\n",
      "[24, 415, 385]\n",
      "24   415   385\n",
      "\n",
      "traveler_leek\n",
      "https://dumpor.com/v/traveler_leek/\n",
      "[369, 1911, 520]\n",
      "369   1911   520\n",
      "여행쟁이#Juventus 🏳🏴#Traveler ✈️@doriso_hongcheon@jangselgi_fanstagram\n",
      "ssamba_no.10\n",
      "https://dumpor.com/v/ssamba_no.10/\n",
      "[720, 1187, 1259]\n",
      "720   1187   1259\n",
      "8월 함께 달리실 분 DM 혹은 링크 참고 해주세요:)\n",
      "moonlight_8mile_\n",
      "https://dumpor.com/v/moonlight_8mile_/\n",
      "[2300, 498, 1541]\n",
      "2300   498   1541\n",
      "Don't Look Back in Anger.⚾️DODGERS / NC DINOS / SOFTBANK HAWKS / ⚽️CHELSEA FC / FC BAYERN MÜNCHEN / JUVENTUS /🏈PATRIOTS / 🏀LAKERS / 📸NEX-5T\n",
      "kkyutima_choi\n",
      "https://dumpor.com/v/kkyutima_choi/\n",
      "[110, 84, 94]\n",
      "110   84   94\n",
      "⚽️ 𝙵𝚘𝚘𝚝𝚋𝚊𝚕𝚕 & 𝚜𝚑𝚒𝚛𝚝✈ 𝙻𝚒𝚏𝚎 & 𝚃𝚛𝚒𝚙🇰🇷🇷🇺🇯🇵🇮🇹🇻🇦🇯🇵🇨🇳🇦🇪🇲🇻🇦🇺🇨🇳🇧🇷🇮🇹🇨🇵🇮🇩🇱🇦🇩🇪🇬🇧\n",
      "biwa__dangsin\n",
      "https://dumpor.com/v/biwa__dangsin/\n",
      "[27, 865, 543]\n",
      "27   865   543\n",
      "⠀⠀⠀⠀⠀⠀⠀⠀⠀⠀⠀⠀⠀⠀⠀⠀⠀⠀⠀⠀⠀⠀ ⠀⠀⠀⠀⠀⠀⠀⠀⠀⠀⠀⠀⠀⠀⠀⠀⠀⠀⠀⠀⠀⠀⠀⠀⠀⠀⠀⠀⠀⠀⠀⠀⠀⠀⠀⠀⠀⠀⠀⠀⠀⠀⠀⠀⠀⠀⠀⠀⠀⠀⠀⠀⠀⠀⠀⠀⠀⠀⠀⠀⠀⠀⠀⠀⠀⠀⠀⠀⠀⠀⠀⠀⠀⠀⠀⠀⠀⠀⠀⠀⠀⠀⠀⠀⠀⠀⠀⠀⠀⠀⠀⠀⠀⠀⠀⠀⠀ 나비처럼 날아올라 벌처럼 쏜다\n",
      "k_inwoo\n",
      "https://dumpor.com/v/k_inwoo/\n",
      "[1, 219, 118]\n",
      "1   219   118\n",
      "\n",
      "kyb9911\n",
      "https://dumpor.com/v/kyb9911/\n",
      "[228, 633, 1012]\n",
      "228   633   1012\n",
      "Quality before Quantity\n",
      "shim_khun\n",
      "https://dumpor.com/v/shim_khun/\n",
      "[406, 60, 103]\n",
      "406   60   103\n",
      "• 정우, 다은 아빠♡• ᕼYᑌᑎ ᗪᗩI f⃠c⃠소속 ☆• G͙u͙n͙n͙e͙r͙s͙ ❹_❶❻\n",
      "gusto_caro\n",
      "https://dumpor.com/v/gusto_caro/\n",
      "[3, 85, 118]\n",
      "3   85   118\n",
      "\n",
      "re4yong\n",
      "https://dumpor.com/v/re4yong/\n",
      "[0, 75, 75]\n",
      "0   75   75\n",
      "레플리카를 사랑하는 @rla_dydwls KEEP THE BLUE FLAG FLYING HIGH\n",
      "rebels_black\n",
      "https://dumpor.com/v/rebels_black/\n",
      "[28, 68, 228]\n",
      "28   68   228\n",
      "세상을 어지럽히는 도둑옳은 장소에서의 옳은 디자인을RIGHT PLACE, RIGHT DESIGN\n",
      "heejinee_j\n",
      "https://dumpor.com/v/heejinee_j/\n",
      "[57, 307, 254]\n",
      "57   307   254\n",
      "HEEJIN🙊\n",
      "doccer32\n",
      "https://dumpor.com/v/doccer32/\n",
      "[0, 29, 444]\n",
      "0   29   444\n",
      "@spursofficial@busaniparkfc @wolves\n",
      "zze.2\n",
      "https://dumpor.com/v/zze.2/\n",
      "[1, 221, 388]\n",
      "1   221   388\n",
      "@_eeunjungg_ @e.clie_ 💗\n",
      "seyunkang\n",
      "https://dumpor.com/v/seyunkang/\n",
      "[151, 115, 289]\n",
      "151   115   289\n",
      "\n",
      "fc_slb\n",
      "https://dumpor.com/v/fc_slb/\n",
      "[185, 398, 622]\n",
      "185   398   622\n",
      "#풋살매드무비맛집 하이라이트만 보면 월드클래스!\n",
      "garlic_papa\n",
      "https://dumpor.com/v/garlic_papa/\n",
      "[3, 70, 147]\n",
      "3   70   147\n",
      "미니비숑마늘이🧄마늘이일상🐶갈릭갈릭마늘마늘#마늘이#비숑#비숑프리제\n",
      "sanarae.luv\n",
      "https://dumpor.com/v/sanarae.luv/\n",
      "[171, 733, 2579]\n",
      "171   733   2579\n",
      "😍\n",
      "jongminute\n",
      "https://dumpor.com/v/jongminute/\n",
      "[47, 187, 185]\n",
      "47   187   185\n",
      "\n",
      "songfducshh\n",
      "https://dumpor.com/v/songfducshh/\n",
      "[3, 73, 291]\n",
      "3   73   291\n",
      "\n",
      "hyeonmin2138\n",
      "https://dumpor.com/v/hyeonmin2138/\n",
      "[81, 12, 94]\n",
      "81   12   94\n",
      "\n",
      "aoasports\n",
      "https://dumpor.com/v/aoasports/\n",
      "[66, 1270, 741]\n",
      "66   1270   741\n",
      "All of Amateur Sports🔥풋살대회 영상은 하단 유튜브에⬇️🔥📌 각종 대회 개최 및 이벤트성 스포츠🥇 남자 풋살대회 10회 개최🥈 여자 풋살대회 1회 개최, AWF컵 1회 개최🥉 유소년 축구대회 2회 개최\n",
      "jaehyeok6845\n",
      "https://dumpor.com/v/jaehyeok6845/\n",
      "[8, 37, 37]\n",
      "8   37   37\n",
      "\n",
      "88chan_e\n",
      "https://dumpor.com/v/88chan_e/\n",
      "[29, 120, 99]\n",
      "29   120   99\n",
      "#풋살 #자전거\n",
      "zizou_jang20\n",
      "https://dumpor.com/v/zizou_jang20/\n",
      "[246, 227, 443]\n",
      "246   227   443\n",
      "😡😘🤗🐹🐳🐶🐭⚽️⚾️⚽️축구하는 놈 Soccer⚽️Incheon United🔵⚫⚽️Manchester United🔴🔴⚽️Amigo FC⚽️⚽️⚾️Lotte Giants⚾️⚾️👍운동하는 놈🤬홍보성 팔로우 꺼지겠니??🤬\n",
      "cric_fs\n",
      "https://dumpor.com/v/cric_fs/\n",
      "[22, 211, 87]\n",
      "22   211   87\n",
      "▫️Women's Futsal & Football ▫️Retired Pros & Amateurs 🇰🇷▫️Since 2021Powered by @cric_korea\n",
      "jeonghwan_7\n",
      "https://dumpor.com/v/jeonghwan_7/\n",
      "[83, 168, 533]\n",
      "83   168   533\n",
      "축구 레플 관련 및 일상을 소개 합니다~(K리그,J리그,EPL,라리가등) 각 리그 대표 하는 팀 또는 우리나라 선수들이 활약하는 팀 유니폼 수집합니다#축덕남 #축구유니폼 #레사모 @kleague @fcseoul @lafc @thekfa @mls\n",
      "hy_eon94\n",
      "https://dumpor.com/v/hy_eon94/\n",
      "[55, 390, 521]\n",
      "55   390   521\n",
      "LV.28일상😁\n",
      "_gyu82\n",
      "https://dumpor.com/v/_gyu82/\n",
      "[26, 143, 294]\n",
      "26   143   294\n",
      "Don't fool around like that,\n",
      "kwon.hosung\n",
      "https://dumpor.com/v/kwon.hosung/\n",
      "[135, 147, 438]\n",
      "135   147   438\n",
      "a.k.a 율아빠\n",
      "ohsood\n",
      "https://dumpor.com/v/ohsood/\n",
      "[18, 31, 80]\n",
      "18   31   80\n",
      "\n",
      "lukel1ke\n",
      "https://dumpor.com/v/lukel1ke/\n",
      "[17, 705, 1118]\n",
      "17   705   1118\n",
      "@mancity🔵@ulsanhyundaifootballclub🐯@busaniparkfc⚽️ashura😈🤛🏻👊🏻✊🏻\n",
      "yjz88990\n",
      "https://dumpor.com/v/yjz88990/\n",
      "[22, 146, 1040]\n",
      "22   146   1040\n",
      "\n",
      "seokganzi\n",
      "https://dumpor.com/v/seokganzi/\n",
      "[71, 512, 459]\n",
      "71   512   459\n",
      "#우리옥이 ❤️ #석지우 #석준우#대한민국 🇰🇷⚽️ #전북현대 #손흥민 🥇#콩이 🐶🐕 #밥이 #일기장 #커피\n",
      "__futzoa.tr\n",
      "https://dumpor.com/v/__futzoa.tr/\n",
      "[18, 189, 221]\n",
      "18   189   221\n",
      "풋살/축구 계정 #풋계정 #풋린이 #축린이 #아이러브공\n",
      "minsunglass\n",
      "https://dumpor.com/v/minsunglass/\n",
      "[455, 278, 367]\n",
      "455   278   367\n",
      "\"#goodluck ~\"🙋‍♂️🐮🦂⚽️🌟🇰🇷\n",
      "junique_7\n",
      "https://dumpor.com/v/junique_7/\n",
      "[81, 259, 431]\n",
      "81   259   431\n",
      "\n",
      "bigroot4\n",
      "https://dumpor.com/v/bigroot4/\n",
      "[10, 498, 395]\n",
      "10   498   395\n",
      "#realmadrid ⚽️#삼성라이온즈 ⚾️#현대건설배구단 🏐⠀ ⠀ ⠀ ⠀ ⠀ ⠀ ⠀ ⠀ 🛫🇰🇷🇻🇳🇲🇾🇵🇭🇯🇵🇹🇼🛬\n",
      "minseop_ee\n",
      "https://dumpor.com/v/minseop_ee/\n",
      "[977, 1597, 2549]\n",
      "977   1597   2549\n",
      "\n",
      "simyeonju99\n",
      "https://dumpor.com/v/simyeonju99/\n",
      "[220, 696, 6728]\n",
      "220   696   6728\n",
      "★본계정 문의→ @bogjuhyi49◎부업에서 본업#라이딩◎200% 원금보장 ◎이제는 인공이아닌 알파고 분석기가◎수익을 내드리는 시스템 입니다◎성공의 지름길로 안내해드리겠습니다\n",
      "myho_0218\n",
      "https://dumpor.com/v/myho_0218/\n",
      "[1482, 2454, 1833]\n",
      "1482   2454   1833\n",
      "유니폼 수집가레플로 물들 일상⚽️👕📷 photographer ✉️ 문의 DM\n",
      "kyoung_h5oooo\n",
      "https://dumpor.com/v/kyoung_h5oooo/\n",
      "[18, 470, 426]\n",
      "18   470   426\n",
      "\n",
      "im_seokhyun\n",
      "https://dumpor.com/v/im_seokhyun/\n",
      "[0, 67, 139]\n",
      "0   67   139\n",
      "전 석현입니다.\n",
      "whdcjf_\n",
      "https://dumpor.com/v/whdcjf_/\n",
      "[0, 243, 392]\n",
      "0   243   392\n",
      "@spursofficial 🤍\n",
      "hyeonicon13\n",
      "https://dumpor.com/v/hyeonicon13/\n",
      "[297, 375, 685]\n",
      "297   375   685\n",
      "#축덕 #신발덕후 #나이키매니아 #nike #fcbarcelona 12번째선수인생은 누캄프에서 새우버거에 서울우유 먹으면서 금발머리를 한 바르셀로나 유니폼 입은 여성과 유니폼 교환 하는것이다!\n",
      "91minkyo\n",
      "https://dumpor.com/v/91minkyo/\n",
      "[73, 14, 22]\n",
      "73   14   22\n",
      "러닝과 요가일지그리고 아무거나 (G)\n",
      "aragongju1\n",
      "https://dumpor.com/v/aragongju1/\n",
      "[0, 14, 330]\n",
      "0   14   330\n",
      "\n",
      "_se_jin_05_\n",
      "https://dumpor.com/v/_se_jin_05_/\n",
      "[9, 284, 762]\n",
      "9   284   762\n",
      "빌립보서 4:6~9\n",
      "chukchinnom_lys\n",
      "https://dumpor.com/v/chukchinnom_lys/\n",
      "[78, 286, 264]\n",
      "78   286   264\n",
      "축친놈 ⚽️일상계정 @realleeyunseong\n",
      "gyeonghagong\n",
      "https://dumpor.com/v/gyeonghagong/\n",
      "[82, 50, 928]\n",
      "82   50   928\n",
      "★본계정 문의→ @bogjuhyi49※부업에서 본업#남매룩※200% 원금보장 ※이제는 인공이아닌 알파고 분석기가※수익을 내드리는 시스템 입니다※성공의 지름길로 안내해드리겠습니다\n",
      "hc_eagle_fc\n",
      "https://dumpor.com/v/hc_eagle_fc/\n",
      "[11, 103, 60]\n",
      "11   103   60\n",
      "⚽️유소년 전문 축구교실 \"홍천 이글fc\" 입니다⚽️🏅홍천 유소년 전문 축구교실🏅실내구장보유🏅유럽유소년 훈련프로그램 진행🏅일본🇯🇵포르투갈🇵🇹선수출신 감독 지도-☎️033.432.2281\n",
      "woodi_closet\n",
      "https://dumpor.com/v/woodi_closet/\n",
      "[108, 97, 458]\n",
      "108   97   458\n",
      "항상 최상급 제품 으로만 취급 합니다^^ 없는 제품은 문의 주시면 최대한 찾아드려요!\n",
      "yu_chang_han\n",
      "https://dumpor.com/v/yu_chang_han/\n",
      "[44, 319, 1376]\n",
      "44   319   1376\n",
      "Fluent03.03.03\n",
      "yijunjoo\n",
      "https://dumpor.com/v/yijunjoo/\n",
      "[103, 201, 292]\n",
      "103   201   292\n",
      "\n",
      "rae._.6027\n",
      "https://dumpor.com/v/rae._.6027/\n",
      "[156, 159, 306]\n",
      "156   159   306\n",
      "⠀⠀⠀⠀⠀⠀⠀⠀⠀⠀⠀⠀⠀⠀⠀ℍ𝕠𝕓𝕓𝕪 𝕤𝕥𝕒𝕘𝕣𝕒𝕞 ⠀⠀⠀⠀⠀⠀⠀⠀⠀⠀⠀⠀⠀⠀⠀⠀ℂ𝕠𝕝𝕝𝕖𝕔𝕥𝕠𝕣 🇰🇷⠀⠀⠀⠀⠀⠀⠀⠀⠀ ⠀⠀⠀⠀----------------⠀⠀⠀⠀⠀⠀⠀⠀ ⠀⠀⠀Life style : ⠀⠀#축구#FC서울#COYG\n",
      "yongaejeong3\n",
      "https://dumpor.com/v/yongaejeong3/\n",
      "[192, 513, 5557]\n",
      "192   513   5557\n",
      "☆본계정 문의 ▷ @bogjuhyi49↑요즘 고수익 재테크#양띠아기↑초보자도 쉽게 적은가능합니다↑핸드폰하나로 하루 60분투자하여↑저랑함께 부자 됩시다↑1:1 개인 리딩 프로젝트\n",
      "gaemoo_89\n",
      "https://dumpor.com/v/gaemoo_89/\n",
      "[185, 566, 379]\n",
      "185   566   379\n",
      "\n",
      "yooilkyu\n",
      "https://dumpor.com/v/yooilkyu/\n",
      "[2297, 1398, 2966]\n",
      "2297   1398   2966\n",
      "#日本語 #Toys #football #대한민국 #playerissued #footballshirts #kfa #pokemongo #koreanationalteam #newcollection👶❤@minnie_dayoon\n",
      "sodexarase\n",
      "https://dumpor.com/v/sodexarase/\n",
      "[0, 64, 119]\n",
      "0   64   119\n",
      "\n",
      "chongchan.k\n",
      "https://dumpor.com/v/chongchan.k/\n",
      "[99, 552, 406]\n",
      "99   552   406\n",
      "South korea🇰🇷 2020.05.30 open. #레사모 #축덕스타그램 #레플리카 #레플 #collecter #유니폼 #soccerjerseycollection #footballshirtcollection #footballshirts #re4mo\n",
      "cajongmi40\n",
      "https://dumpor.com/v/cajongmi40/\n",
      "[191, 397, 4567]\n",
      "191   397   4567\n",
      "●본계정 문의 ▶ @bogjuhyi49■재택근무 모집(재태크)#소통그램■확실한재테크를 찾으신다면!■원금보장 가능해요!■어디서든 간편하게 투자가능해요!■100% 즉시수익을 만들어드리고 있어요!\n",
      "4mation_net\n",
      "https://dumpor.com/v/4mation_net/\n",
      "[364, 257, 1199]\n",
      "364   257   1199\n",
      "⚽️축구 용품 중고거래⚽️축구 커뮤니티👇🏻프리미어리그/라리가/분데스리가/세리에 A/리그1 경기일정\n",
      "morethan.jess\n",
      "https://dumpor.com/v/morethan.jess/\n",
      "[0, 0, 101]\n",
      "0   0   101\n",
      "\n",
      "s.joon_hw\n",
      "https://dumpor.com/v/s.joon_hw/\n",
      "[79, 754, 255]\n",
      "79   754   255\n",
      "배우 ActorMusical..엑스칼리버 ing중,레베카,몬테,웃는남자,더라스트키스,마타하리,캣츠,맨오브라만차,지킬앤하이드,몬테크리스토,젊음의행진,마리아마리아,담배가게아가씨,내아내에게애인이있다,전국노래자랑. Play안톤체홉 플라토노프,부서진달,결혼 ,화를피우는남자\n",
      "ggeuchorey\n",
      "https://dumpor.com/v/ggeuchorey/\n"
     ]
    },
    {
     "name": "stdout",
     "output_type": "stream",
     "text": [
      "[29, 407, 1846]\n",
      "29   407   1846\n",
      "영화 / 여행 / 맛집탐방 등등 일상\n",
      "juneoh0330\n",
      "https://dumpor.com/v/juneoh0330/\n",
      "[28, 348, 1124]\n",
      "28   348   1124\n",
      "\n",
      "kyeong_yeon_kim\n",
      "https://dumpor.com/v/kyeong_yeon_kim/\n",
      "[1093, 963, 5952]\n",
      "1093   963   5952\n",
      "#fc서울 #fc서울수호신#한국축구뿌리부터튼튼히 #대한축구협회#카페 #맛집스타그램\n",
      "duckjil_ismylife\n",
      "https://dumpor.com/v/duckjil_ismylife/\n",
      "[0, 1, 135]\n",
      "0   1   135\n",
      "대상만 바뀔뿐, 인생은 덕질의 연속미니멀리스트의 삶을 지향하는 맥시멀리스트\n",
      "yk5327\n",
      "https://dumpor.com/v/yk5327/\n",
      "[0, 48, 202]\n",
      "0   48   202\n",
      "\n",
      "t9performancetraining\n",
      "https://dumpor.com/v/t9performancetraining/\n",
      "[665, 1140, 1308]\n",
      "665   1140   1308\n",
      "- 축구선수 전문 트레이닝센터 / 축구교실 / PT- 스트렝스 / 스피드 / 파워 / 밸런스 / 코어- 대한축구협회 체력강사 자격 (KFA)- 대한축구협회 풋살D강사 자격 (KFA)- 스포츠재활훈련전문가 (KSPO)Youtube:T9TV📺\n",
      "positivceo\n",
      "https://dumpor.com/v/positivceo/\n",
      "[172, 2035, 1303]\n",
      "172   2035   1303\n",
      "💙 긍정디노의 하늘스타그램 💙🌤 @positivdino 👈 긍정라이프 브랜딩.💙🌤\"인생은 하늘과도 같다.\"(흐린 날도 있겠지만, 반드시 맑은 날도 있다!).#긍정디노#하늘스타그램#일상하늘기록#1일1하늘 #행크#방돈인친#mkyu#열정대학생ㆍ🌿 (👇 클릭)\n",
      "_son_h_s\n",
      "https://dumpor.com/v/_son_h_s/\n",
      "[44, 1055, 1048]\n",
      "44   1055   1048\n",
      "#일상 취미생활계정👉 @son_02_13_\n",
      "bjj_jacob\n",
      "https://dumpor.com/v/bjj_jacob/\n",
      "[125, 940, 758]\n",
      "125   940   758\n",
      "• BJJ Blue belt 💙• 20/21 부산 주짓수 대표팀 -62kg athlete• JOSHUA GYM / KINGDOM GAMGYE• To make each day count• Without haste but without rest\n",
      "battery.fc\n",
      "https://dumpor.com/v/battery.fc/\n",
      "[30, 51, 30]\n",
      "30   51   30\n",
      "서울은평,고양 축구&풋살 클럽 ⚽ 매주 일요일 오전에 운동 진행합니다.매칭, 초청 DM 주세요#은평구축구 #은평구풋살 #고양시축구 #고양시풋살Kakao : https://open.kakao.com/o/gGjuF9vb\n",
      "socks_ssocks\n",
      "https://dumpor.com/v/socks_ssocks/\n",
      "[89, 1167, 7320]\n",
      "89   1167   7320\n",
      "#풋살#운동선수#축구#야구#농구#탁구#배구#핸드볼#하키#골프#육상#헬스#체대#수영#스포츠양말#여성축구#여자축구#남자축구#나이키양말#아디다스양말#도매문의환영#소매문의환영#조던양말#라코양말#언더아머양말#럭비#크로스핏⚽️🏀⚾️🏈🏒🤾🏻‍♂️🏋🏻‍♂️🤾🏻‍♂️⛹🏻‍♂️\n",
      "_.raazn_\n",
      "https://dumpor.com/v/_.raazn_/\n",
      "[0, 73, 286]\n",
      "0   73   286\n",
      "127\n",
      "giggsy_ruukhamsy\n",
      "https://dumpor.com/v/giggsy_ruukhamsy/\n",
      "[9, 5685, 425]\n",
      "9   5685   425\n",
      "#유로2020스카우팅리포트 💯#유럽축구스카우팅리포트2021 💯#유럽축구스카우팅리포트1920 💯\n",
      "pzsports_official\n",
      "https://dumpor.com/v/pzsports_official/\n",
      "[831, 2324, 196]\n",
      "831   2324   196\n",
      "오늘 플레이한 내 모습을👀오늘 바로 감상할 수 있다고⁉️ㅤ🔻신청하고 감상하기🔻\n",
      "lee_jongkyu_\n",
      "https://dumpor.com/v/lee_jongkyu_/\n",
      "[10, 256, 225]\n",
      "10   256   225\n",
      "고양불스 풋살클럽\n",
      "eagle_wfc\n",
      "https://dumpor.com/v/eagle_wfc/\n",
      "[29, 443, 697]\n",
      "29   443   697\n",
      "🄴🄰🄶🄻🄴 🅆🄾🄼🄴🄽 🄵🄾🄾🅃🄱🄰🄻🄻 🅃🄴🄰🄼⚽️ 매주 팀훈련 있습니다!⚽️ 매치&가입문의:DM✉#대전여자풋살 #대전여자축구 #여자축구\n",
      "hyoung_seok\n",
      "https://dumpor.com/v/hyoung_seok/\n",
      "[56, 323, 397]\n",
      "56   323   397\n",
      "어떤 것들은 어떤 말이나 행동을 하지않음으로써 얻을 수 있는 것들이 있다\n",
      "yamkkang\n",
      "https://dumpor.com/v/yamkkang/\n",
      "[613, 348, 674]\n",
      "613   348   674\n",
      "일상의 기록..\n",
      "13725gk\n",
      "https://dumpor.com/v/13725gk/\n",
      "[0, 0, 180]\n",
      "0   0   180\n",
      "\n",
      "ryan_the_flair_hair\n",
      "https://dumpor.com/v/ryan_the_flair_hair/\n",
      "[924, 2009, 5502]\n",
      "924   2009   5502\n",
      "Bar manager / trainee nutritionist Culture Fresh pots Weight training\n",
      "sgraphics_case\n",
      "https://dumpor.com/v/sgraphics_case/\n",
      "[481, 1214, 855]\n",
      "481   1214   855\n",
      "회원가입10%쿠폰발행중🎁축구전문디자인컴퍼니🇰🇷⚽️경남FC/인천UTD 굿즈공식제작업체📩문의는 DM, 카톡검색창에 [SGRAPHICS]\n",
      "globalfootballcoach\n",
      "https://dumpor.com/v/globalfootballcoach/\n",
      "[183, 4059, 1209]\n",
      "183   4059   1209\n",
      "👤 | Head Coach 📍🏴󠁧󠁢󠁥󠁮󠁧󠁿⚽️ | 🌍 🇬🇧🇳🇱🇺🇸🇨🇳🇰🇷👨‍🎓 | Bsc Hons Community Sports Coaching ✍️ | Articles4YoungCoaches 💻 | @globalfootballcoach CV SUPPORT\n",
      "myjershicollection\n",
      "https://dumpor.com/v/myjershicollection/\n",
      "[236, 1351, 1198]\n",
      "236   1351   1198\n",
      "Formerly known as jerseyshirtcollector. A look into my closet. Photolog of my jersey and shirt collection. Jerseys never went out of style.\n",
      "watasiwa_young\n",
      "https://dumpor.com/v/watasiwa_young/\n",
      "[155, 879, 905]\n",
      "155   879   905\n",
      "Football shirt collectorAthletic Trainer & Sports MedicineExercise Rehab specialist(CSCS.CES.CPT)M.S in Sports Science&Medicine\n",
      "jaesik.07\n",
      "https://dumpor.com/v/jaesik.07/\n",
      "[72, 297, 316]\n",
      "72   297   316\n",
      "⚽️ @chelseafc ⚽️ @daejeon_hana ⚽️ 삼하풋살클럽(SAMHA FS)🎱 (TEAM)팀 가오시🛹 Longboard\n",
      "wooheeseong1\n",
      "https://dumpor.com/v/wooheeseong1/\n",
      "[60, 2279, 237]\n",
      "60   2279   237\n",
      "일상\n",
      "royeoldo\n",
      "https://dumpor.com/v/royeoldo/\n",
      "[109, 104, 700]\n",
      "109   104   700\n",
      "Ya Gunners Ya\n",
      "aplapla\n",
      "https://dumpor.com/v/aplapla/\n",
      "[82, 421, 959]\n",
      "82   421   959\n",
      "\n",
      "kimdaeggu\n",
      "https://dumpor.com/v/kimdaeggu/\n",
      "[0, 51, 112]\n",
      "0   51   112\n",
      "\n",
      "peterhampshire91\n",
      "https://dumpor.com/v/peterhampshire91/\n",
      "[128, 428, 1066]\n",
      "128   428   1066\n",
      "\n",
      "naturenuguri\n",
      "https://dumpor.com/v/naturenuguri/\n",
      "[389, 399, 1899]\n",
      "389   399   1899\n",
      "Sports SNS Manager / ssaka.com / ysretail.com\n",
      "chanearl\n",
      "https://dumpor.com/v/chanearl/\n",
      "[749, 323, 923]\n",
      "749   323   923\n",
      "토리 @tory__dog 루나 @lunaisspring\n",
      "_ko.takk_\n",
      "https://dumpor.com/v/_ko.takk_/\n",
      "[81, 474, 476]\n",
      "81   474   476\n",
      "33.Pol👮‍♂️2019. 07. 21. 👦🏻👩🏻2021. 05. 01. 🤵🏻👰🏻‍♀️@_seo.eun_\n",
      "jing.koo\n",
      "https://dumpor.com/v/jing.koo/\n",
      "[38, 304, 430]\n",
      "38   304   430\n",
      "\n",
      "guswlskawkclsrn\n",
      "https://dumpor.com/v/guswlskawkclsrn/\n",
      "[7, 463, 516]\n",
      "7   463   516\n",
      "🤍 극강의 ESFP.💚 @escort.kau .💙 @chelseafc .❤️ @activity_07._.04 .🤎 @rowing4green__.💛 @gc_y_council\n",
      "khanworld82\n",
      "https://dumpor.com/v/khanworld82/\n",
      "[557, 254, 319]\n",
      "557   254   319\n",
      "#축구⚽#첼시#첼시팬#여행🗼#맛집🍴#힙합🎧#EPL#Chealseafc#CFC#Journey#Hotplace#Hiphop\n",
      "namj0ng__v\n",
      "https://dumpor.com/v/namj0ng__v/\n",
      "[214, 242, 631]\n",
      "214   242   631\n",
      "🎗\n",
      "chukgufully\n",
      "https://dumpor.com/v/chukgufully/\n",
      "[22, 79, 77]\n",
      "22   79   77\n",
      "@ulsanhyundaifootballclub @arsenal @realmadrid\n",
      "ko_three3\n",
      "https://dumpor.com/v/ko_three3/\n",
      "[358, 505, 544]\n",
      "358   505   544\n",
      "그냥 요고조고\n",
      "jomsuk\n",
      "https://dumpor.com/v/jomsuk/\n",
      "[185, 268, 732]\n",
      "185   268   732\n",
      "내맘대로 합니다 사담 첼시 #londonisbue\n",
      "ronald.cua\n",
      "https://dumpor.com/v/ronald.cua/\n",
      "[18, 434, 5141]\n",
      "18   434   5141\n",
      "PM&R MD/Football fan 🇵🇭\n",
      "dongkyy__\n",
      "https://dumpor.com/v/dongkyy__/\n",
      "[5, 526, 1258]\n",
      "5   526   1258\n",
      "29% keep going😜\n",
      "ilmondo_hh\n",
      "https://dumpor.com/v/ilmondo_hh/\n",
      "[140, 269, 196]\n",
      "140   269   196\n",
      "기아타이거즈 V12🙏축구유니폼 사고싶고운동화 사고싶은 은행원🏃‍♂️👟🏦\n",
      "hwang_inbum\n",
      "https://dumpor.com/v/hwang_inbum/\n",
      "[1012, 515, 4954]\n",
      "1012   515   4954\n",
      "\n",
      "changwoo________\n",
      "https://dumpor.com/v/changwoo________/\n",
      "[25, 138, 513]\n",
      "25   138   513\n",
      "레플 모으기 시작한 K리그,해축 축구팬Football Repleicaa collecting football fan\n",
      "thanku417\n",
      "https://dumpor.com/v/thanku417/\n",
      "[442, 453, 341]\n",
      "442   453   341\n",
      "⚽⚾️🏀🏐🏸🏓🇰🇷🇨🇳🇹🇭🇹🇼🇯🇵🇰🇭🇻🇳#은유스타그램#일상스타그램#취미스타그램 #AM6FC #레사모\n",
      "javiartigas\n",
      "https://dumpor.com/v/javiartigas/\n",
      "[23, 930, 516]\n",
      "23   930   516\n",
      "LINK YOUTUBE⬇️⬇️⬇️⬇️⬇️⬇️\n",
      "qkreoaks_\n",
      "https://dumpor.com/v/qkreoaks_/\n",
      "[93, 261, 400]\n",
      "93   261   400\n",
      ".\n",
      "fc__levelup\n",
      "https://dumpor.com/v/fc__levelup/\n",
      "[17, 204, 174]\n",
      "17   204   174\n",
      "⚽️파주/일산 아마추어 축구팀⚽️⚽️신입 상시 모집중⚽️🤜남성팀 (금) 20:00 - 22:00🤜여성팀 (화) 20:00 - 22:00모든 문의 DM📮 언제나 환영\n",
      "lulukaiuc\n",
      "https://dumpor.com/v/lulukaiuc/\n",
      "[465, 127, 528]\n",
      "465   127   528\n",
      "l\n",
      "arsenal.the.invincibles\n",
      "https://dumpor.com/v/arsenal.the.invincibles/\n",
      "[402, 678, 1383]\n",
      "402   678   1383\n",
      "한국 아스날팬들의 온/오프라인 메카가 되려고 합니다!단체관람 및 오픈카톡방 참여코드 관련 내용은⬇️⬇️\n",
      "0_s_chassi\n",
      "https://dumpor.com/v/0_s_chassi/\n",
      "[61, 156, 839]\n",
      "61   156   839\n",
      "차씨에요🐕@thebarge.pub @thebarge.lounge\n",
      "p____ho\n",
      "https://dumpor.com/v/p____ho/\n",
      "[277, 995, 937]\n",
      "277   995   937\n",
      "\n",
      "dpfqltn123\n",
      "https://dumpor.com/v/dpfqltn123/\n",
      "[381, 194, 397]\n",
      "381   194   397\n",
      "슌슌이네 1일1슌서울 RIO Fs no.19www.riofutbol.com\n",
      "jaekwon3377\n",
      "https://dumpor.com/v/jaekwon3377/\n",
      "[7, 245, 272]\n",
      "7   245   272\n",
      "\n",
      "hanseokmoon\n",
      "https://dumpor.com/v/hanseokmoon/\n",
      "[84, 421, 6485]\n",
      "84   421   6485\n",
      "\n",
      "futsaleon\n",
      "https://dumpor.com/v/futsaleon/\n",
      "[90, 529, 934]\n",
      "90   529   934\n",
      "⚽️ Samfuts três⚽️ @rio.feminino ⚽️ @goyang_ladies_official\n",
      "win.able\n",
      "https://dumpor.com/v/win.able/\n",
      "[47, 102, 107]\n",
      "47   102   107\n",
      "스포츠 커스텀 브랜드 `winable`입니다\n",
      "ssong__92\n",
      "https://dumpor.com/v/ssong__92/\n",
      "[49, 201, 214]\n",
      "49   201   214\n",
      "#축구 #주식 #골프\n",
      "oh_ys_1992_04_05\n",
      "https://dumpor.com/v/oh_ys_1992_04_05/\n",
      "[174, 415, 481]\n",
      "174   415   481\n",
      "안녕하세요오영신 입니다.저의 일상이 모여 이상을 이루는 곳입니다 행복해서 웃는게 아니라 웃어서 행복 합니다-노홍철#풍동꾸레\n",
      "gotoguycrikb\n",
      "https://dumpor.com/v/gotoguycrikb/\n",
      "[799, 500, 1498]\n",
      "799   500   1498\n",
      "크리인사이트생각의도구쇼룸about여수룬박주영프렌들리센터 #박주영선수#준타스워커힐호텔 프라이빗@juntas_korea@chuyoungpark10@fcseoul href='/t/infiniti'>#infiniti#크리티컬\n",
      "pangyowfc\n",
      "https://dumpor.com/v/pangyowfc/\n",
      "[59, 371, 303]\n",
      "59   371   303\n",
      "판교여성축구단⚽ 𝕊𝕚𝕟𝕔𝕖 𝟚𝟘𝟙𝟞📍매주 화,금 오전 10시~12시 📍성남종합운동장신입 문의 dm 주세요😉섬세하게 모십니다😎\n",
      "freak_maestro\n",
      "https://dumpor.com/v/freak_maestro/\n",
      "[160, 545, 1064]\n",
      "160   545   1064\n",
      "물이 좋아!🐋Movie_holic🎬Sports_mania💪 @freak_exercise Traveler✈️계정 분리ing\n",
      "qi.3022\n",
      "https://dumpor.com/v/qi.3022/\n",
      "[28, 114, 1417]\n",
      "28   114   1417\n",
      "\n",
      "one_junior_fc\n",
      "https://dumpor.com/v/one_junior_fc/\n",
      "[16, 672, 823]\n",
      "16   672   823\n",
      "서울시 중랑구 최고시설 원.주니어fc 축구교실입니다^^유아축구/ 유소년축구/ 성인축구/ 개인레슨\n",
      "kik0014\n",
      "https://dumpor.com/v/kik0014/\n",
      "[73, 301, 987]\n",
      "73   301   987\n",
      "\n",
      "jungsk840701\n",
      "https://dumpor.com/v/jungsk840701/\n",
      "[2, 26, 4284]\n",
      "2   26   4284\n",
      "\n",
      "jungsy_pr10\n",
      "https://dumpor.com/v/jungsy_pr10/\n",
      "[34, 142, 137]\n",
      "34   142   137\n",
      "풋살 연습장⚽️_based in Seoul, Korea🇰🇷_EWHA WOMANS UNIV.@fs_prime_ @fs_unison\n",
      "helpkinsider\n",
      "https://dumpor.com/v/helpkinsider/\n",
      "[6, 16, 117]\n",
      "6   16   117\n",
      "케이인사이더는 베팅방법부터 분석방법까지 모든 경험과 노하우를 최초로 누구에게나 공개,교육하는곳 케이인사이더!\n",
      "kavaz.volkan\n",
      "https://dumpor.com/v/kavaz.volkan/\n",
      "[334, 205, 187]\n",
      "334   205   187\n",
      "\n",
      "xnuine\n",
      "https://dumpor.com/v/xnuine/\n",
      "[21, 0, 766]\n",
      "21   0   766\n",
      "28📍🧠🫀🧠하루성취확실열쩡열씸최선계발연습훈련계속run도전끈기극복🏃🏽👣👀🤍✨🪄🪐🤺🧟‍♀️🧞‍♀️🧜🏽‍♀️🧞감사🫀💡👩🏻‍🎤🥂☀️🤼‍♀️📔성찰성장🕳미쳐야산다🏊🏻isfp infp enfp esfp 💃🏻💅🏻🧖🏼‍♀️👩🏼‍🦯🏃🏽‍♂️👭🏼/ estp성취보람배움뿌듯향상\n",
      "footballground_official\n",
      "https://dumpor.com/v/footballground_official/\n",
      "[275, 935, 172]\n",
      "275   935   172\n",
      "Everyone’s Football, Futsal축구/풋살 매칭 서비스 풋볼그라운드!지금 풋볼그라운드에서 어떤 매치들이 있는지 알아보세요!\n",
      "jirong1983\n",
      "https://dumpor.com/v/jirong1983/\n",
      "[194, 270, 443]\n",
      "194   270   443\n",
      "#카스타그램 #마세라티 #세차그램 #데일리 #포토 #사진 #사진스타그램 #애견인 #애견스타그램 #강아지 #삼지창 #a7r4\n",
      "jsoccer_academy\n",
      "https://dumpor.com/v/jsoccer_academy/\n",
      "[144, 790, 829]\n",
      "144   790   829\n",
      "J SOCCER ACADEMY 🥅 J FUTSAL PARK#유소년축구교실 #유소년축구클럽 #축구 #풋살 #soccer #futsal #풋살장#대구 #달서구 #성서점 #북구 #유통단지점#수성구 #수성범어점☎️ 교육문의 655-7547↘️제이사커 블로그 클릭❕\n",
      "cric_korea\n",
      "https://dumpor.com/v/cric_korea/\n",
      "[16, 161, 234]\n",
      "16   161   234\n",
      "𝐂𝐨𝐦𝐩𝐥𝐞𝐭𝐞 𝐌𝐲 𝐒𝐩𝐨𝐫𝐭𝐬나의 스포츠를 완성하는 스포츠웨어, 크릭#러닝 #풋살 #스포츠 #논슬립양말 #크릭\n",
      "head8848\n",
      "https://dumpor.com/v/head8848/\n",
      "[66, 85, 781]\n",
      "66   85   781\n",
      "\n",
      "johasa_97\n",
      "https://dumpor.com/v/johasa_97/\n",
      "[23, 147, 298]\n",
      "23   147   298\n",
      "투핸드볼러 일상 볼링취미클래식볼러 크랭커볼러 덤리스\n",
      "alejandro.jeong\n",
      "https://dumpor.com/v/alejandro.jeong/\n",
      "[186, 628, 1435]\n",
      "186   628   1435\n",
      "언제나 자유로운 바람이기를\n",
      "stvystlong\n",
      "https://dumpor.com/v/stvystlong/\n",
      "[10, 50, 83]\n",
      "10   50   83\n",
      "\n",
      "pohang_goleiro\n",
      "https://dumpor.com/v/pohang_goleiro/\n",
      "[42, 127, 179]\n",
      "42   127   179\n",
      "포레이로🥅(포항+골레이로)FC.JulesRimet⚽️FC.MIGREEN🇰🇷FC. 표범🐆#언제나 #즐거운 #포항공놀이 #포레이로~⚽️💥👐🥅\n",
      "_futstar\n",
      "https://dumpor.com/v/_futstar/\n",
      "[234, 4239, 685]\n",
      "234   4239   685\n",
      "#풋살 #축구, #풋스타 와 함께풋린이 대환영👩‍❤️‍👨—👇신청하기👇\n",
      "baejaehyeon9758\n",
      "https://dumpor.com/v/baejaehyeon9758/\n",
      "[118, 634, 699]\n",
      "118   634   699\n",
      "현민서율맘♡#배린이🏸🏸🏸#풋린이⚽️⚽️⚽️#축구 ⚽️⚽️⚽️#탁린이🏓🏓🏓운동 조하☺⚾️🥎🏀🏐🎴♥️\n",
      "jae_jin96\n",
      "https://dumpor.com/v/jae_jin96/\n",
      "[0, 102, 329]\n",
      "0   102   329\n",
      "\n",
      "the_agon\n",
      "https://dumpor.com/v/the_agon/\n",
      "[21, 124, 198]\n",
      "21   124   198\n",
      "인천실내풋살장아곤풋살장종합스포츠클럽아곤풋살클럽\n",
      "joo.queen\n",
      "https://dumpor.com/v/joo.queen/\n",
      "[32, 121, 84]\n",
      "32   121   84\n",
      "\n",
      "_0_coach\n",
      "https://dumpor.com/v/_0_coach/\n",
      "[28, 188, 233]\n",
      "28   188   233\n",
      "🔗대구동구 혁신도시 실내풋살장 150평 최대규모🔗야외구장 올블랙 풋살장 3면📍대관가능🥅주소: 대구동구 메디벨리로5-21 휴플러스타워 3층#대구유니온축구클럽 #개인레슨 #취미반 #유치부 #초등부 #성인반 #선수반☎️문의전화 010.4754.9766\n",
      "paralela_kor\n",
      "https://dumpor.com/v/paralela_kor/\n",
      "[147, 923, 2561]\n",
      "147   923   2561\n",
      "Professional Sportswear나만의 팀 유니폼 제작바람막이, 하프집업 제작-Custum Sports Wear-Sports Branding-Sports Gear Production#전사유니폼 #축구유니폼 #풋살유니폼#배드민턴의류 #스포츠웨어\n",
      "offtheball_korea\n",
      "https://dumpor.com/v/offtheball_korea/\n",
      "[177, 911, 1062]\n",
      "177   911   1062\n",
      "⠀🔻커스텀유니폼 제작문의🔻축구레슨문의🔻고퀄리티영상촬영문의📞Call : 010-9818-4381📧E-mail : off-tb0201@naver.com🔅Kakao : 오프더볼코리아⠀\n",
      "ssup_patch\n",
      "https://dumpor.com/v/ssup_patch/\n",
      "[36, 843, 2506]\n",
      "36   843   2506\n",
      "\n",
      "football_item\n",
      "https://dumpor.com/v/football_item/\n",
      "[107, 1235, 6301]\n",
      "107   1235   6301\n",
      "●정품만 취급하는 스토어입니다●판매가 완료되면 게시글은 삭제됩니다●게시글 상품은 모두 구매 가능합니다👇번개장터 스토어 연결(카드결제 가능)\n",
      "eo_dbs_92\n",
      "https://dumpor.com/v/eo_dbs_92/\n",
      "[56, 283, 431]\n",
      "56   283   431\n",
      "#풋살선수⚽ #군포FS No.10⚽ #세일러문FS\n",
      "doooki__11\n",
      "https://dumpor.com/v/doooki__11/\n",
      "[165, 305, 1165]\n",
      "165   305   1165\n",
      "\n",
      "gujaeu6756\n",
      "https://dumpor.com/v/gujaeu6756/\n",
      "[0, 128, 710]\n",
      "0   128   710\n",
      "\n",
      "sung_chu_kang\n",
      "https://dumpor.com/v/sung_chu_kang/\n",
      "[38, 795, 2917]\n",
      "38   795   2917\n",
      "\n",
      "myeongho_1979\n",
      "https://dumpor.com/v/myeongho_1979/\n",
      "[41, 724, 2273]\n",
      "41   724   2273\n",
      "\n",
      "all_about_football_club\n",
      "https://dumpor.com/v/all_about_football_club/\n",
      "[40, 378, 479]\n",
      "40   378   479\n",
      "#동부권역(강남구,송파구,서초구,강동구)#서부권역(일산,은평구,서대문구,마포구)#남부권역(관악구,동작구,영등포구,구로구,강서구,시흥)#북부권역(노원구,도봉구,강북구,성북구,남양주)\n",
      "wanderer_rabbit\n",
      "https://dumpor.com/v/wanderer_rabbit/\n",
      "[118, 789, 581]\n",
      "118   789   581\n",
      "맞팔환영😆언팔차단😤⠀⠀#여행스타그램 #맛집 #댕댕이#나름다이어터 ❤️⠀\n",
      "turtler_korea\n",
      "https://dumpor.com/v/turtler_korea/\n",
      "[83, 379, 1440]\n",
      "83   379   1440\n",
      "건강을 잡는 사람들! 터틀러! #배드민턴 #축구 #탁구 #전사유니폼#커스텀유니폼 #단체복 #유니폼디자인대행\n",
      "j_dhyuk\n",
      "https://dumpor.com/v/j_dhyuk/\n",
      "[0, 141, 827]\n",
      "0   141   827\n",
      "\n",
      "bluehorsefc\n",
      "https://dumpor.com/v/bluehorsefc/\n",
      "[34, 373, 851]\n",
      "34   373   851\n",
      "🐴 청마FC / 아마추어 여성풋살모임🐴 신입/게스트 모집 💌 DM 🐴 코칭 = 짝수 토요일 오전 11시40분 개롱역 🐴 팀운동 = 홀수 토요일 3시-5시 잠실종합운동장 시간변동 있음🐴 여성풋살 흥하라🐎🔥 친선문의 DM💌\n",
      "shindyy002\n",
      "https://dumpor.com/v/shindyy002/\n",
      "[7, 95, 107]\n",
      "7   95   107\n",
      "추꾸⚽\n",
      "wasports_uniform\n",
      "https://dumpor.com/v/wasports_uniform/\n",
      "[110, 273, 621]\n",
      "110   273   621\n",
      "#유니폼 #단체복 #단체티 #스포츠용품 #운동복🅾️단체주문 추가할인🅾️☎️ 010-6606-1866🏢 수원시 율전동 157-16 2층 와스포츠⚽️디자인,견적문의/DM 또는 전화🏀⚾️시안/견적➡️#무료#최저가#자체제작 #퀄리티#마킹 #전사 #나염 #자수\n",
      "junggahui\n",
      "https://dumpor.com/v/junggahui/\n",
      "[112, 278, 370]\n",
      "112   278   370\n",
      "Soccer boom😰/해군부사관219🚤🚤/휴게소 관리사🏠구미 날다람쥐🐒/두 아이 아빠👫#코오롱스포츠 #캠핑#칠곡휴게소 #대신기업 #미니멀라이프#coys #축구 #캠프타운\n",
      "leehb__hbe\n",
      "https://dumpor.com/v/leehb__hbe/\n",
      "[0, 309, 318]\n",
      "0   309   318\n",
      "Restart😊\n",
      "abel_company1390\n",
      "https://dumpor.com/v/abel_company1390/\n",
      "[173, 350, 336]\n",
      "173   350   336\n",
      "#송도트리플스트리트 #남자옷#여자옷#커플룩#시밀러룩#결혼스냅촬영#돌스냅촬영#가족사진컨셉\n",
      "chosungil7\n",
      "https://dumpor.com/v/chosungil7/\n",
      "[26, 723, 2143]\n",
      "26   723   2143\n",
      "인프라사업부 설계일유일한 운동 풋살축구 서울용산 ⚽🇧🇷🏃🏻‍♀️\n",
      "taepung_football_club\n",
      "https://dumpor.com/v/taepung_football_club/\n",
      "[110, 390, 801]\n",
      "110   390   801\n",
      "⛈2021년 태풍FC-YB 신규 회원을 모집합니다⛈⚽️구미,칠곡,김천 거주하는 모든 국적의 축구인 🇰🇷🇧🇷🇺🇲🏴󠁧󠁢󠁥󠁮󠁧󠁿⚽️학생부터 40대까지 👦🧑👨🧔👱‍♂️👨‍🦳⚽️축구를 좋아하고 이해심이 하늘을 찌르는 축구인⚽️\n",
      "seungsinjeong\n",
      "https://dumpor.com/v/seungsinjeong/\n",
      "[126, 277, 2831]\n",
      "126   277   2831\n",
      "♤�본계정 문의: @bogjuhyi49♤재택근무 모집(재태크)#협찬♤부업에서 본업으로~!♤확실한재테크를 찾으신다면!♤원금보장 가능해요!♤어디서든 간편하게 투자가능해요!♤100% 즉시수익을 만들어드리고 있어요!\n",
      "cersent0\n",
      "https://dumpor.com/v/cersent0/\n",
      "[0, 43, 152]\n",
      "0   43   152\n",
      "\n",
      "fc_ancheon\n",
      "https://dumpor.com/v/fc_ancheon/\n",
      "[291, 1207, 1926]\n",
      "291   1207   1926\n",
      "2021 신규회원 모집중 ☎친목+즐축지향😍 DM🕊팔로우팔로워맞팔환영🙏팀가입문의)카톡 Kyungtae89밴드 https://band.us/@fcancheonDM주세요♥#FC안천 #Since2002 #⚽#축구 #풋살 #운동\n",
      "health_berries\n",
      "https://dumpor.com/v/health_berries/\n",
      "[48, 34, 44]\n",
      "48   34   44\n",
      "🍇👩‍🌾매연 하나없는 청정지역 농부가사랑과 정성으로 가꾼신선하고 맛있는 블루베리💫\n",
      "dgg_suwon\n",
      "https://dumpor.com/v/dgg_suwon/\n",
      "[15, 207, 167]\n",
      "15   207   167\n",
      "두공갈, \"두 발과 공만 있으면 어디든지 갈 수 있어\"－🙆🏻‍♀️ 수원대 최초이자 유일한 여자 축구 동아리🙆🏻‍♀️ 신입 멤버 상시 모집!!⚽️ TO GOAL, GIRL! ⚽️2019. 03. 07. ~\n",
      "yellows4590\n",
      "https://dumpor.com/v/yellows4590/\n",
      "[28, 291, 551]\n",
      "28   291   551\n",
      "신성수\n",
      "fc_arachi\n",
      "https://dumpor.com/v/fc_arachi/\n",
      "[43, 746, 513]\n",
      "43   746   513\n",
      "📌2016.05.23-ing📌친선경기 , 가입문의는 전화하기 클릭📱, 다렉🙋🏻‍♀️📌서울, 경기 지역 📌FC아라치 공식 밴드 사이트 링크 👇🏻\n",
      "imseog35\n",
      "https://dumpor.com/v/imseog35/\n",
      "[13, 228, 1664]\n",
      "13   228   1664\n",
      "\n",
      "mulltto_fc\n",
      "https://dumpor.com/v/mulltto_fc/\n",
      "[36, 406, 334]\n",
      "36   406   334\n",
      "🕙매주 금요일 밤 8시~ 10시 ▪️풋살을 좋아하는 20~30대 신입 회원 모집 합니다🎵🎶▪️문의사항 DM 주세요‼️\n",
      "wiiiiiiisdom.aqua\n",
      "https://dumpor.com/v/wiiiiiiisdom.aqua/\n",
      "[13, 179, 114]\n",
      "13   179   114\n",
      "최지혜  :-)\n",
      "jong_won_kim0912\n",
      "https://dumpor.com/v/jong_won_kim0912/\n",
      "[18, 130, 137]\n",
      "18   130   137\n",
      "견우 평택UTD NO.8 U12 윤우 평택UTD 3학년 NO.15\n",
      "mirae_hng\n",
      "https://dumpor.com/v/mirae_hng/\n",
      "[362, 497, 361]\n",
      "362   497   361\n",
      "AZ MIRAE Branch '나는 성공하는중이다' 여의도 종합 금융서비스 우수인증 재무법인 재무분석팀( Team Financial Analysis ) '인력이아닌사람을채용합니다'\n",
      "littleblue_messi\n",
      "https://dumpor.com/v/littleblue_messi/\n",
      "[42, 191, 199]\n",
      "42   191   199\n",
      "⚽️ 블루베.리메시 풋살일기 ⚽️⚽️ 왕초보 풋린이 🧏‍♀️ 🔥🔥⚽️......My big soccer soulmate👉 @fut_lin2\n",
      "yeeelim_0.0\n",
      "https://dumpor.com/v/yeeelim_0.0/\n",
      "[42, 266, 402]\n",
      "42   266   402\n",
      "Bien\n",
      "tory_wfc\n",
      "https://dumpor.com/v/tory_wfc/\n",
      "[219, 185, 46]\n",
      "219   185   46\n",
      "⚽️ 신규 여자 초보 풋살/축구 동호회⚽️ 🔥친선경기 문의 환영 🔥⚽️ 문의 카톡👉🏻cm101⚽️ 서울 도봉구 도당로 13⚽️ since 2020.09.18\n",
      "\n"
     ]
    },
    {
     "data": {
      "text/html": [
       "<div>\n",
       "<style scoped>\n",
       "    .dataframe tbody tr th:only-of-type {\n",
       "        vertical-align: middle;\n",
       "    }\n",
       "\n",
       "    .dataframe tbody tr th {\n",
       "        vertical-align: top;\n",
       "    }\n",
       "\n",
       "    .dataframe thead th {\n",
       "        text-align: right;\n",
       "    }\n",
       "</style>\n",
       "<table border=\"1\" class=\"dataframe\">\n",
       "  <thead>\n",
       "    <tr style=\"text-align: right;\">\n",
       "      <th></th>\n",
       "      <th>follower_id</th>\n",
       "      <th>profile_img_url</th>\n",
       "      <th>f_biography</th>\n",
       "      <th>f_media_count</th>\n",
       "      <th>f_followed_by_count</th>\n",
       "      <th>f_follow_count</th>\n",
       "    </tr>\n",
       "  </thead>\n",
       "  <tbody>\n",
       "    <tr>\n",
       "      <th>0</th>\n",
       "      <td>dizm007</td>\n",
       "      <td>https://cdn2.dumpor.com/view?q=%3D%3DANtcjYjNW...</td>\n",
       "      <td></td>\n",
       "      <td>0</td>\n",
       "      <td>1</td>\n",
       "      <td>27</td>\n",
       "    </tr>\n",
       "    <tr>\n",
       "      <th>1</th>\n",
       "      <td>borckrene.parada</td>\n",
       "      <td>https://cdn3.dumpor.com/view?q=2YjYygjM9QWaz91...</td>\n",
       "      <td></td>\n",
       "      <td>1</td>\n",
       "      <td>150</td>\n",
       "      <td>1120</td>\n",
       "    </tr>\n",
       "    <tr>\n",
       "      <th>2</th>\n",
       "      <td>say_lovng_tme</td>\n",
       "      <td>https://cdn3.dumpor.com/view?q=%3D%3DgN2ImM4IT...</td>\n",
       "      <td>1991/9/19 💝🐶😜</td>\n",
       "      <td>121</td>\n",
       "      <td>1397</td>\n",
       "      <td>4774</td>\n",
       "    </tr>\n",
       "    <tr>\n",
       "      <th>3</th>\n",
       "      <td>yongpari_</td>\n",
       "      <td>https://cdn3.dumpor.com/view?q=2YjYygjM9QWaz91...</td>\n",
       "      <td>🇰🇷 ʟɪᴠᴇ ɪɴ #guangzhou 주재원’ ʟɪꜰᴇ(외노자)🇨🇳</td>\n",
       "      <td>259</td>\n",
       "      <td>987</td>\n",
       "      <td>2445</td>\n",
       "    </tr>\n",
       "    <tr>\n",
       "      <th>4</th>\n",
       "      <td>jookkani</td>\n",
       "      <td>https://cdn3.dumpor.com/view?q=%3D%3DgN2ImM4IT...</td>\n",
       "      <td>주깐</td>\n",
       "      <td>9</td>\n",
       "      <td>108</td>\n",
       "      <td>92</td>\n",
       "    </tr>\n",
       "    <tr>\n",
       "      <th>...</th>\n",
       "      <td>...</td>\n",
       "      <td>...</td>\n",
       "      <td>...</td>\n",
       "      <td>...</td>\n",
       "      <td>...</td>\n",
       "      <td>...</td>\n",
       "    </tr>\n",
       "    <tr>\n",
       "      <th>716</th>\n",
       "      <td>jong_won_kim0912</td>\n",
       "      <td>https://cdn3.dumpor.com/view?q=%3D%3DgN2ImM4IT...</td>\n",
       "      <td>견우 평택UTD NO.8 U12 윤우 평택UTD 3학년 NO.15</td>\n",
       "      <td>18</td>\n",
       "      <td>130</td>\n",
       "      <td>137</td>\n",
       "    </tr>\n",
       "    <tr>\n",
       "      <th>717</th>\n",
       "      <td>mirae_hng</td>\n",
       "      <td>https://cdn3.dumpor.com/view?q=2YjYygjM9QWaz91...</td>\n",
       "      <td>AZ MIRAE Branch '나는 성공하는중이다' 여의도 종합 금융서비스 우수인증...</td>\n",
       "      <td>362</td>\n",
       "      <td>497</td>\n",
       "      <td>361</td>\n",
       "    </tr>\n",
       "    <tr>\n",
       "      <th>718</th>\n",
       "      <td>littleblue_messi</td>\n",
       "      <td>https://cdn1.dumpor.com/view?q=%3DYjNiJDOy0DZp...</td>\n",
       "      <td>⚽️ 블루베.리메시 풋살일기 ⚽️⚽️ 왕초보 풋린이 🧏‍♀️ 🔥🔥⚽️......My...</td>\n",
       "      <td>42</td>\n",
       "      <td>191</td>\n",
       "      <td>199</td>\n",
       "    </tr>\n",
       "    <tr>\n",
       "      <th>719</th>\n",
       "      <td>yeeelim_0.0</td>\n",
       "      <td>https://cdn3.dumpor.com/view?q=%3D%3DgN2ImM4IT...</td>\n",
       "      <td>Bien</td>\n",
       "      <td>42</td>\n",
       "      <td>266</td>\n",
       "      <td>402</td>\n",
       "    </tr>\n",
       "    <tr>\n",
       "      <th>720</th>\n",
       "      <td>tory_wfc</td>\n",
       "      <td>https://cdn3.dumpor.com/view?q=%3D%3DgN2ImM4IT...</td>\n",
       "      <td>⚽️ 신규 여자 초보 풋살/축구 동호회⚽️ 🔥친선경기 문의 환영 🔥⚽️ 문의 카톡👉...</td>\n",
       "      <td>219</td>\n",
       "      <td>185</td>\n",
       "      <td>46</td>\n",
       "    </tr>\n",
       "  </tbody>\n",
       "</table>\n",
       "<p>721 rows × 6 columns</p>\n",
       "</div>"
      ],
      "text/plain": [
       "          follower_id                                    profile_img_url  \\\n",
       "0             dizm007  https://cdn2.dumpor.com/view?q=%3D%3DANtcjYjNW...   \n",
       "1    borckrene.parada  https://cdn3.dumpor.com/view?q=2YjYygjM9QWaz91...   \n",
       "2       say_lovng_tme  https://cdn3.dumpor.com/view?q=%3D%3DgN2ImM4IT...   \n",
       "3           yongpari_  https://cdn3.dumpor.com/view?q=2YjYygjM9QWaz91...   \n",
       "4            jookkani  https://cdn3.dumpor.com/view?q=%3D%3DgN2ImM4IT...   \n",
       "..                ...                                                ...   \n",
       "716  jong_won_kim0912  https://cdn3.dumpor.com/view?q=%3D%3DgN2ImM4IT...   \n",
       "717         mirae_hng  https://cdn3.dumpor.com/view?q=2YjYygjM9QWaz91...   \n",
       "718  littleblue_messi  https://cdn1.dumpor.com/view?q=%3DYjNiJDOy0DZp...   \n",
       "719       yeeelim_0.0  https://cdn3.dumpor.com/view?q=%3D%3DgN2ImM4IT...   \n",
       "720          tory_wfc  https://cdn3.dumpor.com/view?q=%3D%3DgN2ImM4IT...   \n",
       "\n",
       "                                           f_biography f_media_count  \\\n",
       "0                                                                  0   \n",
       "1                                                                  1   \n",
       "2                                        1991/9/19 💝🐶😜           121   \n",
       "3               🇰🇷 ʟɪᴠᴇ ɪɴ #guangzhou 주재원’ ʟɪꜰᴇ(외노자)🇨🇳           259   \n",
       "4                                                   주깐             9   \n",
       "..                                                 ...           ...   \n",
       "716               견우 평택UTD NO.8 U12 윤우 평택UTD 3학년 NO.15            18   \n",
       "717  AZ MIRAE Branch '나는 성공하는중이다' 여의도 종합 금융서비스 우수인증...           362   \n",
       "718  ⚽️ 블루베.리메시 풋살일기 ⚽️⚽️ 왕초보 풋린이 🧏‍♀️ 🔥🔥⚽️......My...            42   \n",
       "719                                               Bien            42   \n",
       "720  ⚽️ 신규 여자 초보 풋살/축구 동호회⚽️ 🔥친선경기 문의 환영 🔥⚽️ 문의 카톡👉...           219   \n",
       "\n",
       "    f_followed_by_count f_follow_count  \n",
       "0                     1             27  \n",
       "1                   150           1120  \n",
       "2                  1397           4774  \n",
       "3                   987           2445  \n",
       "4                   108             92  \n",
       "..                  ...            ...  \n",
       "716                 130            137  \n",
       "717                 497            361  \n",
       "718                 191            199  \n",
       "719                 266            402  \n",
       "720                 185             46  \n",
       "\n",
       "[721 rows x 6 columns]"
      ]
     },
     "execution_count": 231,
     "metadata": {},
     "output_type": "execute_result"
    }
   ],
   "source": [
    "f_biography = []\n",
    "f_media_count = []\n",
    "f_followed_by_count = []\n",
    "f_follow_count = []\n",
    "\n",
    "driver = webdriver.Chrome(executable_path=r'C:/Users/학생/Downloads/chromedriver_win32/chromedriver', chrome_options=options)\n",
    "#driver = webdriver.Chrome(executable_path= r'C:/Users/ourus/Python_KPC/Insta_Crawling/chromedriver_win32/chromedriver', chrome_options=options)\n",
    "for row in tqdm(df1.iloc[:,0]):\n",
    "#for row in tqdm(df1.iloc[185:,0]):\n",
    "    print(row)\n",
    "    temp_url = \"https://dumpor.com/v/{}/\".format(row)\n",
    "    print(temp_url)\n",
    "    driver.get(temp_url)\n",
    "#     source = driver.page_source\n",
    "#     soup = BeautifulSoup(source, 'html.parser')\n",
    "    \n",
    "    temp2_0 = get_Posts_Followers_Followings()\n",
    "    print(temp2_0)\n",
    "    print('-------------------------')\n",
    "     \n",
    "    temp2_1 = get_InfluId_Biography_ProfileUrl()\n",
    "    print(temp2_1[1])\n",
    "    \n",
    "    f_biography.append(temp2_1[1])\n",
    "    f_media_count.append(temp2_0[0])\n",
    "    f_followed_by_count.append(temp2_0[1])\n",
    "    f_follow_count.append(temp2_0[2])\n",
    "df1['f_biography'] = f_biography\n",
    "df1['f_media_count'] = f_media_count\n",
    "df1['f_followed_by_count'] = f_followed_by_count\n",
    "df1['f_follow_count'] = f_follow_count\n",
    "df1.to_csv('./{}/{}_followers.csv'.format(keyword,keyword), encoding='utf-8-sig')\n",
    "df1"
   ]
  },
  {
   "cell_type": "code",
   "execution_count": null,
   "id": "0eade36a",
   "metadata": {},
   "outputs": [],
   "source": []
  },
  {
   "cell_type": "code",
   "execution_count": 232,
   "id": "e7e14b3b",
   "metadata": {},
   "outputs": [],
   "source": [
    "driver.close()"
   ]
  },
  {
   "cell_type": "code",
   "execution_count": 16,
   "id": "79827a91",
   "metadata": {},
   "outputs": [
    {
     "name": "stderr",
     "output_type": "stream",
     "text": [
      "<ipython-input-16-e71efce85244>:2: DeprecationWarning: use options instead of chrome_options\n",
      "  driver = webdriver.Chrome(executable_path=r'C:/Users/학생/Downloads/chromedriver_win32/chromedriver', chrome_options=options)\n"
     ]
    },
    {
     "data": {
      "application/vnd.jupyter.widget-view+json": {
       "model_id": "dc9922a1826445d5abb6dff8e7e77ad8",
       "version_major": 2,
       "version_minor": 0
      },
      "text/plain": [
       "  0%|          | 0/668 [00:00<?, ?it/s]"
      ]
     },
     "metadata": {},
     "output_type": "display_data"
    },
    {
     "name": "stdout",
     "output_type": "stream",
     "text": [
      "수집된 url수:668\n"
     ]
    }
   ],
   "source": [
    "#driver = webdriver.Chrome(executable_path= r'C:/Users/ourus/Python_KPC/Insta_Crawling/chromedriver_win32/chromedriver', chrome_options=options)\n",
    "driver = webdriver.Chrome(executable_path=r'C:/Users/학생/Downloads/chromedriver_win32/chromedriver', chrome_options=options)\n",
    "driver.get(url) \n",
    "temp3 = get_post_url(temp[0])"
   ]
  },
  {
   "cell_type": "code",
   "execution_count": 21,
   "id": "d1f78666",
   "metadata": {},
   "outputs": [
    {
     "data": {
      "text/html": [
       "<div>\n",
       "<style scoped>\n",
       "    .dataframe tbody tr th:only-of-type {\n",
       "        vertical-align: middle;\n",
       "    }\n",
       "\n",
       "    .dataframe tbody tr th {\n",
       "        vertical-align: top;\n",
       "    }\n",
       "\n",
       "    .dataframe thead th {\n",
       "        text-align: right;\n",
       "    }\n",
       "</style>\n",
       "<table border=\"1\" class=\"dataframe\">\n",
       "  <thead>\n",
       "    <tr style=\"text-align: right;\">\n",
       "      <th></th>\n",
       "      <th>url</th>\n",
       "    </tr>\n",
       "  </thead>\n",
       "  <tbody>\n",
       "    <tr>\n",
       "      <th>0</th>\n",
       "      <td>/c/9773669645852929661</td>\n",
       "    </tr>\n",
       "    <tr>\n",
       "      <th>1</th>\n",
       "      <td>/c/6336282447139006831</td>\n",
       "    </tr>\n",
       "    <tr>\n",
       "      <th>2</th>\n",
       "      <td>/c/8464676982229353721</td>\n",
       "    </tr>\n",
       "    <tr>\n",
       "      <th>3</th>\n",
       "      <td>/c/1358205463673238931</td>\n",
       "    </tr>\n",
       "    <tr>\n",
       "      <th>4</th>\n",
       "      <td>/c/2341347826658309471</td>\n",
       "    </tr>\n",
       "    <tr>\n",
       "      <th>...</th>\n",
       "      <td>...</td>\n",
       "    </tr>\n",
       "    <tr>\n",
       "      <th>663</th>\n",
       "      <td>/c/8317514848745220841</td>\n",
       "    </tr>\n",
       "    <tr>\n",
       "      <th>664</th>\n",
       "      <td>/c/5124558692342706451</td>\n",
       "    </tr>\n",
       "    <tr>\n",
       "      <th>665</th>\n",
       "      <td>/c/9877304214009839171</td>\n",
       "    </tr>\n",
       "    <tr>\n",
       "      <th>666</th>\n",
       "      <td>/c/1521924596542121121</td>\n",
       "    </tr>\n",
       "    <tr>\n",
       "      <th>667</th>\n",
       "      <td>/c/8631404819169619571</td>\n",
       "    </tr>\n",
       "  </tbody>\n",
       "</table>\n",
       "<p>668 rows × 1 columns</p>\n",
       "</div>"
      ],
      "text/plain": [
       "                        url\n",
       "0    /c/9773669645852929661\n",
       "1    /c/6336282447139006831\n",
       "2    /c/8464676982229353721\n",
       "3    /c/1358205463673238931\n",
       "4    /c/2341347826658309471\n",
       "..                      ...\n",
       "663  /c/8317514848745220841\n",
       "664  /c/5124558692342706451\n",
       "665  /c/9877304214009839171\n",
       "666  /c/1521924596542121121\n",
       "667  /c/8631404819169619571\n",
       "\n",
       "[668 rows x 1 columns]"
      ]
     },
     "execution_count": 21,
     "metadata": {},
     "output_type": "execute_result"
    }
   ],
   "source": [
    "url_ = {'url': temp3 }\n",
    "df2 = pd.DataFrame(url_)\n",
    "df2.to_csv('./{}/{}_게시글url.csv'.format(keyword,keyword), encoding='utf-8-sig')\n",
    "df2"
   ]
  },
  {
   "cell_type": "code",
   "execution_count": 31,
   "id": "d83b60cb",
   "metadata": {},
   "outputs": [],
   "source": [
    "driver.close()"
   ]
  },
  {
   "cell_type": "code",
   "execution_count": 278,
   "id": "4f84ab55",
   "metadata": {},
   "outputs": [],
   "source": []
  },
  {
   "cell_type": "code",
   "execution_count": 32,
   "id": "aceabaa2",
   "metadata": {
    "scrolled": true
   },
   "outputs": [
    {
     "name": "stderr",
     "output_type": "stream",
     "text": [
      "<ipython-input-32-2555ec0560e3>:13: DeprecationWarning: use options instead of chrome_options\n",
      "  driver = webdriver.Chrome(executable_path= r'C:/Users/학생/Downloads/chromedriver_win32/chromedriver', chrome_options=options)\n"
     ]
    },
    {
     "name": "stdout",
     "output_type": "stream",
     "text": [
      "\n"
     ]
    },
    {
     "data": {
      "application/vnd.jupyter.widget-view+json": {
       "model_id": "86f56678a8544d54a96ee15d7ac5e218",
       "version_major": 2,
       "version_minor": 0
      },
      "text/plain": [
       "0it [00:00, ?it/s]"
      ]
     },
     "metadata": {},
     "output_type": "display_data"
    },
    {
     "name": "stdout",
     "output_type": "stream",
     "text": [
      "좋아요,댓글,날짜,다운로드 4\n"
     ]
    },
    {
     "data": {
      "application/vnd.jupyter.widget-view+json": {
       "model_id": "fc7d0676112c43cc87bc1dbe315d3cb6",
       "version_major": 2,
       "version_minor": 0
      },
      "text/plain": [
       "  0%|          | 0/5 [00:00<?, ?it/s]"
      ]
     },
     "metadata": {},
     "output_type": "display_data"
    },
    {
     "name": "stdout",
     "output_type": "stream",
     "text": [
      "수집한 댓글 수 :  1\n",
      "수집한 댓글 수 :  5\n",
      "수집한 댓글 수 :  5\n",
      "수집한 댓글 수 :  5\n",
      "수집한 댓글 수 :  5\n",
      "좋아요,댓글,날짜,다운로드 4\n"
     ]
    },
    {
     "data": {
      "application/vnd.jupyter.widget-view+json": {
       "model_id": "d7955262fcae495281131c8767a28ba3",
       "version_major": 2,
       "version_minor": 0
      },
      "text/plain": [
       "  0%|          | 0/5 [00:00<?, ?it/s]"
      ]
     },
     "metadata": {},
     "output_type": "display_data"
    },
    {
     "name": "stdout",
     "output_type": "stream",
     "text": [
      "수집한 댓글 수 :  5\n",
      "수집한 댓글 수 :  5\n",
      "수집한 댓글 수 :  5\n",
      "수집한 댓글 수 :  5\n",
      "수집한 댓글 수 :  5\n",
      "좋아요,댓글,날짜,다운로드 4\n"
     ]
    },
    {
     "data": {
      "application/vnd.jupyter.widget-view+json": {
       "model_id": "96b4ceec1e604217b8f10af0ead9d962",
       "version_major": 2,
       "version_minor": 0
      },
      "text/plain": [
       "0it [00:00, ?it/s]"
      ]
     },
     "metadata": {},
     "output_type": "display_data"
    },
    {
     "name": "stdout",
     "output_type": "stream",
     "text": [
      "수집한 댓글 수 :  0\n",
      "좋아요,댓글,날짜,다운로드 4\n"
     ]
    },
    {
     "data": {
      "application/vnd.jupyter.widget-view+json": {
       "model_id": "0aa61085e81444709be41d4b8414443f",
       "version_major": 2,
       "version_minor": 0
      },
      "text/plain": [
       "0it [00:00, ?it/s]"
      ]
     },
     "metadata": {},
     "output_type": "display_data"
    },
    {
     "name": "stdout",
     "output_type": "stream",
     "text": [
      "수집한 댓글 수 :  0\n",
      "좋아요,댓글,날짜,다운로드 4\n"
     ]
    },
    {
     "data": {
      "application/vnd.jupyter.widget-view+json": {
       "model_id": "fb0df68697a74d7fa1f147ad0facada3",
       "version_major": 2,
       "version_minor": 0
      },
      "text/plain": [
       "0it [00:00, ?it/s]"
      ]
     },
     "metadata": {},
     "output_type": "display_data"
    },
    {
     "name": "stdout",
     "output_type": "stream",
     "text": [
      "수집한 댓글 수 :  0\n",
      "좋아요,댓글,날짜,다운로드 4\n"
     ]
    },
    {
     "data": {
      "application/vnd.jupyter.widget-view+json": {
       "model_id": "4b8e120c6d7e4bb89b21e7c22d4f9a8b",
       "version_major": 2,
       "version_minor": 0
      },
      "text/plain": [
       "0it [00:00, ?it/s]"
      ]
     },
     "metadata": {},
     "output_type": "display_data"
    },
    {
     "name": "stdout",
     "output_type": "stream",
     "text": [
      "수집한 댓글 수 :  0\n",
      "좋아요,댓글,날짜,다운로드 4\n"
     ]
    },
    {
     "data": {
      "application/vnd.jupyter.widget-view+json": {
       "model_id": "a1dd378168964db5898f00a9d11a020d",
       "version_major": 2,
       "version_minor": 0
      },
      "text/plain": [
       "  0%|          | 0/2 [00:00<?, ?it/s]"
      ]
     },
     "metadata": {},
     "output_type": "display_data"
    },
    {
     "name": "stdout",
     "output_type": "stream",
     "text": [
      "수집한 댓글 수 :  1\n",
      "수집한 댓글 수 :  1\n",
      "좋아요,댓글,날짜,다운로드 4\n"
     ]
    },
    {
     "data": {
      "application/vnd.jupyter.widget-view+json": {
       "model_id": "c19b827b57484448bbd245a7ee00cd5a",
       "version_major": 2,
       "version_minor": 0
      },
      "text/plain": [
       "0it [00:00, ?it/s]"
      ]
     },
     "metadata": {},
     "output_type": "display_data"
    },
    {
     "name": "stdout",
     "output_type": "stream",
     "text": [
      "수집한 댓글 수 :  0\n",
      "좋아요,댓글,날짜,다운로드 4\n"
     ]
    },
    {
     "data": {
      "application/vnd.jupyter.widget-view+json": {
       "model_id": "5c4f9df8413b4182949377c8dcd21b69",
       "version_major": 2,
       "version_minor": 0
      },
      "text/plain": [
       "  0%|          | 0/1 [00:00<?, ?it/s]"
      ]
     },
     "metadata": {},
     "output_type": "display_data"
    },
    {
     "name": "stdout",
     "output_type": "stream",
     "text": [
      "수집한 댓글 수 :  1\n",
      "좋아요,댓글,날짜,다운로드 4\n"
     ]
    },
    {
     "data": {
      "application/vnd.jupyter.widget-view+json": {
       "model_id": "3abf1163570e4269a988d190ccf71218",
       "version_major": 2,
       "version_minor": 0
      },
      "text/plain": [
       "0it [00:00, ?it/s]"
      ]
     },
     "metadata": {},
     "output_type": "display_data"
    },
    {
     "name": "stdout",
     "output_type": "stream",
     "text": [
      "수집한 댓글 수 :  0\n",
      "좋아요,댓글,날짜,다운로드 4\n"
     ]
    },
    {
     "data": {
      "application/vnd.jupyter.widget-view+json": {
       "model_id": "b6641c3aa23c4816b8fa50a4d8711c43",
       "version_major": 2,
       "version_minor": 0
      },
      "text/plain": [
       "  0%|          | 0/4 [00:00<?, ?it/s]"
      ]
     },
     "metadata": {},
     "output_type": "display_data"
    },
    {
     "name": "stdout",
     "output_type": "stream",
     "text": [
      "수집한 댓글 수 :  4\n",
      "수집한 댓글 수 :  4\n",
      "수집한 댓글 수 :  4\n",
      "수집한 댓글 수 :  4\n",
      "좋아요,댓글,날짜,다운로드 4\n"
     ]
    },
    {
     "data": {
      "application/vnd.jupyter.widget-view+json": {
       "model_id": "4452ef5d4b4343f6aab7ddcf040b1cd2",
       "version_major": 2,
       "version_minor": 0
      },
      "text/plain": [
       "0it [00:00, ?it/s]"
      ]
     },
     "metadata": {},
     "output_type": "display_data"
    },
    {
     "name": "stdout",
     "output_type": "stream",
     "text": [
      "수집한 댓글 수 :  0\n",
      "좋아요,댓글,날짜,다운로드 4\n"
     ]
    },
    {
     "data": {
      "application/vnd.jupyter.widget-view+json": {
       "model_id": "7dcc4617dfa647efbb4a1cff918fc251",
       "version_major": 2,
       "version_minor": 0
      },
      "text/plain": [
       "0it [00:00, ?it/s]"
      ]
     },
     "metadata": {},
     "output_type": "display_data"
    },
    {
     "name": "stdout",
     "output_type": "stream",
     "text": [
      "수집한 댓글 수 :  0\n",
      "좋아요,댓글,날짜,다운로드 4\n"
     ]
    },
    {
     "data": {
      "application/vnd.jupyter.widget-view+json": {
       "model_id": "4c85b7e12c884f729f62b0fd9ee50225",
       "version_major": 2,
       "version_minor": 0
      },
      "text/plain": [
       "  0%|          | 0/2 [00:00<?, ?it/s]"
      ]
     },
     "metadata": {},
     "output_type": "display_data"
    },
    {
     "name": "stdout",
     "output_type": "stream",
     "text": [
      "수집한 댓글 수 :  1\n",
      "수집한 댓글 수 :  1\n",
      "좋아요,댓글,날짜,다운로드 4\n"
     ]
    },
    {
     "data": {
      "application/vnd.jupyter.widget-view+json": {
       "model_id": "8829dcdeb5684f9cb92b26a14975a2c4",
       "version_major": 2,
       "version_minor": 0
      },
      "text/plain": [
       "  0%|          | 0/1 [00:00<?, ?it/s]"
      ]
     },
     "metadata": {},
     "output_type": "display_data"
    },
    {
     "name": "stdout",
     "output_type": "stream",
     "text": [
      "수집한 댓글 수 :  1\n",
      "좋아요,댓글,날짜,다운로드 4\n"
     ]
    },
    {
     "data": {
      "application/vnd.jupyter.widget-view+json": {
       "model_id": "59224ce09b514b3584d7765da7f9e5e7",
       "version_major": 2,
       "version_minor": 0
      },
      "text/plain": [
       "  0%|          | 0/5 [00:00<?, ?it/s]"
      ]
     },
     "metadata": {},
     "output_type": "display_data"
    },
    {
     "name": "stdout",
     "output_type": "stream",
     "text": [
      "수집한 댓글 수 :  5\n",
      "수집한 댓글 수 :  5\n",
      "수집한 댓글 수 :  5\n",
      "수집한 댓글 수 :  5\n",
      "수집한 댓글 수 :  5\n",
      "좋아요,댓글,날짜,다운로드 4\n"
     ]
    },
    {
     "data": {
      "application/vnd.jupyter.widget-view+json": {
       "model_id": "cf0b3e7c0ac54b439fb8564465f672e3",
       "version_major": 2,
       "version_minor": 0
      },
      "text/plain": [
       "  0%|          | 0/1 [00:00<?, ?it/s]"
      ]
     },
     "metadata": {},
     "output_type": "display_data"
    },
    {
     "name": "stdout",
     "output_type": "stream",
     "text": [
      "수집한 댓글 수 :  1\n",
      "좋아요,댓글,날짜,다운로드 4\n"
     ]
    },
    {
     "data": {
      "application/vnd.jupyter.widget-view+json": {
       "model_id": "49ce4f267bda47d2bc400aac8f6ac8c9",
       "version_major": 2,
       "version_minor": 0
      },
      "text/plain": [
       "  0%|          | 0/2 [00:00<?, ?it/s]"
      ]
     },
     "metadata": {},
     "output_type": "display_data"
    },
    {
     "name": "stdout",
     "output_type": "stream",
     "text": [
      "수집한 댓글 수 :  2\n",
      "수집한 댓글 수 :  2\n",
      "좋아요,댓글,날짜,다운로드 4\n"
     ]
    },
    {
     "data": {
      "application/vnd.jupyter.widget-view+json": {
       "model_id": "7d3675c9ad3e4c029bef46ce9ebeec15",
       "version_major": 2,
       "version_minor": 0
      },
      "text/plain": [
       "  0%|          | 0/1 [00:00<?, ?it/s]"
      ]
     },
     "metadata": {},
     "output_type": "display_data"
    },
    {
     "name": "stdout",
     "output_type": "stream",
     "text": [
      "수집한 댓글 수 :  1\n",
      "좋아요,댓글,날짜,다운로드 4\n"
     ]
    },
    {
     "data": {
      "application/vnd.jupyter.widget-view+json": {
       "model_id": "cbfbca652c194f8f9bba4fa9fc32650d",
       "version_major": 2,
       "version_minor": 0
      },
      "text/plain": [
       "0it [00:00, ?it/s]"
      ]
     },
     "metadata": {},
     "output_type": "display_data"
    },
    {
     "name": "stdout",
     "output_type": "stream",
     "text": [
      "수집한 댓글 수 :  0\n",
      "좋아요,댓글,날짜,다운로드 4\n"
     ]
    },
    {
     "data": {
      "application/vnd.jupyter.widget-view+json": {
       "model_id": "d85c11815873468c90bfb5f200262e56",
       "version_major": 2,
       "version_minor": 0
      },
      "text/plain": [
       "  0%|          | 0/4 [00:00<?, ?it/s]"
      ]
     },
     "metadata": {},
     "output_type": "display_data"
    },
    {
     "name": "stdout",
     "output_type": "stream",
     "text": [
      "수집한 댓글 수 :  1\n",
      "수집한 댓글 수 :  4\n",
      "수집한 댓글 수 :  4\n",
      "수집한 댓글 수 :  4\n",
      "좋아요,댓글,날짜,다운로드 4\n"
     ]
    },
    {
     "data": {
      "application/vnd.jupyter.widget-view+json": {
       "model_id": "9d2b233aa7ba4cc0913d11c800474004",
       "version_major": 2,
       "version_minor": 0
      },
      "text/plain": [
       "0it [00:00, ?it/s]"
      ]
     },
     "metadata": {},
     "output_type": "display_data"
    },
    {
     "name": "stdout",
     "output_type": "stream",
     "text": [
      "수집한 댓글 수 :  0\n",
      "좋아요,댓글,날짜,다운로드 4\n"
     ]
    },
    {
     "data": {
      "application/vnd.jupyter.widget-view+json": {
       "model_id": "c5ed87e34b7549308a448090cb3f7e5e",
       "version_major": 2,
       "version_minor": 0
      },
      "text/plain": [
       "  0%|          | 0/5 [00:00<?, ?it/s]"
      ]
     },
     "metadata": {},
     "output_type": "display_data"
    },
    {
     "name": "stdout",
     "output_type": "stream",
     "text": [
      "수집한 댓글 수 :  1\n",
      "수집한 댓글 수 :  5\n",
      "수집한 댓글 수 :  5\n",
      "수집한 댓글 수 :  5\n",
      "수집한 댓글 수 :  5\n",
      "좋아요,댓글,날짜,다운로드 4\n"
     ]
    },
    {
     "data": {
      "application/vnd.jupyter.widget-view+json": {
       "model_id": "1f1142d938a24903b14d3c95d7944e1e",
       "version_major": 2,
       "version_minor": 0
      },
      "text/plain": [
       "  0%|          | 0/1 [00:00<?, ?it/s]"
      ]
     },
     "metadata": {},
     "output_type": "display_data"
    },
    {
     "name": "stdout",
     "output_type": "stream",
     "text": [
      "수집한 댓글 수 :  1\n",
      "좋아요,댓글,날짜,다운로드 4\n"
     ]
    },
    {
     "data": {
      "application/vnd.jupyter.widget-view+json": {
       "model_id": "293383a4bd5148be9505e0e79879ba1e",
       "version_major": 2,
       "version_minor": 0
      },
      "text/plain": [
       "  0%|          | 0/2 [00:00<?, ?it/s]"
      ]
     },
     "metadata": {},
     "output_type": "display_data"
    },
    {
     "name": "stdout",
     "output_type": "stream",
     "text": [
      "수집한 댓글 수 :  2\n",
      "수집한 댓글 수 :  2\n",
      "좋아요,댓글,날짜,다운로드 4\n"
     ]
    },
    {
     "data": {
      "application/vnd.jupyter.widget-view+json": {
       "model_id": "66559e40e4b849d18745891fad7d1ffa",
       "version_major": 2,
       "version_minor": 0
      },
      "text/plain": [
       "0it [00:00, ?it/s]"
      ]
     },
     "metadata": {},
     "output_type": "display_data"
    },
    {
     "name": "stdout",
     "output_type": "stream",
     "text": [
      "수집한 댓글 수 :  0\n",
      "좋아요,댓글,날짜,다운로드 4\n"
     ]
    },
    {
     "data": {
      "application/vnd.jupyter.widget-view+json": {
       "model_id": "b0f3c3d291dc486b85b3b3378738456d",
       "version_major": 2,
       "version_minor": 0
      },
      "text/plain": [
       "  0%|          | 0/1 [00:00<?, ?it/s]"
      ]
     },
     "metadata": {},
     "output_type": "display_data"
    },
    {
     "name": "stdout",
     "output_type": "stream",
     "text": [
      "수집한 댓글 수 :  1\n",
      "좋아요,댓글,날짜,다운로드 4\n"
     ]
    },
    {
     "data": {
      "application/vnd.jupyter.widget-view+json": {
       "model_id": "a3e488c8bf834d95b5718783b518bda1",
       "version_major": 2,
       "version_minor": 0
      },
      "text/plain": [
       "  0%|          | 0/1 [00:00<?, ?it/s]"
      ]
     },
     "metadata": {},
     "output_type": "display_data"
    },
    {
     "name": "stdout",
     "output_type": "stream",
     "text": [
      "수집한 댓글 수 :  1\n",
      "좋아요,댓글,날짜,다운로드 4\n"
     ]
    },
    {
     "data": {
      "application/vnd.jupyter.widget-view+json": {
       "model_id": "d8466b226d84457a920a8e6c75429237",
       "version_major": 2,
       "version_minor": 0
      },
      "text/plain": [
       "  0%|          | 0/4 [00:00<?, ?it/s]"
      ]
     },
     "metadata": {},
     "output_type": "display_data"
    },
    {
     "name": "stdout",
     "output_type": "stream",
     "text": [
      "수집한 댓글 수 :  1\n",
      "수집한 댓글 수 :  4\n",
      "수집한 댓글 수 :  4\n",
      "수집한 댓글 수 :  4\n",
      "좋아요,댓글,날짜,다운로드 4\n"
     ]
    },
    {
     "data": {
      "application/vnd.jupyter.widget-view+json": {
       "model_id": "a09d5ab625484dcc88d3e5eb0c1b0743",
       "version_major": 2,
       "version_minor": 0
      },
      "text/plain": [
       "  0%|          | 0/1 [00:00<?, ?it/s]"
      ]
     },
     "metadata": {},
     "output_type": "display_data"
    },
    {
     "name": "stdout",
     "output_type": "stream",
     "text": [
      "수집한 댓글 수 :  1\n",
      "좋아요,댓글,날짜,다운로드 4\n"
     ]
    },
    {
     "data": {
      "application/vnd.jupyter.widget-view+json": {
       "model_id": "d204a27aed1e4255b0a0eca2da547354",
       "version_major": 2,
       "version_minor": 0
      },
      "text/plain": [
       "0it [00:00, ?it/s]"
      ]
     },
     "metadata": {},
     "output_type": "display_data"
    },
    {
     "name": "stdout",
     "output_type": "stream",
     "text": [
      "수집한 댓글 수 :  0\n",
      "좋아요,댓글,날짜,다운로드 4\n"
     ]
    },
    {
     "data": {
      "application/vnd.jupyter.widget-view+json": {
       "model_id": "069616337d294e78bb75d178f509b90c",
       "version_major": 2,
       "version_minor": 0
      },
      "text/plain": [
       "  0%|          | 0/4 [00:00<?, ?it/s]"
      ]
     },
     "metadata": {},
     "output_type": "display_data"
    },
    {
     "name": "stdout",
     "output_type": "stream",
     "text": [
      "수집한 댓글 수 :  1\n",
      "수집한 댓글 수 :  4\n",
      "수집한 댓글 수 :  4\n",
      "수집한 댓글 수 :  4\n",
      "좋아요,댓글,날짜,다운로드 4\n"
     ]
    },
    {
     "data": {
      "application/vnd.jupyter.widget-view+json": {
       "model_id": "7c5c79adc71246908e51a60d6cec03d1",
       "version_major": 2,
       "version_minor": 0
      },
      "text/plain": [
       "  0%|          | 0/9 [00:00<?, ?it/s]"
      ]
     },
     "metadata": {},
     "output_type": "display_data"
    },
    {
     "name": "stdout",
     "output_type": "stream",
     "text": [
      "수집한 댓글 수 :  1\n",
      "수집한 댓글 수 :  8\n",
      "수집한 댓글 수 :  8\n",
      "수집한 댓글 수 :  8\n",
      "수집한 댓글 수 :  8\n",
      "수집한 댓글 수 :  8\n",
      "수집한 댓글 수 :  8\n",
      "수집한 댓글 수 :  8\n",
      "수집한 댓글 수 :  8\n",
      "좋아요,댓글,날짜,다운로드 4\n"
     ]
    },
    {
     "data": {
      "application/vnd.jupyter.widget-view+json": {
       "model_id": "7a6f22ea35324d5287c4635e6362e429",
       "version_major": 2,
       "version_minor": 0
      },
      "text/plain": [
       "  0%|          | 0/9 [00:00<?, ?it/s]"
      ]
     },
     "metadata": {},
     "output_type": "display_data"
    },
    {
     "name": "stdout",
     "output_type": "stream",
     "text": [
      "수집한 댓글 수 :  1\n",
      "수집한 댓글 수 :  1\n",
      "수집한 댓글 수 :  1\n",
      "수집한 댓글 수 :  1\n",
      "수집한 댓글 수 :  1\n",
      "수집한 댓글 수 :  1\n",
      "수집한 댓글 수 :  1\n",
      "수집한 댓글 수 :  9\n",
      "수집한 댓글 수 :  9\n",
      "좋아요,댓글,날짜,다운로드 4\n"
     ]
    },
    {
     "data": {
      "application/vnd.jupyter.widget-view+json": {
       "model_id": "32aee598ac464238b1ec7228de6197a1",
       "version_major": 2,
       "version_minor": 0
      },
      "text/plain": [
       "  0%|          | 0/1 [00:00<?, ?it/s]"
      ]
     },
     "metadata": {},
     "output_type": "display_data"
    },
    {
     "name": "stdout",
     "output_type": "stream",
     "text": [
      "수집한 댓글 수 :  1\n",
      "좋아요,댓글,날짜,다운로드 4\n"
     ]
    },
    {
     "data": {
      "application/vnd.jupyter.widget-view+json": {
       "model_id": "8ffecd975cf647849477cd9e104745df",
       "version_major": 2,
       "version_minor": 0
      },
      "text/plain": [
       "0it [00:00, ?it/s]"
      ]
     },
     "metadata": {},
     "output_type": "display_data"
    },
    {
     "name": "stdout",
     "output_type": "stream",
     "text": [
      "수집한 댓글 수 :  0\n",
      "좋아요,댓글,날짜,다운로드 4\n"
     ]
    },
    {
     "data": {
      "application/vnd.jupyter.widget-view+json": {
       "model_id": "19bd1214ec2f4d8daee0830355998089",
       "version_major": 2,
       "version_minor": 0
      },
      "text/plain": [
       "  0%|          | 0/4 [00:00<?, ?it/s]"
      ]
     },
     "metadata": {},
     "output_type": "display_data"
    },
    {
     "name": "stdout",
     "output_type": "stream",
     "text": [
      "수집한 댓글 수 :  4\n",
      "수집한 댓글 수 :  4\n",
      "수집한 댓글 수 :  4\n",
      "수집한 댓글 수 :  4\n",
      "좋아요,댓글,날짜,다운로드 4\n"
     ]
    },
    {
     "data": {
      "application/vnd.jupyter.widget-view+json": {
       "model_id": "be8a38e3ea89400796e5b0df260511fe",
       "version_major": 2,
       "version_minor": 0
      },
      "text/plain": [
       "  0%|          | 0/5 [00:00<?, ?it/s]"
      ]
     },
     "metadata": {},
     "output_type": "display_data"
    },
    {
     "name": "stdout",
     "output_type": "stream",
     "text": [
      "수집한 댓글 수 :  1\n",
      "수집한 댓글 수 :  1\n",
      "수집한 댓글 수 :  1\n",
      "수집한 댓글 수 :  1\n",
      "수집한 댓글 수 :  5\n",
      "좋아요,댓글,날짜,다운로드 4\n"
     ]
    },
    {
     "data": {
      "application/vnd.jupyter.widget-view+json": {
       "model_id": "a7b3dd3fb4a94f0aa766cac51fc3c270",
       "version_major": 2,
       "version_minor": 0
      },
      "text/plain": [
       "  0%|          | 0/3 [00:00<?, ?it/s]"
      ]
     },
     "metadata": {},
     "output_type": "display_data"
    },
    {
     "name": "stdout",
     "output_type": "stream",
     "text": [
      "수집한 댓글 수 :  1\n",
      "수집한 댓글 수 :  1\n",
      "수집한 댓글 수 :  1\n",
      "좋아요,댓글,날짜,다운로드 4\n"
     ]
    },
    {
     "data": {
      "application/vnd.jupyter.widget-view+json": {
       "model_id": "a66fc72a2c8948b595db0336aedb8759",
       "version_major": 2,
       "version_minor": 0
      },
      "text/plain": [
       "0it [00:00, ?it/s]"
      ]
     },
     "metadata": {},
     "output_type": "display_data"
    },
    {
     "name": "stdout",
     "output_type": "stream",
     "text": [
      "수집한 댓글 수 :  0\n",
      "좋아요,댓글,날짜,다운로드 4\n"
     ]
    },
    {
     "data": {
      "application/vnd.jupyter.widget-view+json": {
       "model_id": "dbeac8a9404f480b8fef33a5d3bca557",
       "version_major": 2,
       "version_minor": 0
      },
      "text/plain": [
       "  0%|          | 0/1 [00:00<?, ?it/s]"
      ]
     },
     "metadata": {},
     "output_type": "display_data"
    },
    {
     "name": "stdout",
     "output_type": "stream",
     "text": [
      "수집한 댓글 수 :  1\n",
      "좋아요,댓글,날짜,다운로드 4\n"
     ]
    },
    {
     "data": {
      "application/vnd.jupyter.widget-view+json": {
       "model_id": "11d160a21eaf434eba7aa8263e401076",
       "version_major": 2,
       "version_minor": 0
      },
      "text/plain": [
       "  0%|          | 0/2 [00:00<?, ?it/s]"
      ]
     },
     "metadata": {},
     "output_type": "display_data"
    },
    {
     "name": "stdout",
     "output_type": "stream",
     "text": [
      "수집한 댓글 수 :  1\n",
      "수집한 댓글 수 :  2\n",
      "좋아요,댓글,날짜,다운로드 4\n"
     ]
    },
    {
     "data": {
      "application/vnd.jupyter.widget-view+json": {
       "model_id": "196a0d5616174069a743ea72361f29ee",
       "version_major": 2,
       "version_minor": 0
      },
      "text/plain": [
       "  0%|          | 0/5 [00:00<?, ?it/s]"
      ]
     },
     "metadata": {},
     "output_type": "display_data"
    },
    {
     "name": "stdout",
     "output_type": "stream",
     "text": [
      "수집한 댓글 수 :  1\n",
      "수집한 댓글 수 :  5\n",
      "수집한 댓글 수 :  5\n",
      "수집한 댓글 수 :  5\n",
      "수집한 댓글 수 :  5\n",
      "좋아요,댓글,날짜,다운로드 4\n"
     ]
    },
    {
     "data": {
      "application/vnd.jupyter.widget-view+json": {
       "model_id": "7a4f16219fdb413e90e79dbc48ce23a3",
       "version_major": 2,
       "version_minor": 0
      },
      "text/plain": [
       "  0%|          | 0/2 [00:00<?, ?it/s]"
      ]
     },
     "metadata": {},
     "output_type": "display_data"
    },
    {
     "name": "stdout",
     "output_type": "stream",
     "text": [
      "수집한 댓글 수 :  1\n",
      "수집한 댓글 수 :  1\n",
      "좋아요,댓글,날짜,다운로드 4\n"
     ]
    },
    {
     "data": {
      "application/vnd.jupyter.widget-view+json": {
       "model_id": "2529dc8e91cb4771909b6a8b2497f4d5",
       "version_major": 2,
       "version_minor": 0
      },
      "text/plain": [
       "  0%|          | 0/3 [00:00<?, ?it/s]"
      ]
     },
     "metadata": {},
     "output_type": "display_data"
    },
    {
     "name": "stdout",
     "output_type": "stream",
     "text": [
      "수집한 댓글 수 :  3\n",
      "수집한 댓글 수 :  3\n",
      "수집한 댓글 수 :  3\n",
      "좋아요,댓글,날짜,다운로드 4\n"
     ]
    },
    {
     "data": {
      "application/vnd.jupyter.widget-view+json": {
       "model_id": "ba912d9965b945e88f18b52a8687a74e",
       "version_major": 2,
       "version_minor": 0
      },
      "text/plain": [
       "0it [00:00, ?it/s]"
      ]
     },
     "metadata": {},
     "output_type": "display_data"
    },
    {
     "name": "stdout",
     "output_type": "stream",
     "text": [
      "수집한 댓글 수 :  0\n",
      "좋아요,댓글,날짜,다운로드 4\n"
     ]
    },
    {
     "data": {
      "application/vnd.jupyter.widget-view+json": {
       "model_id": "51fbd25e12be4e4388208f55a7d17109",
       "version_major": 2,
       "version_minor": 0
      },
      "text/plain": [
       "  0%|          | 0/2 [00:00<?, ?it/s]"
      ]
     },
     "metadata": {},
     "output_type": "display_data"
    },
    {
     "name": "stdout",
     "output_type": "stream",
     "text": [
      "수집한 댓글 수 :  2\n",
      "수집한 댓글 수 :  2\n",
      "좋아요,댓글,날짜,다운로드 4\n"
     ]
    },
    {
     "data": {
      "application/vnd.jupyter.widget-view+json": {
       "model_id": "71474fe075d44451b25a5d158d6d3a66",
       "version_major": 2,
       "version_minor": 0
      },
      "text/plain": [
       "  0%|          | 0/3 [00:00<?, ?it/s]"
      ]
     },
     "metadata": {},
     "output_type": "display_data"
    },
    {
     "name": "stdout",
     "output_type": "stream",
     "text": [
      "수집한 댓글 수 :  3\n",
      "수집한 댓글 수 :  3\n",
      "수집한 댓글 수 :  3\n",
      "좋아요,댓글,날짜,다운로드 4\n"
     ]
    },
    {
     "data": {
      "application/vnd.jupyter.widget-view+json": {
       "model_id": "e8dee8584b0748eba4a838df5fc9244b",
       "version_major": 2,
       "version_minor": 0
      },
      "text/plain": [
       "  0%|          | 0/3 [00:00<?, ?it/s]"
      ]
     },
     "metadata": {},
     "output_type": "display_data"
    },
    {
     "name": "stdout",
     "output_type": "stream",
     "text": [
      "수집한 댓글 수 :  1\n",
      "수집한 댓글 수 :  1\n",
      "수집한 댓글 수 :  1\n",
      "좋아요,댓글,날짜,다운로드 4\n"
     ]
    },
    {
     "data": {
      "application/vnd.jupyter.widget-view+json": {
       "model_id": "ce9170f7c18b4005bff290d9ef59a88c",
       "version_major": 2,
       "version_minor": 0
      },
      "text/plain": [
       "  0%|          | 0/1 [00:00<?, ?it/s]"
      ]
     },
     "metadata": {},
     "output_type": "display_data"
    },
    {
     "name": "stdout",
     "output_type": "stream",
     "text": [
      "수집한 댓글 수 :  1\n",
      "좋아요,댓글,날짜,다운로드 4\n"
     ]
    },
    {
     "data": {
      "application/vnd.jupyter.widget-view+json": {
       "model_id": "ae8b8ef9afb841649735595e71627243",
       "version_major": 2,
       "version_minor": 0
      },
      "text/plain": [
       "  0%|          | 0/2 [00:00<?, ?it/s]"
      ]
     },
     "metadata": {},
     "output_type": "display_data"
    },
    {
     "name": "stdout",
     "output_type": "stream",
     "text": [
      "수집한 댓글 수 :  2\n",
      "수집한 댓글 수 :  2\n",
      "좋아요,댓글,날짜,다운로드 4\n"
     ]
    },
    {
     "data": {
      "application/vnd.jupyter.widget-view+json": {
       "model_id": "21e370e7d90145eebabd3fc8763d2b21",
       "version_major": 2,
       "version_minor": 0
      },
      "text/plain": [
       "  0%|          | 0/4 [00:00<?, ?it/s]"
      ]
     },
     "metadata": {},
     "output_type": "display_data"
    },
    {
     "name": "stdout",
     "output_type": "stream",
     "text": [
      "수집한 댓글 수 :  1\n",
      "수집한 댓글 수 :  4\n",
      "수집한 댓글 수 :  4\n",
      "수집한 댓글 수 :  4\n",
      "좋아요,댓글,날짜,다운로드 4\n"
     ]
    },
    {
     "data": {
      "application/vnd.jupyter.widget-view+json": {
       "model_id": "9500fd997c784ea9bb79cc3e7da51876",
       "version_major": 2,
       "version_minor": 0
      },
      "text/plain": [
       "  0%|          | 0/2 [00:00<?, ?it/s]"
      ]
     },
     "metadata": {},
     "output_type": "display_data"
    },
    {
     "name": "stdout",
     "output_type": "stream",
     "text": [
      "수집한 댓글 수 :  2\n",
      "수집한 댓글 수 :  2\n",
      "좋아요,댓글,날짜,다운로드 4\n"
     ]
    },
    {
     "data": {
      "application/vnd.jupyter.widget-view+json": {
       "model_id": "abf114c5321d443aa217e17f9c51cf62",
       "version_major": 2,
       "version_minor": 0
      },
      "text/plain": [
       "  0%|          | 0/2 [00:00<?, ?it/s]"
      ]
     },
     "metadata": {},
     "output_type": "display_data"
    },
    {
     "name": "stdout",
     "output_type": "stream",
     "text": [
      "수집한 댓글 수 :  1\n",
      "수집한 댓글 수 :  1\n",
      "좋아요,댓글,날짜,다운로드 4\n"
     ]
    },
    {
     "data": {
      "application/vnd.jupyter.widget-view+json": {
       "model_id": "756c37ff817b4f0cb07b1a188f9f8477",
       "version_major": 2,
       "version_minor": 0
      },
      "text/plain": [
       "  0%|          | 0/3 [00:00<?, ?it/s]"
      ]
     },
     "metadata": {},
     "output_type": "display_data"
    },
    {
     "name": "stdout",
     "output_type": "stream",
     "text": [
      "수집한 댓글 수 :  1\n",
      "수집한 댓글 수 :  3\n",
      "수집한 댓글 수 :  3\n",
      "좋아요,댓글,날짜,다운로드 4\n"
     ]
    },
    {
     "data": {
      "application/vnd.jupyter.widget-view+json": {
       "model_id": "d9a8d1ba4b144bccbc830e4a73917790",
       "version_major": 2,
       "version_minor": 0
      },
      "text/plain": [
       "0it [00:00, ?it/s]"
      ]
     },
     "metadata": {},
     "output_type": "display_data"
    },
    {
     "name": "stdout",
     "output_type": "stream",
     "text": [
      "수집한 댓글 수 :  0\n",
      "좋아요,댓글,날짜,다운로드 4\n"
     ]
    },
    {
     "data": {
      "application/vnd.jupyter.widget-view+json": {
       "model_id": "afecd8ab7d78472f827ecd449b4f5e1a",
       "version_major": 2,
       "version_minor": 0
      },
      "text/plain": [
       "  0%|          | 0/3 [00:00<?, ?it/s]"
      ]
     },
     "metadata": {},
     "output_type": "display_data"
    },
    {
     "name": "stdout",
     "output_type": "stream",
     "text": [
      "수집한 댓글 수 :  1\n",
      "수집한 댓글 수 :  3\n",
      "수집한 댓글 수 :  3\n",
      "좋아요,댓글,날짜,다운로드 4\n"
     ]
    },
    {
     "data": {
      "application/vnd.jupyter.widget-view+json": {
       "model_id": "50039dbf9fe248518f02f5ac7117236f",
       "version_major": 2,
       "version_minor": 0
      },
      "text/plain": [
       "  0%|          | 0/1 [00:00<?, ?it/s]"
      ]
     },
     "metadata": {},
     "output_type": "display_data"
    },
    {
     "name": "stdout",
     "output_type": "stream",
     "text": [
      "수집한 댓글 수 :  1\n",
      "좋아요,댓글,날짜,다운로드 4\n"
     ]
    },
    {
     "data": {
      "application/vnd.jupyter.widget-view+json": {
       "model_id": "3e12b10789604b819db2ba88f36947c8",
       "version_major": 2,
       "version_minor": 0
      },
      "text/plain": [
       "  0%|          | 0/1 [00:00<?, ?it/s]"
      ]
     },
     "metadata": {},
     "output_type": "display_data"
    },
    {
     "name": "stdout",
     "output_type": "stream",
     "text": [
      "수집한 댓글 수 :  1\n",
      "좋아요,댓글,날짜,다운로드 4\n"
     ]
    },
    {
     "data": {
      "application/vnd.jupyter.widget-view+json": {
       "model_id": "1dc48b8de9e243e59ac524974ce84747",
       "version_major": 2,
       "version_minor": 0
      },
      "text/plain": [
       "  0%|          | 0/5 [00:00<?, ?it/s]"
      ]
     },
     "metadata": {},
     "output_type": "display_data"
    },
    {
     "name": "stdout",
     "output_type": "stream",
     "text": [
      "수집한 댓글 수 :  1\n",
      "수집한 댓글 수 :  1\n",
      "수집한 댓글 수 :  1\n",
      "수집한 댓글 수 :  1\n",
      "수집한 댓글 수 :  1\n",
      "좋아요,댓글,날짜,다운로드 4\n"
     ]
    },
    {
     "data": {
      "application/vnd.jupyter.widget-view+json": {
       "model_id": "81ee3538c9fe42f2aa7eb2f3e33b66e5",
       "version_major": 2,
       "version_minor": 0
      },
      "text/plain": [
       "  0%|          | 0/1 [00:00<?, ?it/s]"
      ]
     },
     "metadata": {},
     "output_type": "display_data"
    },
    {
     "name": "stdout",
     "output_type": "stream",
     "text": [
      "수집한 댓글 수 :  1\n",
      "좋아요,댓글,날짜,다운로드 4\n"
     ]
    },
    {
     "data": {
      "application/vnd.jupyter.widget-view+json": {
       "model_id": "2824da11bf864f7b89f7f9a1a9662fcb",
       "version_major": 2,
       "version_minor": 0
      },
      "text/plain": [
       "0it [00:00, ?it/s]"
      ]
     },
     "metadata": {},
     "output_type": "display_data"
    },
    {
     "name": "stdout",
     "output_type": "stream",
     "text": [
      "수집한 댓글 수 :  0\n",
      "좋아요,댓글,날짜,다운로드 4\n"
     ]
    },
    {
     "data": {
      "application/vnd.jupyter.widget-view+json": {
       "model_id": "583040a7d1804dd6b2108e29564939e2",
       "version_major": 2,
       "version_minor": 0
      },
      "text/plain": [
       "0it [00:00, ?it/s]"
      ]
     },
     "metadata": {},
     "output_type": "display_data"
    },
    {
     "name": "stdout",
     "output_type": "stream",
     "text": [
      "수집한 댓글 수 :  0\n",
      "좋아요,댓글,날짜,다운로드 4\n"
     ]
    },
    {
     "data": {
      "application/vnd.jupyter.widget-view+json": {
       "model_id": "184861243b0747e49db7e6c5c91f33af",
       "version_major": 2,
       "version_minor": 0
      },
      "text/plain": [
       "0it [00:00, ?it/s]"
      ]
     },
     "metadata": {},
     "output_type": "display_data"
    },
    {
     "name": "stdout",
     "output_type": "stream",
     "text": [
      "수집한 댓글 수 :  0\n",
      "좋아요,댓글,날짜,다운로드 4\n"
     ]
    },
    {
     "data": {
      "application/vnd.jupyter.widget-view+json": {
       "model_id": "1d284dc70ce74de7a0fe5ad4b9a42680",
       "version_major": 2,
       "version_minor": 0
      },
      "text/plain": [
       "  0%|          | 0/3 [00:00<?, ?it/s]"
      ]
     },
     "metadata": {},
     "output_type": "display_data"
    },
    {
     "name": "stdout",
     "output_type": "stream",
     "text": [
      "수집한 댓글 수 :  1\n",
      "수집한 댓글 수 :  3\n",
      "수집한 댓글 수 :  3\n",
      "좋아요,댓글,날짜,다운로드 4\n"
     ]
    },
    {
     "data": {
      "application/vnd.jupyter.widget-view+json": {
       "model_id": "8360ba81c0e74984bc62c508318752b9",
       "version_major": 2,
       "version_minor": 0
      },
      "text/plain": [
       "  0%|          | 0/3 [00:00<?, ?it/s]"
      ]
     },
     "metadata": {},
     "output_type": "display_data"
    },
    {
     "name": "stdout",
     "output_type": "stream",
     "text": [
      "수집한 댓글 수 :  1\n",
      "수집한 댓글 수 :  2\n",
      "수집한 댓글 수 :  2\n",
      "좋아요,댓글,날짜,다운로드 4\n"
     ]
    },
    {
     "data": {
      "application/vnd.jupyter.widget-view+json": {
       "model_id": "bd213addafc14dae97f484d3d6df7c7f",
       "version_major": 2,
       "version_minor": 0
      },
      "text/plain": [
       "  0%|          | 0/2 [00:00<?, ?it/s]"
      ]
     },
     "metadata": {},
     "output_type": "display_data"
    },
    {
     "name": "stdout",
     "output_type": "stream",
     "text": [
      "수집한 댓글 수 :  2\n",
      "수집한 댓글 수 :  2\n",
      "좋아요,댓글,날짜,다운로드 4\n"
     ]
    },
    {
     "data": {
      "application/vnd.jupyter.widget-view+json": {
       "model_id": "a64706c918df420f9537c17a77a70907",
       "version_major": 2,
       "version_minor": 0
      },
      "text/plain": [
       "  0%|          | 0/1 [00:00<?, ?it/s]"
      ]
     },
     "metadata": {},
     "output_type": "display_data"
    },
    {
     "name": "stdout",
     "output_type": "stream",
     "text": [
      "수집한 댓글 수 :  1\n",
      "좋아요,댓글,날짜,다운로드 4\n"
     ]
    },
    {
     "data": {
      "application/vnd.jupyter.widget-view+json": {
       "model_id": "8b5a32dc860b4cf4b140b8ba1cce5db6",
       "version_major": 2,
       "version_minor": 0
      },
      "text/plain": [
       "  0%|          | 0/3 [00:00<?, ?it/s]"
      ]
     },
     "metadata": {},
     "output_type": "display_data"
    },
    {
     "name": "stdout",
     "output_type": "stream",
     "text": [
      "수집한 댓글 수 :  1\n",
      "수집한 댓글 수 :  1\n",
      "수집한 댓글 수 :  1\n",
      "좋아요,댓글,날짜,다운로드 4\n"
     ]
    },
    {
     "data": {
      "application/vnd.jupyter.widget-view+json": {
       "model_id": "e59d36d8aa804281bf7d2d6923c11c0c",
       "version_major": 2,
       "version_minor": 0
      },
      "text/plain": [
       "  0%|          | 0/2 [00:00<?, ?it/s]"
      ]
     },
     "metadata": {},
     "output_type": "display_data"
    },
    {
     "name": "stdout",
     "output_type": "stream",
     "text": [
      "수집한 댓글 수 :  1\n",
      "수집한 댓글 수 :  1\n",
      "좋아요,댓글,날짜,다운로드 4\n"
     ]
    },
    {
     "data": {
      "application/vnd.jupyter.widget-view+json": {
       "model_id": "918a89894f414450ac01b2e918c42aeb",
       "version_major": 2,
       "version_minor": 0
      },
      "text/plain": [
       "0it [00:00, ?it/s]"
      ]
     },
     "metadata": {},
     "output_type": "display_data"
    },
    {
     "name": "stdout",
     "output_type": "stream",
     "text": [
      "수집한 댓글 수 :  0\n",
      "좋아요,댓글,날짜,다운로드 4\n"
     ]
    },
    {
     "data": {
      "application/vnd.jupyter.widget-view+json": {
       "model_id": "382d9a467a4c4edfaa75b7f424ac4163",
       "version_major": 2,
       "version_minor": 0
      },
      "text/plain": [
       "  0%|          | 0/1 [00:00<?, ?it/s]"
      ]
     },
     "metadata": {},
     "output_type": "display_data"
    },
    {
     "name": "stdout",
     "output_type": "stream",
     "text": [
      "수집한 댓글 수 :  1\n",
      "좋아요,댓글,날짜,다운로드 4\n"
     ]
    },
    {
     "data": {
      "application/vnd.jupyter.widget-view+json": {
       "model_id": "b86fffcbe7e94b42ac7b8e48e4988f72",
       "version_major": 2,
       "version_minor": 0
      },
      "text/plain": [
       "  0%|          | 0/7 [00:00<?, ?it/s]"
      ]
     },
     "metadata": {},
     "output_type": "display_data"
    },
    {
     "name": "stdout",
     "output_type": "stream",
     "text": [
      "수집한 댓글 수 :  1\n",
      "수집한 댓글 수 :  1\n",
      "수집한 댓글 수 :  1\n",
      "수집한 댓글 수 :  1\n",
      "수집한 댓글 수 :  1\n",
      "수집한 댓글 수 :  7\n",
      "수집한 댓글 수 :  7\n",
      "좋아요,댓글,날짜,다운로드 4\n"
     ]
    },
    {
     "data": {
      "application/vnd.jupyter.widget-view+json": {
       "model_id": "32b13b08b3b449e68db0a4a76bfe16a2",
       "version_major": 2,
       "version_minor": 0
      },
      "text/plain": [
       "  0%|          | 0/3 [00:00<?, ?it/s]"
      ]
     },
     "metadata": {},
     "output_type": "display_data"
    },
    {
     "name": "stdout",
     "output_type": "stream",
     "text": [
      "수집한 댓글 수 :  1\n",
      "수집한 댓글 수 :  3\n",
      "수집한 댓글 수 :  3\n",
      "좋아요,댓글,날짜,다운로드 4\n"
     ]
    },
    {
     "data": {
      "application/vnd.jupyter.widget-view+json": {
       "model_id": "9ed90f1ec7ea4b44a3a48892498db047",
       "version_major": 2,
       "version_minor": 0
      },
      "text/plain": [
       "  0%|          | 0/1 [00:00<?, ?it/s]"
      ]
     },
     "metadata": {},
     "output_type": "display_data"
    },
    {
     "name": "stdout",
     "output_type": "stream",
     "text": [
      "수집한 댓글 수 :  1\n",
      "좋아요,댓글,날짜,다운로드 4\n"
     ]
    },
    {
     "data": {
      "application/vnd.jupyter.widget-view+json": {
       "model_id": "28208487c7974cf198913c686d2da986",
       "version_major": 2,
       "version_minor": 0
      },
      "text/plain": [
       "  0%|          | 0/2 [00:00<?, ?it/s]"
      ]
     },
     "metadata": {},
     "output_type": "display_data"
    },
    {
     "name": "stdout",
     "output_type": "stream",
     "text": [
      "수집한 댓글 수 :  1\n",
      "수집한 댓글 수 :  2\n",
      "좋아요,댓글,날짜,다운로드 4\n"
     ]
    },
    {
     "data": {
      "application/vnd.jupyter.widget-view+json": {
       "model_id": "562c45669f4b40bd8172c6dce2fd2fa8",
       "version_major": 2,
       "version_minor": 0
      },
      "text/plain": [
       "  0%|          | 0/7 [00:00<?, ?it/s]"
      ]
     },
     "metadata": {},
     "output_type": "display_data"
    },
    {
     "name": "stdout",
     "output_type": "stream",
     "text": [
      "수집한 댓글 수 :  1\n",
      "수집한 댓글 수 :  7\n",
      "수집한 댓글 수 :  7\n",
      "수집한 댓글 수 :  7\n",
      "수집한 댓글 수 :  7\n",
      "수집한 댓글 수 :  7\n",
      "수집한 댓글 수 :  7\n",
      "좋아요,댓글,날짜,다운로드 4\n"
     ]
    },
    {
     "data": {
      "application/vnd.jupyter.widget-view+json": {
       "model_id": "6c5920cded0946a5924caced6c167b6e",
       "version_major": 2,
       "version_minor": 0
      },
      "text/plain": [
       "  0%|          | 0/4 [00:00<?, ?it/s]"
      ]
     },
     "metadata": {},
     "output_type": "display_data"
    },
    {
     "name": "stdout",
     "output_type": "stream",
     "text": [
      "수집한 댓글 수 :  4\n",
      "수집한 댓글 수 :  4\n",
      "수집한 댓글 수 :  4\n",
      "수집한 댓글 수 :  4\n",
      "좋아요,댓글,날짜,다운로드 4\n"
     ]
    },
    {
     "data": {
      "application/vnd.jupyter.widget-view+json": {
       "model_id": "7d46305173d54bc2b24e7815e7a580ce",
       "version_major": 2,
       "version_minor": 0
      },
      "text/plain": [
       "  0%|          | 0/2 [00:00<?, ?it/s]"
      ]
     },
     "metadata": {},
     "output_type": "display_data"
    },
    {
     "name": "stdout",
     "output_type": "stream",
     "text": [
      "수집한 댓글 수 :  1\n",
      "수집한 댓글 수 :  2\n",
      "좋아요,댓글,날짜,다운로드 4\n"
     ]
    },
    {
     "data": {
      "application/vnd.jupyter.widget-view+json": {
       "model_id": "112dbe62f1554670bed8e563d320d6d7",
       "version_major": 2,
       "version_minor": 0
      },
      "text/plain": [
       "  0%|          | 0/4 [00:00<?, ?it/s]"
      ]
     },
     "metadata": {},
     "output_type": "display_data"
    },
    {
     "name": "stdout",
     "output_type": "stream",
     "text": [
      "수집한 댓글 수 :  1\n",
      "수집한 댓글 수 :  4\n",
      "수집한 댓글 수 :  4\n",
      "수집한 댓글 수 :  4\n",
      "좋아요,댓글,날짜,다운로드 4\n"
     ]
    },
    {
     "data": {
      "application/vnd.jupyter.widget-view+json": {
       "model_id": "5d39b92745ec4e58ba25c7b8d645525f",
       "version_major": 2,
       "version_minor": 0
      },
      "text/plain": [
       "0it [00:00, ?it/s]"
      ]
     },
     "metadata": {},
     "output_type": "display_data"
    },
    {
     "name": "stdout",
     "output_type": "stream",
     "text": [
      "수집한 댓글 수 :  0\n",
      "좋아요,댓글,날짜,다운로드 4\n"
     ]
    },
    {
     "data": {
      "application/vnd.jupyter.widget-view+json": {
       "model_id": "272597013be74e8f87773aab056bfc90",
       "version_major": 2,
       "version_minor": 0
      },
      "text/plain": [
       "0it [00:00, ?it/s]"
      ]
     },
     "metadata": {},
     "output_type": "display_data"
    },
    {
     "name": "stdout",
     "output_type": "stream",
     "text": [
      "수집한 댓글 수 :  0\n",
      "좋아요,댓글,날짜,다운로드 4\n"
     ]
    },
    {
     "data": {
      "application/vnd.jupyter.widget-view+json": {
       "model_id": "ecfb5d0b78954fd1b2f57ca70008e141",
       "version_major": 2,
       "version_minor": 0
      },
      "text/plain": [
       "0it [00:00, ?it/s]"
      ]
     },
     "metadata": {},
     "output_type": "display_data"
    },
    {
     "name": "stdout",
     "output_type": "stream",
     "text": [
      "수집한 댓글 수 :  0\n",
      "좋아요,댓글,날짜,다운로드 4\n"
     ]
    },
    {
     "data": {
      "application/vnd.jupyter.widget-view+json": {
       "model_id": "0474b38b91da4e9ba1ab37603246fb34",
       "version_major": 2,
       "version_minor": 0
      },
      "text/plain": [
       "  0%|          | 0/1 [00:00<?, ?it/s]"
      ]
     },
     "metadata": {},
     "output_type": "display_data"
    },
    {
     "name": "stdout",
     "output_type": "stream",
     "text": [
      "수집한 댓글 수 :  1\n",
      "좋아요,댓글,날짜,다운로드 4\n"
     ]
    },
    {
     "data": {
      "application/vnd.jupyter.widget-view+json": {
       "model_id": "a4c24b3e77d04069883c47356745137f",
       "version_major": 2,
       "version_minor": 0
      },
      "text/plain": [
       "  0%|          | 0/4 [00:00<?, ?it/s]"
      ]
     },
     "metadata": {},
     "output_type": "display_data"
    },
    {
     "name": "stdout",
     "output_type": "stream",
     "text": [
      "수집한 댓글 수 :  1\n",
      "수집한 댓글 수 :  1\n",
      "수집한 댓글 수 :  4\n",
      "수집한 댓글 수 :  4\n",
      "좋아요,댓글,날짜,다운로드 4\n"
     ]
    },
    {
     "data": {
      "application/vnd.jupyter.widget-view+json": {
       "model_id": "0b0da3f6d4484c1381a7fba56985b378",
       "version_major": 2,
       "version_minor": 0
      },
      "text/plain": [
       "0it [00:00, ?it/s]"
      ]
     },
     "metadata": {},
     "output_type": "display_data"
    },
    {
     "name": "stdout",
     "output_type": "stream",
     "text": [
      "수집한 댓글 수 :  0\n",
      "좋아요,댓글,날짜,다운로드 4\n"
     ]
    },
    {
     "data": {
      "application/vnd.jupyter.widget-view+json": {
       "model_id": "ae7399b5b5b544e2aa6f56e8831ebae0",
       "version_major": 2,
       "version_minor": 0
      },
      "text/plain": [
       "0it [00:00, ?it/s]"
      ]
     },
     "metadata": {},
     "output_type": "display_data"
    },
    {
     "name": "stdout",
     "output_type": "stream",
     "text": [
      "수집한 댓글 수 :  0\n",
      "좋아요,댓글,날짜,다운로드 4\n"
     ]
    },
    {
     "data": {
      "application/vnd.jupyter.widget-view+json": {
       "model_id": "825886ec1a964c2ab29f40e32e9b1e72",
       "version_major": 2,
       "version_minor": 0
      },
      "text/plain": [
       "  0%|          | 0/5 [00:00<?, ?it/s]"
      ]
     },
     "metadata": {},
     "output_type": "display_data"
    },
    {
     "name": "stdout",
     "output_type": "stream",
     "text": [
      "수집한 댓글 수 :  1\n",
      "수집한 댓글 수 :  5\n",
      "수집한 댓글 수 :  5\n",
      "수집한 댓글 수 :  5\n",
      "수집한 댓글 수 :  5\n",
      "좋아요,댓글,날짜,다운로드 4\n"
     ]
    },
    {
     "data": {
      "application/vnd.jupyter.widget-view+json": {
       "model_id": "3f3e0c0a217741bdb8b2b1c9af24de96",
       "version_major": 2,
       "version_minor": 0
      },
      "text/plain": [
       "  0%|          | 0/3 [00:00<?, ?it/s]"
      ]
     },
     "metadata": {},
     "output_type": "display_data"
    },
    {
     "name": "stdout",
     "output_type": "stream",
     "text": [
      "수집한 댓글 수 :  3\n",
      "수집한 댓글 수 :  3\n",
      "수집한 댓글 수 :  3\n",
      "좋아요,댓글,날짜,다운로드 4\n"
     ]
    },
    {
     "data": {
      "application/vnd.jupyter.widget-view+json": {
       "model_id": "ce62a60dc0d1497792344a5ac7937ff8",
       "version_major": 2,
       "version_minor": 0
      },
      "text/plain": [
       "  0%|          | 0/1 [00:00<?, ?it/s]"
      ]
     },
     "metadata": {},
     "output_type": "display_data"
    },
    {
     "name": "stdout",
     "output_type": "stream",
     "text": [
      "수집한 댓글 수 :  1\n",
      "좋아요,댓글,날짜,다운로드 4\n"
     ]
    },
    {
     "data": {
      "application/vnd.jupyter.widget-view+json": {
       "model_id": "13e8294c4a6549c483bbe1ffbb864f5d",
       "version_major": 2,
       "version_minor": 0
      },
      "text/plain": [
       "  0%|          | 0/6 [00:00<?, ?it/s]"
      ]
     },
     "metadata": {},
     "output_type": "display_data"
    },
    {
     "name": "stdout",
     "output_type": "stream",
     "text": [
      "수집한 댓글 수 :  1\n",
      "수집한 댓글 수 :  1\n",
      "수집한 댓글 수 :  1\n",
      "수집한 댓글 수 :  1\n",
      "수집한 댓글 수 :  1\n",
      "수집한 댓글 수 :  1\n",
      "좋아요,댓글,날짜,다운로드 4\n"
     ]
    },
    {
     "data": {
      "application/vnd.jupyter.widget-view+json": {
       "model_id": "eb5dffa0a8384db0b414115722a6da7d",
       "version_major": 2,
       "version_minor": 0
      },
      "text/plain": [
       "  0%|          | 0/1 [00:00<?, ?it/s]"
      ]
     },
     "metadata": {},
     "output_type": "display_data"
    },
    {
     "name": "stdout",
     "output_type": "stream",
     "text": [
      "수집한 댓글 수 :  1\n",
      "좋아요,댓글,날짜,다운로드 4\n"
     ]
    },
    {
     "data": {
      "application/vnd.jupyter.widget-view+json": {
       "model_id": "6ef7bfe52894454691ddc490b952b2b5",
       "version_major": 2,
       "version_minor": 0
      },
      "text/plain": [
       "0it [00:00, ?it/s]"
      ]
     },
     "metadata": {},
     "output_type": "display_data"
    },
    {
     "name": "stdout",
     "output_type": "stream",
     "text": [
      "수집한 댓글 수 :  0\n",
      "좋아요,댓글,날짜,다운로드 4\n"
     ]
    },
    {
     "data": {
      "application/vnd.jupyter.widget-view+json": {
       "model_id": "80a11913145a4e0985ea91518d648502",
       "version_major": 2,
       "version_minor": 0
      },
      "text/plain": [
       "  0%|          | 0/3 [00:00<?, ?it/s]"
      ]
     },
     "metadata": {},
     "output_type": "display_data"
    },
    {
     "name": "stdout",
     "output_type": "stream",
     "text": [
      "수집한 댓글 수 :  3\n",
      "수집한 댓글 수 :  3\n",
      "수집한 댓글 수 :  3\n",
      "좋아요,댓글,날짜,다운로드 4\n"
     ]
    },
    {
     "data": {
      "application/vnd.jupyter.widget-view+json": {
       "model_id": "f27c231a71b7403d9ef1213edc7b4823",
       "version_major": 2,
       "version_minor": 0
      },
      "text/plain": [
       "  0%|          | 0/2 [00:00<?, ?it/s]"
      ]
     },
     "metadata": {},
     "output_type": "display_data"
    },
    {
     "name": "stdout",
     "output_type": "stream",
     "text": [
      "수집한 댓글 수 :  1\n",
      "수집한 댓글 수 :  2\n",
      "좋아요,댓글,날짜,다운로드 4\n"
     ]
    },
    {
     "data": {
      "application/vnd.jupyter.widget-view+json": {
       "model_id": "d8062ed67cd1488f97d515b7a043c8e7",
       "version_major": 2,
       "version_minor": 0
      },
      "text/plain": [
       "0it [00:00, ?it/s]"
      ]
     },
     "metadata": {},
     "output_type": "display_data"
    },
    {
     "name": "stdout",
     "output_type": "stream",
     "text": [
      "수집한 댓글 수 :  0\n",
      "좋아요,댓글,날짜,다운로드 4\n"
     ]
    },
    {
     "data": {
      "application/vnd.jupyter.widget-view+json": {
       "model_id": "adcd2c9a5cc04bb38aa4a87e87a38655",
       "version_major": 2,
       "version_minor": 0
      },
      "text/plain": [
       "  0%|          | 0/1 [00:00<?, ?it/s]"
      ]
     },
     "metadata": {},
     "output_type": "display_data"
    },
    {
     "name": "stdout",
     "output_type": "stream",
     "text": [
      "수집한 댓글 수 :  1\n",
      "좋아요,댓글,날짜,다운로드 4\n"
     ]
    },
    {
     "data": {
      "application/vnd.jupyter.widget-view+json": {
       "model_id": "2ca63ba95fc841e090b22b5a97b5fd67",
       "version_major": 2,
       "version_minor": 0
      },
      "text/plain": [
       "  0%|          | 0/2 [00:00<?, ?it/s]"
      ]
     },
     "metadata": {},
     "output_type": "display_data"
    },
    {
     "name": "stdout",
     "output_type": "stream",
     "text": [
      "수집한 댓글 수 :  1\n",
      "수집한 댓글 수 :  2\n",
      "좋아요,댓글,날짜,다운로드 4\n"
     ]
    },
    {
     "data": {
      "application/vnd.jupyter.widget-view+json": {
       "model_id": "1a1766eceb5c46159bcfdac2103d0e79",
       "version_major": 2,
       "version_minor": 0
      },
      "text/plain": [
       "  0%|          | 0/2 [00:00<?, ?it/s]"
      ]
     },
     "metadata": {},
     "output_type": "display_data"
    },
    {
     "name": "stdout",
     "output_type": "stream",
     "text": [
      "수집한 댓글 수 :  1\n",
      "수집한 댓글 수 :  1\n",
      "좋아요,댓글,날짜,다운로드 4\n"
     ]
    },
    {
     "data": {
      "application/vnd.jupyter.widget-view+json": {
       "model_id": "2d06267e522541d3b26fba7d16921fec",
       "version_major": 2,
       "version_minor": 0
      },
      "text/plain": [
       "0it [00:00, ?it/s]"
      ]
     },
     "metadata": {},
     "output_type": "display_data"
    },
    {
     "name": "stdout",
     "output_type": "stream",
     "text": [
      "수집한 댓글 수 :  0\n",
      "좋아요,댓글,날짜,다운로드 4\n"
     ]
    },
    {
     "data": {
      "application/vnd.jupyter.widget-view+json": {
       "model_id": "17b8dcfc7aa74fad9bdd06ab5d1e8cea",
       "version_major": 2,
       "version_minor": 0
      },
      "text/plain": [
       "0it [00:00, ?it/s]"
      ]
     },
     "metadata": {},
     "output_type": "display_data"
    },
    {
     "name": "stdout",
     "output_type": "stream",
     "text": [
      "수집한 댓글 수 :  0\n",
      "좋아요,댓글,날짜,다운로드 4\n"
     ]
    },
    {
     "data": {
      "application/vnd.jupyter.widget-view+json": {
       "model_id": "e4f104d4a5794a57937ad09276c76407",
       "version_major": 2,
       "version_minor": 0
      },
      "text/plain": [
       "  0%|          | 0/3 [00:00<?, ?it/s]"
      ]
     },
     "metadata": {},
     "output_type": "display_data"
    },
    {
     "name": "stdout",
     "output_type": "stream",
     "text": [
      "수집한 댓글 수 :  3\n",
      "수집한 댓글 수 :  3\n",
      "수집한 댓글 수 :  3\n",
      "좋아요,댓글,날짜,다운로드 4\n"
     ]
    },
    {
     "data": {
      "application/vnd.jupyter.widget-view+json": {
       "model_id": "b8cad3c527e24667804bcdfef2ec7818",
       "version_major": 2,
       "version_minor": 0
      },
      "text/plain": [
       "  0%|          | 0/8 [00:00<?, ?it/s]"
      ]
     },
     "metadata": {},
     "output_type": "display_data"
    },
    {
     "name": "stdout",
     "output_type": "stream",
     "text": [
      "수집한 댓글 수 :  1\n",
      "수집한 댓글 수 :  1\n",
      "수집한 댓글 수 :  8\n",
      "수집한 댓글 수 :  8\n",
      "수집한 댓글 수 :  8\n",
      "수집한 댓글 수 :  8\n",
      "수집한 댓글 수 :  8\n",
      "수집한 댓글 수 :  8\n",
      "좋아요,댓글,날짜,다운로드 4\n"
     ]
    },
    {
     "data": {
      "application/vnd.jupyter.widget-view+json": {
       "model_id": "007ce52c4b384523a9312b7ee1c5cc18",
       "version_major": 2,
       "version_minor": 0
      },
      "text/plain": [
       "  0%|          | 0/3 [00:00<?, ?it/s]"
      ]
     },
     "metadata": {},
     "output_type": "display_data"
    },
    {
     "name": "stdout",
     "output_type": "stream",
     "text": [
      "수집한 댓글 수 :  1\n",
      "수집한 댓글 수 :  1\n",
      "수집한 댓글 수 :  1\n",
      "좋아요,댓글,날짜,다운로드 4\n"
     ]
    },
    {
     "data": {
      "application/vnd.jupyter.widget-view+json": {
       "model_id": "5578e783c4c74ca28fbeab4ceb6710fe",
       "version_major": 2,
       "version_minor": 0
      },
      "text/plain": [
       "  0%|          | 0/9 [00:00<?, ?it/s]"
      ]
     },
     "metadata": {},
     "output_type": "display_data"
    },
    {
     "name": "stdout",
     "output_type": "stream",
     "text": [
      "수집한 댓글 수 :  1\n",
      "수집한 댓글 수 :  1\n",
      "수집한 댓글 수 :  1\n",
      "수집한 댓글 수 :  1\n",
      "수집한 댓글 수 :  9\n",
      "수집한 댓글 수 :  9\n",
      "수집한 댓글 수 :  9\n",
      "수집한 댓글 수 :  9\n",
      "수집한 댓글 수 :  9\n",
      "좋아요,댓글,날짜,다운로드 4\n"
     ]
    },
    {
     "data": {
      "application/vnd.jupyter.widget-view+json": {
       "model_id": "f4d0636d9e844feeb8a224baba0c3d32",
       "version_major": 2,
       "version_minor": 0
      },
      "text/plain": [
       "  0%|          | 0/5 [00:00<?, ?it/s]"
      ]
     },
     "metadata": {},
     "output_type": "display_data"
    },
    {
     "name": "stdout",
     "output_type": "stream",
     "text": [
      "수집한 댓글 수 :  5\n",
      "수집한 댓글 수 :  5\n",
      "수집한 댓글 수 :  5\n",
      "수집한 댓글 수 :  5\n",
      "수집한 댓글 수 :  5\n",
      "좋아요,댓글,날짜,다운로드 4\n"
     ]
    },
    {
     "data": {
      "application/vnd.jupyter.widget-view+json": {
       "model_id": "27ad5e9f69384ee0ae8269aac457cd05",
       "version_major": 2,
       "version_minor": 0
      },
      "text/plain": [
       "0it [00:00, ?it/s]"
      ]
     },
     "metadata": {},
     "output_type": "display_data"
    },
    {
     "name": "stdout",
     "output_type": "stream",
     "text": [
      "수집한 댓글 수 :  0\n",
      "좋아요,댓글,날짜,다운로드 4\n"
     ]
    },
    {
     "data": {
      "application/vnd.jupyter.widget-view+json": {
       "model_id": "84576ecc55ef4e59ba3e9bf358fbdfe5",
       "version_major": 2,
       "version_minor": 0
      },
      "text/plain": [
       "  0%|          | 0/3 [00:00<?, ?it/s]"
      ]
     },
     "metadata": {},
     "output_type": "display_data"
    },
    {
     "name": "stdout",
     "output_type": "stream",
     "text": [
      "수집한 댓글 수 :  1\n",
      "수집한 댓글 수 :  3\n",
      "수집한 댓글 수 :  3\n",
      "좋아요,댓글,날짜,다운로드 4\n"
     ]
    },
    {
     "data": {
      "application/vnd.jupyter.widget-view+json": {
       "model_id": "40240794a5b94a759eb2e9af8d8cdc36",
       "version_major": 2,
       "version_minor": 0
      },
      "text/plain": [
       "  0%|          | 0/3 [00:00<?, ?it/s]"
      ]
     },
     "metadata": {},
     "output_type": "display_data"
    },
    {
     "name": "stdout",
     "output_type": "stream",
     "text": [
      "수집한 댓글 수 :  1\n",
      "수집한 댓글 수 :  1\n",
      "수집한 댓글 수 :  1\n",
      "좋아요,댓글,날짜,다운로드 4\n"
     ]
    },
    {
     "data": {
      "application/vnd.jupyter.widget-view+json": {
       "model_id": "54e9532c52884e71af52e5e974f0af38",
       "version_major": 2,
       "version_minor": 0
      },
      "text/plain": [
       "  0%|          | 0/5 [00:00<?, ?it/s]"
      ]
     },
     "metadata": {},
     "output_type": "display_data"
    },
    {
     "name": "stdout",
     "output_type": "stream",
     "text": [
      "수집한 댓글 수 :  1\n",
      "수집한 댓글 수 :  5\n",
      "수집한 댓글 수 :  5\n",
      "수집한 댓글 수 :  5\n",
      "수집한 댓글 수 :  5\n",
      "좋아요,댓글,날짜,다운로드 4\n"
     ]
    },
    {
     "data": {
      "application/vnd.jupyter.widget-view+json": {
       "model_id": "b70b360b35984c3996591ff18611eef9",
       "version_major": 2,
       "version_minor": 0
      },
      "text/plain": [
       "  0%|          | 0/3 [00:00<?, ?it/s]"
      ]
     },
     "metadata": {},
     "output_type": "display_data"
    },
    {
     "name": "stdout",
     "output_type": "stream",
     "text": [
      "수집한 댓글 수 :  1\n",
      "수집한 댓글 수 :  1\n",
      "수집한 댓글 수 :  1\n",
      "좋아요,댓글,날짜,다운로드 4\n"
     ]
    },
    {
     "data": {
      "application/vnd.jupyter.widget-view+json": {
       "model_id": "4bef93ccad7c40c6a492bf91d396c653",
       "version_major": 2,
       "version_minor": 0
      },
      "text/plain": [
       "  0%|          | 0/4 [00:00<?, ?it/s]"
      ]
     },
     "metadata": {},
     "output_type": "display_data"
    },
    {
     "name": "stdout",
     "output_type": "stream",
     "text": [
      "수집한 댓글 수 :  1\n",
      "수집한 댓글 수 :  4\n",
      "수집한 댓글 수 :  4\n",
      "수집한 댓글 수 :  4\n",
      "좋아요,댓글,날짜,다운로드 4\n"
     ]
    },
    {
     "data": {
      "application/vnd.jupyter.widget-view+json": {
       "model_id": "806e3d94ef144f40b1f658c38bc568e7",
       "version_major": 2,
       "version_minor": 0
      },
      "text/plain": [
       "  0%|          | 0/6 [00:00<?, ?it/s]"
      ]
     },
     "metadata": {},
     "output_type": "display_data"
    },
    {
     "name": "stdout",
     "output_type": "stream",
     "text": [
      "수집한 댓글 수 :  1\n",
      "수집한 댓글 수 :  1\n",
      "수집한 댓글 수 :  1\n",
      "수집한 댓글 수 :  1\n",
      "수집한 댓글 수 :  1\n",
      "수집한 댓글 수 :  1\n",
      "좋아요,댓글,날짜,다운로드 4\n"
     ]
    },
    {
     "data": {
      "application/vnd.jupyter.widget-view+json": {
       "model_id": "e618c7be1cc34d3aa12ee29db0532bad",
       "version_major": 2,
       "version_minor": 0
      },
      "text/plain": [
       "  0%|          | 0/2 [00:00<?, ?it/s]"
      ]
     },
     "metadata": {},
     "output_type": "display_data"
    },
    {
     "name": "stdout",
     "output_type": "stream",
     "text": [
      "수집한 댓글 수 :  1\n",
      "수집한 댓글 수 :  1\n",
      "좋아요,댓글,날짜,다운로드 4\n"
     ]
    },
    {
     "data": {
      "application/vnd.jupyter.widget-view+json": {
       "model_id": "54bdee64ec8e44c68fb80102a31a5824",
       "version_major": 2,
       "version_minor": 0
      },
      "text/plain": [
       "0it [00:00, ?it/s]"
      ]
     },
     "metadata": {},
     "output_type": "display_data"
    },
    {
     "name": "stdout",
     "output_type": "stream",
     "text": [
      "수집한 댓글 수 :  0\n",
      "좋아요,댓글,날짜,다운로드 4\n"
     ]
    },
    {
     "data": {
      "application/vnd.jupyter.widget-view+json": {
       "model_id": "9bc78135cc9b411c99dfce69e7e30942",
       "version_major": 2,
       "version_minor": 0
      },
      "text/plain": [
       "  0%|          | 0/3 [00:00<?, ?it/s]"
      ]
     },
     "metadata": {},
     "output_type": "display_data"
    },
    {
     "name": "stdout",
     "output_type": "stream",
     "text": [
      "수집한 댓글 수 :  1\n",
      "수집한 댓글 수 :  3\n",
      "수집한 댓글 수 :  3\n",
      "좋아요,댓글,날짜,다운로드 4\n"
     ]
    },
    {
     "data": {
      "application/vnd.jupyter.widget-view+json": {
       "model_id": "827521e8a2a84371ab4770ce3c8ff0a2",
       "version_major": 2,
       "version_minor": 0
      },
      "text/plain": [
       "0it [00:00, ?it/s]"
      ]
     },
     "metadata": {},
     "output_type": "display_data"
    },
    {
     "name": "stdout",
     "output_type": "stream",
     "text": [
      "수집한 댓글 수 :  0\n",
      "좋아요,댓글,날짜,다운로드 4\n"
     ]
    },
    {
     "data": {
      "application/vnd.jupyter.widget-view+json": {
       "model_id": "62460e71b50b4e2397ec04dbbf330fdd",
       "version_major": 2,
       "version_minor": 0
      },
      "text/plain": [
       "  0%|          | 0/1 [00:00<?, ?it/s]"
      ]
     },
     "metadata": {},
     "output_type": "display_data"
    },
    {
     "name": "stdout",
     "output_type": "stream",
     "text": [
      "수집한 댓글 수 :  1\n",
      "좋아요,댓글,날짜,다운로드 4\n"
     ]
    },
    {
     "data": {
      "application/vnd.jupyter.widget-view+json": {
       "model_id": "8de95496b0334462bb44468d73596744",
       "version_major": 2,
       "version_minor": 0
      },
      "text/plain": [
       "0it [00:00, ?it/s]"
      ]
     },
     "metadata": {},
     "output_type": "display_data"
    },
    {
     "name": "stdout",
     "output_type": "stream",
     "text": [
      "수집한 댓글 수 :  0\n",
      "좋아요,댓글,날짜,다운로드 4\n"
     ]
    },
    {
     "data": {
      "application/vnd.jupyter.widget-view+json": {
       "model_id": "0deaeae926234fe4b2a421e47207efc7",
       "version_major": 2,
       "version_minor": 0
      },
      "text/plain": [
       "  0%|          | 0/11 [00:00<?, ?it/s]"
      ]
     },
     "metadata": {},
     "output_type": "display_data"
    },
    {
     "name": "stdout",
     "output_type": "stream",
     "text": [
      "수집한 댓글 수 :  1\n",
      "수집한 댓글 수 :  9\n",
      "수집한 댓글 수 :  9\n",
      "수집한 댓글 수 :  9\n",
      "수집한 댓글 수 :  9\n",
      "수집한 댓글 수 :  9\n",
      "수집한 댓글 수 :  9\n",
      "수집한 댓글 수 :  9\n",
      "수집한 댓글 수 :  9\n",
      "수집한 댓글 수 :  9\n",
      "좋아요,댓글,날짜,다운로드 4\n"
     ]
    },
    {
     "data": {
      "application/vnd.jupyter.widget-view+json": {
       "model_id": "cd0313a6bfc54a1d91f2b4d1e50db4e1",
       "version_major": 2,
       "version_minor": 0
      },
      "text/plain": [
       "  0%|          | 0/1 [00:00<?, ?it/s]"
      ]
     },
     "metadata": {},
     "output_type": "display_data"
    },
    {
     "name": "stdout",
     "output_type": "stream",
     "text": [
      "수집한 댓글 수 :  1\n",
      "좋아요,댓글,날짜,다운로드 4\n"
     ]
    },
    {
     "data": {
      "application/vnd.jupyter.widget-view+json": {
       "model_id": "d35d72f37e7f4632bddfaf84f545ad1f",
       "version_major": 2,
       "version_minor": 0
      },
      "text/plain": [
       "  0%|          | 0/1 [00:00<?, ?it/s]"
      ]
     },
     "metadata": {},
     "output_type": "display_data"
    },
    {
     "name": "stdout",
     "output_type": "stream",
     "text": [
      "수집한 댓글 수 :  1\n",
      "좋아요,댓글,날짜,다운로드 4\n"
     ]
    },
    {
     "data": {
      "application/vnd.jupyter.widget-view+json": {
       "model_id": "c18bf536cced453d9a41a195bda1a9d3",
       "version_major": 2,
       "version_minor": 0
      },
      "text/plain": [
       "  0%|          | 0/2 [00:00<?, ?it/s]"
      ]
     },
     "metadata": {},
     "output_type": "display_data"
    },
    {
     "name": "stdout",
     "output_type": "stream",
     "text": [
      "수집한 댓글 수 :  2\n",
      "수집한 댓글 수 :  2\n",
      "좋아요,댓글,날짜,다운로드 4\n"
     ]
    },
    {
     "data": {
      "application/vnd.jupyter.widget-view+json": {
       "model_id": "7f1ff3b9ea0a4b39925985c6beb8e31c",
       "version_major": 2,
       "version_minor": 0
      },
      "text/plain": [
       "  0%|          | 0/2 [00:00<?, ?it/s]"
      ]
     },
     "metadata": {},
     "output_type": "display_data"
    },
    {
     "name": "stdout",
     "output_type": "stream",
     "text": [
      "수집한 댓글 수 :  1\n",
      "수집한 댓글 수 :  1\n",
      "좋아요,댓글,날짜,다운로드 4\n"
     ]
    },
    {
     "data": {
      "application/vnd.jupyter.widget-view+json": {
       "model_id": "ece55d8ad1af474d952058072122e3d0",
       "version_major": 2,
       "version_minor": 0
      },
      "text/plain": [
       "0it [00:00, ?it/s]"
      ]
     },
     "metadata": {},
     "output_type": "display_data"
    },
    {
     "name": "stdout",
     "output_type": "stream",
     "text": [
      "수집한 댓글 수 :  0\n",
      "좋아요,댓글,날짜,다운로드 4\n"
     ]
    },
    {
     "data": {
      "application/vnd.jupyter.widget-view+json": {
       "model_id": "914e5fad719747ecbe0c557651f160f9",
       "version_major": 2,
       "version_minor": 0
      },
      "text/plain": [
       "  0%|          | 0/1 [00:00<?, ?it/s]"
      ]
     },
     "metadata": {},
     "output_type": "display_data"
    },
    {
     "name": "stdout",
     "output_type": "stream",
     "text": [
      "수집한 댓글 수 :  1\n",
      "좋아요,댓글,날짜,다운로드 4\n"
     ]
    },
    {
     "data": {
      "application/vnd.jupyter.widget-view+json": {
       "model_id": "194b4b3a79f544cdb3afa599d918db6a",
       "version_major": 2,
       "version_minor": 0
      },
      "text/plain": [
       "  0%|          | 0/1 [00:00<?, ?it/s]"
      ]
     },
     "metadata": {},
     "output_type": "display_data"
    },
    {
     "name": "stdout",
     "output_type": "stream",
     "text": [
      "수집한 댓글 수 :  1\n",
      "좋아요,댓글,날짜,다운로드 4\n"
     ]
    },
    {
     "data": {
      "application/vnd.jupyter.widget-view+json": {
       "model_id": "2ef68db4382a45099e6cc50728b69ef0",
       "version_major": 2,
       "version_minor": 0
      },
      "text/plain": [
       "  0%|          | 0/2 [00:00<?, ?it/s]"
      ]
     },
     "metadata": {},
     "output_type": "display_data"
    },
    {
     "name": "stdout",
     "output_type": "stream",
     "text": [
      "수집한 댓글 수 :  1\n",
      "수집한 댓글 수 :  1\n",
      "좋아요,댓글,날짜,다운로드 4\n"
     ]
    },
    {
     "data": {
      "application/vnd.jupyter.widget-view+json": {
       "model_id": "0f861832304744208dcb7ec120bc2d1e",
       "version_major": 2,
       "version_minor": 0
      },
      "text/plain": [
       "  0%|          | 0/2 [00:00<?, ?it/s]"
      ]
     },
     "metadata": {},
     "output_type": "display_data"
    },
    {
     "name": "stdout",
     "output_type": "stream",
     "text": [
      "수집한 댓글 수 :  1\n",
      "수집한 댓글 수 :  1\n",
      "좋아요,댓글,날짜,다운로드 4\n"
     ]
    },
    {
     "data": {
      "application/vnd.jupyter.widget-view+json": {
       "model_id": "ed29cfeb84a947a68e6fabb864c0d03b",
       "version_major": 2,
       "version_minor": 0
      },
      "text/plain": [
       "  0%|          | 0/4 [00:00<?, ?it/s]"
      ]
     },
     "metadata": {},
     "output_type": "display_data"
    },
    {
     "name": "stdout",
     "output_type": "stream",
     "text": [
      "수집한 댓글 수 :  1\n",
      "수집한 댓글 수 :  1\n",
      "수집한 댓글 수 :  1\n",
      "수집한 댓글 수 :  1\n",
      "좋아요,댓글,날짜,다운로드 4\n"
     ]
    },
    {
     "data": {
      "application/vnd.jupyter.widget-view+json": {
       "model_id": "fd1d5e81d31448028a3b2a4366e8537f",
       "version_major": 2,
       "version_minor": 0
      },
      "text/plain": [
       "  0%|          | 0/1 [00:00<?, ?it/s]"
      ]
     },
     "metadata": {},
     "output_type": "display_data"
    },
    {
     "name": "stdout",
     "output_type": "stream",
     "text": [
      "수집한 댓글 수 :  1\n",
      "좋아요,댓글,날짜,다운로드 4\n"
     ]
    },
    {
     "data": {
      "application/vnd.jupyter.widget-view+json": {
       "model_id": "86fed851ae874501bf171c3c1c36befa",
       "version_major": 2,
       "version_minor": 0
      },
      "text/plain": [
       "  0%|          | 0/1 [00:00<?, ?it/s]"
      ]
     },
     "metadata": {},
     "output_type": "display_data"
    },
    {
     "name": "stdout",
     "output_type": "stream",
     "text": [
      "수집한 댓글 수 :  1\n",
      "좋아요,댓글,날짜,다운로드 4\n"
     ]
    },
    {
     "data": {
      "application/vnd.jupyter.widget-view+json": {
       "model_id": "967c98bd460e4f0fbe05b5d65e930e71",
       "version_major": 2,
       "version_minor": 0
      },
      "text/plain": [
       "  0%|          | 0/1 [00:00<?, ?it/s]"
      ]
     },
     "metadata": {},
     "output_type": "display_data"
    },
    {
     "name": "stdout",
     "output_type": "stream",
     "text": [
      "수집한 댓글 수 :  1\n",
      "좋아요,댓글,날짜,다운로드 4\n"
     ]
    },
    {
     "data": {
      "application/vnd.jupyter.widget-view+json": {
       "model_id": "e75760005f944c82807e18e038749acf",
       "version_major": 2,
       "version_minor": 0
      },
      "text/plain": [
       "  0%|          | 0/2 [00:00<?, ?it/s]"
      ]
     },
     "metadata": {},
     "output_type": "display_data"
    },
    {
     "name": "stdout",
     "output_type": "stream",
     "text": [
      "수집한 댓글 수 :  1\n",
      "수집한 댓글 수 :  1\n",
      "좋아요,댓글,날짜,다운로드 4\n"
     ]
    },
    {
     "data": {
      "application/vnd.jupyter.widget-view+json": {
       "model_id": "4a5643c4e3e142658ec77ab47cac1bb6",
       "version_major": 2,
       "version_minor": 0
      },
      "text/plain": [
       "  0%|          | 0/1 [00:00<?, ?it/s]"
      ]
     },
     "metadata": {},
     "output_type": "display_data"
    },
    {
     "name": "stdout",
     "output_type": "stream",
     "text": [
      "수집한 댓글 수 :  1\n",
      "좋아요,댓글,날짜,다운로드 4\n"
     ]
    },
    {
     "data": {
      "application/vnd.jupyter.widget-view+json": {
       "model_id": "16d184b0112541c6ba1ff30f3a176e60",
       "version_major": 2,
       "version_minor": 0
      },
      "text/plain": [
       "  0%|          | 0/4 [00:00<?, ?it/s]"
      ]
     },
     "metadata": {},
     "output_type": "display_data"
    },
    {
     "name": "stdout",
     "output_type": "stream",
     "text": [
      "수집한 댓글 수 :  4\n",
      "수집한 댓글 수 :  4\n",
      "수집한 댓글 수 :  4\n",
      "수집한 댓글 수 :  4\n",
      "좋아요,댓글,날짜,다운로드 4\n"
     ]
    },
    {
     "data": {
      "application/vnd.jupyter.widget-view+json": {
       "model_id": "6129fdcccb5044b5859d70e76f827997",
       "version_major": 2,
       "version_minor": 0
      },
      "text/plain": [
       "  0%|          | 0/3 [00:00<?, ?it/s]"
      ]
     },
     "metadata": {},
     "output_type": "display_data"
    },
    {
     "name": "stdout",
     "output_type": "stream",
     "text": [
      "수집한 댓글 수 :  1\n",
      "수집한 댓글 수 :  3\n",
      "수집한 댓글 수 :  3\n",
      "좋아요,댓글,날짜,다운로드 4\n"
     ]
    },
    {
     "data": {
      "application/vnd.jupyter.widget-view+json": {
       "model_id": "30e483d1c4594a15b4f2df42f8c02c6b",
       "version_major": 2,
       "version_minor": 0
      },
      "text/plain": [
       "  0%|          | 0/9 [00:00<?, ?it/s]"
      ]
     },
     "metadata": {},
     "output_type": "display_data"
    },
    {
     "name": "stdout",
     "output_type": "stream",
     "text": [
      "수집한 댓글 수 :  1\n",
      "수집한 댓글 수 :  1\n",
      "수집한 댓글 수 :  1\n",
      "수집한 댓글 수 :  1\n",
      "수집한 댓글 수 :  1\n",
      "수집한 댓글 수 :  9\n",
      "수집한 댓글 수 :  9\n",
      "수집한 댓글 수 :  9\n",
      "수집한 댓글 수 :  9\n",
      "좋아요,댓글,날짜,다운로드 4\n"
     ]
    },
    {
     "data": {
      "application/vnd.jupyter.widget-view+json": {
       "model_id": "f7e570e92554479284c7f4369cfa76e0",
       "version_major": 2,
       "version_minor": 0
      },
      "text/plain": [
       "  0%|          | 0/4 [00:00<?, ?it/s]"
      ]
     },
     "metadata": {},
     "output_type": "display_data"
    },
    {
     "name": "stdout",
     "output_type": "stream",
     "text": [
      "수집한 댓글 수 :  1\n",
      "수집한 댓글 수 :  1\n",
      "수집한 댓글 수 :  1\n",
      "수집한 댓글 수 :  1\n",
      "좋아요,댓글,날짜,다운로드 4\n"
     ]
    },
    {
     "data": {
      "application/vnd.jupyter.widget-view+json": {
       "model_id": "dc3c55a882d14ae9af1807a2991af1ec",
       "version_major": 2,
       "version_minor": 0
      },
      "text/plain": [
       "  0%|          | 0/1 [00:00<?, ?it/s]"
      ]
     },
     "metadata": {},
     "output_type": "display_data"
    },
    {
     "name": "stdout",
     "output_type": "stream",
     "text": [
      "수집한 댓글 수 :  1\n",
      "좋아요,댓글,날짜,다운로드 4\n"
     ]
    },
    {
     "data": {
      "application/vnd.jupyter.widget-view+json": {
       "model_id": "a1d5cb652ad141db87787e42021545ed",
       "version_major": 2,
       "version_minor": 0
      },
      "text/plain": [
       "0it [00:00, ?it/s]"
      ]
     },
     "metadata": {},
     "output_type": "display_data"
    },
    {
     "name": "stdout",
     "output_type": "stream",
     "text": [
      "수집한 댓글 수 :  0\n",
      "좋아요,댓글,날짜,다운로드 4\n"
     ]
    },
    {
     "data": {
      "application/vnd.jupyter.widget-view+json": {
       "model_id": "f9e9084159f24d54abe6ed71fbca7905",
       "version_major": 2,
       "version_minor": 0
      },
      "text/plain": [
       "  0%|          | 0/2 [00:00<?, ?it/s]"
      ]
     },
     "metadata": {},
     "output_type": "display_data"
    },
    {
     "name": "stdout",
     "output_type": "stream",
     "text": [
      "수집한 댓글 수 :  1\n",
      "수집한 댓글 수 :  2\n",
      "좋아요,댓글,날짜,다운로드 4\n"
     ]
    },
    {
     "data": {
      "application/vnd.jupyter.widget-view+json": {
       "model_id": "7f8e7fd99348443ca644b6d4237efab6",
       "version_major": 2,
       "version_minor": 0
      },
      "text/plain": [
       "0it [00:00, ?it/s]"
      ]
     },
     "metadata": {},
     "output_type": "display_data"
    },
    {
     "name": "stdout",
     "output_type": "stream",
     "text": [
      "수집한 댓글 수 :  0\n",
      "좋아요,댓글,날짜,다운로드 4\n"
     ]
    },
    {
     "data": {
      "application/vnd.jupyter.widget-view+json": {
       "model_id": "3f8f13627fb74739aca3a75d380d4a28",
       "version_major": 2,
       "version_minor": 0
      },
      "text/plain": [
       "  0%|          | 0/1 [00:00<?, ?it/s]"
      ]
     },
     "metadata": {},
     "output_type": "display_data"
    },
    {
     "name": "stdout",
     "output_type": "stream",
     "text": [
      "수집한 댓글 수 :  1\n",
      "좋아요,댓글,날짜,다운로드 4\n"
     ]
    },
    {
     "data": {
      "application/vnd.jupyter.widget-view+json": {
       "model_id": "f58828b02487490aa49b4ceae47f1f78",
       "version_major": 2,
       "version_minor": 0
      },
      "text/plain": [
       "0it [00:00, ?it/s]"
      ]
     },
     "metadata": {},
     "output_type": "display_data"
    },
    {
     "name": "stdout",
     "output_type": "stream",
     "text": [
      "수집한 댓글 수 :  0\n",
      "좋아요,댓글,날짜,다운로드 4\n"
     ]
    },
    {
     "data": {
      "application/vnd.jupyter.widget-view+json": {
       "model_id": "25501a6b58f545babc7c6c7ed6ac9f03",
       "version_major": 2,
       "version_minor": 0
      },
      "text/plain": [
       "0it [00:00, ?it/s]"
      ]
     },
     "metadata": {},
     "output_type": "display_data"
    },
    {
     "name": "stdout",
     "output_type": "stream",
     "text": [
      "수집한 댓글 수 :  0\n",
      "좋아요,댓글,날짜,다운로드 4\n"
     ]
    },
    {
     "data": {
      "application/vnd.jupyter.widget-view+json": {
       "model_id": "4e85552e640a44039dcd6a811b9d9157",
       "version_major": 2,
       "version_minor": 0
      },
      "text/plain": [
       "  0%|          | 0/6 [00:00<?, ?it/s]"
      ]
     },
     "metadata": {},
     "output_type": "display_data"
    },
    {
     "name": "stdout",
     "output_type": "stream",
     "text": [
      "수집한 댓글 수 :  1\n",
      "수집한 댓글 수 :  1\n",
      "수집한 댓글 수 :  1\n",
      "수집한 댓글 수 :  1\n",
      "수집한 댓글 수 :  6\n",
      "수집한 댓글 수 :  6\n",
      "좋아요,댓글,날짜,다운로드 4\n"
     ]
    },
    {
     "data": {
      "application/vnd.jupyter.widget-view+json": {
       "model_id": "2a9fa0975d204be99c513fc1a757e436",
       "version_major": 2,
       "version_minor": 0
      },
      "text/plain": [
       "  0%|          | 0/1 [00:00<?, ?it/s]"
      ]
     },
     "metadata": {},
     "output_type": "display_data"
    },
    {
     "name": "stdout",
     "output_type": "stream",
     "text": [
      "수집한 댓글 수 :  1\n",
      "좋아요,댓글,날짜,다운로드 4\n"
     ]
    },
    {
     "data": {
      "application/vnd.jupyter.widget-view+json": {
       "model_id": "999cb1206bb544d48178bb4873ea7cfa",
       "version_major": 2,
       "version_minor": 0
      },
      "text/plain": [
       "0it [00:00, ?it/s]"
      ]
     },
     "metadata": {},
     "output_type": "display_data"
    },
    {
     "name": "stdout",
     "output_type": "stream",
     "text": [
      "수집한 댓글 수 :  0\n",
      "좋아요,댓글,날짜,다운로드 4\n"
     ]
    },
    {
     "data": {
      "application/vnd.jupyter.widget-view+json": {
       "model_id": "23cfd5f5c35e4fea9846d8348668edf7",
       "version_major": 2,
       "version_minor": 0
      },
      "text/plain": [
       "0it [00:00, ?it/s]"
      ]
     },
     "metadata": {},
     "output_type": "display_data"
    },
    {
     "name": "stdout",
     "output_type": "stream",
     "text": [
      "수집한 댓글 수 :  0\n",
      "좋아요,댓글,날짜,다운로드 4\n"
     ]
    },
    {
     "data": {
      "application/vnd.jupyter.widget-view+json": {
       "model_id": "f27c529dbb8b49168958fdc6425ba504",
       "version_major": 2,
       "version_minor": 0
      },
      "text/plain": [
       "  0%|          | 0/2 [00:00<?, ?it/s]"
      ]
     },
     "metadata": {},
     "output_type": "display_data"
    },
    {
     "name": "stdout",
     "output_type": "stream",
     "text": [
      "수집한 댓글 수 :  1\n",
      "수집한 댓글 수 :  2\n",
      "좋아요,댓글,날짜,다운로드 4\n"
     ]
    },
    {
     "data": {
      "application/vnd.jupyter.widget-view+json": {
       "model_id": "f4ef0e9d26114be2963e9d2c4cc5769c",
       "version_major": 2,
       "version_minor": 0
      },
      "text/plain": [
       "  0%|          | 0/2 [00:00<?, ?it/s]"
      ]
     },
     "metadata": {},
     "output_type": "display_data"
    },
    {
     "name": "stdout",
     "output_type": "stream",
     "text": [
      "수집한 댓글 수 :  2\n",
      "수집한 댓글 수 :  2\n",
      "좋아요,댓글,날짜,다운로드 4\n"
     ]
    },
    {
     "data": {
      "application/vnd.jupyter.widget-view+json": {
       "model_id": "eea9b5da53f04f338beae960223277fd",
       "version_major": 2,
       "version_minor": 0
      },
      "text/plain": [
       "  0%|          | 0/2 [00:00<?, ?it/s]"
      ]
     },
     "metadata": {},
     "output_type": "display_data"
    },
    {
     "name": "stdout",
     "output_type": "stream",
     "text": [
      "수집한 댓글 수 :  1\n",
      "수집한 댓글 수 :  2\n",
      "좋아요,댓글,날짜,다운로드 4\n"
     ]
    },
    {
     "data": {
      "application/vnd.jupyter.widget-view+json": {
       "model_id": "11b01a408b454c57914fefc070b03312",
       "version_major": 2,
       "version_minor": 0
      },
      "text/plain": [
       "  0%|          | 0/2 [00:00<?, ?it/s]"
      ]
     },
     "metadata": {},
     "output_type": "display_data"
    },
    {
     "name": "stdout",
     "output_type": "stream",
     "text": [
      "수집한 댓글 수 :  2\n",
      "수집한 댓글 수 :  2\n",
      "좋아요,댓글,날짜,다운로드 4\n"
     ]
    },
    {
     "data": {
      "application/vnd.jupyter.widget-view+json": {
       "model_id": "44bc5301fdb4416099e8c69962e8c8cd",
       "version_major": 2,
       "version_minor": 0
      },
      "text/plain": [
       "  0%|          | 0/1 [00:00<?, ?it/s]"
      ]
     },
     "metadata": {},
     "output_type": "display_data"
    },
    {
     "name": "stdout",
     "output_type": "stream",
     "text": [
      "수집한 댓글 수 :  1\n",
      "좋아요,댓글,날짜,다운로드 4\n"
     ]
    },
    {
     "data": {
      "application/vnd.jupyter.widget-view+json": {
       "model_id": "3acb58f52acf4e18ae2956b08e22b92d",
       "version_major": 2,
       "version_minor": 0
      },
      "text/plain": [
       "0it [00:00, ?it/s]"
      ]
     },
     "metadata": {},
     "output_type": "display_data"
    },
    {
     "name": "stdout",
     "output_type": "stream",
     "text": [
      "수집한 댓글 수 :  0\n",
      "좋아요,댓글,날짜,다운로드 4\n"
     ]
    },
    {
     "data": {
      "application/vnd.jupyter.widget-view+json": {
       "model_id": "16e11a02571844e3b034ceba6cb5aaa0",
       "version_major": 2,
       "version_minor": 0
      },
      "text/plain": [
       "  0%|          | 0/2 [00:00<?, ?it/s]"
      ]
     },
     "metadata": {},
     "output_type": "display_data"
    },
    {
     "name": "stdout",
     "output_type": "stream",
     "text": [
      "수집한 댓글 수 :  2\n",
      "수집한 댓글 수 :  2\n",
      "좋아요,댓글,날짜,다운로드 4\n"
     ]
    },
    {
     "data": {
      "application/vnd.jupyter.widget-view+json": {
       "model_id": "d3fb36c70afc4b9e9af2cc4c8254a532",
       "version_major": 2,
       "version_minor": 0
      },
      "text/plain": [
       "  0%|          | 0/1 [00:00<?, ?it/s]"
      ]
     },
     "metadata": {},
     "output_type": "display_data"
    },
    {
     "name": "stdout",
     "output_type": "stream",
     "text": [
      "수집한 댓글 수 :  1\n",
      "좋아요,댓글,날짜,다운로드 4\n"
     ]
    },
    {
     "data": {
      "application/vnd.jupyter.widget-view+json": {
       "model_id": "91c682da406244cbb4277ca95fc323ec",
       "version_major": 2,
       "version_minor": 0
      },
      "text/plain": [
       "  0%|          | 0/1 [00:00<?, ?it/s]"
      ]
     },
     "metadata": {},
     "output_type": "display_data"
    },
    {
     "name": "stdout",
     "output_type": "stream",
     "text": [
      "수집한 댓글 수 :  1\n",
      "좋아요,댓글,날짜,다운로드 4\n"
     ]
    },
    {
     "data": {
      "application/vnd.jupyter.widget-view+json": {
       "model_id": "35ead75538ac40fa941ba3c641238bce",
       "version_major": 2,
       "version_minor": 0
      },
      "text/plain": [
       "  0%|          | 0/2 [00:00<?, ?it/s]"
      ]
     },
     "metadata": {},
     "output_type": "display_data"
    },
    {
     "name": "stdout",
     "output_type": "stream",
     "text": [
      "수집한 댓글 수 :  1\n",
      "수집한 댓글 수 :  1\n",
      "좋아요,댓글,날짜,다운로드 4\n"
     ]
    },
    {
     "data": {
      "application/vnd.jupyter.widget-view+json": {
       "model_id": "cd1391aee16d45c18097910e8b3dc0f7",
       "version_major": 2,
       "version_minor": 0
      },
      "text/plain": [
       "  0%|          | 0/1 [00:00<?, ?it/s]"
      ]
     },
     "metadata": {},
     "output_type": "display_data"
    },
    {
     "name": "stdout",
     "output_type": "stream",
     "text": [
      "수집한 댓글 수 :  1\n",
      "좋아요,댓글,날짜,다운로드 4\n"
     ]
    },
    {
     "data": {
      "application/vnd.jupyter.widget-view+json": {
       "model_id": "9ebc9c0053434aa998b6444ae39eed86",
       "version_major": 2,
       "version_minor": 0
      },
      "text/plain": [
       "0it [00:00, ?it/s]"
      ]
     },
     "metadata": {},
     "output_type": "display_data"
    },
    {
     "name": "stdout",
     "output_type": "stream",
     "text": [
      "수집한 댓글 수 :  0\n",
      "좋아요,댓글,날짜,다운로드 4\n"
     ]
    },
    {
     "data": {
      "application/vnd.jupyter.widget-view+json": {
       "model_id": "76d2380fc3fd413cb5e1e2ee622ec039",
       "version_major": 2,
       "version_minor": 0
      },
      "text/plain": [
       "  0%|          | 0/1 [00:00<?, ?it/s]"
      ]
     },
     "metadata": {},
     "output_type": "display_data"
    },
    {
     "name": "stdout",
     "output_type": "stream",
     "text": [
      "수집한 댓글 수 :  1\n",
      "좋아요,댓글,날짜,다운로드 4\n"
     ]
    },
    {
     "data": {
      "application/vnd.jupyter.widget-view+json": {
       "model_id": "0a01da7b46614cb384dad8711c66c6a9",
       "version_major": 2,
       "version_minor": 0
      },
      "text/plain": [
       "0it [00:00, ?it/s]"
      ]
     },
     "metadata": {},
     "output_type": "display_data"
    },
    {
     "name": "stdout",
     "output_type": "stream",
     "text": [
      "수집한 댓글 수 :  0\n",
      "좋아요,댓글,날짜,다운로드 4\n"
     ]
    },
    {
     "data": {
      "application/vnd.jupyter.widget-view+json": {
       "model_id": "7bd1cb86e0784ddbb7d367b61b935e53",
       "version_major": 2,
       "version_minor": 0
      },
      "text/plain": [
       "  0%|          | 0/1 [00:00<?, ?it/s]"
      ]
     },
     "metadata": {},
     "output_type": "display_data"
    },
    {
     "name": "stdout",
     "output_type": "stream",
     "text": [
      "수집한 댓글 수 :  1\n",
      "좋아요,댓글,날짜,다운로드 4\n"
     ]
    },
    {
     "data": {
      "application/vnd.jupyter.widget-view+json": {
       "model_id": "2d6b32b69cb3483c98c558f05067997a",
       "version_major": 2,
       "version_minor": 0
      },
      "text/plain": [
       "  0%|          | 0/5 [00:00<?, ?it/s]"
      ]
     },
     "metadata": {},
     "output_type": "display_data"
    },
    {
     "name": "stdout",
     "output_type": "stream",
     "text": [
      "수집한 댓글 수 :  1\n",
      "수집한 댓글 수 :  5\n",
      "수집한 댓글 수 :  5\n",
      "수집한 댓글 수 :  5\n",
      "수집한 댓글 수 :  5\n",
      "좋아요,댓글,날짜,다운로드 4\n"
     ]
    },
    {
     "data": {
      "application/vnd.jupyter.widget-view+json": {
       "model_id": "fa3fed488e6648f585abbe07ace74249",
       "version_major": 2,
       "version_minor": 0
      },
      "text/plain": [
       "  0%|          | 0/1 [00:00<?, ?it/s]"
      ]
     },
     "metadata": {},
     "output_type": "display_data"
    },
    {
     "name": "stdout",
     "output_type": "stream",
     "text": [
      "수집한 댓글 수 :  1\n",
      "좋아요,댓글,날짜,다운로드 4\n"
     ]
    },
    {
     "data": {
      "application/vnd.jupyter.widget-view+json": {
       "model_id": "8c2267fb099946e39197a3289de91b9b",
       "version_major": 2,
       "version_minor": 0
      },
      "text/plain": [
       "  0%|          | 0/4 [00:00<?, ?it/s]"
      ]
     },
     "metadata": {},
     "output_type": "display_data"
    },
    {
     "name": "stdout",
     "output_type": "stream",
     "text": [
      "수집한 댓글 수 :  4\n",
      "수집한 댓글 수 :  4\n",
      "수집한 댓글 수 :  4\n",
      "수집한 댓글 수 :  4\n",
      "좋아요,댓글,날짜,다운로드 4\n"
     ]
    },
    {
     "data": {
      "application/vnd.jupyter.widget-view+json": {
       "model_id": "40e2a240ed874ad59cf9e2103462ad68",
       "version_major": 2,
       "version_minor": 0
      },
      "text/plain": [
       "  0%|          | 0/8 [00:00<?, ?it/s]"
      ]
     },
     "metadata": {},
     "output_type": "display_data"
    },
    {
     "name": "stdout",
     "output_type": "stream",
     "text": [
      "수집한 댓글 수 :  1\n",
      "수집한 댓글 수 :  1\n",
      "수집한 댓글 수 :  1\n",
      "수집한 댓글 수 :  1\n",
      "수집한 댓글 수 :  1\n",
      "수집한 댓글 수 :  1\n",
      "수집한 댓글 수 :  1\n",
      "수집한 댓글 수 :  1\n",
      "좋아요,댓글,날짜,다운로드 4\n"
     ]
    },
    {
     "data": {
      "application/vnd.jupyter.widget-view+json": {
       "model_id": "13905114d92b493daea7939dc42dea28",
       "version_major": 2,
       "version_minor": 0
      },
      "text/plain": [
       "  0%|          | 0/1 [00:00<?, ?it/s]"
      ]
     },
     "metadata": {},
     "output_type": "display_data"
    },
    {
     "name": "stdout",
     "output_type": "stream",
     "text": [
      "수집한 댓글 수 :  1\n",
      "좋아요,댓글,날짜,다운로드 4\n"
     ]
    },
    {
     "data": {
      "application/vnd.jupyter.widget-view+json": {
       "model_id": "0fe99486a25b4a54b8a4d91b9e455314",
       "version_major": 2,
       "version_minor": 0
      },
      "text/plain": [
       "  0%|          | 0/2 [00:00<?, ?it/s]"
      ]
     },
     "metadata": {},
     "output_type": "display_data"
    },
    {
     "name": "stdout",
     "output_type": "stream",
     "text": [
      "수집한 댓글 수 :  1\n",
      "수집한 댓글 수 :  2\n",
      "좋아요,댓글,날짜,다운로드 4\n"
     ]
    },
    {
     "data": {
      "application/vnd.jupyter.widget-view+json": {
       "model_id": "55eeb6deaaa14f5b82382bd8d5c51c12",
       "version_major": 2,
       "version_minor": 0
      },
      "text/plain": [
       "  0%|          | 0/4 [00:00<?, ?it/s]"
      ]
     },
     "metadata": {},
     "output_type": "display_data"
    },
    {
     "name": "stdout",
     "output_type": "stream",
     "text": [
      "수집한 댓글 수 :  1\n",
      "수집한 댓글 수 :  4\n",
      "수집한 댓글 수 :  4\n",
      "수집한 댓글 수 :  4\n",
      "좋아요,댓글,날짜,다운로드 4\n"
     ]
    },
    {
     "data": {
      "application/vnd.jupyter.widget-view+json": {
       "model_id": "5d058467cb844adbb81e86ad31093711",
       "version_major": 2,
       "version_minor": 0
      },
      "text/plain": [
       "0it [00:00, ?it/s]"
      ]
     },
     "metadata": {},
     "output_type": "display_data"
    },
    {
     "name": "stdout",
     "output_type": "stream",
     "text": [
      "수집한 댓글 수 :  0\n",
      "좋아요,댓글,날짜,다운로드 4\n"
     ]
    },
    {
     "data": {
      "application/vnd.jupyter.widget-view+json": {
       "model_id": "213b21142d0e4013bb24b42afd507704",
       "version_major": 2,
       "version_minor": 0
      },
      "text/plain": [
       "  0%|          | 0/3 [00:00<?, ?it/s]"
      ]
     },
     "metadata": {},
     "output_type": "display_data"
    },
    {
     "name": "stdout",
     "output_type": "stream",
     "text": [
      "수집한 댓글 수 :  1\n",
      "수집한 댓글 수 :  1\n",
      "수집한 댓글 수 :  1\n",
      "좋아요,댓글,날짜,다운로드 4\n"
     ]
    },
    {
     "data": {
      "application/vnd.jupyter.widget-view+json": {
       "model_id": "9d23b72a62a64a52bf419d0c679cb5bf",
       "version_major": 2,
       "version_minor": 0
      },
      "text/plain": [
       "  0%|          | 0/2 [00:00<?, ?it/s]"
      ]
     },
     "metadata": {},
     "output_type": "display_data"
    },
    {
     "name": "stdout",
     "output_type": "stream",
     "text": [
      "수집한 댓글 수 :  1\n",
      "수집한 댓글 수 :  1\n",
      "좋아요,댓글,날짜,다운로드 4\n"
     ]
    },
    {
     "data": {
      "application/vnd.jupyter.widget-view+json": {
       "model_id": "fde4006c3ee749088eed879081f8233f",
       "version_major": 2,
       "version_minor": 0
      },
      "text/plain": [
       "  0%|          | 0/2 [00:00<?, ?it/s]"
      ]
     },
     "metadata": {},
     "output_type": "display_data"
    },
    {
     "name": "stdout",
     "output_type": "stream",
     "text": [
      "수집한 댓글 수 :  1\n",
      "수집한 댓글 수 :  2\n",
      "좋아요,댓글,날짜,다운로드 4\n"
     ]
    },
    {
     "data": {
      "application/vnd.jupyter.widget-view+json": {
       "model_id": "d1f0028acb1f447ab7aec70c7affb4ee",
       "version_major": 2,
       "version_minor": 0
      },
      "text/plain": [
       "  0%|          | 0/1 [00:00<?, ?it/s]"
      ]
     },
     "metadata": {},
     "output_type": "display_data"
    },
    {
     "name": "stdout",
     "output_type": "stream",
     "text": [
      "수집한 댓글 수 :  1\n",
      "좋아요,댓글,날짜,다운로드 4\n"
     ]
    },
    {
     "data": {
      "application/vnd.jupyter.widget-view+json": {
       "model_id": "0b24eb052a0848c1b19ce2f4177759a7",
       "version_major": 2,
       "version_minor": 0
      },
      "text/plain": [
       "  0%|          | 0/2 [00:00<?, ?it/s]"
      ]
     },
     "metadata": {},
     "output_type": "display_data"
    },
    {
     "name": "stdout",
     "output_type": "stream",
     "text": [
      "수집한 댓글 수 :  1\n",
      "수집한 댓글 수 :  1\n",
      "좋아요,댓글,날짜,다운로드 4\n"
     ]
    },
    {
     "data": {
      "application/vnd.jupyter.widget-view+json": {
       "model_id": "1e2ae29cc37344bbbed7ba2c8aaf8dac",
       "version_major": 2,
       "version_minor": 0
      },
      "text/plain": [
       "  0%|          | 0/7 [00:00<?, ?it/s]"
      ]
     },
     "metadata": {},
     "output_type": "display_data"
    },
    {
     "name": "stdout",
     "output_type": "stream",
     "text": [
      "수집한 댓글 수 :  7\n",
      "수집한 댓글 수 :  7\n",
      "수집한 댓글 수 :  7\n",
      "수집한 댓글 수 :  7\n",
      "수집한 댓글 수 :  7\n",
      "수집한 댓글 수 :  7\n",
      "수집한 댓글 수 :  7\n",
      "좋아요,댓글,날짜,다운로드 4\n"
     ]
    },
    {
     "data": {
      "application/vnd.jupyter.widget-view+json": {
       "model_id": "a3ddc292a7b5462d8816c2ffd5cc8baa",
       "version_major": 2,
       "version_minor": 0
      },
      "text/plain": [
       "  0%|          | 0/1 [00:00<?, ?it/s]"
      ]
     },
     "metadata": {},
     "output_type": "display_data"
    },
    {
     "name": "stdout",
     "output_type": "stream",
     "text": [
      "수집한 댓글 수 :  1\n",
      "좋아요,댓글,날짜,다운로드 4\n"
     ]
    },
    {
     "data": {
      "application/vnd.jupyter.widget-view+json": {
       "model_id": "b0709fe7c50e4bc4bed5f3caec60209d",
       "version_major": 2,
       "version_minor": 0
      },
      "text/plain": [
       "0it [00:00, ?it/s]"
      ]
     },
     "metadata": {},
     "output_type": "display_data"
    },
    {
     "name": "stdout",
     "output_type": "stream",
     "text": [
      "수집한 댓글 수 :  0\n",
      "좋아요,댓글,날짜,다운로드 4\n"
     ]
    },
    {
     "data": {
      "application/vnd.jupyter.widget-view+json": {
       "model_id": "20e7678a7fe94e7fbe6339ee5cc613d6",
       "version_major": 2,
       "version_minor": 0
      },
      "text/plain": [
       "  0%|          | 0/4 [00:00<?, ?it/s]"
      ]
     },
     "metadata": {},
     "output_type": "display_data"
    },
    {
     "name": "stdout",
     "output_type": "stream",
     "text": [
      "수집한 댓글 수 :  1\n",
      "수집한 댓글 수 :  1\n",
      "수집한 댓글 수 :  1\n",
      "수집한 댓글 수 :  4\n",
      "좋아요,댓글,날짜,다운로드 4\n"
     ]
    },
    {
     "data": {
      "application/vnd.jupyter.widget-view+json": {
       "model_id": "0b31eb290a0e4cbb864a5cf3b3ed49e8",
       "version_major": 2,
       "version_minor": 0
      },
      "text/plain": [
       "  0%|          | 0/1 [00:00<?, ?it/s]"
      ]
     },
     "metadata": {},
     "output_type": "display_data"
    },
    {
     "name": "stdout",
     "output_type": "stream",
     "text": [
      "수집한 댓글 수 :  1\n",
      "좋아요,댓글,날짜,다운로드 4\n"
     ]
    },
    {
     "data": {
      "application/vnd.jupyter.widget-view+json": {
       "model_id": "30b922462662484e9effa4b628f54b62",
       "version_major": 2,
       "version_minor": 0
      },
      "text/plain": [
       "  0%|          | 0/2 [00:00<?, ?it/s]"
      ]
     },
     "metadata": {},
     "output_type": "display_data"
    },
    {
     "name": "stdout",
     "output_type": "stream",
     "text": [
      "수집한 댓글 수 :  1\n",
      "수집한 댓글 수 :  2\n",
      "좋아요,댓글,날짜,다운로드 4\n"
     ]
    },
    {
     "data": {
      "application/vnd.jupyter.widget-view+json": {
       "model_id": "ec59ac90d157421b814a123e66d81927",
       "version_major": 2,
       "version_minor": 0
      },
      "text/plain": [
       "0it [00:00, ?it/s]"
      ]
     },
     "metadata": {},
     "output_type": "display_data"
    },
    {
     "name": "stdout",
     "output_type": "stream",
     "text": [
      "수집한 댓글 수 :  0\n",
      "좋아요,댓글,날짜,다운로드 4\n"
     ]
    },
    {
     "data": {
      "application/vnd.jupyter.widget-view+json": {
       "model_id": "6be9451541064f8c828524285d44b19c",
       "version_major": 2,
       "version_minor": 0
      },
      "text/plain": [
       "  0%|          | 0/2 [00:00<?, ?it/s]"
      ]
     },
     "metadata": {},
     "output_type": "display_data"
    },
    {
     "name": "stdout",
     "output_type": "stream",
     "text": [
      "수집한 댓글 수 :  1\n",
      "수집한 댓글 수 :  2\n",
      "좋아요,댓글,날짜,다운로드 4\n"
     ]
    },
    {
     "data": {
      "application/vnd.jupyter.widget-view+json": {
       "model_id": "71d68ca140d3432086e7049c568de520",
       "version_major": 2,
       "version_minor": 0
      },
      "text/plain": [
       "  0%|          | 0/2 [00:00<?, ?it/s]"
      ]
     },
     "metadata": {},
     "output_type": "display_data"
    },
    {
     "name": "stdout",
     "output_type": "stream",
     "text": [
      "수집한 댓글 수 :  1\n",
      "수집한 댓글 수 :  1\n",
      "좋아요,댓글,날짜,다운로드 4\n"
     ]
    },
    {
     "data": {
      "application/vnd.jupyter.widget-view+json": {
       "model_id": "a09d9f97f9364ea9833207591bde5b9a",
       "version_major": 2,
       "version_minor": 0
      },
      "text/plain": [
       "0it [00:00, ?it/s]"
      ]
     },
     "metadata": {},
     "output_type": "display_data"
    },
    {
     "name": "stdout",
     "output_type": "stream",
     "text": [
      "수집한 댓글 수 :  0\n",
      "좋아요,댓글,날짜,다운로드 4\n"
     ]
    },
    {
     "data": {
      "application/vnd.jupyter.widget-view+json": {
       "model_id": "882ba6ac831b444eb2440adb6789d294",
       "version_major": 2,
       "version_minor": 0
      },
      "text/plain": [
       "0it [00:00, ?it/s]"
      ]
     },
     "metadata": {},
     "output_type": "display_data"
    },
    {
     "name": "stdout",
     "output_type": "stream",
     "text": [
      "수집한 댓글 수 :  0\n",
      "좋아요,댓글,날짜,다운로드 4\n"
     ]
    },
    {
     "data": {
      "application/vnd.jupyter.widget-view+json": {
       "model_id": "01c2447f47704b228c75d0aae19d987b",
       "version_major": 2,
       "version_minor": 0
      },
      "text/plain": [
       "  0%|          | 0/1 [00:00<?, ?it/s]"
      ]
     },
     "metadata": {},
     "output_type": "display_data"
    },
    {
     "name": "stdout",
     "output_type": "stream",
     "text": [
      "수집한 댓글 수 :  1\n",
      "좋아요,댓글,날짜,다운로드 4\n"
     ]
    },
    {
     "data": {
      "application/vnd.jupyter.widget-view+json": {
       "model_id": "581c822ed00f422cbe77a7bfa9d56e38",
       "version_major": 2,
       "version_minor": 0
      },
      "text/plain": [
       "  0%|          | 0/3 [00:00<?, ?it/s]"
      ]
     },
     "metadata": {},
     "output_type": "display_data"
    },
    {
     "name": "stdout",
     "output_type": "stream",
     "text": [
      "수집한 댓글 수 :  1\n",
      "수집한 댓글 수 :  1\n",
      "수집한 댓글 수 :  1\n",
      "좋아요,댓글,날짜,다운로드 4\n"
     ]
    },
    {
     "data": {
      "application/vnd.jupyter.widget-view+json": {
       "model_id": "35845a54cd6a41cbac27c1dd141e2b1e",
       "version_major": 2,
       "version_minor": 0
      },
      "text/plain": [
       "0it [00:00, ?it/s]"
      ]
     },
     "metadata": {},
     "output_type": "display_data"
    },
    {
     "name": "stdout",
     "output_type": "stream",
     "text": [
      "수집한 댓글 수 :  0\n",
      "좋아요,댓글,날짜,다운로드 4\n"
     ]
    },
    {
     "data": {
      "application/vnd.jupyter.widget-view+json": {
       "model_id": "ea3b40675d1e41cea2519b7f7970aa06",
       "version_major": 2,
       "version_minor": 0
      },
      "text/plain": [
       "  0%|          | 0/2 [00:00<?, ?it/s]"
      ]
     },
     "metadata": {},
     "output_type": "display_data"
    },
    {
     "name": "stdout",
     "output_type": "stream",
     "text": [
      "수집한 댓글 수 :  2\n",
      "수집한 댓글 수 :  2\n",
      "좋아요,댓글,날짜,다운로드 4\n"
     ]
    },
    {
     "data": {
      "application/vnd.jupyter.widget-view+json": {
       "model_id": "60e7d8d353b84e298b6f78dd4ffef9bd",
       "version_major": 2,
       "version_minor": 0
      },
      "text/plain": [
       "  0%|          | 0/4 [00:00<?, ?it/s]"
      ]
     },
     "metadata": {},
     "output_type": "display_data"
    },
    {
     "name": "stdout",
     "output_type": "stream",
     "text": [
      "수집한 댓글 수 :  1\n",
      "수집한 댓글 수 :  1\n",
      "수집한 댓글 수 :  1\n",
      "수집한 댓글 수 :  1\n",
      "좋아요,댓글,날짜,다운로드 4\n"
     ]
    },
    {
     "data": {
      "application/vnd.jupyter.widget-view+json": {
       "model_id": "91283a97c8414be9afbcbf5c33920060",
       "version_major": 2,
       "version_minor": 0
      },
      "text/plain": [
       "  0%|          | 0/5 [00:00<?, ?it/s]"
      ]
     },
     "metadata": {},
     "output_type": "display_data"
    },
    {
     "name": "stdout",
     "output_type": "stream",
     "text": [
      "수집한 댓글 수 :  1\n",
      "수집한 댓글 수 :  1\n",
      "수집한 댓글 수 :  1\n",
      "수집한 댓글 수 :  5\n",
      "수집한 댓글 수 :  5\n",
      "좋아요,댓글,날짜,다운로드 4\n"
     ]
    },
    {
     "data": {
      "application/vnd.jupyter.widget-view+json": {
       "model_id": "885f14499dfa458a8d5cfc00cb9f5841",
       "version_major": 2,
       "version_minor": 0
      },
      "text/plain": [
       "0it [00:00, ?it/s]"
      ]
     },
     "metadata": {},
     "output_type": "display_data"
    },
    {
     "name": "stdout",
     "output_type": "stream",
     "text": [
      "수집한 댓글 수 :  0\n",
      "좋아요,댓글,날짜,다운로드 4\n"
     ]
    },
    {
     "data": {
      "application/vnd.jupyter.widget-view+json": {
       "model_id": "0087eb504f68416aa5b245630af060a5",
       "version_major": 2,
       "version_minor": 0
      },
      "text/plain": [
       "  0%|          | 0/1 [00:00<?, ?it/s]"
      ]
     },
     "metadata": {},
     "output_type": "display_data"
    },
    {
     "name": "stdout",
     "output_type": "stream",
     "text": [
      "수집한 댓글 수 :  1\n",
      "좋아요,댓글,날짜,다운로드 4\n"
     ]
    },
    {
     "data": {
      "application/vnd.jupyter.widget-view+json": {
       "model_id": "f67c05b61e764b338fd7eff92a69a9a6",
       "version_major": 2,
       "version_minor": 0
      },
      "text/plain": [
       "0it [00:00, ?it/s]"
      ]
     },
     "metadata": {},
     "output_type": "display_data"
    },
    {
     "name": "stdout",
     "output_type": "stream",
     "text": [
      "수집한 댓글 수 :  0\n",
      "좋아요,댓글,날짜,다운로드 4\n"
     ]
    },
    {
     "data": {
      "application/vnd.jupyter.widget-view+json": {
       "model_id": "0cb922e032cb443a81aa7789c7967dc1",
       "version_major": 2,
       "version_minor": 0
      },
      "text/plain": [
       "  0%|          | 0/2 [00:00<?, ?it/s]"
      ]
     },
     "metadata": {},
     "output_type": "display_data"
    },
    {
     "name": "stdout",
     "output_type": "stream",
     "text": [
      "수집한 댓글 수 :  1\n",
      "수집한 댓글 수 :  1\n",
      "좋아요,댓글,날짜,다운로드 4\n"
     ]
    },
    {
     "data": {
      "application/vnd.jupyter.widget-view+json": {
       "model_id": "8268c6ee3d8f44e396ffbc5a86856418",
       "version_major": 2,
       "version_minor": 0
      },
      "text/plain": [
       "  0%|          | 0/9 [00:00<?, ?it/s]"
      ]
     },
     "metadata": {},
     "output_type": "display_data"
    },
    {
     "name": "stdout",
     "output_type": "stream",
     "text": [
      "수집한 댓글 수 :  1\n",
      "수집한 댓글 수 :  9\n",
      "수집한 댓글 수 :  9\n",
      "수집한 댓글 수 :  9\n",
      "수집한 댓글 수 :  9\n",
      "수집한 댓글 수 :  9\n",
      "수집한 댓글 수 :  9\n",
      "수집한 댓글 수 :  9\n",
      "수집한 댓글 수 :  9\n",
      "좋아요,댓글,날짜,다운로드 4\n"
     ]
    },
    {
     "data": {
      "application/vnd.jupyter.widget-view+json": {
       "model_id": "984b8884ab324619910811e4e2b1df93",
       "version_major": 2,
       "version_minor": 0
      },
      "text/plain": [
       "  0%|          | 0/2 [00:00<?, ?it/s]"
      ]
     },
     "metadata": {},
     "output_type": "display_data"
    },
    {
     "name": "stdout",
     "output_type": "stream",
     "text": [
      "수집한 댓글 수 :  1\n",
      "수집한 댓글 수 :  1\n",
      "좋아요,댓글,날짜,다운로드 4\n"
     ]
    },
    {
     "data": {
      "application/vnd.jupyter.widget-view+json": {
       "model_id": "31196b33ab1740adb3dd9266f04d7fba",
       "version_major": 2,
       "version_minor": 0
      },
      "text/plain": [
       "0it [00:00, ?it/s]"
      ]
     },
     "metadata": {},
     "output_type": "display_data"
    },
    {
     "name": "stdout",
     "output_type": "stream",
     "text": [
      "수집한 댓글 수 :  0\n",
      "좋아요,댓글,날짜,다운로드 4\n"
     ]
    },
    {
     "data": {
      "application/vnd.jupyter.widget-view+json": {
       "model_id": "4e028d57d66b4ef89cdbe26c9d82b706",
       "version_major": 2,
       "version_minor": 0
      },
      "text/plain": [
       "  0%|          | 0/4 [00:00<?, ?it/s]"
      ]
     },
     "metadata": {},
     "output_type": "display_data"
    },
    {
     "name": "stdout",
     "output_type": "stream",
     "text": [
      "수집한 댓글 수 :  4\n",
      "수집한 댓글 수 :  4\n",
      "수집한 댓글 수 :  4\n",
      "수집한 댓글 수 :  4\n",
      "좋아요,댓글,날짜,다운로드 4\n"
     ]
    },
    {
     "data": {
      "application/vnd.jupyter.widget-view+json": {
       "model_id": "e30ab51ad3f843cb9f2ef1340949501b",
       "version_major": 2,
       "version_minor": 0
      },
      "text/plain": [
       "  0%|          | 0/1 [00:00<?, ?it/s]"
      ]
     },
     "metadata": {},
     "output_type": "display_data"
    },
    {
     "name": "stdout",
     "output_type": "stream",
     "text": [
      "수집한 댓글 수 :  1\n",
      "좋아요,댓글,날짜,다운로드 4\n"
     ]
    },
    {
     "data": {
      "application/vnd.jupyter.widget-view+json": {
       "model_id": "c96b17ed1463492695fe18bf57de3744",
       "version_major": 2,
       "version_minor": 0
      },
      "text/plain": [
       "  0%|          | 0/2 [00:00<?, ?it/s]"
      ]
     },
     "metadata": {},
     "output_type": "display_data"
    },
    {
     "name": "stdout",
     "output_type": "stream",
     "text": [
      "수집한 댓글 수 :  1\n",
      "수집한 댓글 수 :  2\n",
      "좋아요,댓글,날짜,다운로드 4\n"
     ]
    },
    {
     "data": {
      "application/vnd.jupyter.widget-view+json": {
       "model_id": "4dc4027678a84ce699ae48ea9a8b40a5",
       "version_major": 2,
       "version_minor": 0
      },
      "text/plain": [
       "0it [00:00, ?it/s]"
      ]
     },
     "metadata": {},
     "output_type": "display_data"
    },
    {
     "name": "stdout",
     "output_type": "stream",
     "text": [
      "수집한 댓글 수 :  0\n",
      "좋아요,댓글,날짜,다운로드 4\n"
     ]
    },
    {
     "data": {
      "application/vnd.jupyter.widget-view+json": {
       "model_id": "e862160712864d8db2610719c4f5de01",
       "version_major": 2,
       "version_minor": 0
      },
      "text/plain": [
       "  0%|          | 0/4 [00:00<?, ?it/s]"
      ]
     },
     "metadata": {},
     "output_type": "display_data"
    },
    {
     "name": "stdout",
     "output_type": "stream",
     "text": [
      "수집한 댓글 수 :  4\n",
      "수집한 댓글 수 :  4\n",
      "수집한 댓글 수 :  4\n",
      "수집한 댓글 수 :  4\n",
      "좋아요,댓글,날짜,다운로드 4\n"
     ]
    },
    {
     "data": {
      "application/vnd.jupyter.widget-view+json": {
       "model_id": "ff088cd588494e9aac97aa8ed0403f24",
       "version_major": 2,
       "version_minor": 0
      },
      "text/plain": [
       "  0%|          | 0/1 [00:00<?, ?it/s]"
      ]
     },
     "metadata": {},
     "output_type": "display_data"
    },
    {
     "name": "stdout",
     "output_type": "stream",
     "text": [
      "수집한 댓글 수 :  1\n",
      "좋아요,댓글,날짜,다운로드 4\n"
     ]
    },
    {
     "data": {
      "application/vnd.jupyter.widget-view+json": {
       "model_id": "11c4f2e7b8db46a893172d1ba36230a4",
       "version_major": 2,
       "version_minor": 0
      },
      "text/plain": [
       "  0%|          | 0/2 [00:00<?, ?it/s]"
      ]
     },
     "metadata": {},
     "output_type": "display_data"
    },
    {
     "name": "stdout",
     "output_type": "stream",
     "text": [
      "수집한 댓글 수 :  2\n",
      "수집한 댓글 수 :  2\n",
      "좋아요,댓글,날짜,다운로드 4\n"
     ]
    },
    {
     "data": {
      "application/vnd.jupyter.widget-view+json": {
       "model_id": "3460b026f3c04e499cb780035269c393",
       "version_major": 2,
       "version_minor": 0
      },
      "text/plain": [
       "0it [00:00, ?it/s]"
      ]
     },
     "metadata": {},
     "output_type": "display_data"
    },
    {
     "name": "stdout",
     "output_type": "stream",
     "text": [
      "수집한 댓글 수 :  0\n",
      "좋아요,댓글,날짜,다운로드 4\n"
     ]
    },
    {
     "data": {
      "application/vnd.jupyter.widget-view+json": {
       "model_id": "f9c1ef1080b34655bc967407d5ed3980",
       "version_major": 2,
       "version_minor": 0
      },
      "text/plain": [
       "  0%|          | 0/1 [00:00<?, ?it/s]"
      ]
     },
     "metadata": {},
     "output_type": "display_data"
    },
    {
     "name": "stdout",
     "output_type": "stream",
     "text": [
      "수집한 댓글 수 :  1\n",
      "좋아요,댓글,날짜,다운로드 4\n"
     ]
    },
    {
     "data": {
      "application/vnd.jupyter.widget-view+json": {
       "model_id": "322cbb0e021047e99a017ff0e6bce35d",
       "version_major": 2,
       "version_minor": 0
      },
      "text/plain": [
       "  0%|          | 0/5 [00:00<?, ?it/s]"
      ]
     },
     "metadata": {},
     "output_type": "display_data"
    },
    {
     "name": "stdout",
     "output_type": "stream",
     "text": [
      "수집한 댓글 수 :  5\n",
      "수집한 댓글 수 :  5\n",
      "수집한 댓글 수 :  5\n",
      "수집한 댓글 수 :  5\n",
      "수집한 댓글 수 :  5\n",
      "좋아요,댓글,날짜,다운로드 4\n"
     ]
    },
    {
     "data": {
      "application/vnd.jupyter.widget-view+json": {
       "model_id": "04248c3ffb6a44d6b70e5b247ee5a816",
       "version_major": 2,
       "version_minor": 0
      },
      "text/plain": [
       "  0%|          | 0/1 [00:00<?, ?it/s]"
      ]
     },
     "metadata": {},
     "output_type": "display_data"
    },
    {
     "name": "stdout",
     "output_type": "stream",
     "text": [
      "수집한 댓글 수 :  1\n",
      "좋아요,댓글,날짜,다운로드 4\n"
     ]
    },
    {
     "data": {
      "application/vnd.jupyter.widget-view+json": {
       "model_id": "e935792879b240e9af3e62653f38dc66",
       "version_major": 2,
       "version_minor": 0
      },
      "text/plain": [
       "  0%|          | 0/1 [00:00<?, ?it/s]"
      ]
     },
     "metadata": {},
     "output_type": "display_data"
    },
    {
     "name": "stdout",
     "output_type": "stream",
     "text": [
      "수집한 댓글 수 :  1\n",
      "좋아요,댓글,날짜,다운로드 4\n"
     ]
    },
    {
     "data": {
      "application/vnd.jupyter.widget-view+json": {
       "model_id": "5944103f8a104ab1aabf3982f73ac294",
       "version_major": 2,
       "version_minor": 0
      },
      "text/plain": [
       "  0%|          | 0/3 [00:00<?, ?it/s]"
      ]
     },
     "metadata": {},
     "output_type": "display_data"
    },
    {
     "name": "stdout",
     "output_type": "stream",
     "text": [
      "수집한 댓글 수 :  1\n",
      "수집한 댓글 수 :  3\n",
      "수집한 댓글 수 :  3\n",
      "좋아요,댓글,날짜,다운로드 4\n"
     ]
    },
    {
     "data": {
      "application/vnd.jupyter.widget-view+json": {
       "model_id": "d90303dfd69b4176940f4fffa78ea609",
       "version_major": 2,
       "version_minor": 0
      },
      "text/plain": [
       "  0%|          | 0/4 [00:00<?, ?it/s]"
      ]
     },
     "metadata": {},
     "output_type": "display_data"
    },
    {
     "name": "stdout",
     "output_type": "stream",
     "text": [
      "수집한 댓글 수 :  1\n",
      "수집한 댓글 수 :  1\n",
      "수집한 댓글 수 :  1\n",
      "수집한 댓글 수 :  1\n",
      "좋아요,댓글,날짜,다운로드 4\n"
     ]
    },
    {
     "data": {
      "application/vnd.jupyter.widget-view+json": {
       "model_id": "0a0dfe48caed4d0694bb94e3509dbbbd",
       "version_major": 2,
       "version_minor": 0
      },
      "text/plain": [
       "0it [00:00, ?it/s]"
      ]
     },
     "metadata": {},
     "output_type": "display_data"
    },
    {
     "name": "stdout",
     "output_type": "stream",
     "text": [
      "수집한 댓글 수 :  0\n",
      "좋아요,댓글,날짜,다운로드 4\n"
     ]
    },
    {
     "data": {
      "application/vnd.jupyter.widget-view+json": {
       "model_id": "c12f7b4ba8cb41e19579ee7a6976eb4e",
       "version_major": 2,
       "version_minor": 0
      },
      "text/plain": [
       "  0%|          | 0/2 [00:00<?, ?it/s]"
      ]
     },
     "metadata": {},
     "output_type": "display_data"
    },
    {
     "name": "stdout",
     "output_type": "stream",
     "text": [
      "수집한 댓글 수 :  2\n",
      "수집한 댓글 수 :  2\n",
      "좋아요,댓글,날짜,다운로드 4\n"
     ]
    },
    {
     "data": {
      "application/vnd.jupyter.widget-view+json": {
       "model_id": "6dda657377394ee3953623206d2afd15",
       "version_major": 2,
       "version_minor": 0
      },
      "text/plain": [
       "0it [00:00, ?it/s]"
      ]
     },
     "metadata": {},
     "output_type": "display_data"
    },
    {
     "name": "stdout",
     "output_type": "stream",
     "text": [
      "수집한 댓글 수 :  0\n",
      "좋아요,댓글,날짜,다운로드 4\n"
     ]
    },
    {
     "data": {
      "application/vnd.jupyter.widget-view+json": {
       "model_id": "8c2aa166aabc400bbee01653bd2607ed",
       "version_major": 2,
       "version_minor": 0
      },
      "text/plain": [
       "0it [00:00, ?it/s]"
      ]
     },
     "metadata": {},
     "output_type": "display_data"
    },
    {
     "name": "stdout",
     "output_type": "stream",
     "text": [
      "수집한 댓글 수 :  0\n",
      "좋아요,댓글,날짜,다운로드 4\n"
     ]
    },
    {
     "data": {
      "application/vnd.jupyter.widget-view+json": {
       "model_id": "f7f98eeb0dba4f84b11a55433859d47d",
       "version_major": 2,
       "version_minor": 0
      },
      "text/plain": [
       "0it [00:00, ?it/s]"
      ]
     },
     "metadata": {},
     "output_type": "display_data"
    },
    {
     "name": "stdout",
     "output_type": "stream",
     "text": [
      "수집한 댓글 수 :  0\n",
      "좋아요,댓글,날짜,다운로드 4\n"
     ]
    },
    {
     "data": {
      "application/vnd.jupyter.widget-view+json": {
       "model_id": "a802b2e3a89d4eaa8f2ff607d3bba220",
       "version_major": 2,
       "version_minor": 0
      },
      "text/plain": [
       "  0%|          | 0/4 [00:00<?, ?it/s]"
      ]
     },
     "metadata": {},
     "output_type": "display_data"
    },
    {
     "name": "stdout",
     "output_type": "stream",
     "text": [
      "수집한 댓글 수 :  4\n",
      "수집한 댓글 수 :  4\n",
      "수집한 댓글 수 :  4\n",
      "수집한 댓글 수 :  4\n",
      "좋아요,댓글,날짜,다운로드 4\n"
     ]
    },
    {
     "data": {
      "application/vnd.jupyter.widget-view+json": {
       "model_id": "3e83dcbe1a4542b390195c4f5e92c63b",
       "version_major": 2,
       "version_minor": 0
      },
      "text/plain": [
       "0it [00:00, ?it/s]"
      ]
     },
     "metadata": {},
     "output_type": "display_data"
    },
    {
     "name": "stdout",
     "output_type": "stream",
     "text": [
      "수집한 댓글 수 :  0\n",
      "좋아요,댓글,날짜,다운로드 4\n"
     ]
    },
    {
     "data": {
      "application/vnd.jupyter.widget-view+json": {
       "model_id": "90753d698b9f4356af10242bcf582ef4",
       "version_major": 2,
       "version_minor": 0
      },
      "text/plain": [
       "  0%|          | 0/1 [00:00<?, ?it/s]"
      ]
     },
     "metadata": {},
     "output_type": "display_data"
    },
    {
     "name": "stdout",
     "output_type": "stream",
     "text": [
      "수집한 댓글 수 :  1\n",
      "좋아요,댓글,날짜,다운로드 4\n"
     ]
    },
    {
     "data": {
      "application/vnd.jupyter.widget-view+json": {
       "model_id": "6bfecf36972d43148ea9c7120a4b5262",
       "version_major": 2,
       "version_minor": 0
      },
      "text/plain": [
       "  0%|          | 0/6 [00:00<?, ?it/s]"
      ]
     },
     "metadata": {},
     "output_type": "display_data"
    },
    {
     "name": "stdout",
     "output_type": "stream",
     "text": [
      "수집한 댓글 수 :  1\n",
      "수집한 댓글 수 :  1\n",
      "수집한 댓글 수 :  1\n",
      "수집한 댓글 수 :  1\n",
      "수집한 댓글 수 :  1\n",
      "수집한 댓글 수 :  6\n",
      "좋아요,댓글,날짜,다운로드 4\n"
     ]
    },
    {
     "data": {
      "application/vnd.jupyter.widget-view+json": {
       "model_id": "78f9dd9f315e4a5d913e3f8b908f11f7",
       "version_major": 2,
       "version_minor": 0
      },
      "text/plain": [
       "  0%|          | 0/1 [00:00<?, ?it/s]"
      ]
     },
     "metadata": {},
     "output_type": "display_data"
    },
    {
     "name": "stdout",
     "output_type": "stream",
     "text": [
      "수집한 댓글 수 :  1\n",
      "좋아요,댓글,날짜,다운로드 4\n"
     ]
    },
    {
     "data": {
      "application/vnd.jupyter.widget-view+json": {
       "model_id": "4c12a2cda1924eb0aa6e20c1cfa20364",
       "version_major": 2,
       "version_minor": 0
      },
      "text/plain": [
       "  0%|          | 0/1 [00:00<?, ?it/s]"
      ]
     },
     "metadata": {},
     "output_type": "display_data"
    },
    {
     "name": "stdout",
     "output_type": "stream",
     "text": [
      "수집한 댓글 수 :  1\n",
      "좋아요,댓글,날짜,다운로드 4\n"
     ]
    },
    {
     "data": {
      "application/vnd.jupyter.widget-view+json": {
       "model_id": "a3f4d57a2524457fbb9727ea5e19d7a2",
       "version_major": 2,
       "version_minor": 0
      },
      "text/plain": [
       "  0%|          | 0/2 [00:00<?, ?it/s]"
      ]
     },
     "metadata": {},
     "output_type": "display_data"
    },
    {
     "name": "stdout",
     "output_type": "stream",
     "text": [
      "수집한 댓글 수 :  1\n",
      "수집한 댓글 수 :  2\n",
      "좋아요,댓글,날짜,다운로드 4\n"
     ]
    },
    {
     "data": {
      "application/vnd.jupyter.widget-view+json": {
       "model_id": "a6e3eb976a9349e9b0f9be76fd887857",
       "version_major": 2,
       "version_minor": 0
      },
      "text/plain": [
       "  0%|          | 0/2 [00:00<?, ?it/s]"
      ]
     },
     "metadata": {},
     "output_type": "display_data"
    },
    {
     "name": "stdout",
     "output_type": "stream",
     "text": [
      "수집한 댓글 수 :  2\n",
      "수집한 댓글 수 :  2\n",
      "좋아요,댓글,날짜,다운로드 4\n"
     ]
    },
    {
     "data": {
      "application/vnd.jupyter.widget-view+json": {
       "model_id": "676125e107484c17b2f7c4b6a62b178b",
       "version_major": 2,
       "version_minor": 0
      },
      "text/plain": [
       "  0%|          | 0/1 [00:00<?, ?it/s]"
      ]
     },
     "metadata": {},
     "output_type": "display_data"
    },
    {
     "name": "stdout",
     "output_type": "stream",
     "text": [
      "수집한 댓글 수 :  1\n",
      "좋아요,댓글,날짜,다운로드 4\n"
     ]
    },
    {
     "data": {
      "application/vnd.jupyter.widget-view+json": {
       "model_id": "754ce0b3145d45249a674b75358edec0",
       "version_major": 2,
       "version_minor": 0
      },
      "text/plain": [
       "0it [00:00, ?it/s]"
      ]
     },
     "metadata": {},
     "output_type": "display_data"
    },
    {
     "name": "stdout",
     "output_type": "stream",
     "text": [
      "수집한 댓글 수 :  0\n",
      "좋아요,댓글,날짜,다운로드 4\n"
     ]
    },
    {
     "data": {
      "application/vnd.jupyter.widget-view+json": {
       "model_id": "54dba731ada448d19f6f4b8b61be755a",
       "version_major": 2,
       "version_minor": 0
      },
      "text/plain": [
       "  0%|          | 0/4 [00:00<?, ?it/s]"
      ]
     },
     "metadata": {},
     "output_type": "display_data"
    },
    {
     "name": "stdout",
     "output_type": "stream",
     "text": [
      "수집한 댓글 수 :  1\n",
      "수집한 댓글 수 :  1\n",
      "수집한 댓글 수 :  1\n",
      "수집한 댓글 수 :  1\n",
      "좋아요,댓글,날짜,다운로드 4\n"
     ]
    },
    {
     "data": {
      "application/vnd.jupyter.widget-view+json": {
       "model_id": "a2e5c72cce7b4c99a532c0057bc75bb6",
       "version_major": 2,
       "version_minor": 0
      },
      "text/plain": [
       "  0%|          | 0/1 [00:00<?, ?it/s]"
      ]
     },
     "metadata": {},
     "output_type": "display_data"
    },
    {
     "name": "stdout",
     "output_type": "stream",
     "text": [
      "수집한 댓글 수 :  1\n",
      "좋아요,댓글,날짜,다운로드 4\n"
     ]
    },
    {
     "data": {
      "application/vnd.jupyter.widget-view+json": {
       "model_id": "72b987c6194648e98f49d23032ee74a8",
       "version_major": 2,
       "version_minor": 0
      },
      "text/plain": [
       "0it [00:00, ?it/s]"
      ]
     },
     "metadata": {},
     "output_type": "display_data"
    },
    {
     "name": "stdout",
     "output_type": "stream",
     "text": [
      "수집한 댓글 수 :  0\n",
      "좋아요,댓글,날짜,다운로드 4\n"
     ]
    },
    {
     "data": {
      "application/vnd.jupyter.widget-view+json": {
       "model_id": "d2400bbc8b514c119e3a79f273565b87",
       "version_major": 2,
       "version_minor": 0
      },
      "text/plain": [
       "  0%|          | 0/7 [00:00<?, ?it/s]"
      ]
     },
     "metadata": {},
     "output_type": "display_data"
    },
    {
     "name": "stdout",
     "output_type": "stream",
     "text": [
      "수집한 댓글 수 :  1\n",
      "수집한 댓글 수 :  5\n",
      "수집한 댓글 수 :  5\n",
      "수집한 댓글 수 :  5\n",
      "수집한 댓글 수 :  5\n",
      "수집한 댓글 수 :  5\n",
      "수집한 댓글 수 :  5\n",
      "좋아요,댓글,날짜,다운로드 4\n"
     ]
    },
    {
     "data": {
      "application/vnd.jupyter.widget-view+json": {
       "model_id": "9460bca022154891aba5161f27075b18",
       "version_major": 2,
       "version_minor": 0
      },
      "text/plain": [
       "  0%|          | 0/1 [00:00<?, ?it/s]"
      ]
     },
     "metadata": {},
     "output_type": "display_data"
    },
    {
     "name": "stdout",
     "output_type": "stream",
     "text": [
      "수집한 댓글 수 :  1\n",
      "좋아요,댓글,날짜,다운로드 4\n"
     ]
    },
    {
     "data": {
      "application/vnd.jupyter.widget-view+json": {
       "model_id": "e870626de34c4886a7f79828ca048e5a",
       "version_major": 2,
       "version_minor": 0
      },
      "text/plain": [
       "  0%|          | 0/3 [00:00<?, ?it/s]"
      ]
     },
     "metadata": {},
     "output_type": "display_data"
    },
    {
     "name": "stdout",
     "output_type": "stream",
     "text": [
      "수집한 댓글 수 :  1\n",
      "수집한 댓글 수 :  1\n",
      "수집한 댓글 수 :  1\n",
      "좋아요,댓글,날짜,다운로드 4\n"
     ]
    },
    {
     "data": {
      "application/vnd.jupyter.widget-view+json": {
       "model_id": "1515a13d0f8e46ba99426bb4deb57bbb",
       "version_major": 2,
       "version_minor": 0
      },
      "text/plain": [
       "0it [00:00, ?it/s]"
      ]
     },
     "metadata": {},
     "output_type": "display_data"
    },
    {
     "name": "stdout",
     "output_type": "stream",
     "text": [
      "수집한 댓글 수 :  0\n",
      "좋아요,댓글,날짜,다운로드 4\n"
     ]
    },
    {
     "data": {
      "application/vnd.jupyter.widget-view+json": {
       "model_id": "867900c159c2434788af507f3a048ed9",
       "version_major": 2,
       "version_minor": 0
      },
      "text/plain": [
       "0it [00:00, ?it/s]"
      ]
     },
     "metadata": {},
     "output_type": "display_data"
    },
    {
     "name": "stdout",
     "output_type": "stream",
     "text": [
      "수집한 댓글 수 :  0\n",
      "좋아요,댓글,날짜,다운로드 4\n"
     ]
    },
    {
     "data": {
      "application/vnd.jupyter.widget-view+json": {
       "model_id": "230fdcc19bf346619dabb7708735673d",
       "version_major": 2,
       "version_minor": 0
      },
      "text/plain": [
       "  0%|          | 0/2 [00:00<?, ?it/s]"
      ]
     },
     "metadata": {},
     "output_type": "display_data"
    },
    {
     "name": "stdout",
     "output_type": "stream",
     "text": [
      "수집한 댓글 수 :  1\n",
      "수집한 댓글 수 :  1\n",
      "좋아요,댓글,날짜,다운로드 4\n"
     ]
    },
    {
     "data": {
      "application/vnd.jupyter.widget-view+json": {
       "model_id": "bed073ca217e4f94bc3e8931a8e1ed08",
       "version_major": 2,
       "version_minor": 0
      },
      "text/plain": [
       "0it [00:00, ?it/s]"
      ]
     },
     "metadata": {},
     "output_type": "display_data"
    },
    {
     "name": "stdout",
     "output_type": "stream",
     "text": [
      "수집한 댓글 수 :  0\n",
      "좋아요,댓글,날짜,다운로드 4\n"
     ]
    },
    {
     "data": {
      "application/vnd.jupyter.widget-view+json": {
       "model_id": "3e19f9c5c08a43e68e95139ed7c5c2a5",
       "version_major": 2,
       "version_minor": 0
      },
      "text/plain": [
       "  0%|          | 0/1 [00:00<?, ?it/s]"
      ]
     },
     "metadata": {},
     "output_type": "display_data"
    },
    {
     "name": "stdout",
     "output_type": "stream",
     "text": [
      "수집한 댓글 수 :  1\n",
      "좋아요,댓글,날짜,다운로드 4\n"
     ]
    },
    {
     "data": {
      "application/vnd.jupyter.widget-view+json": {
       "model_id": "d7ee664ae62e4844b3e8e9d23b08a2b8",
       "version_major": 2,
       "version_minor": 0
      },
      "text/plain": [
       "  0%|          | 0/1 [00:00<?, ?it/s]"
      ]
     },
     "metadata": {},
     "output_type": "display_data"
    },
    {
     "name": "stdout",
     "output_type": "stream",
     "text": [
      "수집한 댓글 수 :  1\n",
      "좋아요,댓글,날짜,다운로드 4\n"
     ]
    },
    {
     "data": {
      "application/vnd.jupyter.widget-view+json": {
       "model_id": "de1fcd642fb64fb6be896159b8e23bf8",
       "version_major": 2,
       "version_minor": 0
      },
      "text/plain": [
       "0it [00:00, ?it/s]"
      ]
     },
     "metadata": {},
     "output_type": "display_data"
    },
    {
     "name": "stdout",
     "output_type": "stream",
     "text": [
      "수집한 댓글 수 :  0\n",
      "좋아요,댓글,날짜,다운로드 4\n"
     ]
    },
    {
     "data": {
      "application/vnd.jupyter.widget-view+json": {
       "model_id": "a475a7f838cc456a887950e37ee2c5c0",
       "version_major": 2,
       "version_minor": 0
      },
      "text/plain": [
       "  0%|          | 0/2 [00:00<?, ?it/s]"
      ]
     },
     "metadata": {},
     "output_type": "display_data"
    },
    {
     "name": "stdout",
     "output_type": "stream",
     "text": [
      "수집한 댓글 수 :  1\n",
      "수집한 댓글 수 :  2\n",
      "좋아요,댓글,날짜,다운로드 4\n"
     ]
    },
    {
     "data": {
      "application/vnd.jupyter.widget-view+json": {
       "model_id": "92128ff1181342fd990f7c54c5702bcb",
       "version_major": 2,
       "version_minor": 0
      },
      "text/plain": [
       "  0%|          | 0/3 [00:00<?, ?it/s]"
      ]
     },
     "metadata": {},
     "output_type": "display_data"
    },
    {
     "name": "stdout",
     "output_type": "stream",
     "text": [
      "수집한 댓글 수 :  1\n",
      "수집한 댓글 수 :  1\n",
      "수집한 댓글 수 :  3\n",
      "좋아요,댓글,날짜,다운로드 4\n"
     ]
    },
    {
     "data": {
      "application/vnd.jupyter.widget-view+json": {
       "model_id": "1728db0d51f0451189cbe1190f4cd303",
       "version_major": 2,
       "version_minor": 0
      },
      "text/plain": [
       "  0%|          | 0/5 [00:00<?, ?it/s]"
      ]
     },
     "metadata": {},
     "output_type": "display_data"
    },
    {
     "name": "stdout",
     "output_type": "stream",
     "text": [
      "수집한 댓글 수 :  1\n",
      "수집한 댓글 수 :  5\n",
      "수집한 댓글 수 :  5\n",
      "수집한 댓글 수 :  5\n",
      "수집한 댓글 수 :  5\n",
      "좋아요,댓글,날짜,다운로드 4\n"
     ]
    },
    {
     "data": {
      "application/vnd.jupyter.widget-view+json": {
       "model_id": "edc5727566194f3d89510eb14dbace18",
       "version_major": 2,
       "version_minor": 0
      },
      "text/plain": [
       "  0%|          | 0/1 [00:00<?, ?it/s]"
      ]
     },
     "metadata": {},
     "output_type": "display_data"
    },
    {
     "name": "stdout",
     "output_type": "stream",
     "text": [
      "수집한 댓글 수 :  1\n",
      "좋아요,댓글,날짜,다운로드 4\n"
     ]
    },
    {
     "data": {
      "application/vnd.jupyter.widget-view+json": {
       "model_id": "8ebcc0d61b604cf4b293f039d91400f5",
       "version_major": 2,
       "version_minor": 0
      },
      "text/plain": [
       "  0%|          | 0/2 [00:00<?, ?it/s]"
      ]
     },
     "metadata": {},
     "output_type": "display_data"
    },
    {
     "name": "stdout",
     "output_type": "stream",
     "text": [
      "수집한 댓글 수 :  1\n",
      "수집한 댓글 수 :  2\n",
      "좋아요,댓글,날짜,다운로드 4\n"
     ]
    },
    {
     "data": {
      "application/vnd.jupyter.widget-view+json": {
       "model_id": "a02462975411478ca6d615a78d24db81",
       "version_major": 2,
       "version_minor": 0
      },
      "text/plain": [
       "0it [00:00, ?it/s]"
      ]
     },
     "metadata": {},
     "output_type": "display_data"
    },
    {
     "name": "stdout",
     "output_type": "stream",
     "text": [
      "수집한 댓글 수 :  0\n",
      "좋아요,댓글,날짜,다운로드 4\n"
     ]
    },
    {
     "data": {
      "application/vnd.jupyter.widget-view+json": {
       "model_id": "9551b4b33d1340c6b52f7a745524983f",
       "version_major": 2,
       "version_minor": 0
      },
      "text/plain": [
       "0it [00:00, ?it/s]"
      ]
     },
     "metadata": {},
     "output_type": "display_data"
    },
    {
     "name": "stdout",
     "output_type": "stream",
     "text": [
      "수집한 댓글 수 :  0\n",
      "좋아요,댓글,날짜,다운로드 4\n"
     ]
    },
    {
     "data": {
      "application/vnd.jupyter.widget-view+json": {
       "model_id": "ee7bc6baf32c45e59f74f077953a466e",
       "version_major": 2,
       "version_minor": 0
      },
      "text/plain": [
       "  0%|          | 0/2 [00:00<?, ?it/s]"
      ]
     },
     "metadata": {},
     "output_type": "display_data"
    },
    {
     "name": "stdout",
     "output_type": "stream",
     "text": [
      "수집한 댓글 수 :  1\n",
      "수집한 댓글 수 :  2\n",
      "좋아요,댓글,날짜,다운로드 4\n"
     ]
    },
    {
     "data": {
      "application/vnd.jupyter.widget-view+json": {
       "model_id": "102d8075220b4363ab2993c96280ca99",
       "version_major": 2,
       "version_minor": 0
      },
      "text/plain": [
       "0it [00:00, ?it/s]"
      ]
     },
     "metadata": {},
     "output_type": "display_data"
    },
    {
     "name": "stdout",
     "output_type": "stream",
     "text": [
      "수집한 댓글 수 :  0\n",
      "좋아요,댓글,날짜,다운로드 4\n"
     ]
    },
    {
     "data": {
      "application/vnd.jupyter.widget-view+json": {
       "model_id": "1e0299bf64d14aa6b4ffbac0df0af401",
       "version_major": 2,
       "version_minor": 0
      },
      "text/plain": [
       "  0%|          | 0/2 [00:00<?, ?it/s]"
      ]
     },
     "metadata": {},
     "output_type": "display_data"
    },
    {
     "name": "stdout",
     "output_type": "stream",
     "text": [
      "수집한 댓글 수 :  1\n",
      "수집한 댓글 수 :  1\n",
      "좋아요,댓글,날짜,다운로드 4\n"
     ]
    },
    {
     "data": {
      "application/vnd.jupyter.widget-view+json": {
       "model_id": "70784f6a89d145c9a1e775d317709dd3",
       "version_major": 2,
       "version_minor": 0
      },
      "text/plain": [
       "  0%|          | 0/3 [00:00<?, ?it/s]"
      ]
     },
     "metadata": {},
     "output_type": "display_data"
    },
    {
     "name": "stdout",
     "output_type": "stream",
     "text": [
      "수집한 댓글 수 :  1\n",
      "수집한 댓글 수 :  3\n",
      "수집한 댓글 수 :  3\n",
      "좋아요,댓글,날짜,다운로드 4\n"
     ]
    },
    {
     "data": {
      "application/vnd.jupyter.widget-view+json": {
       "model_id": "bf0d7104689747b68e9aa088987b54d5",
       "version_major": 2,
       "version_minor": 0
      },
      "text/plain": [
       "  0%|          | 0/1 [00:00<?, ?it/s]"
      ]
     },
     "metadata": {},
     "output_type": "display_data"
    },
    {
     "name": "stdout",
     "output_type": "stream",
     "text": [
      "수집한 댓글 수 :  1\n",
      "좋아요,댓글,날짜,다운로드 4\n"
     ]
    },
    {
     "data": {
      "application/vnd.jupyter.widget-view+json": {
       "model_id": "f6ad6ce97cf940dd91b5f475c47fb2ba",
       "version_major": 2,
       "version_minor": 0
      },
      "text/plain": [
       "  0%|          | 0/11 [00:00<?, ?it/s]"
      ]
     },
     "metadata": {},
     "output_type": "display_data"
    },
    {
     "name": "stdout",
     "output_type": "stream",
     "text": [
      "수집한 댓글 수 :  1\n",
      "수집한 댓글 수 :  1\n",
      "수집한 댓글 수 :  11\n",
      "수집한 댓글 수 :  11\n",
      "수집한 댓글 수 :  11\n",
      "수집한 댓글 수 :  11\n",
      "수집한 댓글 수 :  11\n",
      "수집한 댓글 수 :  11\n",
      "수집한 댓글 수 :  11\n",
      "수집한 댓글 수 :  11\n",
      "좋아요,댓글,날짜,다운로드 4\n"
     ]
    },
    {
     "data": {
      "application/vnd.jupyter.widget-view+json": {
       "model_id": "7c316364741847beac6ffe0afee6b96a",
       "version_major": 2,
       "version_minor": 0
      },
      "text/plain": [
       "0it [00:00, ?it/s]"
      ]
     },
     "metadata": {},
     "output_type": "display_data"
    },
    {
     "name": "stdout",
     "output_type": "stream",
     "text": [
      "수집한 댓글 수 :  0\n",
      "좋아요,댓글,날짜,다운로드 4\n"
     ]
    },
    {
     "data": {
      "application/vnd.jupyter.widget-view+json": {
       "model_id": "9ad2ca651bb049dc9ae30c7059d56a25",
       "version_major": 2,
       "version_minor": 0
      },
      "text/plain": [
       "  0%|          | 0/2 [00:00<?, ?it/s]"
      ]
     },
     "metadata": {},
     "output_type": "display_data"
    },
    {
     "name": "stdout",
     "output_type": "stream",
     "text": [
      "수집한 댓글 수 :  2\n",
      "수집한 댓글 수 :  2\n",
      "좋아요,댓글,날짜,다운로드 4\n"
     ]
    },
    {
     "data": {
      "application/vnd.jupyter.widget-view+json": {
       "model_id": "fbf7a43a0bb540c594f463133ebd60ed",
       "version_major": 2,
       "version_minor": 0
      },
      "text/plain": [
       "  0%|          | 0/2 [00:00<?, ?it/s]"
      ]
     },
     "metadata": {},
     "output_type": "display_data"
    },
    {
     "name": "stdout",
     "output_type": "stream",
     "text": [
      "수집한 댓글 수 :  2\n",
      "수집한 댓글 수 :  2\n",
      "좋아요,댓글,날짜,다운로드 4\n"
     ]
    },
    {
     "data": {
      "application/vnd.jupyter.widget-view+json": {
       "model_id": "b89009b5b1fd47b9bde4385fff64e1d6",
       "version_major": 2,
       "version_minor": 0
      },
      "text/plain": [
       "  0%|          | 0/5 [00:00<?, ?it/s]"
      ]
     },
     "metadata": {},
     "output_type": "display_data"
    },
    {
     "name": "stdout",
     "output_type": "stream",
     "text": [
      "수집한 댓글 수 :  1\n",
      "수집한 댓글 수 :  1\n",
      "수집한 댓글 수 :  5\n",
      "수집한 댓글 수 :  5\n",
      "수집한 댓글 수 :  5\n",
      "좋아요,댓글,날짜,다운로드 4\n"
     ]
    },
    {
     "data": {
      "application/vnd.jupyter.widget-view+json": {
       "model_id": "98a5876bd1e04f25a7027a9a1c72d236",
       "version_major": 2,
       "version_minor": 0
      },
      "text/plain": [
       "  0%|          | 0/3 [00:00<?, ?it/s]"
      ]
     },
     "metadata": {},
     "output_type": "display_data"
    },
    {
     "name": "stdout",
     "output_type": "stream",
     "text": [
      "수집한 댓글 수 :  1\n",
      "수집한 댓글 수 :  1\n",
      "수집한 댓글 수 :  3\n",
      "좋아요,댓글,날짜,다운로드 4\n"
     ]
    },
    {
     "data": {
      "application/vnd.jupyter.widget-view+json": {
       "model_id": "9e3dbd8191414b39956e4c13a395d1b5",
       "version_major": 2,
       "version_minor": 0
      },
      "text/plain": [
       "  0%|          | 0/6 [00:00<?, ?it/s]"
      ]
     },
     "metadata": {},
     "output_type": "display_data"
    },
    {
     "name": "stdout",
     "output_type": "stream",
     "text": [
      "수집한 댓글 수 :  1\n",
      "수집한 댓글 수 :  6\n",
      "수집한 댓글 수 :  6\n",
      "수집한 댓글 수 :  6\n",
      "수집한 댓글 수 :  6\n",
      "수집한 댓글 수 :  6\n",
      "좋아요,댓글,날짜,다운로드 4\n"
     ]
    },
    {
     "data": {
      "application/vnd.jupyter.widget-view+json": {
       "model_id": "19549a9ea07c4dba895540f8b5bd996b",
       "version_major": 2,
       "version_minor": 0
      },
      "text/plain": [
       "  0%|          | 0/1 [00:00<?, ?it/s]"
      ]
     },
     "metadata": {},
     "output_type": "display_data"
    },
    {
     "name": "stdout",
     "output_type": "stream",
     "text": [
      "수집한 댓글 수 :  1\n",
      "좋아요,댓글,날짜,다운로드 4\n"
     ]
    },
    {
     "data": {
      "application/vnd.jupyter.widget-view+json": {
       "model_id": "8b53875e0485466780cda88317d2bbc4",
       "version_major": 2,
       "version_minor": 0
      },
      "text/plain": [
       "  0%|          | 0/1 [00:00<?, ?it/s]"
      ]
     },
     "metadata": {},
     "output_type": "display_data"
    },
    {
     "name": "stdout",
     "output_type": "stream",
     "text": [
      "수집한 댓글 수 :  1\n",
      "좋아요,댓글,날짜,다운로드 4\n"
     ]
    },
    {
     "data": {
      "application/vnd.jupyter.widget-view+json": {
       "model_id": "658d1848b9004710943ee0b507df51fc",
       "version_major": 2,
       "version_minor": 0
      },
      "text/plain": [
       "0it [00:00, ?it/s]"
      ]
     },
     "metadata": {},
     "output_type": "display_data"
    },
    {
     "name": "stdout",
     "output_type": "stream",
     "text": [
      "수집한 댓글 수 :  0\n",
      "좋아요,댓글,날짜,다운로드 4\n"
     ]
    },
    {
     "data": {
      "application/vnd.jupyter.widget-view+json": {
       "model_id": "4a6fbc9f79fa4c8385a2fde65b0060fd",
       "version_major": 2,
       "version_minor": 0
      },
      "text/plain": [
       "  0%|          | 0/4 [00:00<?, ?it/s]"
      ]
     },
     "metadata": {},
     "output_type": "display_data"
    },
    {
     "name": "stdout",
     "output_type": "stream",
     "text": [
      "수집한 댓글 수 :  1\n",
      "수집한 댓글 수 :  4\n",
      "수집한 댓글 수 :  4\n",
      "수집한 댓글 수 :  4\n",
      "좋아요,댓글,날짜,다운로드 4\n"
     ]
    },
    {
     "data": {
      "application/vnd.jupyter.widget-view+json": {
       "model_id": "1eb2fec0427b459ca683bd7d7b59666d",
       "version_major": 2,
       "version_minor": 0
      },
      "text/plain": [
       "  0%|          | 0/2 [00:00<?, ?it/s]"
      ]
     },
     "metadata": {},
     "output_type": "display_data"
    },
    {
     "name": "stdout",
     "output_type": "stream",
     "text": [
      "수집한 댓글 수 :  1\n",
      "수집한 댓글 수 :  1\n",
      "좋아요,댓글,날짜,다운로드 4\n"
     ]
    },
    {
     "data": {
      "application/vnd.jupyter.widget-view+json": {
       "model_id": "c8ad2f44e8dc4b84af0aba4115c03d39",
       "version_major": 2,
       "version_minor": 0
      },
      "text/plain": [
       "  0%|          | 0/1 [00:00<?, ?it/s]"
      ]
     },
     "metadata": {},
     "output_type": "display_data"
    },
    {
     "name": "stdout",
     "output_type": "stream",
     "text": [
      "수집한 댓글 수 :  1\n",
      "좋아요,댓글,날짜,다운로드 4\n"
     ]
    },
    {
     "data": {
      "application/vnd.jupyter.widget-view+json": {
       "model_id": "89a868098b484b97a6cb87191a49dbab",
       "version_major": 2,
       "version_minor": 0
      },
      "text/plain": [
       "  0%|          | 0/2 [00:00<?, ?it/s]"
      ]
     },
     "metadata": {},
     "output_type": "display_data"
    },
    {
     "name": "stdout",
     "output_type": "stream",
     "text": [
      "수집한 댓글 수 :  1\n",
      "수집한 댓글 수 :  1\n",
      "좋아요,댓글,날짜,다운로드 4\n"
     ]
    },
    {
     "data": {
      "application/vnd.jupyter.widget-view+json": {
       "model_id": "b2f0f6e6328a4e07b5ea9ee21cce722c",
       "version_major": 2,
       "version_minor": 0
      },
      "text/plain": [
       "0it [00:00, ?it/s]"
      ]
     },
     "metadata": {},
     "output_type": "display_data"
    },
    {
     "name": "stdout",
     "output_type": "stream",
     "text": [
      "수집한 댓글 수 :  0\n",
      "좋아요,댓글,날짜,다운로드 4\n"
     ]
    },
    {
     "data": {
      "application/vnd.jupyter.widget-view+json": {
       "model_id": "846702e8834e4cba9adf98f44575992d",
       "version_major": 2,
       "version_minor": 0
      },
      "text/plain": [
       "  0%|          | 0/2 [00:00<?, ?it/s]"
      ]
     },
     "metadata": {},
     "output_type": "display_data"
    },
    {
     "name": "stdout",
     "output_type": "stream",
     "text": [
      "수집한 댓글 수 :  1\n",
      "수집한 댓글 수 :  2\n",
      "좋아요,댓글,날짜,다운로드 4\n"
     ]
    },
    {
     "data": {
      "application/vnd.jupyter.widget-view+json": {
       "model_id": "a063bcd168d74816b89b80d7c5bbbc3d",
       "version_major": 2,
       "version_minor": 0
      },
      "text/plain": [
       "  0%|          | 0/1 [00:00<?, ?it/s]"
      ]
     },
     "metadata": {},
     "output_type": "display_data"
    },
    {
     "name": "stdout",
     "output_type": "stream",
     "text": [
      "수집한 댓글 수 :  1\n",
      "좋아요,댓글,날짜,다운로드 4\n"
     ]
    },
    {
     "data": {
      "application/vnd.jupyter.widget-view+json": {
       "model_id": "21a2be5610b64150bb4ffc9419f455f9",
       "version_major": 2,
       "version_minor": 0
      },
      "text/plain": [
       "  0%|          | 0/2 [00:00<?, ?it/s]"
      ]
     },
     "metadata": {},
     "output_type": "display_data"
    },
    {
     "name": "stdout",
     "output_type": "stream",
     "text": [
      "수집한 댓글 수 :  2\n",
      "수집한 댓글 수 :  2\n",
      "좋아요,댓글,날짜,다운로드 4\n"
     ]
    },
    {
     "data": {
      "application/vnd.jupyter.widget-view+json": {
       "model_id": "89961000b6474e8caabac64cccf60f97",
       "version_major": 2,
       "version_minor": 0
      },
      "text/plain": [
       "0it [00:00, ?it/s]"
      ]
     },
     "metadata": {},
     "output_type": "display_data"
    },
    {
     "name": "stdout",
     "output_type": "stream",
     "text": [
      "수집한 댓글 수 :  0\n",
      "좋아요,댓글,날짜,다운로드 4\n"
     ]
    },
    {
     "data": {
      "application/vnd.jupyter.widget-view+json": {
       "model_id": "30e5c93ce0984eb89dbe1c2adf06c795",
       "version_major": 2,
       "version_minor": 0
      },
      "text/plain": [
       "  0%|          | 0/2 [00:00<?, ?it/s]"
      ]
     },
     "metadata": {},
     "output_type": "display_data"
    },
    {
     "name": "stdout",
     "output_type": "stream",
     "text": [
      "수집한 댓글 수 :  1\n",
      "수집한 댓글 수 :  1\n",
      "좋아요,댓글,날짜,다운로드 4\n"
     ]
    },
    {
     "data": {
      "application/vnd.jupyter.widget-view+json": {
       "model_id": "1c01a213a8a645ba9b91e4662271e5a8",
       "version_major": 2,
       "version_minor": 0
      },
      "text/plain": [
       "  0%|          | 0/1 [00:00<?, ?it/s]"
      ]
     },
     "metadata": {},
     "output_type": "display_data"
    },
    {
     "name": "stdout",
     "output_type": "stream",
     "text": [
      "수집한 댓글 수 :  1\n",
      "좋아요,댓글,날짜,다운로드 4\n"
     ]
    },
    {
     "data": {
      "application/vnd.jupyter.widget-view+json": {
       "model_id": "25f24fdaa9fe4e5dbfd641e728888d79",
       "version_major": 2,
       "version_minor": 0
      },
      "text/plain": [
       "0it [00:00, ?it/s]"
      ]
     },
     "metadata": {},
     "output_type": "display_data"
    },
    {
     "name": "stdout",
     "output_type": "stream",
     "text": [
      "수집한 댓글 수 :  0\n",
      "좋아요,댓글,날짜,다운로드 4\n"
     ]
    },
    {
     "data": {
      "application/vnd.jupyter.widget-view+json": {
       "model_id": "f00c75ae2f74442296e63cfd737bd861",
       "version_major": 2,
       "version_minor": 0
      },
      "text/plain": [
       "0it [00:00, ?it/s]"
      ]
     },
     "metadata": {},
     "output_type": "display_data"
    },
    {
     "name": "stdout",
     "output_type": "stream",
     "text": [
      "수집한 댓글 수 :  0\n",
      "좋아요,댓글,날짜,다운로드 4\n"
     ]
    },
    {
     "data": {
      "application/vnd.jupyter.widget-view+json": {
       "model_id": "fab007340fee44ca8726766af7c0d891",
       "version_major": 2,
       "version_minor": 0
      },
      "text/plain": [
       "  0%|          | 0/5 [00:00<?, ?it/s]"
      ]
     },
     "metadata": {},
     "output_type": "display_data"
    },
    {
     "name": "stdout",
     "output_type": "stream",
     "text": [
      "수집한 댓글 수 :  1\n",
      "수집한 댓글 수 :  5\n",
      "수집한 댓글 수 :  5\n",
      "수집한 댓글 수 :  5\n",
      "수집한 댓글 수 :  5\n",
      "좋아요,댓글,날짜,다운로드 4\n"
     ]
    },
    {
     "data": {
      "application/vnd.jupyter.widget-view+json": {
       "model_id": "f0d0322843034448b97be468b34af91a",
       "version_major": 2,
       "version_minor": 0
      },
      "text/plain": [
       "  0%|          | 0/3 [00:00<?, ?it/s]"
      ]
     },
     "metadata": {},
     "output_type": "display_data"
    },
    {
     "name": "stdout",
     "output_type": "stream",
     "text": [
      "수집한 댓글 수 :  3\n",
      "수집한 댓글 수 :  3\n",
      "수집한 댓글 수 :  3\n",
      "좋아요,댓글,날짜,다운로드 4\n"
     ]
    },
    {
     "data": {
      "application/vnd.jupyter.widget-view+json": {
       "model_id": "c103a1c0d5494a21b254b8acd87c718b",
       "version_major": 2,
       "version_minor": 0
      },
      "text/plain": [
       "  0%|          | 0/2 [00:00<?, ?it/s]"
      ]
     },
     "metadata": {},
     "output_type": "display_data"
    },
    {
     "name": "stdout",
     "output_type": "stream",
     "text": [
      "수집한 댓글 수 :  1\n",
      "수집한 댓글 수 :  2\n",
      "좋아요,댓글,날짜,다운로드 4\n"
     ]
    },
    {
     "data": {
      "application/vnd.jupyter.widget-view+json": {
       "model_id": "6ab666c6d6d8449aad873955ab6dea70",
       "version_major": 2,
       "version_minor": 0
      },
      "text/plain": [
       "  0%|          | 0/3 [00:00<?, ?it/s]"
      ]
     },
     "metadata": {},
     "output_type": "display_data"
    },
    {
     "name": "stdout",
     "output_type": "stream",
     "text": [
      "수집한 댓글 수 :  1\n",
      "수집한 댓글 수 :  3\n",
      "수집한 댓글 수 :  3\n",
      "좋아요,댓글,날짜,다운로드 4\n"
     ]
    },
    {
     "data": {
      "application/vnd.jupyter.widget-view+json": {
       "model_id": "d0837946cc164d29a9964345557c8183",
       "version_major": 2,
       "version_minor": 0
      },
      "text/plain": [
       "0it [00:00, ?it/s]"
      ]
     },
     "metadata": {},
     "output_type": "display_data"
    },
    {
     "name": "stdout",
     "output_type": "stream",
     "text": [
      "수집한 댓글 수 :  0\n",
      "좋아요,댓글,날짜,다운로드 4\n"
     ]
    },
    {
     "data": {
      "application/vnd.jupyter.widget-view+json": {
       "model_id": "cff5bcd82d284407a77169ec20e07be2",
       "version_major": 2,
       "version_minor": 0
      },
      "text/plain": [
       "  0%|          | 0/9 [00:00<?, ?it/s]"
      ]
     },
     "metadata": {},
     "output_type": "display_data"
    },
    {
     "name": "stdout",
     "output_type": "stream",
     "text": [
      "수집한 댓글 수 :  1\n",
      "수집한 댓글 수 :  6\n",
      "수집한 댓글 수 :  6\n",
      "수집한 댓글 수 :  6\n",
      "수집한 댓글 수 :  6\n",
      "수집한 댓글 수 :  6\n",
      "수집한 댓글 수 :  6\n",
      "수집한 댓글 수 :  6\n",
      "수집한 댓글 수 :  6\n",
      "좋아요,댓글,날짜,다운로드 4\n"
     ]
    },
    {
     "data": {
      "application/vnd.jupyter.widget-view+json": {
       "model_id": "9d134b4db34347b296367f19664b6e48",
       "version_major": 2,
       "version_minor": 0
      },
      "text/plain": [
       "  0%|          | 0/7 [00:00<?, ?it/s]"
      ]
     },
     "metadata": {},
     "output_type": "display_data"
    },
    {
     "name": "stdout",
     "output_type": "stream",
     "text": [
      "수집한 댓글 수 :  1\n",
      "수집한 댓글 수 :  1\n",
      "수집한 댓글 수 :  7\n",
      "수집한 댓글 수 :  7\n",
      "수집한 댓글 수 :  7\n",
      "수집한 댓글 수 :  7\n",
      "수집한 댓글 수 :  7\n",
      "좋아요,댓글,날짜,다운로드 4\n"
     ]
    },
    {
     "data": {
      "application/vnd.jupyter.widget-view+json": {
       "model_id": "631e28a935a54fabb581a8daa18b3e58",
       "version_major": 2,
       "version_minor": 0
      },
      "text/plain": [
       "  0%|          | 0/1 [00:00<?, ?it/s]"
      ]
     },
     "metadata": {},
     "output_type": "display_data"
    },
    {
     "name": "stdout",
     "output_type": "stream",
     "text": [
      "수집한 댓글 수 :  1\n",
      "좋아요,댓글,날짜,다운로드 4\n"
     ]
    },
    {
     "data": {
      "application/vnd.jupyter.widget-view+json": {
       "model_id": "cb62b2e8595241809a80d2ad2de2ea2e",
       "version_major": 2,
       "version_minor": 0
      },
      "text/plain": [
       "  0%|          | 0/6 [00:00<?, ?it/s]"
      ]
     },
     "metadata": {},
     "output_type": "display_data"
    },
    {
     "name": "stdout",
     "output_type": "stream",
     "text": [
      "수집한 댓글 수 :  1\n",
      "수집한 댓글 수 :  6\n",
      "수집한 댓글 수 :  6\n",
      "수집한 댓글 수 :  6\n",
      "수집한 댓글 수 :  6\n",
      "수집한 댓글 수 :  6\n",
      "좋아요,댓글,날짜,다운로드 4\n"
     ]
    },
    {
     "data": {
      "application/vnd.jupyter.widget-view+json": {
       "model_id": "a8896ba853184530be1bac2542ef01c4",
       "version_major": 2,
       "version_minor": 0
      },
      "text/plain": [
       "0it [00:00, ?it/s]"
      ]
     },
     "metadata": {},
     "output_type": "display_data"
    },
    {
     "name": "stdout",
     "output_type": "stream",
     "text": [
      "수집한 댓글 수 :  0\n",
      "좋아요,댓글,날짜,다운로드 4\n"
     ]
    },
    {
     "data": {
      "application/vnd.jupyter.widget-view+json": {
       "model_id": "3e99cdec7fe54dcea1f46f94e1e042b1",
       "version_major": 2,
       "version_minor": 0
      },
      "text/plain": [
       "  0%|          | 0/5 [00:00<?, ?it/s]"
      ]
     },
     "metadata": {},
     "output_type": "display_data"
    },
    {
     "name": "stdout",
     "output_type": "stream",
     "text": [
      "수집한 댓글 수 :  1\n",
      "수집한 댓글 수 :  4\n",
      "수집한 댓글 수 :  4\n",
      "수집한 댓글 수 :  4\n",
      "수집한 댓글 수 :  4\n",
      "좋아요,댓글,날짜,다운로드 4\n"
     ]
    },
    {
     "data": {
      "application/vnd.jupyter.widget-view+json": {
       "model_id": "7143eaa1b29b4f56ba85cbf339e21fea",
       "version_major": 2,
       "version_minor": 0
      },
      "text/plain": [
       "  0%|          | 0/6 [00:00<?, ?it/s]"
      ]
     },
     "metadata": {},
     "output_type": "display_data"
    },
    {
     "name": "stdout",
     "output_type": "stream",
     "text": [
      "수집한 댓글 수 :  1\n",
      "수집한 댓글 수 :  1\n",
      "수집한 댓글 수 :  1\n",
      "수집한 댓글 수 :  1\n",
      "수집한 댓글 수 :  1\n",
      "수집한 댓글 수 :  6\n",
      "좋아요,댓글,날짜,다운로드 4\n"
     ]
    },
    {
     "data": {
      "application/vnd.jupyter.widget-view+json": {
       "model_id": "c110d5c0cc354d298c8ce10d1dc56606",
       "version_major": 2,
       "version_minor": 0
      },
      "text/plain": [
       "  0%|          | 0/1 [00:00<?, ?it/s]"
      ]
     },
     "metadata": {},
     "output_type": "display_data"
    },
    {
     "name": "stdout",
     "output_type": "stream",
     "text": [
      "수집한 댓글 수 :  1\n",
      "좋아요,댓글,날짜,다운로드 4\n"
     ]
    },
    {
     "data": {
      "application/vnd.jupyter.widget-view+json": {
       "model_id": "acaa5a4894c6481f972365569259211b",
       "version_major": 2,
       "version_minor": 0
      },
      "text/plain": [
       "  0%|          | 0/7 [00:00<?, ?it/s]"
      ]
     },
     "metadata": {},
     "output_type": "display_data"
    },
    {
     "name": "stdout",
     "output_type": "stream",
     "text": [
      "수집한 댓글 수 :  1\n",
      "수집한 댓글 수 :  1\n",
      "수집한 댓글 수 :  6\n",
      "수집한 댓글 수 :  6\n",
      "수집한 댓글 수 :  6\n",
      "수집한 댓글 수 :  6\n",
      "수집한 댓글 수 :  6\n",
      "좋아요,댓글,날짜,다운로드 4\n"
     ]
    },
    {
     "data": {
      "application/vnd.jupyter.widget-view+json": {
       "model_id": "e1232fd692a64177865e5a9c6aedaa2e",
       "version_major": 2,
       "version_minor": 0
      },
      "text/plain": [
       "0it [00:00, ?it/s]"
      ]
     },
     "metadata": {},
     "output_type": "display_data"
    },
    {
     "name": "stdout",
     "output_type": "stream",
     "text": [
      "수집한 댓글 수 :  0\n",
      "좋아요,댓글,날짜,다운로드 4\n"
     ]
    },
    {
     "data": {
      "application/vnd.jupyter.widget-view+json": {
       "model_id": "d204146ab90846029257a2bb012df88c",
       "version_major": 2,
       "version_minor": 0
      },
      "text/plain": [
       "  0%|          | 0/1 [00:00<?, ?it/s]"
      ]
     },
     "metadata": {},
     "output_type": "display_data"
    },
    {
     "name": "stdout",
     "output_type": "stream",
     "text": [
      "수집한 댓글 수 :  1\n",
      "좋아요,댓글,날짜,다운로드 4\n"
     ]
    },
    {
     "data": {
      "application/vnd.jupyter.widget-view+json": {
       "model_id": "dd2995bce6fd486bbb172902766f963c",
       "version_major": 2,
       "version_minor": 0
      },
      "text/plain": [
       "  0%|          | 0/3 [00:00<?, ?it/s]"
      ]
     },
     "metadata": {},
     "output_type": "display_data"
    },
    {
     "name": "stdout",
     "output_type": "stream",
     "text": [
      "수집한 댓글 수 :  3\n",
      "수집한 댓글 수 :  3\n",
      "수집한 댓글 수 :  3\n",
      "좋아요,댓글,날짜,다운로드 4\n"
     ]
    },
    {
     "data": {
      "application/vnd.jupyter.widget-view+json": {
       "model_id": "ed9db18e645149b0a5a4e93bd0df6256",
       "version_major": 2,
       "version_minor": 0
      },
      "text/plain": [
       "0it [00:00, ?it/s]"
      ]
     },
     "metadata": {},
     "output_type": "display_data"
    },
    {
     "name": "stdout",
     "output_type": "stream",
     "text": [
      "수집한 댓글 수 :  0\n",
      "좋아요,댓글,날짜,다운로드 4\n"
     ]
    },
    {
     "data": {
      "application/vnd.jupyter.widget-view+json": {
       "model_id": "cace6001092e4f6b8eff6aa86da9998c",
       "version_major": 2,
       "version_minor": 0
      },
      "text/plain": [
       "  0%|          | 0/3 [00:00<?, ?it/s]"
      ]
     },
     "metadata": {},
     "output_type": "display_data"
    },
    {
     "name": "stdout",
     "output_type": "stream",
     "text": [
      "수집한 댓글 수 :  1\n",
      "수집한 댓글 수 :  3\n",
      "수집한 댓글 수 :  3\n",
      "좋아요,댓글,날짜,다운로드 4\n"
     ]
    },
    {
     "data": {
      "application/vnd.jupyter.widget-view+json": {
       "model_id": "eaf27065e5a04340a2341e5f5a023b22",
       "version_major": 2,
       "version_minor": 0
      },
      "text/plain": [
       "  0%|          | 0/5 [00:00<?, ?it/s]"
      ]
     },
     "metadata": {},
     "output_type": "display_data"
    },
    {
     "name": "stdout",
     "output_type": "stream",
     "text": [
      "수집한 댓글 수 :  1\n",
      "수집한 댓글 수 :  5\n",
      "수집한 댓글 수 :  5\n",
      "수집한 댓글 수 :  5\n",
      "수집한 댓글 수 :  5\n",
      "좋아요,댓글,날짜,다운로드 4\n"
     ]
    },
    {
     "data": {
      "application/vnd.jupyter.widget-view+json": {
       "model_id": "51a1b252da3446a0a0f7c6f5c7f55a61",
       "version_major": 2,
       "version_minor": 0
      },
      "text/plain": [
       "  0%|          | 0/8 [00:00<?, ?it/s]"
      ]
     },
     "metadata": {},
     "output_type": "display_data"
    },
    {
     "name": "stdout",
     "output_type": "stream",
     "text": [
      "수집한 댓글 수 :  1\n",
      "수집한 댓글 수 :  1\n",
      "수집한 댓글 수 :  1\n",
      "수집한 댓글 수 :  1\n",
      "수집한 댓글 수 :  4\n",
      "수집한 댓글 수 :  4\n",
      "수집한 댓글 수 :  4\n",
      "수집한 댓글 수 :  4\n",
      "좋아요,댓글,날짜,다운로드 4\n"
     ]
    },
    {
     "data": {
      "application/vnd.jupyter.widget-view+json": {
       "model_id": "24c1bb22f0b4434f982757b911df88fe",
       "version_major": 2,
       "version_minor": 0
      },
      "text/plain": [
       "0it [00:00, ?it/s]"
      ]
     },
     "metadata": {},
     "output_type": "display_data"
    },
    {
     "name": "stdout",
     "output_type": "stream",
     "text": [
      "수집한 댓글 수 :  0\n",
      "좋아요,댓글,날짜,다운로드 4\n"
     ]
    },
    {
     "data": {
      "application/vnd.jupyter.widget-view+json": {
       "model_id": "08e624e033324aa0a5d9e1464ef23de3",
       "version_major": 2,
       "version_minor": 0
      },
      "text/plain": [
       "0it [00:00, ?it/s]"
      ]
     },
     "metadata": {},
     "output_type": "display_data"
    },
    {
     "name": "stdout",
     "output_type": "stream",
     "text": [
      "수집한 댓글 수 :  0\n",
      "좋아요,댓글,날짜,다운로드 4\n"
     ]
    },
    {
     "data": {
      "application/vnd.jupyter.widget-view+json": {
       "model_id": "f4e427322868420595edcde4b4d97c82",
       "version_major": 2,
       "version_minor": 0
      },
      "text/plain": [
       "0it [00:00, ?it/s]"
      ]
     },
     "metadata": {},
     "output_type": "display_data"
    },
    {
     "name": "stdout",
     "output_type": "stream",
     "text": [
      "수집한 댓글 수 :  0\n",
      "좋아요,댓글,날짜,다운로드 4\n"
     ]
    },
    {
     "data": {
      "application/vnd.jupyter.widget-view+json": {
       "model_id": "ba4fb70f23cd43438aa277487f5256a0",
       "version_major": 2,
       "version_minor": 0
      },
      "text/plain": [
       "  0%|          | 0/5 [00:00<?, ?it/s]"
      ]
     },
     "metadata": {},
     "output_type": "display_data"
    },
    {
     "name": "stdout",
     "output_type": "stream",
     "text": [
      "수집한 댓글 수 :  1\n",
      "수집한 댓글 수 :  1\n",
      "수집한 댓글 수 :  1\n",
      "수집한 댓글 수 :  5\n",
      "수집한 댓글 수 :  5\n",
      "좋아요,댓글,날짜,다운로드 4\n"
     ]
    },
    {
     "data": {
      "application/vnd.jupyter.widget-view+json": {
       "model_id": "943fbd4224d8471aa547b1435e6752ce",
       "version_major": 2,
       "version_minor": 0
      },
      "text/plain": [
       "  0%|          | 0/7 [00:00<?, ?it/s]"
      ]
     },
     "metadata": {},
     "output_type": "display_data"
    },
    {
     "name": "stdout",
     "output_type": "stream",
     "text": [
      "수집한 댓글 수 :  7\n",
      "수집한 댓글 수 :  7\n",
      "수집한 댓글 수 :  7\n",
      "수집한 댓글 수 :  7\n",
      "수집한 댓글 수 :  7\n",
      "수집한 댓글 수 :  7\n",
      "수집한 댓글 수 :  7\n",
      "좋아요,댓글,날짜,다운로드 4\n"
     ]
    },
    {
     "data": {
      "application/vnd.jupyter.widget-view+json": {
       "model_id": "587922935219415fbef46a4263544d46",
       "version_major": 2,
       "version_minor": 0
      },
      "text/plain": [
       "  0%|          | 0/1 [00:00<?, ?it/s]"
      ]
     },
     "metadata": {},
     "output_type": "display_data"
    },
    {
     "name": "stdout",
     "output_type": "stream",
     "text": [
      "수집한 댓글 수 :  1\n",
      "좋아요,댓글,날짜,다운로드 4\n"
     ]
    },
    {
     "data": {
      "application/vnd.jupyter.widget-view+json": {
       "model_id": "927c11c0f7ab488c9af9efc9e2278194",
       "version_major": 2,
       "version_minor": 0
      },
      "text/plain": [
       "  0%|          | 0/1 [00:00<?, ?it/s]"
      ]
     },
     "metadata": {},
     "output_type": "display_data"
    },
    {
     "name": "stdout",
     "output_type": "stream",
     "text": [
      "수집한 댓글 수 :  1\n",
      "좋아요,댓글,날짜,다운로드 4\n"
     ]
    },
    {
     "data": {
      "application/vnd.jupyter.widget-view+json": {
       "model_id": "d985123417604024a39bba1f825e20c0",
       "version_major": 2,
       "version_minor": 0
      },
      "text/plain": [
       "0it [00:00, ?it/s]"
      ]
     },
     "metadata": {},
     "output_type": "display_data"
    },
    {
     "name": "stdout",
     "output_type": "stream",
     "text": [
      "수집한 댓글 수 :  0\n",
      "좋아요,댓글,날짜,다운로드 4\n"
     ]
    },
    {
     "data": {
      "application/vnd.jupyter.widget-view+json": {
       "model_id": "213fb656c4504446af8b206c007a72fc",
       "version_major": 2,
       "version_minor": 0
      },
      "text/plain": [
       "  0%|          | 0/3 [00:00<?, ?it/s]"
      ]
     },
     "metadata": {},
     "output_type": "display_data"
    },
    {
     "name": "stdout",
     "output_type": "stream",
     "text": [
      "수집한 댓글 수 :  2\n",
      "수집한 댓글 수 :  2\n",
      "수집한 댓글 수 :  2\n",
      "좋아요,댓글,날짜,다운로드 4\n"
     ]
    },
    {
     "data": {
      "application/vnd.jupyter.widget-view+json": {
       "model_id": "8b0d361763ee480d9951e117f5ac3ed2",
       "version_major": 2,
       "version_minor": 0
      },
      "text/plain": [
       "0it [00:00, ?it/s]"
      ]
     },
     "metadata": {},
     "output_type": "display_data"
    },
    {
     "name": "stdout",
     "output_type": "stream",
     "text": [
      "수집한 댓글 수 :  0\n",
      "좋아요,댓글,날짜,다운로드 4\n"
     ]
    },
    {
     "data": {
      "application/vnd.jupyter.widget-view+json": {
       "model_id": "96d716a21e4b48bf8404353d5fa83a34",
       "version_major": 2,
       "version_minor": 0
      },
      "text/plain": [
       "  0%|          | 0/3 [00:00<?, ?it/s]"
      ]
     },
     "metadata": {},
     "output_type": "display_data"
    },
    {
     "name": "stdout",
     "output_type": "stream",
     "text": [
      "수집한 댓글 수 :  1\n",
      "수집한 댓글 수 :  3\n",
      "수집한 댓글 수 :  3\n",
      "좋아요,댓글,날짜,다운로드 4\n"
     ]
    },
    {
     "data": {
      "application/vnd.jupyter.widget-view+json": {
       "model_id": "abb93a18dc3d424592a9ef53adbab7de",
       "version_major": 2,
       "version_minor": 0
      },
      "text/plain": [
       "  0%|          | 0/2 [00:00<?, ?it/s]"
      ]
     },
     "metadata": {},
     "output_type": "display_data"
    },
    {
     "name": "stdout",
     "output_type": "stream",
     "text": [
      "수집한 댓글 수 :  1\n",
      "수집한 댓글 수 :  1\n",
      "좋아요,댓글,날짜,다운로드 4\n"
     ]
    },
    {
     "data": {
      "application/vnd.jupyter.widget-view+json": {
       "model_id": "e53f4fb7309d4ae3954c2a9382a1ebac",
       "version_major": 2,
       "version_minor": 0
      },
      "text/plain": [
       "  0%|          | 0/1 [00:00<?, ?it/s]"
      ]
     },
     "metadata": {},
     "output_type": "display_data"
    },
    {
     "name": "stdout",
     "output_type": "stream",
     "text": [
      "수집한 댓글 수 :  1\n",
      "좋아요,댓글,날짜,다운로드 4\n"
     ]
    },
    {
     "data": {
      "application/vnd.jupyter.widget-view+json": {
       "model_id": "472578688cd0413485b6ce7b5a6d8cda",
       "version_major": 2,
       "version_minor": 0
      },
      "text/plain": [
       "  0%|          | 0/6 [00:00<?, ?it/s]"
      ]
     },
     "metadata": {},
     "output_type": "display_data"
    },
    {
     "name": "stdout",
     "output_type": "stream",
     "text": [
      "수집한 댓글 수 :  1\n",
      "수집한 댓글 수 :  1\n",
      "수집한 댓글 수 :  5\n",
      "수집한 댓글 수 :  5\n",
      "수집한 댓글 수 :  5\n",
      "수집한 댓글 수 :  5\n",
      "좋아요,댓글,날짜,다운로드 4\n"
     ]
    },
    {
     "data": {
      "application/vnd.jupyter.widget-view+json": {
       "model_id": "12f6b6a5b9804f7ba4d9260e943d82e5",
       "version_major": 2,
       "version_minor": 0
      },
      "text/plain": [
       "  0%|          | 0/3 [00:00<?, ?it/s]"
      ]
     },
     "metadata": {},
     "output_type": "display_data"
    },
    {
     "name": "stdout",
     "output_type": "stream",
     "text": [
      "수집한 댓글 수 :  1\n",
      "수집한 댓글 수 :  3\n",
      "수집한 댓글 수 :  3\n",
      "좋아요,댓글,날짜,다운로드 4\n"
     ]
    },
    {
     "data": {
      "application/vnd.jupyter.widget-view+json": {
       "model_id": "3aa3c8306fb6441abeeaf0a2a04e07b3",
       "version_major": 2,
       "version_minor": 0
      },
      "text/plain": [
       "0it [00:00, ?it/s]"
      ]
     },
     "metadata": {},
     "output_type": "display_data"
    },
    {
     "name": "stdout",
     "output_type": "stream",
     "text": [
      "수집한 댓글 수 :  0\n",
      "좋아요,댓글,날짜,다운로드 4\n"
     ]
    },
    {
     "data": {
      "application/vnd.jupyter.widget-view+json": {
       "model_id": "96159e83fa9d498fa340f26786f1c8bd",
       "version_major": 2,
       "version_minor": 0
      },
      "text/plain": [
       "  0%|          | 0/1 [00:00<?, ?it/s]"
      ]
     },
     "metadata": {},
     "output_type": "display_data"
    },
    {
     "name": "stdout",
     "output_type": "stream",
     "text": [
      "수집한 댓글 수 :  1\n",
      "좋아요,댓글,날짜,다운로드 4\n"
     ]
    },
    {
     "data": {
      "application/vnd.jupyter.widget-view+json": {
       "model_id": "19d4842cea674838908bc106c62e5f3a",
       "version_major": 2,
       "version_minor": 0
      },
      "text/plain": [
       "  0%|          | 0/2 [00:00<?, ?it/s]"
      ]
     },
     "metadata": {},
     "output_type": "display_data"
    },
    {
     "name": "stdout",
     "output_type": "stream",
     "text": [
      "수집한 댓글 수 :  1\n",
      "수집한 댓글 수 :  1\n",
      "좋아요,댓글,날짜,다운로드 4\n"
     ]
    },
    {
     "data": {
      "application/vnd.jupyter.widget-view+json": {
       "model_id": "ce0e2682a9424cf4a3f4f0f7e98a096f",
       "version_major": 2,
       "version_minor": 0
      },
      "text/plain": [
       "  0%|          | 0/1 [00:00<?, ?it/s]"
      ]
     },
     "metadata": {},
     "output_type": "display_data"
    },
    {
     "name": "stdout",
     "output_type": "stream",
     "text": [
      "수집한 댓글 수 :  1\n",
      "좋아요,댓글,날짜,다운로드 4\n"
     ]
    },
    {
     "data": {
      "application/vnd.jupyter.widget-view+json": {
       "model_id": "6279ec40081748b38724d638b852c855",
       "version_major": 2,
       "version_minor": 0
      },
      "text/plain": [
       "  0%|          | 0/1 [00:00<?, ?it/s]"
      ]
     },
     "metadata": {},
     "output_type": "display_data"
    },
    {
     "name": "stdout",
     "output_type": "stream",
     "text": [
      "수집한 댓글 수 :  1\n",
      "좋아요,댓글,날짜,다운로드 4\n"
     ]
    },
    {
     "data": {
      "application/vnd.jupyter.widget-view+json": {
       "model_id": "6aff4a7349f74247ae5f2b071635f113",
       "version_major": 2,
       "version_minor": 0
      },
      "text/plain": [
       "0it [00:00, ?it/s]"
      ]
     },
     "metadata": {},
     "output_type": "display_data"
    },
    {
     "name": "stdout",
     "output_type": "stream",
     "text": [
      "수집한 댓글 수 :  0\n",
      "좋아요,댓글,날짜,다운로드 4\n"
     ]
    },
    {
     "data": {
      "application/vnd.jupyter.widget-view+json": {
       "model_id": "a8b01ba049574d0197f53ed813d5bf1a",
       "version_major": 2,
       "version_minor": 0
      },
      "text/plain": [
       "  0%|          | 0/12 [00:00<?, ?it/s]"
      ]
     },
     "metadata": {},
     "output_type": "display_data"
    },
    {
     "name": "stdout",
     "output_type": "stream",
     "text": [
      "수집한 댓글 수 :  1\n",
      "수집한 댓글 수 :  9\n",
      "수집한 댓글 수 :  9\n",
      "수집한 댓글 수 :  9\n",
      "수집한 댓글 수 :  9\n",
      "수집한 댓글 수 :  9\n",
      "수집한 댓글 수 :  9\n",
      "수집한 댓글 수 :  9\n",
      "수집한 댓글 수 :  9\n",
      "수집한 댓글 수 :  9\n",
      "수집한 댓글 수 :  9\n",
      "좋아요,댓글,날짜,다운로드 4\n"
     ]
    },
    {
     "data": {
      "application/vnd.jupyter.widget-view+json": {
       "model_id": "d88a49a68db543869c9d5c4a9a0e4e16",
       "version_major": 2,
       "version_minor": 0
      },
      "text/plain": [
       "0it [00:00, ?it/s]"
      ]
     },
     "metadata": {},
     "output_type": "display_data"
    },
    {
     "name": "stdout",
     "output_type": "stream",
     "text": [
      "수집한 댓글 수 :  0\n",
      "좋아요,댓글,날짜,다운로드 4\n"
     ]
    },
    {
     "data": {
      "application/vnd.jupyter.widget-view+json": {
       "model_id": "6e3bf2c2db714d6f892c3037a4aa707f",
       "version_major": 2,
       "version_minor": 0
      },
      "text/plain": [
       "  0%|          | 0/4 [00:00<?, ?it/s]"
      ]
     },
     "metadata": {},
     "output_type": "display_data"
    },
    {
     "name": "stdout",
     "output_type": "stream",
     "text": [
      "수집한 댓글 수 :  1\n",
      "수집한 댓글 수 :  1\n",
      "수집한 댓글 수 :  1\n",
      "수집한 댓글 수 :  1\n",
      "좋아요,댓글,날짜,다운로드 4\n"
     ]
    },
    {
     "data": {
      "application/vnd.jupyter.widget-view+json": {
       "model_id": "28de815de8e04c39b8bba00aea21c867",
       "version_major": 2,
       "version_minor": 0
      },
      "text/plain": [
       "0it [00:00, ?it/s]"
      ]
     },
     "metadata": {},
     "output_type": "display_data"
    },
    {
     "name": "stdout",
     "output_type": "stream",
     "text": [
      "수집한 댓글 수 :  0\n",
      "좋아요,댓글,날짜,다운로드 4\n"
     ]
    },
    {
     "data": {
      "application/vnd.jupyter.widget-view+json": {
       "model_id": "926fc0abd7854d5f9d5b775d8e416d05",
       "version_major": 2,
       "version_minor": 0
      },
      "text/plain": [
       "0it [00:00, ?it/s]"
      ]
     },
     "metadata": {},
     "output_type": "display_data"
    },
    {
     "name": "stdout",
     "output_type": "stream",
     "text": [
      "수집한 댓글 수 :  0\n",
      "좋아요,댓글,날짜,다운로드 4\n"
     ]
    },
    {
     "data": {
      "application/vnd.jupyter.widget-view+json": {
       "model_id": "dce0d3c947d44908982e6fc942c8e68d",
       "version_major": 2,
       "version_minor": 0
      },
      "text/plain": [
       "0it [00:00, ?it/s]"
      ]
     },
     "metadata": {},
     "output_type": "display_data"
    },
    {
     "name": "stdout",
     "output_type": "stream",
     "text": [
      "수집한 댓글 수 :  0\n",
      "좋아요,댓글,날짜,다운로드 4\n"
     ]
    },
    {
     "data": {
      "application/vnd.jupyter.widget-view+json": {
       "model_id": "b19e98463e7347e4a79cf060e62cd381",
       "version_major": 2,
       "version_minor": 0
      },
      "text/plain": [
       "  0%|          | 0/1 [00:00<?, ?it/s]"
      ]
     },
     "metadata": {},
     "output_type": "display_data"
    },
    {
     "name": "stdout",
     "output_type": "stream",
     "text": [
      "수집한 댓글 수 :  1\n",
      "좋아요,댓글,날짜,다운로드 4\n"
     ]
    },
    {
     "data": {
      "application/vnd.jupyter.widget-view+json": {
       "model_id": "a1fdeeaf357e4607a65aac69236984a3",
       "version_major": 2,
       "version_minor": 0
      },
      "text/plain": [
       "0it [00:00, ?it/s]"
      ]
     },
     "metadata": {},
     "output_type": "display_data"
    },
    {
     "name": "stdout",
     "output_type": "stream",
     "text": [
      "수집한 댓글 수 :  0\n",
      "좋아요,댓글,날짜,다운로드 4\n"
     ]
    },
    {
     "data": {
      "application/vnd.jupyter.widget-view+json": {
       "model_id": "1c1676bd6bc147f5ae9cad87af612898",
       "version_major": 2,
       "version_minor": 0
      },
      "text/plain": [
       "  0%|          | 0/5 [00:00<?, ?it/s]"
      ]
     },
     "metadata": {},
     "output_type": "display_data"
    },
    {
     "name": "stdout",
     "output_type": "stream",
     "text": [
      "수집한 댓글 수 :  1\n",
      "수집한 댓글 수 :  1\n",
      "수집한 댓글 수 :  1\n",
      "수집한 댓글 수 :  5\n",
      "수집한 댓글 수 :  5\n",
      "좋아요,댓글,날짜,다운로드 4\n"
     ]
    },
    {
     "data": {
      "application/vnd.jupyter.widget-view+json": {
       "model_id": "258bca7d050348cf8bb59a527eaf71e4",
       "version_major": 2,
       "version_minor": 0
      },
      "text/plain": [
       "  0%|          | 0/8 [00:00<?, ?it/s]"
      ]
     },
     "metadata": {},
     "output_type": "display_data"
    },
    {
     "name": "stdout",
     "output_type": "stream",
     "text": [
      "수집한 댓글 수 :  8\n",
      "수집한 댓글 수 :  8\n",
      "수집한 댓글 수 :  8\n",
      "수집한 댓글 수 :  8\n",
      "수집한 댓글 수 :  8\n",
      "수집한 댓글 수 :  8\n",
      "수집한 댓글 수 :  8\n",
      "수집한 댓글 수 :  8\n",
      "좋아요,댓글,날짜,다운로드 4\n"
     ]
    },
    {
     "data": {
      "application/vnd.jupyter.widget-view+json": {
       "model_id": "3669dbbab92848769b0767582f3a2990",
       "version_major": 2,
       "version_minor": 0
      },
      "text/plain": [
       "  0%|          | 0/3 [00:00<?, ?it/s]"
      ]
     },
     "metadata": {},
     "output_type": "display_data"
    },
    {
     "name": "stdout",
     "output_type": "stream",
     "text": [
      "수집한 댓글 수 :  1\n",
      "수집한 댓글 수 :  1\n",
      "수집한 댓글 수 :  1\n",
      "좋아요,댓글,날짜,다운로드 4\n"
     ]
    },
    {
     "data": {
      "application/vnd.jupyter.widget-view+json": {
       "model_id": "40680f52a3ac4ba28136e71add4578a8",
       "version_major": 2,
       "version_minor": 0
      },
      "text/plain": [
       "  0%|          | 0/2 [00:00<?, ?it/s]"
      ]
     },
     "metadata": {},
     "output_type": "display_data"
    },
    {
     "name": "stdout",
     "output_type": "stream",
     "text": [
      "수집한 댓글 수 :  1\n",
      "수집한 댓글 수 :  2\n",
      "좋아요,댓글,날짜,다운로드 4\n"
     ]
    },
    {
     "data": {
      "application/vnd.jupyter.widget-view+json": {
       "model_id": "ec88fbcab770468bbcab77f77e322a96",
       "version_major": 2,
       "version_minor": 0
      },
      "text/plain": [
       "  0%|          | 0/6 [00:00<?, ?it/s]"
      ]
     },
     "metadata": {},
     "output_type": "display_data"
    },
    {
     "name": "stdout",
     "output_type": "stream",
     "text": [
      "수집한 댓글 수 :  1\n",
      "수집한 댓글 수 :  6\n",
      "수집한 댓글 수 :  6\n",
      "수집한 댓글 수 :  6\n",
      "수집한 댓글 수 :  6\n",
      "수집한 댓글 수 :  6\n",
      "좋아요,댓글,날짜,다운로드 4\n"
     ]
    },
    {
     "data": {
      "application/vnd.jupyter.widget-view+json": {
       "model_id": "434d45c104d74c3a9b03cd792e954a9d",
       "version_major": 2,
       "version_minor": 0
      },
      "text/plain": [
       "0it [00:00, ?it/s]"
      ]
     },
     "metadata": {},
     "output_type": "display_data"
    },
    {
     "name": "stdout",
     "output_type": "stream",
     "text": [
      "수집한 댓글 수 :  0\n",
      "좋아요,댓글,날짜,다운로드 4\n"
     ]
    },
    {
     "data": {
      "application/vnd.jupyter.widget-view+json": {
       "model_id": "18e518a0650144c8967a85269425a422",
       "version_major": 2,
       "version_minor": 0
      },
      "text/plain": [
       "  0%|          | 0/1 [00:00<?, ?it/s]"
      ]
     },
     "metadata": {},
     "output_type": "display_data"
    },
    {
     "name": "stdout",
     "output_type": "stream",
     "text": [
      "수집한 댓글 수 :  1\n",
      "좋아요,댓글,날짜,다운로드 4\n"
     ]
    },
    {
     "data": {
      "application/vnd.jupyter.widget-view+json": {
       "model_id": "b0c01a9f57624b51b508a1c88860c933",
       "version_major": 2,
       "version_minor": 0
      },
      "text/plain": [
       "  0%|          | 0/2 [00:00<?, ?it/s]"
      ]
     },
     "metadata": {},
     "output_type": "display_data"
    },
    {
     "name": "stdout",
     "output_type": "stream",
     "text": [
      "수집한 댓글 수 :  1\n",
      "수집한 댓글 수 :  2\n",
      "좋아요,댓글,날짜,다운로드 4\n"
     ]
    },
    {
     "data": {
      "application/vnd.jupyter.widget-view+json": {
       "model_id": "4032165f3f57437daf0a6c61696ffecc",
       "version_major": 2,
       "version_minor": 0
      },
      "text/plain": [
       "0it [00:00, ?it/s]"
      ]
     },
     "metadata": {},
     "output_type": "display_data"
    },
    {
     "name": "stdout",
     "output_type": "stream",
     "text": [
      "수집한 댓글 수 :  0\n",
      "좋아요,댓글,날짜,다운로드 4\n"
     ]
    },
    {
     "data": {
      "application/vnd.jupyter.widget-view+json": {
       "model_id": "43f351b5c5e047db91b5114637c42b88",
       "version_major": 2,
       "version_minor": 0
      },
      "text/plain": [
       "  0%|          | 0/7 [00:00<?, ?it/s]"
      ]
     },
     "metadata": {},
     "output_type": "display_data"
    },
    {
     "name": "stdout",
     "output_type": "stream",
     "text": [
      "수집한 댓글 수 :  1\n",
      "수집한 댓글 수 :  1\n",
      "수집한 댓글 수 :  1\n",
      "수집한 댓글 수 :  1\n",
      "수집한 댓글 수 :  1\n",
      "수집한 댓글 수 :  1\n",
      "수집한 댓글 수 :  1\n",
      "좋아요,댓글,날짜,다운로드 4\n"
     ]
    },
    {
     "data": {
      "application/vnd.jupyter.widget-view+json": {
       "model_id": "22c8d40e7d9d4c8aaff162f68647a700",
       "version_major": 2,
       "version_minor": 0
      },
      "text/plain": [
       "0it [00:00, ?it/s]"
      ]
     },
     "metadata": {},
     "output_type": "display_data"
    },
    {
     "name": "stdout",
     "output_type": "stream",
     "text": [
      "수집한 댓글 수 :  0\n",
      "좋아요,댓글,날짜,다운로드 4\n"
     ]
    },
    {
     "data": {
      "application/vnd.jupyter.widget-view+json": {
       "model_id": "f65d82e8760747218ef69a8664c21fdd",
       "version_major": 2,
       "version_minor": 0
      },
      "text/plain": [
       "  0%|          | 0/1 [00:00<?, ?it/s]"
      ]
     },
     "metadata": {},
     "output_type": "display_data"
    },
    {
     "name": "stdout",
     "output_type": "stream",
     "text": [
      "수집한 댓글 수 :  1\n",
      "좋아요,댓글,날짜,다운로드 4\n"
     ]
    },
    {
     "data": {
      "application/vnd.jupyter.widget-view+json": {
       "model_id": "7dd9d3405ed34187853e3fb7129a4478",
       "version_major": 2,
       "version_minor": 0
      },
      "text/plain": [
       "0it [00:00, ?it/s]"
      ]
     },
     "metadata": {},
     "output_type": "display_data"
    },
    {
     "name": "stdout",
     "output_type": "stream",
     "text": [
      "수집한 댓글 수 :  0\n",
      "좋아요,댓글,날짜,다운로드 4\n"
     ]
    },
    {
     "data": {
      "application/vnd.jupyter.widget-view+json": {
       "model_id": "07679317d4bb4a1e98942aecaeb8c87b",
       "version_major": 2,
       "version_minor": 0
      },
      "text/plain": [
       "  0%|          | 0/1 [00:00<?, ?it/s]"
      ]
     },
     "metadata": {},
     "output_type": "display_data"
    },
    {
     "name": "stdout",
     "output_type": "stream",
     "text": [
      "수집한 댓글 수 :  1\n",
      "좋아요,댓글,날짜,다운로드 4\n"
     ]
    },
    {
     "data": {
      "application/vnd.jupyter.widget-view+json": {
       "model_id": "276319b14a724672a609d12d886603eb",
       "version_major": 2,
       "version_minor": 0
      },
      "text/plain": [
       "  0%|          | 0/1 [00:00<?, ?it/s]"
      ]
     },
     "metadata": {},
     "output_type": "display_data"
    },
    {
     "name": "stdout",
     "output_type": "stream",
     "text": [
      "수집한 댓글 수 :  1\n",
      "좋아요,댓글,날짜,다운로드 4\n"
     ]
    },
    {
     "data": {
      "application/vnd.jupyter.widget-view+json": {
       "model_id": "e4c19cb426414127b5061912fbddf842",
       "version_major": 2,
       "version_minor": 0
      },
      "text/plain": [
       "0it [00:00, ?it/s]"
      ]
     },
     "metadata": {},
     "output_type": "display_data"
    },
    {
     "name": "stdout",
     "output_type": "stream",
     "text": [
      "수집한 댓글 수 :  0\n",
      "좋아요,댓글,날짜,다운로드 4\n"
     ]
    },
    {
     "data": {
      "application/vnd.jupyter.widget-view+json": {
       "model_id": "cddf87d5b0ac440683747d227e90c614",
       "version_major": 2,
       "version_minor": 0
      },
      "text/plain": [
       "0it [00:00, ?it/s]"
      ]
     },
     "metadata": {},
     "output_type": "display_data"
    },
    {
     "name": "stdout",
     "output_type": "stream",
     "text": [
      "수집한 댓글 수 :  0\n",
      "좋아요,댓글,날짜,다운로드 4\n"
     ]
    },
    {
     "data": {
      "application/vnd.jupyter.widget-view+json": {
       "model_id": "fd734a0433784b29872153a6d55d8b45",
       "version_major": 2,
       "version_minor": 0
      },
      "text/plain": [
       "  0%|          | 0/3 [00:00<?, ?it/s]"
      ]
     },
     "metadata": {},
     "output_type": "display_data"
    },
    {
     "name": "stdout",
     "output_type": "stream",
     "text": [
      "수집한 댓글 수 :  1\n",
      "수집한 댓글 수 :  2\n",
      "수집한 댓글 수 :  2\n",
      "좋아요,댓글,날짜,다운로드 4\n"
     ]
    },
    {
     "data": {
      "application/vnd.jupyter.widget-view+json": {
       "model_id": "4426e0031c304960bec51e0bfba13846",
       "version_major": 2,
       "version_minor": 0
      },
      "text/plain": [
       "  0%|          | 0/5 [00:00<?, ?it/s]"
      ]
     },
     "metadata": {},
     "output_type": "display_data"
    },
    {
     "name": "stdout",
     "output_type": "stream",
     "text": [
      "수집한 댓글 수 :  1\n",
      "수집한 댓글 수 :  1\n",
      "수집한 댓글 수 :  1\n",
      "수집한 댓글 수 :  5\n",
      "수집한 댓글 수 :  5\n",
      "좋아요,댓글,날짜,다운로드 4\n"
     ]
    },
    {
     "data": {
      "application/vnd.jupyter.widget-view+json": {
       "model_id": "c1e2c698ba62469da1c80d4f629311ba",
       "version_major": 2,
       "version_minor": 0
      },
      "text/plain": [
       "  0%|          | 0/3 [00:00<?, ?it/s]"
      ]
     },
     "metadata": {},
     "output_type": "display_data"
    },
    {
     "name": "stdout",
     "output_type": "stream",
     "text": [
      "수집한 댓글 수 :  1\n",
      "수집한 댓글 수 :  3\n",
      "수집한 댓글 수 :  3\n",
      "좋아요,댓글,날짜,다운로드 4\n"
     ]
    },
    {
     "data": {
      "application/vnd.jupyter.widget-view+json": {
       "model_id": "85cc6da28c28422a9341bb7210b5d54f",
       "version_major": 2,
       "version_minor": 0
      },
      "text/plain": [
       "  0%|          | 0/2 [00:00<?, ?it/s]"
      ]
     },
     "metadata": {},
     "output_type": "display_data"
    },
    {
     "name": "stdout",
     "output_type": "stream",
     "text": [
      "수집한 댓글 수 :  1\n",
      "수집한 댓글 수 :  1\n",
      "좋아요,댓글,날짜,다운로드 4\n"
     ]
    },
    {
     "data": {
      "application/vnd.jupyter.widget-view+json": {
       "model_id": "d487d685e20044f08e58b649314546e8",
       "version_major": 2,
       "version_minor": 0
      },
      "text/plain": [
       "0it [00:00, ?it/s]"
      ]
     },
     "metadata": {},
     "output_type": "display_data"
    },
    {
     "name": "stdout",
     "output_type": "stream",
     "text": [
      "수집한 댓글 수 :  0\n",
      "좋아요,댓글,날짜,다운로드 4\n"
     ]
    },
    {
     "data": {
      "application/vnd.jupyter.widget-view+json": {
       "model_id": "9f1221e06c5a44179d30294317fb4b92",
       "version_major": 2,
       "version_minor": 0
      },
      "text/plain": [
       "  0%|          | 0/1 [00:00<?, ?it/s]"
      ]
     },
     "metadata": {},
     "output_type": "display_data"
    },
    {
     "name": "stdout",
     "output_type": "stream",
     "text": [
      "수집한 댓글 수 :  1\n",
      "좋아요,댓글,날짜,다운로드 4\n"
     ]
    },
    {
     "data": {
      "application/vnd.jupyter.widget-view+json": {
       "model_id": "9a4c64c578724e41ac00dd73d1574a7a",
       "version_major": 2,
       "version_minor": 0
      },
      "text/plain": [
       "0it [00:00, ?it/s]"
      ]
     },
     "metadata": {},
     "output_type": "display_data"
    },
    {
     "name": "stdout",
     "output_type": "stream",
     "text": [
      "수집한 댓글 수 :  0\n",
      "좋아요,댓글,날짜,다운로드 4\n"
     ]
    },
    {
     "data": {
      "application/vnd.jupyter.widget-view+json": {
       "model_id": "b262fba1387f49c3b1ee33b2dba5b55b",
       "version_major": 2,
       "version_minor": 0
      },
      "text/plain": [
       "0it [00:00, ?it/s]"
      ]
     },
     "metadata": {},
     "output_type": "display_data"
    },
    {
     "name": "stdout",
     "output_type": "stream",
     "text": [
      "수집한 댓글 수 :  0\n",
      "좋아요,댓글,날짜,다운로드 4\n"
     ]
    },
    {
     "data": {
      "application/vnd.jupyter.widget-view+json": {
       "model_id": "9ad8bf932f1046568cc34965c5918bcc",
       "version_major": 2,
       "version_minor": 0
      },
      "text/plain": [
       "0it [00:00, ?it/s]"
      ]
     },
     "metadata": {},
     "output_type": "display_data"
    },
    {
     "name": "stdout",
     "output_type": "stream",
     "text": [
      "수집한 댓글 수 :  0\n",
      "좋아요,댓글,날짜,다운로드 4\n"
     ]
    },
    {
     "data": {
      "application/vnd.jupyter.widget-view+json": {
       "model_id": "958e82c6b49143c78f77d279faa24976",
       "version_major": 2,
       "version_minor": 0
      },
      "text/plain": [
       "  0%|          | 0/5 [00:00<?, ?it/s]"
      ]
     },
     "metadata": {},
     "output_type": "display_data"
    },
    {
     "name": "stdout",
     "output_type": "stream",
     "text": [
      "수집한 댓글 수 :  1\n",
      "수집한 댓글 수 :  1\n",
      "수집한 댓글 수 :  5\n",
      "수집한 댓글 수 :  5\n",
      "수집한 댓글 수 :  5\n",
      "좋아요,댓글,날짜,다운로드 4\n"
     ]
    },
    {
     "data": {
      "application/vnd.jupyter.widget-view+json": {
       "model_id": "7e69981aad6549fd9de38f17e05d43c5",
       "version_major": 2,
       "version_minor": 0
      },
      "text/plain": [
       "  0%|          | 0/2 [00:00<?, ?it/s]"
      ]
     },
     "metadata": {},
     "output_type": "display_data"
    },
    {
     "name": "stdout",
     "output_type": "stream",
     "text": [
      "수집한 댓글 수 :  1\n",
      "수집한 댓글 수 :  1\n",
      "좋아요,댓글,날짜,다운로드 4\n"
     ]
    },
    {
     "data": {
      "application/vnd.jupyter.widget-view+json": {
       "model_id": "41bcfbeec0274c7f81b9646b903b5b6b",
       "version_major": 2,
       "version_minor": 0
      },
      "text/plain": [
       "  0%|          | 0/1 [00:00<?, ?it/s]"
      ]
     },
     "metadata": {},
     "output_type": "display_data"
    },
    {
     "name": "stdout",
     "output_type": "stream",
     "text": [
      "수집한 댓글 수 :  1\n",
      "좋아요,댓글,날짜,다운로드 4\n"
     ]
    },
    {
     "data": {
      "application/vnd.jupyter.widget-view+json": {
       "model_id": "439dbf6034434cecaedd4377cb03c7bb",
       "version_major": 2,
       "version_minor": 0
      },
      "text/plain": [
       "0it [00:00, ?it/s]"
      ]
     },
     "metadata": {},
     "output_type": "display_data"
    },
    {
     "name": "stdout",
     "output_type": "stream",
     "text": [
      "수집한 댓글 수 :  0\n",
      "좋아요,댓글,날짜,다운로드 4\n"
     ]
    },
    {
     "data": {
      "application/vnd.jupyter.widget-view+json": {
       "model_id": "9c20dc5bd0114774aee3d8d0781733c9",
       "version_major": 2,
       "version_minor": 0
      },
      "text/plain": [
       "  0%|          | 0/2 [00:00<?, ?it/s]"
      ]
     },
     "metadata": {},
     "output_type": "display_data"
    },
    {
     "name": "stdout",
     "output_type": "stream",
     "text": [
      "수집한 댓글 수 :  1\n",
      "수집한 댓글 수 :  1\n",
      "좋아요,댓글,날짜,다운로드 4\n"
     ]
    },
    {
     "data": {
      "application/vnd.jupyter.widget-view+json": {
       "model_id": "5fb8cde0198b415e9891b5da873f7bad",
       "version_major": 2,
       "version_minor": 0
      },
      "text/plain": [
       "  0%|          | 0/2 [00:00<?, ?it/s]"
      ]
     },
     "metadata": {},
     "output_type": "display_data"
    },
    {
     "name": "stdout",
     "output_type": "stream",
     "text": [
      "수집한 댓글 수 :  1\n",
      "수집한 댓글 수 :  2\n",
      "좋아요,댓글,날짜,다운로드 4\n"
     ]
    },
    {
     "data": {
      "application/vnd.jupyter.widget-view+json": {
       "model_id": "19f2879381414a3aa5ca3d7a21314448",
       "version_major": 2,
       "version_minor": 0
      },
      "text/plain": [
       "  0%|          | 0/2 [00:00<?, ?it/s]"
      ]
     },
     "metadata": {},
     "output_type": "display_data"
    },
    {
     "name": "stdout",
     "output_type": "stream",
     "text": [
      "수집한 댓글 수 :  1\n",
      "수집한 댓글 수 :  1\n",
      "좋아요,댓글,날짜,다운로드 4\n"
     ]
    },
    {
     "data": {
      "application/vnd.jupyter.widget-view+json": {
       "model_id": "e16c2b9bfa114fa38c49fffbcc6371ce",
       "version_major": 2,
       "version_minor": 0
      },
      "text/plain": [
       "  0%|          | 0/3 [00:00<?, ?it/s]"
      ]
     },
     "metadata": {},
     "output_type": "display_data"
    },
    {
     "name": "stdout",
     "output_type": "stream",
     "text": [
      "수집한 댓글 수 :  1\n",
      "수집한 댓글 수 :  1\n",
      "수집한 댓글 수 :  1\n",
      "좋아요,댓글,날짜,다운로드 4\n"
     ]
    },
    {
     "data": {
      "application/vnd.jupyter.widget-view+json": {
       "model_id": "d1483e08fb6e48cfb61a0cebd9c6499c",
       "version_major": 2,
       "version_minor": 0
      },
      "text/plain": [
       "  0%|          | 0/3 [00:00<?, ?it/s]"
      ]
     },
     "metadata": {},
     "output_type": "display_data"
    },
    {
     "name": "stdout",
     "output_type": "stream",
     "text": [
      "수집한 댓글 수 :  3\n",
      "수집한 댓글 수 :  3\n",
      "수집한 댓글 수 :  3\n",
      "좋아요,댓글,날짜,다운로드 4\n"
     ]
    },
    {
     "data": {
      "application/vnd.jupyter.widget-view+json": {
       "model_id": "913ee60ea8b9470d873e4ad35c01bb17",
       "version_major": 2,
       "version_minor": 0
      },
      "text/plain": [
       "  0%|          | 0/1 [00:00<?, ?it/s]"
      ]
     },
     "metadata": {},
     "output_type": "display_data"
    },
    {
     "name": "stdout",
     "output_type": "stream",
     "text": [
      "수집한 댓글 수 :  1\n",
      "좋아요,댓글,날짜,다운로드 4\n"
     ]
    },
    {
     "data": {
      "application/vnd.jupyter.widget-view+json": {
       "model_id": "f953025649274543a8e80f3f008cff23",
       "version_major": 2,
       "version_minor": 0
      },
      "text/plain": [
       "  0%|          | 0/4 [00:00<?, ?it/s]"
      ]
     },
     "metadata": {},
     "output_type": "display_data"
    },
    {
     "name": "stdout",
     "output_type": "stream",
     "text": [
      "수집한 댓글 수 :  1\n",
      "수집한 댓글 수 :  4\n",
      "수집한 댓글 수 :  4\n",
      "수집한 댓글 수 :  4\n",
      "좋아요,댓글,날짜,다운로드 4\n"
     ]
    },
    {
     "data": {
      "application/vnd.jupyter.widget-view+json": {
       "model_id": "8a9bcb3e603649d49fa48c2574412c8e",
       "version_major": 2,
       "version_minor": 0
      },
      "text/plain": [
       "0it [00:00, ?it/s]"
      ]
     },
     "metadata": {},
     "output_type": "display_data"
    },
    {
     "name": "stdout",
     "output_type": "stream",
     "text": [
      "수집한 댓글 수 :  0\n",
      "좋아요,댓글,날짜,다운로드 4\n"
     ]
    },
    {
     "data": {
      "application/vnd.jupyter.widget-view+json": {
       "model_id": "f4f0a2289327497191ab5141f57b6d76",
       "version_major": 2,
       "version_minor": 0
      },
      "text/plain": [
       "  0%|          | 0/2 [00:00<?, ?it/s]"
      ]
     },
     "metadata": {},
     "output_type": "display_data"
    },
    {
     "name": "stdout",
     "output_type": "stream",
     "text": [
      "수집한 댓글 수 :  1\n",
      "수집한 댓글 수 :  1\n",
      "좋아요,댓글,날짜,다운로드 4\n"
     ]
    },
    {
     "data": {
      "application/vnd.jupyter.widget-view+json": {
       "model_id": "5f3ff936acd54560a388e8c2c427b738",
       "version_major": 2,
       "version_minor": 0
      },
      "text/plain": [
       "0it [00:00, ?it/s]"
      ]
     },
     "metadata": {},
     "output_type": "display_data"
    },
    {
     "name": "stdout",
     "output_type": "stream",
     "text": [
      "수집한 댓글 수 :  0\n",
      "좋아요,댓글,날짜,다운로드 4\n"
     ]
    },
    {
     "data": {
      "application/vnd.jupyter.widget-view+json": {
       "model_id": "fd21279dde524481a60889a1e133b042",
       "version_major": 2,
       "version_minor": 0
      },
      "text/plain": [
       "  0%|          | 0/4 [00:00<?, ?it/s]"
      ]
     },
     "metadata": {},
     "output_type": "display_data"
    },
    {
     "name": "stdout",
     "output_type": "stream",
     "text": [
      "수집한 댓글 수 :  1\n",
      "수집한 댓글 수 :  1\n",
      "수집한 댓글 수 :  1\n",
      "수집한 댓글 수 :  4\n",
      "좋아요,댓글,날짜,다운로드 4\n"
     ]
    },
    {
     "data": {
      "application/vnd.jupyter.widget-view+json": {
       "model_id": "083150c3dad0408c936e432f0bb1aa78",
       "version_major": 2,
       "version_minor": 0
      },
      "text/plain": [
       "  0%|          | 0/6 [00:00<?, ?it/s]"
      ]
     },
     "metadata": {},
     "output_type": "display_data"
    },
    {
     "name": "stdout",
     "output_type": "stream",
     "text": [
      "수집한 댓글 수 :  5\n",
      "수집한 댓글 수 :  5\n",
      "수집한 댓글 수 :  5\n",
      "수집한 댓글 수 :  5\n",
      "수집한 댓글 수 :  5\n",
      "수집한 댓글 수 :  5\n",
      "좋아요,댓글,날짜,다운로드 4\n"
     ]
    },
    {
     "data": {
      "application/vnd.jupyter.widget-view+json": {
       "model_id": "1a36a572963b458e8a37505b601632c8",
       "version_major": 2,
       "version_minor": 0
      },
      "text/plain": [
       "  0%|          | 0/2 [00:00<?, ?it/s]"
      ]
     },
     "metadata": {},
     "output_type": "display_data"
    },
    {
     "name": "stdout",
     "output_type": "stream",
     "text": [
      "수집한 댓글 수 :  2\n",
      "수집한 댓글 수 :  2\n",
      "좋아요,댓글,날짜,다운로드 4\n"
     ]
    },
    {
     "data": {
      "application/vnd.jupyter.widget-view+json": {
       "model_id": "5b470e882a784ceab30e0a07641e7594",
       "version_major": 2,
       "version_minor": 0
      },
      "text/plain": [
       "  0%|          | 0/1 [00:00<?, ?it/s]"
      ]
     },
     "metadata": {},
     "output_type": "display_data"
    },
    {
     "name": "stdout",
     "output_type": "stream",
     "text": [
      "수집한 댓글 수 :  1\n",
      "좋아요,댓글,날짜,다운로드 4\n"
     ]
    },
    {
     "data": {
      "application/vnd.jupyter.widget-view+json": {
       "model_id": "13d50427e541481481530e2b1518ecd3",
       "version_major": 2,
       "version_minor": 0
      },
      "text/plain": [
       "  0%|          | 0/2 [00:00<?, ?it/s]"
      ]
     },
     "metadata": {},
     "output_type": "display_data"
    },
    {
     "name": "stdout",
     "output_type": "stream",
     "text": [
      "수집한 댓글 수 :  1\n",
      "수집한 댓글 수 :  2\n",
      "좋아요,댓글,날짜,다운로드 4\n"
     ]
    },
    {
     "data": {
      "application/vnd.jupyter.widget-view+json": {
       "model_id": "c6e0295cbd0e40029757ce5e78982af3",
       "version_major": 2,
       "version_minor": 0
      },
      "text/plain": [
       "  0%|          | 0/3 [00:00<?, ?it/s]"
      ]
     },
     "metadata": {},
     "output_type": "display_data"
    },
    {
     "name": "stdout",
     "output_type": "stream",
     "text": [
      "수집한 댓글 수 :  1\n",
      "수집한 댓글 수 :  2\n",
      "수집한 댓글 수 :  2\n",
      "좋아요,댓글,날짜,다운로드 4\n"
     ]
    },
    {
     "data": {
      "application/vnd.jupyter.widget-view+json": {
       "model_id": "9cbc8454006343ac91841092996bcc1e",
       "version_major": 2,
       "version_minor": 0
      },
      "text/plain": [
       "  0%|          | 0/3 [00:00<?, ?it/s]"
      ]
     },
     "metadata": {},
     "output_type": "display_data"
    },
    {
     "name": "stdout",
     "output_type": "stream",
     "text": [
      "수집한 댓글 수 :  3\n",
      "수집한 댓글 수 :  3\n",
      "수집한 댓글 수 :  3\n",
      "좋아요,댓글,날짜,다운로드 4\n"
     ]
    },
    {
     "data": {
      "application/vnd.jupyter.widget-view+json": {
       "model_id": "495ece4d0ffc4c3cb76de93d74e308b6",
       "version_major": 2,
       "version_minor": 0
      },
      "text/plain": [
       "0it [00:00, ?it/s]"
      ]
     },
     "metadata": {},
     "output_type": "display_data"
    },
    {
     "name": "stdout",
     "output_type": "stream",
     "text": [
      "수집한 댓글 수 :  0\n",
      "좋아요,댓글,날짜,다운로드 4\n"
     ]
    },
    {
     "data": {
      "application/vnd.jupyter.widget-view+json": {
       "model_id": "67960ecd955e412c9b118aefc609cf25",
       "version_major": 2,
       "version_minor": 0
      },
      "text/plain": [
       "  0%|          | 0/2 [00:00<?, ?it/s]"
      ]
     },
     "metadata": {},
     "output_type": "display_data"
    },
    {
     "name": "stdout",
     "output_type": "stream",
     "text": [
      "수집한 댓글 수 :  1\n",
      "수집한 댓글 수 :  1\n",
      "좋아요,댓글,날짜,다운로드 4\n"
     ]
    },
    {
     "data": {
      "application/vnd.jupyter.widget-view+json": {
       "model_id": "6de2ca824ad24e7291270de980c23622",
       "version_major": 2,
       "version_minor": 0
      },
      "text/plain": [
       "  0%|          | 0/1 [00:00<?, ?it/s]"
      ]
     },
     "metadata": {},
     "output_type": "display_data"
    },
    {
     "name": "stdout",
     "output_type": "stream",
     "text": [
      "수집한 댓글 수 :  1\n",
      "좋아요,댓글,날짜,다운로드 4\n"
     ]
    },
    {
     "data": {
      "application/vnd.jupyter.widget-view+json": {
       "model_id": "75191d3143074e5ca352d340f5f3739c",
       "version_major": 2,
       "version_minor": 0
      },
      "text/plain": [
       "  0%|          | 0/3 [00:00<?, ?it/s]"
      ]
     },
     "metadata": {},
     "output_type": "display_data"
    },
    {
     "name": "stdout",
     "output_type": "stream",
     "text": [
      "수집한 댓글 수 :  1\n",
      "수집한 댓글 수 :  1\n",
      "수집한 댓글 수 :  1\n",
      "좋아요,댓글,날짜,다운로드 4\n"
     ]
    },
    {
     "data": {
      "application/vnd.jupyter.widget-view+json": {
       "model_id": "2dec8cc67a594072850b18f7b1f0b220",
       "version_major": 2,
       "version_minor": 0
      },
      "text/plain": [
       "  0%|          | 0/2 [00:00<?, ?it/s]"
      ]
     },
     "metadata": {},
     "output_type": "display_data"
    },
    {
     "name": "stdout",
     "output_type": "stream",
     "text": [
      "수집한 댓글 수 :  1\n",
      "수집한 댓글 수 :  1\n",
      "좋아요,댓글,날짜,다운로드 4\n"
     ]
    },
    {
     "data": {
      "application/vnd.jupyter.widget-view+json": {
       "model_id": "2c7f789adf7c436aa89ca561d402f4ae",
       "version_major": 2,
       "version_minor": 0
      },
      "text/plain": [
       "0it [00:00, ?it/s]"
      ]
     },
     "metadata": {},
     "output_type": "display_data"
    },
    {
     "name": "stdout",
     "output_type": "stream",
     "text": [
      "수집한 댓글 수 :  0\n",
      "좋아요,댓글,날짜,다운로드 4\n"
     ]
    },
    {
     "data": {
      "application/vnd.jupyter.widget-view+json": {
       "model_id": "556b76ca44d24e3daa5b9e4f54328a68",
       "version_major": 2,
       "version_minor": 0
      },
      "text/plain": [
       "  0%|          | 0/3 [00:00<?, ?it/s]"
      ]
     },
     "metadata": {},
     "output_type": "display_data"
    },
    {
     "name": "stdout",
     "output_type": "stream",
     "text": [
      "수집한 댓글 수 :  1\n",
      "수집한 댓글 수 :  1\n",
      "수집한 댓글 수 :  3\n",
      "좋아요,댓글,날짜,다운로드 4\n"
     ]
    },
    {
     "data": {
      "application/vnd.jupyter.widget-view+json": {
       "model_id": "8bfa76b451aa4c5aa88a11bf153e7b8c",
       "version_major": 2,
       "version_minor": 0
      },
      "text/plain": [
       "0it [00:00, ?it/s]"
      ]
     },
     "metadata": {},
     "output_type": "display_data"
    },
    {
     "name": "stdout",
     "output_type": "stream",
     "text": [
      "수집한 댓글 수 :  0\n",
      "좋아요,댓글,날짜,다운로드 4\n"
     ]
    },
    {
     "data": {
      "application/vnd.jupyter.widget-view+json": {
       "model_id": "cd0b488ff188438b9de545626b619abd",
       "version_major": 2,
       "version_minor": 0
      },
      "text/plain": [
       "  0%|          | 0/2 [00:00<?, ?it/s]"
      ]
     },
     "metadata": {},
     "output_type": "display_data"
    },
    {
     "name": "stdout",
     "output_type": "stream",
     "text": [
      "수집한 댓글 수 :  1\n",
      "수집한 댓글 수 :  1\n",
      "좋아요,댓글,날짜,다운로드 4\n"
     ]
    },
    {
     "data": {
      "application/vnd.jupyter.widget-view+json": {
       "model_id": "aed71f8cb9714383bfc98ca7adec16d2",
       "version_major": 2,
       "version_minor": 0
      },
      "text/plain": [
       "  0%|          | 0/5 [00:00<?, ?it/s]"
      ]
     },
     "metadata": {},
     "output_type": "display_data"
    },
    {
     "name": "stdout",
     "output_type": "stream",
     "text": [
      "수집한 댓글 수 :  1\n",
      "수집한 댓글 수 :  5\n",
      "수집한 댓글 수 :  5\n",
      "수집한 댓글 수 :  5\n",
      "수집한 댓글 수 :  5\n",
      "좋아요,댓글,날짜,다운로드 4\n"
     ]
    },
    {
     "data": {
      "application/vnd.jupyter.widget-view+json": {
       "model_id": "511ee3e0790f46eba62e69fff504f113",
       "version_major": 2,
       "version_minor": 0
      },
      "text/plain": [
       "0it [00:00, ?it/s]"
      ]
     },
     "metadata": {},
     "output_type": "display_data"
    },
    {
     "name": "stdout",
     "output_type": "stream",
     "text": [
      "수집한 댓글 수 :  0\n",
      "좋아요,댓글,날짜,다운로드 4\n"
     ]
    },
    {
     "data": {
      "application/vnd.jupyter.widget-view+json": {
       "model_id": "9df0f6fc9a5e405581af0b232a315392",
       "version_major": 2,
       "version_minor": 0
      },
      "text/plain": [
       "0it [00:00, ?it/s]"
      ]
     },
     "metadata": {},
     "output_type": "display_data"
    },
    {
     "name": "stdout",
     "output_type": "stream",
     "text": [
      "수집한 댓글 수 :  0\n",
      "좋아요,댓글,날짜,다운로드 4\n"
     ]
    },
    {
     "data": {
      "application/vnd.jupyter.widget-view+json": {
       "model_id": "bc494ccd7b3647139ea4f927d85d0498",
       "version_major": 2,
       "version_minor": 0
      },
      "text/plain": [
       "  0%|          | 0/1 [00:00<?, ?it/s]"
      ]
     },
     "metadata": {},
     "output_type": "display_data"
    },
    {
     "name": "stdout",
     "output_type": "stream",
     "text": [
      "수집한 댓글 수 :  1\n",
      "좋아요,댓글,날짜,다운로드 4\n"
     ]
    },
    {
     "data": {
      "application/vnd.jupyter.widget-view+json": {
       "model_id": "4d27d0d36fb64e22a151351c7efc6b61",
       "version_major": 2,
       "version_minor": 0
      },
      "text/plain": [
       "  0%|          | 0/1 [00:00<?, ?it/s]"
      ]
     },
     "metadata": {},
     "output_type": "display_data"
    },
    {
     "name": "stdout",
     "output_type": "stream",
     "text": [
      "수집한 댓글 수 :  1\n",
      "좋아요,댓글,날짜,다운로드 4\n"
     ]
    },
    {
     "data": {
      "application/vnd.jupyter.widget-view+json": {
       "model_id": "61e6f683c267443c872ca3744cfee2ff",
       "version_major": 2,
       "version_minor": 0
      },
      "text/plain": [
       "  0%|          | 0/3 [00:00<?, ?it/s]"
      ]
     },
     "metadata": {},
     "output_type": "display_data"
    },
    {
     "name": "stdout",
     "output_type": "stream",
     "text": [
      "수집한 댓글 수 :  1\n",
      "수집한 댓글 수 :  3\n",
      "수집한 댓글 수 :  3\n",
      "좋아요,댓글,날짜,다운로드 4\n"
     ]
    },
    {
     "data": {
      "application/vnd.jupyter.widget-view+json": {
       "model_id": "05308ca997b641589d2ec89ca190cc8d",
       "version_major": 2,
       "version_minor": 0
      },
      "text/plain": [
       "  0%|          | 0/4 [00:00<?, ?it/s]"
      ]
     },
     "metadata": {},
     "output_type": "display_data"
    },
    {
     "name": "stdout",
     "output_type": "stream",
     "text": [
      "수집한 댓글 수 :  4\n",
      "수집한 댓글 수 :  4\n",
      "수집한 댓글 수 :  4\n",
      "수집한 댓글 수 :  4\n",
      "좋아요,댓글,날짜,다운로드 4\n"
     ]
    },
    {
     "data": {
      "application/vnd.jupyter.widget-view+json": {
       "model_id": "61465ed19d1c41b4bd478acdc5f4c240",
       "version_major": 2,
       "version_minor": 0
      },
      "text/plain": [
       "  0%|          | 0/5 [00:00<?, ?it/s]"
      ]
     },
     "metadata": {},
     "output_type": "display_data"
    },
    {
     "name": "stdout",
     "output_type": "stream",
     "text": [
      "수집한 댓글 수 :  5\n",
      "수집한 댓글 수 :  5\n",
      "수집한 댓글 수 :  5\n",
      "수집한 댓글 수 :  5\n",
      "수집한 댓글 수 :  5\n",
      "좋아요,댓글,날짜,다운로드 4\n"
     ]
    },
    {
     "data": {
      "application/vnd.jupyter.widget-view+json": {
       "model_id": "c4ad7e05b56c4a778467522f221285b9",
       "version_major": 2,
       "version_minor": 0
      },
      "text/plain": [
       "  0%|          | 0/3 [00:00<?, ?it/s]"
      ]
     },
     "metadata": {},
     "output_type": "display_data"
    },
    {
     "name": "stdout",
     "output_type": "stream",
     "text": [
      "수집한 댓글 수 :  1\n",
      "수집한 댓글 수 :  1\n",
      "수집한 댓글 수 :  3\n",
      "좋아요,댓글,날짜,다운로드 4\n"
     ]
    },
    {
     "data": {
      "application/vnd.jupyter.widget-view+json": {
       "model_id": "c662077b283f4d798a8c86f21a07d508",
       "version_major": 2,
       "version_minor": 0
      },
      "text/plain": [
       "  0%|          | 0/6 [00:00<?, ?it/s]"
      ]
     },
     "metadata": {},
     "output_type": "display_data"
    },
    {
     "name": "stdout",
     "output_type": "stream",
     "text": [
      "수집한 댓글 수 :  1\n",
      "수집한 댓글 수 :  6\n",
      "수집한 댓글 수 :  6\n",
      "수집한 댓글 수 :  6\n",
      "수집한 댓글 수 :  6\n",
      "수집한 댓글 수 :  6\n",
      "좋아요,댓글,날짜,다운로드 4\n"
     ]
    },
    {
     "data": {
      "application/vnd.jupyter.widget-view+json": {
       "model_id": "a173d3e2015b40cb96276f09ac54500b",
       "version_major": 2,
       "version_minor": 0
      },
      "text/plain": [
       "  0%|          | 0/3 [00:00<?, ?it/s]"
      ]
     },
     "metadata": {},
     "output_type": "display_data"
    },
    {
     "name": "stdout",
     "output_type": "stream",
     "text": [
      "수집한 댓글 수 :  1\n",
      "수집한 댓글 수 :  1\n",
      "수집한 댓글 수 :  1\n",
      "좋아요,댓글,날짜,다운로드 4\n"
     ]
    },
    {
     "data": {
      "application/vnd.jupyter.widget-view+json": {
       "model_id": "3d9e76082cc24dbdb9b6add27f9d8714",
       "version_major": 2,
       "version_minor": 0
      },
      "text/plain": [
       "  0%|          | 0/2 [00:00<?, ?it/s]"
      ]
     },
     "metadata": {},
     "output_type": "display_data"
    },
    {
     "name": "stdout",
     "output_type": "stream",
     "text": [
      "수집한 댓글 수 :  2\n",
      "수집한 댓글 수 :  2\n",
      "좋아요,댓글,날짜,다운로드 4\n"
     ]
    },
    {
     "data": {
      "application/vnd.jupyter.widget-view+json": {
       "model_id": "48081126372c4d17a0aee0105de2d79d",
       "version_major": 2,
       "version_minor": 0
      },
      "text/plain": [
       "  0%|          | 0/2 [00:00<?, ?it/s]"
      ]
     },
     "metadata": {},
     "output_type": "display_data"
    },
    {
     "name": "stdout",
     "output_type": "stream",
     "text": [
      "수집한 댓글 수 :  1\n",
      "수집한 댓글 수 :  1\n",
      "좋아요,댓글,날짜,다운로드 4\n"
     ]
    },
    {
     "data": {
      "application/vnd.jupyter.widget-view+json": {
       "model_id": "41dc1a6560764c64921cc76e54a0aa0f",
       "version_major": 2,
       "version_minor": 0
      },
      "text/plain": [
       "  0%|          | 0/1 [00:00<?, ?it/s]"
      ]
     },
     "metadata": {},
     "output_type": "display_data"
    },
    {
     "name": "stdout",
     "output_type": "stream",
     "text": [
      "수집한 댓글 수 :  1\n",
      "좋아요,댓글,날짜,다운로드 4\n"
     ]
    },
    {
     "data": {
      "application/vnd.jupyter.widget-view+json": {
       "model_id": "98927e692d5f434e83672d2c283d2af8",
       "version_major": 2,
       "version_minor": 0
      },
      "text/plain": [
       "  0%|          | 0/4 [00:00<?, ?it/s]"
      ]
     },
     "metadata": {},
     "output_type": "display_data"
    },
    {
     "name": "stdout",
     "output_type": "stream",
     "text": [
      "수집한 댓글 수 :  1\n",
      "수집한 댓글 수 :  4\n",
      "수집한 댓글 수 :  4\n",
      "수집한 댓글 수 :  4\n",
      "좋아요,댓글,날짜,다운로드 4\n"
     ]
    },
    {
     "data": {
      "application/vnd.jupyter.widget-view+json": {
       "model_id": "eb2897548f3541bd8a30f713b5c69643",
       "version_major": 2,
       "version_minor": 0
      },
      "text/plain": [
       "  0%|          | 0/6 [00:00<?, ?it/s]"
      ]
     },
     "metadata": {},
     "output_type": "display_data"
    },
    {
     "name": "stdout",
     "output_type": "stream",
     "text": [
      "수집한 댓글 수 :  1\n",
      "수집한 댓글 수 :  1\n",
      "수집한 댓글 수 :  1\n",
      "수집한 댓글 수 :  1\n",
      "수집한 댓글 수 :  1\n",
      "수집한 댓글 수 :  1\n",
      "좋아요,댓글,날짜,다운로드 4\n"
     ]
    },
    {
     "data": {
      "application/vnd.jupyter.widget-view+json": {
       "model_id": "caabd2647c394dcd9302b7eda926cb75",
       "version_major": 2,
       "version_minor": 0
      },
      "text/plain": [
       "  0%|          | 0/2 [00:00<?, ?it/s]"
      ]
     },
     "metadata": {},
     "output_type": "display_data"
    },
    {
     "name": "stdout",
     "output_type": "stream",
     "text": [
      "수집한 댓글 수 :  1\n",
      "수집한 댓글 수 :  1\n",
      "좋아요,댓글,날짜,다운로드 4\n"
     ]
    },
    {
     "data": {
      "application/vnd.jupyter.widget-view+json": {
       "model_id": "68830c1e723b4b05bab1ae550f3df5d7",
       "version_major": 2,
       "version_minor": 0
      },
      "text/plain": [
       "  0%|          | 0/2 [00:00<?, ?it/s]"
      ]
     },
     "metadata": {},
     "output_type": "display_data"
    },
    {
     "name": "stdout",
     "output_type": "stream",
     "text": [
      "수집한 댓글 수 :  1\n",
      "수집한 댓글 수 :  1\n",
      "좋아요,댓글,날짜,다운로드 4\n"
     ]
    },
    {
     "data": {
      "application/vnd.jupyter.widget-view+json": {
       "model_id": "b0082ab8ed7f48a5a1c9579f728f0bb7",
       "version_major": 2,
       "version_minor": 0
      },
      "text/plain": [
       "0it [00:00, ?it/s]"
      ]
     },
     "metadata": {},
     "output_type": "display_data"
    },
    {
     "name": "stdout",
     "output_type": "stream",
     "text": [
      "수집한 댓글 수 :  0\n",
      "좋아요,댓글,날짜,다운로드 4\n"
     ]
    },
    {
     "data": {
      "application/vnd.jupyter.widget-view+json": {
       "model_id": "045eb3793fc74ee3a7aa934b451691d3",
       "version_major": 2,
       "version_minor": 0
      },
      "text/plain": [
       "  0%|          | 0/5 [00:00<?, ?it/s]"
      ]
     },
     "metadata": {},
     "output_type": "display_data"
    },
    {
     "name": "stdout",
     "output_type": "stream",
     "text": [
      "수집한 댓글 수 :  5\n",
      "수집한 댓글 수 :  5\n",
      "수집한 댓글 수 :  5\n",
      "수집한 댓글 수 :  5\n",
      "수집한 댓글 수 :  5\n",
      "좋아요,댓글,날짜,다운로드 4\n"
     ]
    },
    {
     "data": {
      "application/vnd.jupyter.widget-view+json": {
       "model_id": "9f7ed19e0b684312936e1e04c56c0835",
       "version_major": 2,
       "version_minor": 0
      },
      "text/plain": [
       "0it [00:00, ?it/s]"
      ]
     },
     "metadata": {},
     "output_type": "display_data"
    },
    {
     "name": "stdout",
     "output_type": "stream",
     "text": [
      "수집한 댓글 수 :  0\n",
      "좋아요,댓글,날짜,다운로드 4\n"
     ]
    },
    {
     "data": {
      "application/vnd.jupyter.widget-view+json": {
       "model_id": "55ac5afd1585401c8bf5257810ea8ffc",
       "version_major": 2,
       "version_minor": 0
      },
      "text/plain": [
       "  0%|          | 0/4 [00:00<?, ?it/s]"
      ]
     },
     "metadata": {},
     "output_type": "display_data"
    },
    {
     "name": "stdout",
     "output_type": "stream",
     "text": [
      "수집한 댓글 수 :  1\n",
      "수집한 댓글 수 :  1\n",
      "수집한 댓글 수 :  1\n",
      "수집한 댓글 수 :  1\n",
      "좋아요,댓글,날짜,다운로드 4\n"
     ]
    },
    {
     "data": {
      "application/vnd.jupyter.widget-view+json": {
       "model_id": "422cfefa16924755a33a1fd9617416ee",
       "version_major": 2,
       "version_minor": 0
      },
      "text/plain": [
       "  0%|          | 0/6 [00:00<?, ?it/s]"
      ]
     },
     "metadata": {},
     "output_type": "display_data"
    },
    {
     "name": "stdout",
     "output_type": "stream",
     "text": [
      "수집한 댓글 수 :  1\n",
      "수집한 댓글 수 :  1\n",
      "수집한 댓글 수 :  1\n",
      "수집한 댓글 수 :  1\n",
      "수집한 댓글 수 :  1\n",
      "수집한 댓글 수 :  1\n",
      "좋아요,댓글,날짜,다운로드 4\n"
     ]
    },
    {
     "data": {
      "application/vnd.jupyter.widget-view+json": {
       "model_id": "f1253a63d63f43b89d6e0b7181a39ce4",
       "version_major": 2,
       "version_minor": 0
      },
      "text/plain": [
       "  0%|          | 0/2 [00:00<?, ?it/s]"
      ]
     },
     "metadata": {},
     "output_type": "display_data"
    },
    {
     "name": "stdout",
     "output_type": "stream",
     "text": [
      "수집한 댓글 수 :  2\n",
      "수집한 댓글 수 :  2\n",
      "좋아요,댓글,날짜,다운로드 4\n"
     ]
    },
    {
     "data": {
      "application/vnd.jupyter.widget-view+json": {
       "model_id": "1f3840e9382f465097ae9a1c75d89b47",
       "version_major": 2,
       "version_minor": 0
      },
      "text/plain": [
       "  0%|          | 0/1 [00:00<?, ?it/s]"
      ]
     },
     "metadata": {},
     "output_type": "display_data"
    },
    {
     "name": "stdout",
     "output_type": "stream",
     "text": [
      "수집한 댓글 수 :  1\n",
      "좋아요,댓글,날짜,다운로드 4\n"
     ]
    },
    {
     "data": {
      "application/vnd.jupyter.widget-view+json": {
       "model_id": "d3bfa68d7b814bb0af54929da2cb6913",
       "version_major": 2,
       "version_minor": 0
      },
      "text/plain": [
       "  0%|          | 0/22 [00:00<?, ?it/s]"
      ]
     },
     "metadata": {},
     "output_type": "display_data"
    },
    {
     "name": "stdout",
     "output_type": "stream",
     "text": [
      "수집한 댓글 수 :  1\n",
      "수집한 댓글 수 :  12\n",
      "수집한 댓글 수 :  18\n",
      "수집한 댓글 수 :  18\n",
      "수집한 댓글 수 :  18\n",
      "수집한 댓글 수 :  18\n",
      "수집한 댓글 수 :  18\n",
      "수집한 댓글 수 :  18\n",
      "수집한 댓글 수 :  18\n",
      "수집한 댓글 수 :  18\n",
      "수집한 댓글 수 :  18\n",
      "수집한 댓글 수 :  18\n",
      "수집한 댓글 수 :  18\n",
      "수집한 댓글 수 :  18\n",
      "수집한 댓글 수 :  18\n",
      "수집한 댓글 수 :  18\n",
      "수집한 댓글 수 :  18\n",
      "수집한 댓글 수 :  18\n",
      "수집한 댓글 수 :  18\n",
      "수집한 댓글 수 :  18\n",
      "좋아요,댓글,날짜,다운로드 4\n"
     ]
    },
    {
     "data": {
      "application/vnd.jupyter.widget-view+json": {
       "model_id": "e9377de0d9ba4819949182c947a47463",
       "version_major": 2,
       "version_minor": 0
      },
      "text/plain": [
       "0it [00:00, ?it/s]"
      ]
     },
     "metadata": {},
     "output_type": "display_data"
    },
    {
     "name": "stdout",
     "output_type": "stream",
     "text": [
      "수집한 댓글 수 :  0\n",
      "좋아요,댓글,날짜,다운로드 4\n"
     ]
    },
    {
     "data": {
      "application/vnd.jupyter.widget-view+json": {
       "model_id": "45b28a80f625445fa963b754019b0888",
       "version_major": 2,
       "version_minor": 0
      },
      "text/plain": [
       "  0%|          | 0/4 [00:00<?, ?it/s]"
      ]
     },
     "metadata": {},
     "output_type": "display_data"
    },
    {
     "name": "stdout",
     "output_type": "stream",
     "text": [
      "수집한 댓글 수 :  3\n",
      "수집한 댓글 수 :  3\n",
      "수집한 댓글 수 :  3\n",
      "수집한 댓글 수 :  3\n",
      "좋아요,댓글,날짜,다운로드 4\n"
     ]
    },
    {
     "data": {
      "application/vnd.jupyter.widget-view+json": {
       "model_id": "f9ab4b4987bf4cf198fc2408d9272b7b",
       "version_major": 2,
       "version_minor": 0
      },
      "text/plain": [
       "  0%|          | 0/1 [00:00<?, ?it/s]"
      ]
     },
     "metadata": {},
     "output_type": "display_data"
    },
    {
     "name": "stdout",
     "output_type": "stream",
     "text": [
      "수집한 댓글 수 :  1\n",
      "좋아요,댓글,날짜,다운로드 4\n"
     ]
    },
    {
     "data": {
      "application/vnd.jupyter.widget-view+json": {
       "model_id": "4b6c2901bc7c429cb115413b10a6ec01",
       "version_major": 2,
       "version_minor": 0
      },
      "text/plain": [
       "  0%|          | 0/4 [00:00<?, ?it/s]"
      ]
     },
     "metadata": {},
     "output_type": "display_data"
    },
    {
     "name": "stdout",
     "output_type": "stream",
     "text": [
      "수집한 댓글 수 :  1\n",
      "수집한 댓글 수 :  1\n",
      "수집한 댓글 수 :  4\n",
      "수집한 댓글 수 :  4\n",
      "좋아요,댓글,날짜,다운로드 4\n"
     ]
    },
    {
     "data": {
      "application/vnd.jupyter.widget-view+json": {
       "model_id": "33f21b678d1945cb8cfa5c8dc873d9e3",
       "version_major": 2,
       "version_minor": 0
      },
      "text/plain": [
       "  0%|          | 0/5 [00:00<?, ?it/s]"
      ]
     },
     "metadata": {},
     "output_type": "display_data"
    },
    {
     "name": "stdout",
     "output_type": "stream",
     "text": [
      "수집한 댓글 수 :  1\n",
      "수집한 댓글 수 :  5\n",
      "수집한 댓글 수 :  5\n",
      "수집한 댓글 수 :  5\n",
      "수집한 댓글 수 :  5\n",
      "좋아요,댓글,날짜,다운로드 4\n"
     ]
    },
    {
     "data": {
      "application/vnd.jupyter.widget-view+json": {
       "model_id": "c8c27876744b4c5298e5383d3d0b6fbe",
       "version_major": 2,
       "version_minor": 0
      },
      "text/plain": [
       "  0%|          | 0/2 [00:00<?, ?it/s]"
      ]
     },
     "metadata": {},
     "output_type": "display_data"
    },
    {
     "name": "stdout",
     "output_type": "stream",
     "text": [
      "수집한 댓글 수 :  1\n",
      "수집한 댓글 수 :  1\n",
      "좋아요,댓글,날짜,다운로드 4\n"
     ]
    },
    {
     "data": {
      "application/vnd.jupyter.widget-view+json": {
       "model_id": "a2853a648eac452482bf0512440902e0",
       "version_major": 2,
       "version_minor": 0
      },
      "text/plain": [
       "  0%|          | 0/3 [00:00<?, ?it/s]"
      ]
     },
     "metadata": {},
     "output_type": "display_data"
    },
    {
     "name": "stdout",
     "output_type": "stream",
     "text": [
      "수집한 댓글 수 :  1\n",
      "수집한 댓글 수 :  1\n",
      "수집한 댓글 수 :  1\n",
      "좋아요,댓글,날짜,다운로드 4\n"
     ]
    },
    {
     "data": {
      "application/vnd.jupyter.widget-view+json": {
       "model_id": "abc9ce312eb04f1b8a2fd03a65344425",
       "version_major": 2,
       "version_minor": 0
      },
      "text/plain": [
       "0it [00:00, ?it/s]"
      ]
     },
     "metadata": {},
     "output_type": "display_data"
    },
    {
     "name": "stdout",
     "output_type": "stream",
     "text": [
      "수집한 댓글 수 :  0\n",
      "좋아요,댓글,날짜,다운로드 4\n"
     ]
    },
    {
     "data": {
      "application/vnd.jupyter.widget-view+json": {
       "model_id": "5014bd9751104dd99c0476a983aea768",
       "version_major": 2,
       "version_minor": 0
      },
      "text/plain": [
       "0it [00:00, ?it/s]"
      ]
     },
     "metadata": {},
     "output_type": "display_data"
    },
    {
     "name": "stdout",
     "output_type": "stream",
     "text": [
      "수집한 댓글 수 :  0\n",
      "좋아요,댓글,날짜,다운로드 4\n"
     ]
    },
    {
     "data": {
      "application/vnd.jupyter.widget-view+json": {
       "model_id": "99fc2c54cc1e4503b1f4df2b2ae7a097",
       "version_major": 2,
       "version_minor": 0
      },
      "text/plain": [
       "0it [00:00, ?it/s]"
      ]
     },
     "metadata": {},
     "output_type": "display_data"
    },
    {
     "name": "stdout",
     "output_type": "stream",
     "text": [
      "수집한 댓글 수 :  0\n",
      "좋아요,댓글,날짜,다운로드 4\n"
     ]
    },
    {
     "data": {
      "application/vnd.jupyter.widget-view+json": {
       "model_id": "5a07f7c728e4498982278cec25869c7e",
       "version_major": 2,
       "version_minor": 0
      },
      "text/plain": [
       "  0%|          | 0/1 [00:00<?, ?it/s]"
      ]
     },
     "metadata": {},
     "output_type": "display_data"
    },
    {
     "name": "stdout",
     "output_type": "stream",
     "text": [
      "수집한 댓글 수 :  1\n",
      "좋아요,댓글,날짜,다운로드 4\n"
     ]
    },
    {
     "data": {
      "application/vnd.jupyter.widget-view+json": {
       "model_id": "92df609737ae46558667dc612a875ad8",
       "version_major": 2,
       "version_minor": 0
      },
      "text/plain": [
       "  0%|          | 0/3 [00:00<?, ?it/s]"
      ]
     },
     "metadata": {},
     "output_type": "display_data"
    },
    {
     "name": "stdout",
     "output_type": "stream",
     "text": [
      "수집한 댓글 수 :  1\n",
      "수집한 댓글 수 :  3\n",
      "수집한 댓글 수 :  3\n",
      "좋아요,댓글,날짜,다운로드 4\n"
     ]
    },
    {
     "data": {
      "application/vnd.jupyter.widget-view+json": {
       "model_id": "d922fdf546ec47a4aceffb91d94a05da",
       "version_major": 2,
       "version_minor": 0
      },
      "text/plain": [
       "  0%|          | 0/1 [00:00<?, ?it/s]"
      ]
     },
     "metadata": {},
     "output_type": "display_data"
    },
    {
     "name": "stdout",
     "output_type": "stream",
     "text": [
      "수집한 댓글 수 :  1\n",
      "좋아요,댓글,날짜,다운로드 4\n"
     ]
    },
    {
     "data": {
      "application/vnd.jupyter.widget-view+json": {
       "model_id": "b8a1ec3bfee447e494242836232cb541",
       "version_major": 2,
       "version_minor": 0
      },
      "text/plain": [
       "0it [00:00, ?it/s]"
      ]
     },
     "metadata": {},
     "output_type": "display_data"
    },
    {
     "name": "stdout",
     "output_type": "stream",
     "text": [
      "수집한 댓글 수 :  0\n",
      "좋아요,댓글,날짜,다운로드 4\n"
     ]
    },
    {
     "data": {
      "application/vnd.jupyter.widget-view+json": {
       "model_id": "c7550cec9ed0403794c5fc9a167934b4",
       "version_major": 2,
       "version_minor": 0
      },
      "text/plain": [
       "  0%|          | 0/1 [00:00<?, ?it/s]"
      ]
     },
     "metadata": {},
     "output_type": "display_data"
    },
    {
     "name": "stdout",
     "output_type": "stream",
     "text": [
      "수집한 댓글 수 :  1\n",
      "좋아요,댓글,날짜,다운로드 4\n"
     ]
    },
    {
     "data": {
      "application/vnd.jupyter.widget-view+json": {
       "model_id": "9fde7e12f9c646c6803c9778a6a2365a",
       "version_major": 2,
       "version_minor": 0
      },
      "text/plain": [
       "0it [00:00, ?it/s]"
      ]
     },
     "metadata": {},
     "output_type": "display_data"
    },
    {
     "name": "stdout",
     "output_type": "stream",
     "text": [
      "수집한 댓글 수 :  0\n",
      "좋아요,댓글,날짜,다운로드 4\n"
     ]
    },
    {
     "data": {
      "application/vnd.jupyter.widget-view+json": {
       "model_id": "97c2b00b50ba49d0bb0e83e372455d2a",
       "version_major": 2,
       "version_minor": 0
      },
      "text/plain": [
       "  0%|          | 0/2 [00:00<?, ?it/s]"
      ]
     },
     "metadata": {},
     "output_type": "display_data"
    },
    {
     "name": "stdout",
     "output_type": "stream",
     "text": [
      "수집한 댓글 수 :  1\n",
      "수집한 댓글 수 :  1\n",
      "좋아요,댓글,날짜,다운로드 4\n"
     ]
    },
    {
     "data": {
      "application/vnd.jupyter.widget-view+json": {
       "model_id": "7d5fdf764807453b89815ae45c894f11",
       "version_major": 2,
       "version_minor": 0
      },
      "text/plain": [
       "  0%|          | 0/5 [00:00<?, ?it/s]"
      ]
     },
     "metadata": {},
     "output_type": "display_data"
    },
    {
     "name": "stdout",
     "output_type": "stream",
     "text": [
      "수집한 댓글 수 :  1\n",
      "수집한 댓글 수 :  1\n",
      "수집한 댓글 수 :  5\n",
      "수집한 댓글 수 :  5\n",
      "수집한 댓글 수 :  5\n",
      "좋아요,댓글,날짜,다운로드 4\n"
     ]
    },
    {
     "data": {
      "application/vnd.jupyter.widget-view+json": {
       "model_id": "92148f75ff4f47a4b9ec32a48698bc37",
       "version_major": 2,
       "version_minor": 0
      },
      "text/plain": [
       "  0%|          | 0/3 [00:00<?, ?it/s]"
      ]
     },
     "metadata": {},
     "output_type": "display_data"
    },
    {
     "name": "stdout",
     "output_type": "stream",
     "text": [
      "수집한 댓글 수 :  1\n",
      "수집한 댓글 수 :  1\n",
      "수집한 댓글 수 :  1\n",
      "좋아요,댓글,날짜,다운로드 4\n"
     ]
    },
    {
     "data": {
      "application/vnd.jupyter.widget-view+json": {
       "model_id": "8343b5a540aa48f39bfc6c4af24f3d76",
       "version_major": 2,
       "version_minor": 0
      },
      "text/plain": [
       "  0%|          | 0/2 [00:00<?, ?it/s]"
      ]
     },
     "metadata": {},
     "output_type": "display_data"
    },
    {
     "name": "stdout",
     "output_type": "stream",
     "text": [
      "수집한 댓글 수 :  1\n",
      "수집한 댓글 수 :  2\n",
      "좋아요,댓글,날짜,다운로드 4\n"
     ]
    },
    {
     "data": {
      "application/vnd.jupyter.widget-view+json": {
       "model_id": "c7e1042676374fc3bd92019839f14be7",
       "version_major": 2,
       "version_minor": 0
      },
      "text/plain": [
       "0it [00:00, ?it/s]"
      ]
     },
     "metadata": {},
     "output_type": "display_data"
    },
    {
     "name": "stdout",
     "output_type": "stream",
     "text": [
      "수집한 댓글 수 :  0\n",
      "좋아요,댓글,날짜,다운로드 4\n"
     ]
    },
    {
     "data": {
      "application/vnd.jupyter.widget-view+json": {
       "model_id": "56a1e55503a44b61bf7ce18ec345603d",
       "version_major": 2,
       "version_minor": 0
      },
      "text/plain": [
       "  0%|          | 0/2 [00:00<?, ?it/s]"
      ]
     },
     "metadata": {},
     "output_type": "display_data"
    },
    {
     "name": "stdout",
     "output_type": "stream",
     "text": [
      "수집한 댓글 수 :  1\n",
      "수집한 댓글 수 :  2\n",
      "좋아요,댓글,날짜,다운로드 4\n"
     ]
    },
    {
     "data": {
      "application/vnd.jupyter.widget-view+json": {
       "model_id": "6a8e0e4dd5b54e69a8dcd46527acacc5",
       "version_major": 2,
       "version_minor": 0
      },
      "text/plain": [
       "0it [00:00, ?it/s]"
      ]
     },
     "metadata": {},
     "output_type": "display_data"
    },
    {
     "name": "stdout",
     "output_type": "stream",
     "text": [
      "수집한 댓글 수 :  0\n",
      "좋아요,댓글,날짜,다운로드 4\n"
     ]
    },
    {
     "data": {
      "application/vnd.jupyter.widget-view+json": {
       "model_id": "987bfd41970d47a58c26326890740848",
       "version_major": 2,
       "version_minor": 0
      },
      "text/plain": [
       "0it [00:00, ?it/s]"
      ]
     },
     "metadata": {},
     "output_type": "display_data"
    },
    {
     "name": "stdout",
     "output_type": "stream",
     "text": [
      "수집한 댓글 수 :  0\n",
      "좋아요,댓글,날짜,다운로드 4\n"
     ]
    },
    {
     "data": {
      "application/vnd.jupyter.widget-view+json": {
       "model_id": "b23dfbd0a8f7467e82e3d4a9b072d1a5",
       "version_major": 2,
       "version_minor": 0
      },
      "text/plain": [
       "  0%|          | 0/1 [00:00<?, ?it/s]"
      ]
     },
     "metadata": {},
     "output_type": "display_data"
    },
    {
     "name": "stdout",
     "output_type": "stream",
     "text": [
      "수집한 댓글 수 :  1\n",
      "좋아요,댓글,날짜,다운로드 4\n"
     ]
    },
    {
     "data": {
      "application/vnd.jupyter.widget-view+json": {
       "model_id": "212a69aed43d44e6bdf69d951228442b",
       "version_major": 2,
       "version_minor": 0
      },
      "text/plain": [
       "  0%|          | 0/3 [00:00<?, ?it/s]"
      ]
     },
     "metadata": {},
     "output_type": "display_data"
    },
    {
     "name": "stdout",
     "output_type": "stream",
     "text": [
      "수집한 댓글 수 :  1\n",
      "수집한 댓글 수 :  3\n",
      "수집한 댓글 수 :  3\n",
      "좋아요,댓글,날짜,다운로드 4\n"
     ]
    },
    {
     "data": {
      "application/vnd.jupyter.widget-view+json": {
       "model_id": "639d572a536b4a008738f7c6d68c37e8",
       "version_major": 2,
       "version_minor": 0
      },
      "text/plain": [
       "  0%|          | 0/3 [00:00<?, ?it/s]"
      ]
     },
     "metadata": {},
     "output_type": "display_data"
    },
    {
     "name": "stdout",
     "output_type": "stream",
     "text": [
      "수집한 댓글 수 :  3\n",
      "수집한 댓글 수 :  3\n",
      "수집한 댓글 수 :  3\n",
      "좋아요,댓글,날짜,다운로드 4\n"
     ]
    },
    {
     "data": {
      "application/vnd.jupyter.widget-view+json": {
       "model_id": "006e1cac24e64d549ca02c03b13f9774",
       "version_major": 2,
       "version_minor": 0
      },
      "text/plain": [
       "0it [00:00, ?it/s]"
      ]
     },
     "metadata": {},
     "output_type": "display_data"
    },
    {
     "name": "stdout",
     "output_type": "stream",
     "text": [
      "수집한 댓글 수 :  0\n",
      "좋아요,댓글,날짜,다운로드 4\n"
     ]
    },
    {
     "data": {
      "application/vnd.jupyter.widget-view+json": {
       "model_id": "602eeb62c07541718a37d5b62ef9ccba",
       "version_major": 2,
       "version_minor": 0
      },
      "text/plain": [
       "  0%|          | 0/2 [00:00<?, ?it/s]"
      ]
     },
     "metadata": {},
     "output_type": "display_data"
    },
    {
     "name": "stdout",
     "output_type": "stream",
     "text": [
      "수집한 댓글 수 :  1\n",
      "수집한 댓글 수 :  2\n",
      "좋아요,댓글,날짜,다운로드 4\n"
     ]
    },
    {
     "data": {
      "application/vnd.jupyter.widget-view+json": {
       "model_id": "29749669cc694f27a358d929c3b6abce",
       "version_major": 2,
       "version_minor": 0
      },
      "text/plain": [
       "0it [00:00, ?it/s]"
      ]
     },
     "metadata": {},
     "output_type": "display_data"
    },
    {
     "name": "stdout",
     "output_type": "stream",
     "text": [
      "수집한 댓글 수 :  0\n",
      "좋아요,댓글,날짜,다운로드 4\n"
     ]
    },
    {
     "data": {
      "application/vnd.jupyter.widget-view+json": {
       "model_id": "104ece2689004abd93a8a44e5b40fbc2",
       "version_major": 2,
       "version_minor": 0
      },
      "text/plain": [
       "  0%|          | 0/1 [00:00<?, ?it/s]"
      ]
     },
     "metadata": {},
     "output_type": "display_data"
    },
    {
     "name": "stdout",
     "output_type": "stream",
     "text": [
      "수집한 댓글 수 :  1\n",
      "좋아요,댓글,날짜,다운로드 4\n"
     ]
    },
    {
     "data": {
      "application/vnd.jupyter.widget-view+json": {
       "model_id": "33875f84722048d1b7e7df39d694305b",
       "version_major": 2,
       "version_minor": 0
      },
      "text/plain": [
       "  0%|          | 0/4 [00:00<?, ?it/s]"
      ]
     },
     "metadata": {},
     "output_type": "display_data"
    },
    {
     "name": "stdout",
     "output_type": "stream",
     "text": [
      "수집한 댓글 수 :  1\n",
      "수집한 댓글 수 :  4\n",
      "수집한 댓글 수 :  4\n",
      "수집한 댓글 수 :  4\n",
      "좋아요,댓글,날짜,다운로드 4\n"
     ]
    },
    {
     "data": {
      "application/vnd.jupyter.widget-view+json": {
       "model_id": "26df1ff4af1643d297cc855da49fd309",
       "version_major": 2,
       "version_minor": 0
      },
      "text/plain": [
       "  0%|          | 0/2 [00:00<?, ?it/s]"
      ]
     },
     "metadata": {},
     "output_type": "display_data"
    },
    {
     "name": "stdout",
     "output_type": "stream",
     "text": [
      "수집한 댓글 수 :  1\n",
      "수집한 댓글 수 :  2\n",
      "좋아요,댓글,날짜,다운로드 4\n"
     ]
    },
    {
     "data": {
      "application/vnd.jupyter.widget-view+json": {
       "model_id": "0860043503554d2bbaa93342525f356a",
       "version_major": 2,
       "version_minor": 0
      },
      "text/plain": [
       "  0%|          | 0/2 [00:00<?, ?it/s]"
      ]
     },
     "metadata": {},
     "output_type": "display_data"
    },
    {
     "name": "stdout",
     "output_type": "stream",
     "text": [
      "수집한 댓글 수 :  1\n",
      "수집한 댓글 수 :  1\n",
      "좋아요,댓글,날짜,다운로드 4\n"
     ]
    },
    {
     "data": {
      "application/vnd.jupyter.widget-view+json": {
       "model_id": "ece0c8aae63740019462891e3a0eaf5b",
       "version_major": 2,
       "version_minor": 0
      },
      "text/plain": [
       "  0%|          | 0/5 [00:00<?, ?it/s]"
      ]
     },
     "metadata": {},
     "output_type": "display_data"
    },
    {
     "name": "stdout",
     "output_type": "stream",
     "text": [
      "수집한 댓글 수 :  5\n",
      "수집한 댓글 수 :  5\n",
      "수집한 댓글 수 :  5\n",
      "수집한 댓글 수 :  5\n",
      "수집한 댓글 수 :  5\n",
      "좋아요,댓글,날짜,다운로드 4\n"
     ]
    },
    {
     "data": {
      "application/vnd.jupyter.widget-view+json": {
       "model_id": "fa6107101ae64a07a46144e1b7651bed",
       "version_major": 2,
       "version_minor": 0
      },
      "text/plain": [
       "  0%|          | 0/1 [00:00<?, ?it/s]"
      ]
     },
     "metadata": {},
     "output_type": "display_data"
    },
    {
     "name": "stdout",
     "output_type": "stream",
     "text": [
      "수집한 댓글 수 :  1\n",
      "좋아요,댓글,날짜,다운로드 4\n"
     ]
    },
    {
     "data": {
      "application/vnd.jupyter.widget-view+json": {
       "model_id": "962d3cee9a1147df86cfe2e4975bcee4",
       "version_major": 2,
       "version_minor": 0
      },
      "text/plain": [
       "  0%|          | 0/2 [00:00<?, ?it/s]"
      ]
     },
     "metadata": {},
     "output_type": "display_data"
    },
    {
     "name": "stdout",
     "output_type": "stream",
     "text": [
      "수집한 댓글 수 :  1\n",
      "수집한 댓글 수 :  2\n",
      "좋아요,댓글,날짜,다운로드 4\n"
     ]
    },
    {
     "data": {
      "application/vnd.jupyter.widget-view+json": {
       "model_id": "4a33c0daa9ad4edc8e35e834d1a0d76b",
       "version_major": 2,
       "version_minor": 0
      },
      "text/plain": [
       "0it [00:00, ?it/s]"
      ]
     },
     "metadata": {},
     "output_type": "display_data"
    },
    {
     "name": "stdout",
     "output_type": "stream",
     "text": [
      "수집한 댓글 수 :  0\n",
      "좋아요,댓글,날짜,다운로드 4\n"
     ]
    },
    {
     "data": {
      "application/vnd.jupyter.widget-view+json": {
       "model_id": "543fb369fae647c2abe99ed4c131f46a",
       "version_major": 2,
       "version_minor": 0
      },
      "text/plain": [
       "0it [00:00, ?it/s]"
      ]
     },
     "metadata": {},
     "output_type": "display_data"
    },
    {
     "name": "stdout",
     "output_type": "stream",
     "text": [
      "수집한 댓글 수 :  0\n",
      "좋아요,댓글,날짜,다운로드 4\n"
     ]
    },
    {
     "data": {
      "application/vnd.jupyter.widget-view+json": {
       "model_id": "086b7870d91949d1976dc6919ad5f174",
       "version_major": 2,
       "version_minor": 0
      },
      "text/plain": [
       "  0%|          | 0/13 [00:00<?, ?it/s]"
      ]
     },
     "metadata": {},
     "output_type": "display_data"
    },
    {
     "name": "stdout",
     "output_type": "stream",
     "text": [
      "수집한 댓글 수 :  1\n",
      "수집한 댓글 수 :  12\n",
      "수집한 댓글 수 :  12\n",
      "수집한 댓글 수 :  12\n",
      "수집한 댓글 수 :  12\n",
      "수집한 댓글 수 :  12\n",
      "수집한 댓글 수 :  12\n",
      "수집한 댓글 수 :  12\n",
      "수집한 댓글 수 :  12\n",
      "수집한 댓글 수 :  12\n",
      "수집한 댓글 수 :  12\n",
      "수집한 댓글 수 :  12\n",
      "좋아요,댓글,날짜,다운로드 4\n"
     ]
    },
    {
     "data": {
      "application/vnd.jupyter.widget-view+json": {
       "model_id": "dab76f184ed648909679827555c074a0",
       "version_major": 2,
       "version_minor": 0
      },
      "text/plain": [
       "0it [00:00, ?it/s]"
      ]
     },
     "metadata": {},
     "output_type": "display_data"
    },
    {
     "name": "stdout",
     "output_type": "stream",
     "text": [
      "수집한 댓글 수 :  0\n",
      "좋아요,댓글,날짜,다운로드 4\n"
     ]
    },
    {
     "data": {
      "application/vnd.jupyter.widget-view+json": {
       "model_id": "9bbca6b71f314f8283976d766520d520",
       "version_major": 2,
       "version_minor": 0
      },
      "text/plain": [
       "  0%|          | 0/5 [00:00<?, ?it/s]"
      ]
     },
     "metadata": {},
     "output_type": "display_data"
    },
    {
     "name": "stdout",
     "output_type": "stream",
     "text": [
      "수집한 댓글 수 :  1\n",
      "수집한 댓글 수 :  1\n",
      "수집한 댓글 수 :  1\n",
      "수집한 댓글 수 :  1\n",
      "수집한 댓글 수 :  1\n",
      "좋아요,댓글,날짜,다운로드 4\n"
     ]
    },
    {
     "data": {
      "application/vnd.jupyter.widget-view+json": {
       "model_id": "de84675bf53d442db8306a16c39da851",
       "version_major": 2,
       "version_minor": 0
      },
      "text/plain": [
       "  0%|          | 0/5 [00:00<?, ?it/s]"
      ]
     },
     "metadata": {},
     "output_type": "display_data"
    },
    {
     "name": "stdout",
     "output_type": "stream",
     "text": [
      "수집한 댓글 수 :  1\n",
      "수집한 댓글 수 :  1\n",
      "수집한 댓글 수 :  5\n",
      "수집한 댓글 수 :  5\n",
      "수집한 댓글 수 :  5\n",
      "좋아요,댓글,날짜,다운로드 4\n"
     ]
    },
    {
     "data": {
      "application/vnd.jupyter.widget-view+json": {
       "model_id": "d8e1a9c9c7bb4327a977caae788c9d33",
       "version_major": 2,
       "version_minor": 0
      },
      "text/plain": [
       "  0%|          | 0/2 [00:00<?, ?it/s]"
      ]
     },
     "metadata": {},
     "output_type": "display_data"
    },
    {
     "name": "stdout",
     "output_type": "stream",
     "text": [
      "수집한 댓글 수 :  2\n",
      "수집한 댓글 수 :  2\n",
      "좋아요,댓글,날짜,다운로드 4\n"
     ]
    },
    {
     "data": {
      "application/vnd.jupyter.widget-view+json": {
       "model_id": "4943d9337df34bc49f3f354078dc5372",
       "version_major": 2,
       "version_minor": 0
      },
      "text/plain": [
       "0it [00:00, ?it/s]"
      ]
     },
     "metadata": {},
     "output_type": "display_data"
    },
    {
     "name": "stdout",
     "output_type": "stream",
     "text": [
      "수집한 댓글 수 :  0\n",
      "좋아요,댓글,날짜,다운로드 4\n"
     ]
    },
    {
     "data": {
      "application/vnd.jupyter.widget-view+json": {
       "model_id": "935c9d797c0f44f6bacc07fff8a1bd12",
       "version_major": 2,
       "version_minor": 0
      },
      "text/plain": [
       "  0%|          | 0/6 [00:00<?, ?it/s]"
      ]
     },
     "metadata": {},
     "output_type": "display_data"
    },
    {
     "name": "stdout",
     "output_type": "stream",
     "text": [
      "수집한 댓글 수 :  1\n",
      "수집한 댓글 수 :  4\n",
      "수집한 댓글 수 :  4\n",
      "수집한 댓글 수 :  4\n",
      "수집한 댓글 수 :  4\n",
      "수집한 댓글 수 :  4\n",
      "좋아요,댓글,날짜,다운로드 4\n"
     ]
    },
    {
     "data": {
      "application/vnd.jupyter.widget-view+json": {
       "model_id": "02a9224d1add46678713eda384eece61",
       "version_major": 2,
       "version_minor": 0
      },
      "text/plain": [
       "0it [00:00, ?it/s]"
      ]
     },
     "metadata": {},
     "output_type": "display_data"
    },
    {
     "name": "stdout",
     "output_type": "stream",
     "text": [
      "수집한 댓글 수 :  0\n",
      "좋아요,댓글,날짜,다운로드 4\n"
     ]
    },
    {
     "data": {
      "application/vnd.jupyter.widget-view+json": {
       "model_id": "a5fbca97f02f42cea9b7d0ceee984dd3",
       "version_major": 2,
       "version_minor": 0
      },
      "text/plain": [
       "  0%|          | 0/5 [00:00<?, ?it/s]"
      ]
     },
     "metadata": {},
     "output_type": "display_data"
    },
    {
     "name": "stdout",
     "output_type": "stream",
     "text": [
      "수집한 댓글 수 :  1\n",
      "수집한 댓글 수 :  1\n",
      "수집한 댓글 수 :  5\n",
      "수집한 댓글 수 :  5\n",
      "수집한 댓글 수 :  5\n",
      "좋아요,댓글,날짜,다운로드 4\n"
     ]
    },
    {
     "data": {
      "application/vnd.jupyter.widget-view+json": {
       "model_id": "354188e526b544cdbae7d9fb4afe8aa6",
       "version_major": 2,
       "version_minor": 0
      },
      "text/plain": [
       "0it [00:00, ?it/s]"
      ]
     },
     "metadata": {},
     "output_type": "display_data"
    },
    {
     "name": "stdout",
     "output_type": "stream",
     "text": [
      "수집한 댓글 수 :  0\n",
      "좋아요,댓글,날짜,다운로드 4\n"
     ]
    },
    {
     "data": {
      "application/vnd.jupyter.widget-view+json": {
       "model_id": "5a73d42f88f849579587170990639425",
       "version_major": 2,
       "version_minor": 0
      },
      "text/plain": [
       "  0%|          | 0/3 [00:00<?, ?it/s]"
      ]
     },
     "metadata": {},
     "output_type": "display_data"
    },
    {
     "name": "stdout",
     "output_type": "stream",
     "text": [
      "수집한 댓글 수 :  1\n",
      "수집한 댓글 수 :  3\n",
      "수집한 댓글 수 :  3\n",
      "좋아요,댓글,날짜,다운로드 4\n"
     ]
    },
    {
     "data": {
      "application/vnd.jupyter.widget-view+json": {
       "model_id": "40af96f6d67f4f61ae8bca3ba148b13a",
       "version_major": 2,
       "version_minor": 0
      },
      "text/plain": [
       "  0%|          | 0/2 [00:00<?, ?it/s]"
      ]
     },
     "metadata": {},
     "output_type": "display_data"
    },
    {
     "name": "stdout",
     "output_type": "stream",
     "text": [
      "수집한 댓글 수 :  1\n",
      "수집한 댓글 수 :  1\n",
      "좋아요,댓글,날짜,다운로드 4\n"
     ]
    },
    {
     "data": {
      "application/vnd.jupyter.widget-view+json": {
       "model_id": "8f62ed7721c447caa90bdb06632dd9d9",
       "version_major": 2,
       "version_minor": 0
      },
      "text/plain": [
       "  0%|          | 0/1 [00:00<?, ?it/s]"
      ]
     },
     "metadata": {},
     "output_type": "display_data"
    },
    {
     "name": "stdout",
     "output_type": "stream",
     "text": [
      "수집한 댓글 수 :  1\n",
      "좋아요,댓글,날짜,다운로드 4\n"
     ]
    },
    {
     "data": {
      "application/vnd.jupyter.widget-view+json": {
       "model_id": "0c2c173505e041c09b83f2f1f053df9f",
       "version_major": 2,
       "version_minor": 0
      },
      "text/plain": [
       "  0%|          | 0/2 [00:00<?, ?it/s]"
      ]
     },
     "metadata": {},
     "output_type": "display_data"
    },
    {
     "name": "stdout",
     "output_type": "stream",
     "text": [
      "수집한 댓글 수 :  1\n",
      "수집한 댓글 수 :  2\n",
      "좋아요,댓글,날짜,다운로드 4\n"
     ]
    },
    {
     "data": {
      "application/vnd.jupyter.widget-view+json": {
       "model_id": "fdaa480d97f8444c8370e7adec8793d4",
       "version_major": 2,
       "version_minor": 0
      },
      "text/plain": [
       "  0%|          | 0/7 [00:00<?, ?it/s]"
      ]
     },
     "metadata": {},
     "output_type": "display_data"
    },
    {
     "name": "stdout",
     "output_type": "stream",
     "text": [
      "수집한 댓글 수 :  1\n",
      "수집한 댓글 수 :  1\n",
      "수집한 댓글 수 :  7\n",
      "수집한 댓글 수 :  7\n",
      "수집한 댓글 수 :  7\n",
      "수집한 댓글 수 :  7\n",
      "수집한 댓글 수 :  7\n",
      "좋아요,댓글,날짜,다운로드 4\n"
     ]
    },
    {
     "data": {
      "application/vnd.jupyter.widget-view+json": {
       "model_id": "4f166ed94d4c4d9e815b77c9094aa944",
       "version_major": 2,
       "version_minor": 0
      },
      "text/plain": [
       "0it [00:00, ?it/s]"
      ]
     },
     "metadata": {},
     "output_type": "display_data"
    },
    {
     "name": "stdout",
     "output_type": "stream",
     "text": [
      "수집한 댓글 수 :  0\n",
      "좋아요,댓글,날짜,다운로드 4\n"
     ]
    },
    {
     "data": {
      "application/vnd.jupyter.widget-view+json": {
       "model_id": "e64e04b16efe48d9946b5b4b5a764e73",
       "version_major": 2,
       "version_minor": 0
      },
      "text/plain": [
       "  0%|          | 0/2 [00:00<?, ?it/s]"
      ]
     },
     "metadata": {},
     "output_type": "display_data"
    },
    {
     "name": "stdout",
     "output_type": "stream",
     "text": [
      "수집한 댓글 수 :  1\n",
      "수집한 댓글 수 :  1\n",
      "좋아요,댓글,날짜,다운로드 4\n"
     ]
    },
    {
     "data": {
      "application/vnd.jupyter.widget-view+json": {
       "model_id": "9a9dc69042144e678bc0974a787af605",
       "version_major": 2,
       "version_minor": 0
      },
      "text/plain": [
       "  0%|          | 0/1 [00:00<?, ?it/s]"
      ]
     },
     "metadata": {},
     "output_type": "display_data"
    },
    {
     "name": "stdout",
     "output_type": "stream",
     "text": [
      "수집한 댓글 수 :  1\n",
      "좋아요,댓글,날짜,다운로드 4\n"
     ]
    },
    {
     "data": {
      "application/vnd.jupyter.widget-view+json": {
       "model_id": "36d5e8c2de4442d2ac1fb01b954eab6c",
       "version_major": 2,
       "version_minor": 0
      },
      "text/plain": [
       "  0%|          | 0/4 [00:00<?, ?it/s]"
      ]
     },
     "metadata": {},
     "output_type": "display_data"
    },
    {
     "name": "stdout",
     "output_type": "stream",
     "text": [
      "수집한 댓글 수 :  1\n",
      "수집한 댓글 수 :  1\n",
      "수집한 댓글 수 :  1\n",
      "수집한 댓글 수 :  1\n",
      "좋아요,댓글,날짜,다운로드 4\n"
     ]
    },
    {
     "data": {
      "application/vnd.jupyter.widget-view+json": {
       "model_id": "26a7b2266779466a9aeeeeabea4e63ec",
       "version_major": 2,
       "version_minor": 0
      },
      "text/plain": [
       "  0%|          | 0/2 [00:00<?, ?it/s]"
      ]
     },
     "metadata": {},
     "output_type": "display_data"
    },
    {
     "name": "stdout",
     "output_type": "stream",
     "text": [
      "수집한 댓글 수 :  1\n",
      "수집한 댓글 수 :  2\n",
      "좋아요,댓글,날짜,다운로드 4\n"
     ]
    },
    {
     "data": {
      "application/vnd.jupyter.widget-view+json": {
       "model_id": "d385182130f34b2ebc687da382dd86ea",
       "version_major": 2,
       "version_minor": 0
      },
      "text/plain": [
       "0it [00:00, ?it/s]"
      ]
     },
     "metadata": {},
     "output_type": "display_data"
    },
    {
     "name": "stdout",
     "output_type": "stream",
     "text": [
      "수집한 댓글 수 :  0\n",
      "좋아요,댓글,날짜,다운로드 4\n"
     ]
    },
    {
     "data": {
      "application/vnd.jupyter.widget-view+json": {
       "model_id": "960fa88de310479fbb8ea2a4019f3cd8",
       "version_major": 2,
       "version_minor": 0
      },
      "text/plain": [
       "  0%|          | 0/7 [00:00<?, ?it/s]"
      ]
     },
     "metadata": {},
     "output_type": "display_data"
    },
    {
     "name": "stdout",
     "output_type": "stream",
     "text": [
      "수집한 댓글 수 :  1\n",
      "수집한 댓글 수 :  7\n",
      "수집한 댓글 수 :  7\n",
      "수집한 댓글 수 :  7\n",
      "수집한 댓글 수 :  7\n",
      "수집한 댓글 수 :  7\n",
      "수집한 댓글 수 :  7\n",
      "좋아요,댓글,날짜,다운로드 4\n"
     ]
    },
    {
     "data": {
      "application/vnd.jupyter.widget-view+json": {
       "model_id": "2e5276595a5b497b94e2bfaea51fe6a5",
       "version_major": 2,
       "version_minor": 0
      },
      "text/plain": [
       "  0%|          | 0/3 [00:00<?, ?it/s]"
      ]
     },
     "metadata": {},
     "output_type": "display_data"
    },
    {
     "name": "stdout",
     "output_type": "stream",
     "text": [
      "수집한 댓글 수 :  1\n",
      "수집한 댓글 수 :  1\n",
      "수집한 댓글 수 :  3\n",
      "좋아요,댓글,날짜,다운로드 4\n"
     ]
    },
    {
     "data": {
      "application/vnd.jupyter.widget-view+json": {
       "model_id": "966dc7d968574bb7a407470db64fbd67",
       "version_major": 2,
       "version_minor": 0
      },
      "text/plain": [
       "0it [00:00, ?it/s]"
      ]
     },
     "metadata": {},
     "output_type": "display_data"
    },
    {
     "name": "stdout",
     "output_type": "stream",
     "text": [
      "수집한 댓글 수 :  0\n",
      "좋아요,댓글,날짜,다운로드 4\n"
     ]
    },
    {
     "data": {
      "application/vnd.jupyter.widget-view+json": {
       "model_id": "4e93917e5c004dbd9d5355c4603ec452",
       "version_major": 2,
       "version_minor": 0
      },
      "text/plain": [
       "  0%|          | 0/1 [00:00<?, ?it/s]"
      ]
     },
     "metadata": {},
     "output_type": "display_data"
    },
    {
     "name": "stdout",
     "output_type": "stream",
     "text": [
      "수집한 댓글 수 :  1\n",
      "좋아요,댓글,날짜,다운로드 4\n"
     ]
    },
    {
     "data": {
      "application/vnd.jupyter.widget-view+json": {
       "model_id": "8b4b2ea18e8e4932ae626dfb8ddd4f04",
       "version_major": 2,
       "version_minor": 0
      },
      "text/plain": [
       "  0%|          | 0/3 [00:00<?, ?it/s]"
      ]
     },
     "metadata": {},
     "output_type": "display_data"
    },
    {
     "name": "stdout",
     "output_type": "stream",
     "text": [
      "수집한 댓글 수 :  3\n",
      "수집한 댓글 수 :  3\n",
      "수집한 댓글 수 :  3\n",
      "좋아요,댓글,날짜,다운로드 4\n"
     ]
    },
    {
     "data": {
      "application/vnd.jupyter.widget-view+json": {
       "model_id": "df5ac52c97234cb4b9f006838be8d14f",
       "version_major": 2,
       "version_minor": 0
      },
      "text/plain": [
       "0it [00:00, ?it/s]"
      ]
     },
     "metadata": {},
     "output_type": "display_data"
    },
    {
     "name": "stdout",
     "output_type": "stream",
     "text": [
      "수집한 댓글 수 :  0\n",
      "좋아요,댓글,날짜,다운로드 4\n"
     ]
    },
    {
     "data": {
      "application/vnd.jupyter.widget-view+json": {
       "model_id": "0785664ec1994044b21a509975287e2e",
       "version_major": 2,
       "version_minor": 0
      },
      "text/plain": [
       "  0%|          | 0/1 [00:00<?, ?it/s]"
      ]
     },
     "metadata": {},
     "output_type": "display_data"
    },
    {
     "name": "stdout",
     "output_type": "stream",
     "text": [
      "수집한 댓글 수 :  1\n",
      "좋아요,댓글,날짜,다운로드 4\n"
     ]
    },
    {
     "data": {
      "application/vnd.jupyter.widget-view+json": {
       "model_id": "07549aa3438a418fa60ef30ff495c3dc",
       "version_major": 2,
       "version_minor": 0
      },
      "text/plain": [
       "  0%|          | 0/4 [00:00<?, ?it/s]"
      ]
     },
     "metadata": {},
     "output_type": "display_data"
    },
    {
     "name": "stdout",
     "output_type": "stream",
     "text": [
      "수집한 댓글 수 :  1\n",
      "수집한 댓글 수 :  1\n",
      "수집한 댓글 수 :  1\n",
      "수집한 댓글 수 :  1\n",
      "좋아요,댓글,날짜,다운로드 4\n"
     ]
    },
    {
     "data": {
      "application/vnd.jupyter.widget-view+json": {
       "model_id": "1fd8f20485a9425e852899536afe85ff",
       "version_major": 2,
       "version_minor": 0
      },
      "text/plain": [
       "  0%|          | 0/2 [00:00<?, ?it/s]"
      ]
     },
     "metadata": {},
     "output_type": "display_data"
    },
    {
     "name": "stdout",
     "output_type": "stream",
     "text": [
      "수집한 댓글 수 :  2\n",
      "수집한 댓글 수 :  2\n",
      "좋아요,댓글,날짜,다운로드 4\n"
     ]
    },
    {
     "data": {
      "application/vnd.jupyter.widget-view+json": {
       "model_id": "6394c61ad690494badfdbacfe0532ff1",
       "version_major": 2,
       "version_minor": 0
      },
      "text/plain": [
       "  0%|          | 0/1 [00:00<?, ?it/s]"
      ]
     },
     "metadata": {},
     "output_type": "display_data"
    },
    {
     "name": "stdout",
     "output_type": "stream",
     "text": [
      "수집한 댓글 수 :  1\n",
      "좋아요,댓글,날짜,다운로드 4\n"
     ]
    },
    {
     "data": {
      "application/vnd.jupyter.widget-view+json": {
       "model_id": "86f6c1ab2836423ba3c040475184f3e4",
       "version_major": 2,
       "version_minor": 0
      },
      "text/plain": [
       "  0%|          | 0/3 [00:00<?, ?it/s]"
      ]
     },
     "metadata": {},
     "output_type": "display_data"
    },
    {
     "name": "stdout",
     "output_type": "stream",
     "text": [
      "수집한 댓글 수 :  2\n",
      "수집한 댓글 수 :  2\n",
      "수집한 댓글 수 :  2\n",
      "좋아요,댓글,날짜,다운로드 4\n"
     ]
    },
    {
     "data": {
      "application/vnd.jupyter.widget-view+json": {
       "model_id": "1a2367eb3b804bc3aeedff31d48de3ea",
       "version_major": 2,
       "version_minor": 0
      },
      "text/plain": [
       "  0%|          | 0/4 [00:00<?, ?it/s]"
      ]
     },
     "metadata": {},
     "output_type": "display_data"
    },
    {
     "name": "stdout",
     "output_type": "stream",
     "text": [
      "수집한 댓글 수 :  1\n",
      "수집한 댓글 수 :  1\n",
      "수집한 댓글 수 :  1\n",
      "수집한 댓글 수 :  1\n",
      "좋아요,댓글,날짜,다운로드 4\n"
     ]
    },
    {
     "data": {
      "application/vnd.jupyter.widget-view+json": {
       "model_id": "4e9a7ade911644fb93645a7d9efecdf5",
       "version_major": 2,
       "version_minor": 0
      },
      "text/plain": [
       "  0%|          | 0/5 [00:00<?, ?it/s]"
      ]
     },
     "metadata": {},
     "output_type": "display_data"
    },
    {
     "name": "stdout",
     "output_type": "stream",
     "text": [
      "수집한 댓글 수 :  5\n",
      "수집한 댓글 수 :  5\n",
      "수집한 댓글 수 :  5\n",
      "수집한 댓글 수 :  5\n",
      "수집한 댓글 수 :  5\n",
      "좋아요,댓글,날짜,다운로드 4\n"
     ]
    },
    {
     "data": {
      "application/vnd.jupyter.widget-view+json": {
       "model_id": "3f66512ee9a749b1a7034f257a70252b",
       "version_major": 2,
       "version_minor": 0
      },
      "text/plain": [
       "  0%|          | 0/1 [00:00<?, ?it/s]"
      ]
     },
     "metadata": {},
     "output_type": "display_data"
    },
    {
     "name": "stdout",
     "output_type": "stream",
     "text": [
      "수집한 댓글 수 :  1\n",
      "좋아요,댓글,날짜,다운로드 4\n"
     ]
    },
    {
     "data": {
      "application/vnd.jupyter.widget-view+json": {
       "model_id": "0d482dd0452248828ba881cb3744a7ab",
       "version_major": 2,
       "version_minor": 0
      },
      "text/plain": [
       "  0%|          | 0/3 [00:00<?, ?it/s]"
      ]
     },
     "metadata": {},
     "output_type": "display_data"
    },
    {
     "name": "stdout",
     "output_type": "stream",
     "text": [
      "수집한 댓글 수 :  1\n",
      "수집한 댓글 수 :  3\n",
      "수집한 댓글 수 :  3\n",
      "좋아요,댓글,날짜,다운로드 4\n"
     ]
    },
    {
     "data": {
      "application/vnd.jupyter.widget-view+json": {
       "model_id": "fe7896f2be7b4746a7f18b23c74d9b3e",
       "version_major": 2,
       "version_minor": 0
      },
      "text/plain": [
       "0it [00:00, ?it/s]"
      ]
     },
     "metadata": {},
     "output_type": "display_data"
    },
    {
     "name": "stdout",
     "output_type": "stream",
     "text": [
      "수집한 댓글 수 :  0\n",
      "좋아요,댓글,날짜,다운로드 4\n"
     ]
    },
    {
     "data": {
      "application/vnd.jupyter.widget-view+json": {
       "model_id": "ac1822e3bf2d4e648ab245ec36d3ba3d",
       "version_major": 2,
       "version_minor": 0
      },
      "text/plain": [
       "  0%|          | 0/5 [00:00<?, ?it/s]"
      ]
     },
     "metadata": {},
     "output_type": "display_data"
    },
    {
     "name": "stdout",
     "output_type": "stream",
     "text": [
      "수집한 댓글 수 :  1\n",
      "수집한 댓글 수 :  1\n",
      "수집한 댓글 수 :  1\n",
      "수집한 댓글 수 :  1\n",
      "수집한 댓글 수 :  1\n",
      "좋아요,댓글,날짜,다운로드 4\n"
     ]
    },
    {
     "data": {
      "application/vnd.jupyter.widget-view+json": {
       "model_id": "dc2bc19fc93d4f58a197fd7b988d6ab5",
       "version_major": 2,
       "version_minor": 0
      },
      "text/plain": [
       "  0%|          | 0/2 [00:00<?, ?it/s]"
      ]
     },
     "metadata": {},
     "output_type": "display_data"
    },
    {
     "name": "stdout",
     "output_type": "stream",
     "text": [
      "수집한 댓글 수 :  1\n",
      "수집한 댓글 수 :  1\n",
      "좋아요,댓글,날짜,다운로드 4\n"
     ]
    },
    {
     "data": {
      "application/vnd.jupyter.widget-view+json": {
       "model_id": "42f1908204df4132b1ae6e3f35a163c7",
       "version_major": 2,
       "version_minor": 0
      },
      "text/plain": [
       "  0%|          | 0/2 [00:00<?, ?it/s]"
      ]
     },
     "metadata": {},
     "output_type": "display_data"
    },
    {
     "name": "stdout",
     "output_type": "stream",
     "text": [
      "수집한 댓글 수 :  1\n",
      "수집한 댓글 수 :  1\n",
      "좋아요,댓글,날짜,다운로드 4\n"
     ]
    },
    {
     "data": {
      "application/vnd.jupyter.widget-view+json": {
       "model_id": "1d4f171754a74213b21b173c0d96f0ad",
       "version_major": 2,
       "version_minor": 0
      },
      "text/plain": [
       "0it [00:00, ?it/s]"
      ]
     },
     "metadata": {},
     "output_type": "display_data"
    },
    {
     "name": "stdout",
     "output_type": "stream",
     "text": [
      "수집한 댓글 수 :  0\n",
      "좋아요,댓글,날짜,다운로드 4\n"
     ]
    },
    {
     "data": {
      "application/vnd.jupyter.widget-view+json": {
       "model_id": "9b7cb160d8214fd6bd5ac17236199292",
       "version_major": 2,
       "version_minor": 0
      },
      "text/plain": [
       "  0%|          | 0/3 [00:00<?, ?it/s]"
      ]
     },
     "metadata": {},
     "output_type": "display_data"
    },
    {
     "name": "stdout",
     "output_type": "stream",
     "text": [
      "수집한 댓글 수 :  1\n",
      "수집한 댓글 수 :  2\n",
      "수집한 댓글 수 :  2\n",
      "좋아요,댓글,날짜,다운로드 4\n"
     ]
    },
    {
     "data": {
      "application/vnd.jupyter.widget-view+json": {
       "model_id": "abc0be039f294e98abbc0444527f7714",
       "version_major": 2,
       "version_minor": 0
      },
      "text/plain": [
       "0it [00:00, ?it/s]"
      ]
     },
     "metadata": {},
     "output_type": "display_data"
    },
    {
     "name": "stdout",
     "output_type": "stream",
     "text": [
      "수집한 댓글 수 :  0\n",
      "좋아요,댓글,날짜,다운로드 4\n"
     ]
    },
    {
     "data": {
      "application/vnd.jupyter.widget-view+json": {
       "model_id": "84bd4de8dd944179a5c35b50b63aca9b",
       "version_major": 2,
       "version_minor": 0
      },
      "text/plain": [
       "  0%|          | 0/3 [00:00<?, ?it/s]"
      ]
     },
     "metadata": {},
     "output_type": "display_data"
    },
    {
     "name": "stdout",
     "output_type": "stream",
     "text": [
      "수집한 댓글 수 :  1\n",
      "수집한 댓글 수 :  3\n",
      "수집한 댓글 수 :  3\n",
      "좋아요,댓글,날짜,다운로드 4\n"
     ]
    },
    {
     "data": {
      "application/vnd.jupyter.widget-view+json": {
       "model_id": "5880e3e5b80d4e8d9a6cdf3d0d1f32f7",
       "version_major": 2,
       "version_minor": 0
      },
      "text/plain": [
       "0it [00:00, ?it/s]"
      ]
     },
     "metadata": {},
     "output_type": "display_data"
    },
    {
     "name": "stdout",
     "output_type": "stream",
     "text": [
      "수집한 댓글 수 :  0\n",
      "좋아요,댓글,날짜,다운로드 4\n"
     ]
    },
    {
     "data": {
      "application/vnd.jupyter.widget-view+json": {
       "model_id": "5f53bd60f9a94f8494b7185ea7722dff",
       "version_major": 2,
       "version_minor": 0
      },
      "text/plain": [
       "  0%|          | 0/1 [00:00<?, ?it/s]"
      ]
     },
     "metadata": {},
     "output_type": "display_data"
    },
    {
     "name": "stdout",
     "output_type": "stream",
     "text": [
      "수집한 댓글 수 :  1\n",
      "좋아요,댓글,날짜,다운로드 4\n"
     ]
    },
    {
     "data": {
      "application/vnd.jupyter.widget-view+json": {
       "model_id": "c1eae00582d34a5d8ffb84658e4b1d51",
       "version_major": 2,
       "version_minor": 0
      },
      "text/plain": [
       "  0%|          | 0/1 [00:00<?, ?it/s]"
      ]
     },
     "metadata": {},
     "output_type": "display_data"
    },
    {
     "name": "stdout",
     "output_type": "stream",
     "text": [
      "수집한 댓글 수 :  1\n",
      "좋아요,댓글,날짜,다운로드 4\n"
     ]
    },
    {
     "data": {
      "application/vnd.jupyter.widget-view+json": {
       "model_id": "f621ed13ce514c56985d80982b808391",
       "version_major": 2,
       "version_minor": 0
      },
      "text/plain": [
       "  0%|          | 0/8 [00:00<?, ?it/s]"
      ]
     },
     "metadata": {},
     "output_type": "display_data"
    },
    {
     "name": "stdout",
     "output_type": "stream",
     "text": [
      "수집한 댓글 수 :  1\n",
      "수집한 댓글 수 :  8\n",
      "수집한 댓글 수 :  8\n",
      "수집한 댓글 수 :  8\n",
      "수집한 댓글 수 :  8\n",
      "수집한 댓글 수 :  8\n",
      "수집한 댓글 수 :  8\n",
      "수집한 댓글 수 :  8\n",
      "좋아요,댓글,날짜,다운로드 4\n"
     ]
    },
    {
     "data": {
      "application/vnd.jupyter.widget-view+json": {
       "model_id": "89bbd4b0851145549ca1222e7da78516",
       "version_major": 2,
       "version_minor": 0
      },
      "text/plain": [
       "0it [00:00, ?it/s]"
      ]
     },
     "metadata": {},
     "output_type": "display_data"
    },
    {
     "name": "stdout",
     "output_type": "stream",
     "text": [
      "수집한 댓글 수 :  0\n",
      "좋아요,댓글,날짜,다운로드 4\n"
     ]
    },
    {
     "data": {
      "application/vnd.jupyter.widget-view+json": {
       "model_id": "d1cebbf5995741f9a548caec6461c5f6",
       "version_major": 2,
       "version_minor": 0
      },
      "text/plain": [
       "  0%|          | 0/2 [00:00<?, ?it/s]"
      ]
     },
     "metadata": {},
     "output_type": "display_data"
    },
    {
     "name": "stdout",
     "output_type": "stream",
     "text": [
      "수집한 댓글 수 :  1\n",
      "수집한 댓글 수 :  2\n",
      "좋아요,댓글,날짜,다운로드 4\n"
     ]
    },
    {
     "data": {
      "application/vnd.jupyter.widget-view+json": {
       "model_id": "a1c7dfd1fc5d40b0903a0786ecf19ad7",
       "version_major": 2,
       "version_minor": 0
      },
      "text/plain": [
       "  0%|          | 0/2 [00:00<?, ?it/s]"
      ]
     },
     "metadata": {},
     "output_type": "display_data"
    },
    {
     "name": "stdout",
     "output_type": "stream",
     "text": [
      "수집한 댓글 수 :  1\n",
      "수집한 댓글 수 :  1\n",
      "좋아요,댓글,날짜,다운로드 4\n"
     ]
    },
    {
     "data": {
      "application/vnd.jupyter.widget-view+json": {
       "model_id": "2572a943772e446aa8ebdddc8c8e1557",
       "version_major": 2,
       "version_minor": 0
      },
      "text/plain": [
       "  0%|          | 0/3 [00:00<?, ?it/s]"
      ]
     },
     "metadata": {},
     "output_type": "display_data"
    },
    {
     "name": "stdout",
     "output_type": "stream",
     "text": [
      "수집한 댓글 수 :  1\n",
      "수집한 댓글 수 :  3\n",
      "수집한 댓글 수 :  3\n",
      "좋아요,댓글,날짜,다운로드 4\n"
     ]
    },
    {
     "data": {
      "application/vnd.jupyter.widget-view+json": {
       "model_id": "5f3ec4670b414a1bab4a926d2a16fac4",
       "version_major": 2,
       "version_minor": 0
      },
      "text/plain": [
       "  0%|          | 0/1 [00:00<?, ?it/s]"
      ]
     },
     "metadata": {},
     "output_type": "display_data"
    },
    {
     "name": "stdout",
     "output_type": "stream",
     "text": [
      "수집한 댓글 수 :  1\n",
      "좋아요,댓글,날짜,다운로드 4\n"
     ]
    },
    {
     "data": {
      "application/vnd.jupyter.widget-view+json": {
       "model_id": "6344289b77eb436d91a02b4edcc192b7",
       "version_major": 2,
       "version_minor": 0
      },
      "text/plain": [
       "  0%|          | 0/1 [00:00<?, ?it/s]"
      ]
     },
     "metadata": {},
     "output_type": "display_data"
    },
    {
     "name": "stdout",
     "output_type": "stream",
     "text": [
      "수집한 댓글 수 :  1\n",
      "좋아요,댓글,날짜,다운로드 4\n"
     ]
    },
    {
     "data": {
      "application/vnd.jupyter.widget-view+json": {
       "model_id": "a132397a0474499091668530c0a9f42e",
       "version_major": 2,
       "version_minor": 0
      },
      "text/plain": [
       "  0%|          | 0/3 [00:00<?, ?it/s]"
      ]
     },
     "metadata": {},
     "output_type": "display_data"
    },
    {
     "name": "stdout",
     "output_type": "stream",
     "text": [
      "수집한 댓글 수 :  1\n",
      "수집한 댓글 수 :  3\n",
      "수집한 댓글 수 :  3\n",
      "좋아요,댓글,날짜,다운로드 4\n"
     ]
    },
    {
     "data": {
      "application/vnd.jupyter.widget-view+json": {
       "model_id": "f5fd680eb74a4277a4202ffcb2e79aa0",
       "version_major": 2,
       "version_minor": 0
      },
      "text/plain": [
       "  0%|          | 0/1 [00:00<?, ?it/s]"
      ]
     },
     "metadata": {},
     "output_type": "display_data"
    },
    {
     "name": "stdout",
     "output_type": "stream",
     "text": [
      "수집한 댓글 수 :  1\n",
      "좋아요,댓글,날짜,다운로드 4\n"
     ]
    },
    {
     "data": {
      "application/vnd.jupyter.widget-view+json": {
       "model_id": "1bb020a05710404a8999756528e3bd46",
       "version_major": 2,
       "version_minor": 0
      },
      "text/plain": [
       "  0%|          | 0/3 [00:00<?, ?it/s]"
      ]
     },
     "metadata": {},
     "output_type": "display_data"
    },
    {
     "name": "stdout",
     "output_type": "stream",
     "text": [
      "수집한 댓글 수 :  1\n",
      "수집한 댓글 수 :  3\n",
      "수집한 댓글 수 :  3\n",
      "좋아요,댓글,날짜,다운로드 4\n"
     ]
    },
    {
     "data": {
      "application/vnd.jupyter.widget-view+json": {
       "model_id": "78cd27c7d2324a6c934cdbf44ae3952f",
       "version_major": 2,
       "version_minor": 0
      },
      "text/plain": [
       "  0%|          | 0/1 [00:00<?, ?it/s]"
      ]
     },
     "metadata": {},
     "output_type": "display_data"
    },
    {
     "name": "stdout",
     "output_type": "stream",
     "text": [
      "수집한 댓글 수 :  1\n",
      "좋아요,댓글,날짜,다운로드 4\n"
     ]
    },
    {
     "data": {
      "application/vnd.jupyter.widget-view+json": {
       "model_id": "c1de11c1aa014edab3a77fd4047d233f",
       "version_major": 2,
       "version_minor": 0
      },
      "text/plain": [
       "  0%|          | 0/2 [00:00<?, ?it/s]"
      ]
     },
     "metadata": {},
     "output_type": "display_data"
    },
    {
     "name": "stdout",
     "output_type": "stream",
     "text": [
      "수집한 댓글 수 :  2\n",
      "수집한 댓글 수 :  2\n",
      "좋아요,댓글,날짜,다운로드 4\n"
     ]
    },
    {
     "data": {
      "application/vnd.jupyter.widget-view+json": {
       "model_id": "fd0dd7d73d4d450c8d99de4b85ad5d2d",
       "version_major": 2,
       "version_minor": 0
      },
      "text/plain": [
       "0it [00:00, ?it/s]"
      ]
     },
     "metadata": {},
     "output_type": "display_data"
    },
    {
     "name": "stdout",
     "output_type": "stream",
     "text": [
      "수집한 댓글 수 :  0\n",
      "좋아요,댓글,날짜,다운로드 4\n"
     ]
    },
    {
     "data": {
      "application/vnd.jupyter.widget-view+json": {
       "model_id": "6e85a29f952b4586b6af88d045efdae0",
       "version_major": 2,
       "version_minor": 0
      },
      "text/plain": [
       "0it [00:00, ?it/s]"
      ]
     },
     "metadata": {},
     "output_type": "display_data"
    },
    {
     "name": "stdout",
     "output_type": "stream",
     "text": [
      "수집한 댓글 수 :  0\n",
      "좋아요,댓글,날짜,다운로드 4\n"
     ]
    },
    {
     "data": {
      "application/vnd.jupyter.widget-view+json": {
       "model_id": "a9ce38919b0945bc9a0dfa6fc74f7405",
       "version_major": 2,
       "version_minor": 0
      },
      "text/plain": [
       "  0%|          | 0/1 [00:00<?, ?it/s]"
      ]
     },
     "metadata": {},
     "output_type": "display_data"
    },
    {
     "name": "stdout",
     "output_type": "stream",
     "text": [
      "수집한 댓글 수 :  1\n",
      "좋아요,댓글,날짜,다운로드 4\n"
     ]
    },
    {
     "data": {
      "application/vnd.jupyter.widget-view+json": {
       "model_id": "85d8abf2f52a4563874a12194355b311",
       "version_major": 2,
       "version_minor": 0
      },
      "text/plain": [
       "  0%|          | 0/2 [00:00<?, ?it/s]"
      ]
     },
     "metadata": {},
     "output_type": "display_data"
    },
    {
     "name": "stdout",
     "output_type": "stream",
     "text": [
      "수집한 댓글 수 :  1\n",
      "수집한 댓글 수 :  1\n",
      "좋아요,댓글,날짜,다운로드 4\n"
     ]
    },
    {
     "data": {
      "application/vnd.jupyter.widget-view+json": {
       "model_id": "8c19bcf6b92d441d99481b8f07c5e4f1",
       "version_major": 2,
       "version_minor": 0
      },
      "text/plain": [
       "  0%|          | 0/2 [00:00<?, ?it/s]"
      ]
     },
     "metadata": {},
     "output_type": "display_data"
    },
    {
     "name": "stdout",
     "output_type": "stream",
     "text": [
      "수집한 댓글 수 :  2\n",
      "수집한 댓글 수 :  2\n",
      "좋아요,댓글,날짜,다운로드 4\n"
     ]
    },
    {
     "data": {
      "application/vnd.jupyter.widget-view+json": {
       "model_id": "3de462003a12470e95740c88b8b7b621",
       "version_major": 2,
       "version_minor": 0
      },
      "text/plain": [
       "0it [00:00, ?it/s]"
      ]
     },
     "metadata": {},
     "output_type": "display_data"
    },
    {
     "name": "stdout",
     "output_type": "stream",
     "text": [
      "수집한 댓글 수 :  0\n",
      "좋아요,댓글,날짜,다운로드 4\n"
     ]
    },
    {
     "data": {
      "application/vnd.jupyter.widget-view+json": {
       "model_id": "995829d8657e4ac69e884b5fd39a5b0a",
       "version_major": 2,
       "version_minor": 0
      },
      "text/plain": [
       "  0%|          | 0/1 [00:00<?, ?it/s]"
      ]
     },
     "metadata": {},
     "output_type": "display_data"
    },
    {
     "name": "stdout",
     "output_type": "stream",
     "text": [
      "수집한 댓글 수 :  1\n",
      "좋아요,댓글,날짜,다운로드 4\n"
     ]
    },
    {
     "data": {
      "application/vnd.jupyter.widget-view+json": {
       "model_id": "4dfed6b5668b44fab55076a5e2fcedae",
       "version_major": 2,
       "version_minor": 0
      },
      "text/plain": [
       "  0%|          | 0/2 [00:00<?, ?it/s]"
      ]
     },
     "metadata": {},
     "output_type": "display_data"
    },
    {
     "name": "stdout",
     "output_type": "stream",
     "text": [
      "수집한 댓글 수 :  1\n",
      "수집한 댓글 수 :  1\n",
      "좋아요,댓글,날짜,다운로드 4\n"
     ]
    },
    {
     "data": {
      "application/vnd.jupyter.widget-view+json": {
       "model_id": "12a1c2a7d8594c6e9c86d79a79f5e204",
       "version_major": 2,
       "version_minor": 0
      },
      "text/plain": [
       "0it [00:00, ?it/s]"
      ]
     },
     "metadata": {},
     "output_type": "display_data"
    },
    {
     "name": "stdout",
     "output_type": "stream",
     "text": [
      "수집한 댓글 수 :  0\n",
      "좋아요,댓글,날짜,다운로드 4\n"
     ]
    },
    {
     "data": {
      "application/vnd.jupyter.widget-view+json": {
       "model_id": "0368f5d9963f47d597c42b9414c94ccc",
       "version_major": 2,
       "version_minor": 0
      },
      "text/plain": [
       "  0%|          | 0/2 [00:00<?, ?it/s]"
      ]
     },
     "metadata": {},
     "output_type": "display_data"
    },
    {
     "name": "stdout",
     "output_type": "stream",
     "text": [
      "수집한 댓글 수 :  1\n",
      "수집한 댓글 수 :  2\n",
      "좋아요,댓글,날짜,다운로드 4\n"
     ]
    },
    {
     "data": {
      "application/vnd.jupyter.widget-view+json": {
       "model_id": "f892460012fc4b229c419fc49e0924f3",
       "version_major": 2,
       "version_minor": 0
      },
      "text/plain": [
       "0it [00:00, ?it/s]"
      ]
     },
     "metadata": {},
     "output_type": "display_data"
    },
    {
     "name": "stdout",
     "output_type": "stream",
     "text": [
      "수집한 댓글 수 :  0\n",
      "좋아요,댓글,날짜,다운로드 4\n"
     ]
    },
    {
     "data": {
      "application/vnd.jupyter.widget-view+json": {
       "model_id": "5851e70b1f1c40b18fc832f2d3828f81",
       "version_major": 2,
       "version_minor": 0
      },
      "text/plain": [
       "  0%|          | 0/1 [00:00<?, ?it/s]"
      ]
     },
     "metadata": {},
     "output_type": "display_data"
    },
    {
     "name": "stdout",
     "output_type": "stream",
     "text": [
      "수집한 댓글 수 :  1\n",
      "좋아요,댓글,날짜,다운로드 4\n"
     ]
    },
    {
     "data": {
      "application/vnd.jupyter.widget-view+json": {
       "model_id": "d6ad5c01d8544fdd8e9fc39403f1b637",
       "version_major": 2,
       "version_minor": 0
      },
      "text/plain": [
       "0it [00:00, ?it/s]"
      ]
     },
     "metadata": {},
     "output_type": "display_data"
    },
    {
     "name": "stdout",
     "output_type": "stream",
     "text": [
      "수집한 댓글 수 :  0\n",
      "좋아요,댓글,날짜,다운로드 4\n"
     ]
    },
    {
     "data": {
      "application/vnd.jupyter.widget-view+json": {
       "model_id": "bdf460b1320741f4be6fe895e3add1eb",
       "version_major": 2,
       "version_minor": 0
      },
      "text/plain": [
       "0it [00:00, ?it/s]"
      ]
     },
     "metadata": {},
     "output_type": "display_data"
    },
    {
     "name": "stdout",
     "output_type": "stream",
     "text": [
      "수집한 댓글 수 :  0\n",
      "좋아요,댓글,날짜,다운로드 4\n"
     ]
    },
    {
     "data": {
      "application/vnd.jupyter.widget-view+json": {
       "model_id": "d87a0f6c427e4f68b4c702533fa986d1",
       "version_major": 2,
       "version_minor": 0
      },
      "text/plain": [
       "0it [00:00, ?it/s]"
      ]
     },
     "metadata": {},
     "output_type": "display_data"
    },
    {
     "name": "stdout",
     "output_type": "stream",
     "text": [
      "수집한 댓글 수 :  0\n",
      "좋아요,댓글,날짜,다운로드 4\n"
     ]
    },
    {
     "data": {
      "application/vnd.jupyter.widget-view+json": {
       "model_id": "1ca3cde90e3e45e9a924fe0768dd7315",
       "version_major": 2,
       "version_minor": 0
      },
      "text/plain": [
       "0it [00:00, ?it/s]"
      ]
     },
     "metadata": {},
     "output_type": "display_data"
    },
    {
     "name": "stdout",
     "output_type": "stream",
     "text": [
      "수집한 댓글 수 :  0\n",
      "좋아요,댓글,날짜,다운로드 4\n"
     ]
    },
    {
     "data": {
      "application/vnd.jupyter.widget-view+json": {
       "model_id": "4576de9d677e403f98c5b4892f720bad",
       "version_major": 2,
       "version_minor": 0
      },
      "text/plain": [
       "  0%|          | 0/2 [00:00<?, ?it/s]"
      ]
     },
     "metadata": {},
     "output_type": "display_data"
    },
    {
     "name": "stdout",
     "output_type": "stream",
     "text": [
      "수집한 댓글 수 :  1\n",
      "수집한 댓글 수 :  2\n",
      "좋아요,댓글,날짜,다운로드 4\n"
     ]
    },
    {
     "data": {
      "application/vnd.jupyter.widget-view+json": {
       "model_id": "f474fc53ab4b49708ad3824b0ff8ff0e",
       "version_major": 2,
       "version_minor": 0
      },
      "text/plain": [
       "  0%|          | 0/1 [00:00<?, ?it/s]"
      ]
     },
     "metadata": {},
     "output_type": "display_data"
    },
    {
     "name": "stdout",
     "output_type": "stream",
     "text": [
      "수집한 댓글 수 :  1\n",
      "좋아요,댓글,날짜,다운로드 4\n"
     ]
    },
    {
     "data": {
      "application/vnd.jupyter.widget-view+json": {
       "model_id": "11329bc3536547b5948f0a42ed3a5f50",
       "version_major": 2,
       "version_minor": 0
      },
      "text/plain": [
       "0it [00:00, ?it/s]"
      ]
     },
     "metadata": {},
     "output_type": "display_data"
    },
    {
     "name": "stdout",
     "output_type": "stream",
     "text": [
      "수집한 댓글 수 :  0\n",
      "좋아요,댓글,날짜,다운로드 4\n"
     ]
    },
    {
     "data": {
      "application/vnd.jupyter.widget-view+json": {
       "model_id": "1cd89c988f7b4df2b906c83b0ada7183",
       "version_major": 2,
       "version_minor": 0
      },
      "text/plain": [
       "0it [00:00, ?it/s]"
      ]
     },
     "metadata": {},
     "output_type": "display_data"
    },
    {
     "name": "stdout",
     "output_type": "stream",
     "text": [
      "수집한 댓글 수 :  0\n",
      "좋아요,댓글,날짜,다운로드 4\n"
     ]
    },
    {
     "data": {
      "application/vnd.jupyter.widget-view+json": {
       "model_id": "d40e7650194c49b2ad51a2fe77a025c0",
       "version_major": 2,
       "version_minor": 0
      },
      "text/plain": [
       "0it [00:00, ?it/s]"
      ]
     },
     "metadata": {},
     "output_type": "display_data"
    },
    {
     "name": "stdout",
     "output_type": "stream",
     "text": [
      "수집한 댓글 수 :  0\n",
      "좋아요,댓글,날짜,다운로드 4\n"
     ]
    },
    {
     "data": {
      "application/vnd.jupyter.widget-view+json": {
       "model_id": "bc9f1d9cd3884ec9aee63884ed24a537",
       "version_major": 2,
       "version_minor": 0
      },
      "text/plain": [
       "  0%|          | 0/5 [00:00<?, ?it/s]"
      ]
     },
     "metadata": {},
     "output_type": "display_data"
    },
    {
     "name": "stdout",
     "output_type": "stream",
     "text": [
      "수집한 댓글 수 :  1\n",
      "수집한 댓글 수 :  1\n",
      "수집한 댓글 수 :  1\n",
      "수집한 댓글 수 :  1\n",
      "수집한 댓글 수 :  1\n",
      "좋아요,댓글,날짜,다운로드 4\n"
     ]
    },
    {
     "data": {
      "application/vnd.jupyter.widget-view+json": {
       "model_id": "88a9144f892042f3b80cc99e4e70818e",
       "version_major": 2,
       "version_minor": 0
      },
      "text/plain": [
       "  0%|          | 0/2 [00:00<?, ?it/s]"
      ]
     },
     "metadata": {},
     "output_type": "display_data"
    },
    {
     "name": "stdout",
     "output_type": "stream",
     "text": [
      "수집한 댓글 수 :  1\n",
      "수집한 댓글 수 :  1\n",
      "좋아요,댓글,날짜,다운로드 4\n"
     ]
    },
    {
     "data": {
      "application/vnd.jupyter.widget-view+json": {
       "model_id": "d3b24363c15042ffb2fa9c776b07de05",
       "version_major": 2,
       "version_minor": 0
      },
      "text/plain": [
       "  0%|          | 0/6 [00:00<?, ?it/s]"
      ]
     },
     "metadata": {},
     "output_type": "display_data"
    },
    {
     "name": "stdout",
     "output_type": "stream",
     "text": [
      "수집한 댓글 수 :  6\n",
      "수집한 댓글 수 :  6\n",
      "수집한 댓글 수 :  6\n",
      "수집한 댓글 수 :  6\n",
      "수집한 댓글 수 :  6\n",
      "수집한 댓글 수 :  6\n",
      "좋아요,댓글,날짜,다운로드 4\n"
     ]
    },
    {
     "data": {
      "application/vnd.jupyter.widget-view+json": {
       "model_id": "0836cfe1e60e44878659ae2192e8f0d8",
       "version_major": 2,
       "version_minor": 0
      },
      "text/plain": [
       "  0%|          | 0/3 [00:00<?, ?it/s]"
      ]
     },
     "metadata": {},
     "output_type": "display_data"
    },
    {
     "name": "stdout",
     "output_type": "stream",
     "text": [
      "수집한 댓글 수 :  1\n",
      "수집한 댓글 수 :  3\n",
      "수집한 댓글 수 :  3\n",
      "좋아요,댓글,날짜,다운로드 4\n"
     ]
    },
    {
     "data": {
      "application/vnd.jupyter.widget-view+json": {
       "model_id": "45e402f633f3443f85f2ca61f4b63e23",
       "version_major": 2,
       "version_minor": 0
      },
      "text/plain": [
       "0it [00:00, ?it/s]"
      ]
     },
     "metadata": {},
     "output_type": "display_data"
    },
    {
     "name": "stdout",
     "output_type": "stream",
     "text": [
      "수집한 댓글 수 :  0\n",
      "좋아요,댓글,날짜,다운로드 4\n"
     ]
    },
    {
     "data": {
      "application/vnd.jupyter.widget-view+json": {
       "model_id": "368e07b394804ccf98c7cff0f140a7b9",
       "version_major": 2,
       "version_minor": 0
      },
      "text/plain": [
       "  0%|          | 0/1 [00:00<?, ?it/s]"
      ]
     },
     "metadata": {},
     "output_type": "display_data"
    },
    {
     "name": "stdout",
     "output_type": "stream",
     "text": [
      "수집한 댓글 수 :  1\n",
      "좋아요,댓글,날짜,다운로드 4\n"
     ]
    },
    {
     "data": {
      "application/vnd.jupyter.widget-view+json": {
       "model_id": "c3a855c3fcf4429f9053668cd6a5b1fa",
       "version_major": 2,
       "version_minor": 0
      },
      "text/plain": [
       "  0%|          | 0/3 [00:00<?, ?it/s]"
      ]
     },
     "metadata": {},
     "output_type": "display_data"
    },
    {
     "name": "stdout",
     "output_type": "stream",
     "text": [
      "수집한 댓글 수 :  1\n",
      "수집한 댓글 수 :  3\n",
      "수집한 댓글 수 :  3\n",
      "좋아요,댓글,날짜,다운로드 4\n"
     ]
    },
    {
     "data": {
      "application/vnd.jupyter.widget-view+json": {
       "model_id": "32f91c2b192f43f799f7bc0055ea2655",
       "version_major": 2,
       "version_minor": 0
      },
      "text/plain": [
       "0it [00:00, ?it/s]"
      ]
     },
     "metadata": {},
     "output_type": "display_data"
    },
    {
     "name": "stdout",
     "output_type": "stream",
     "text": [
      "수집한 댓글 수 :  0\n",
      "좋아요,댓글,날짜,다운로드 4\n"
     ]
    },
    {
     "data": {
      "application/vnd.jupyter.widget-view+json": {
       "model_id": "641dc5f5f19d4d5d9396152c0cdd6f68",
       "version_major": 2,
       "version_minor": 0
      },
      "text/plain": [
       "0it [00:00, ?it/s]"
      ]
     },
     "metadata": {},
     "output_type": "display_data"
    },
    {
     "name": "stdout",
     "output_type": "stream",
     "text": [
      "수집한 댓글 수 :  0\n",
      "좋아요,댓글,날짜,다운로드 4\n"
     ]
    },
    {
     "data": {
      "application/vnd.jupyter.widget-view+json": {
       "model_id": "15eef064b9e64652a06e4625588025a3",
       "version_major": 2,
       "version_minor": 0
      },
      "text/plain": [
       "  0%|          | 0/1 [00:00<?, ?it/s]"
      ]
     },
     "metadata": {},
     "output_type": "display_data"
    },
    {
     "name": "stdout",
     "output_type": "stream",
     "text": [
      "수집한 댓글 수 :  1\n",
      "좋아요,댓글,날짜,다운로드 4\n"
     ]
    },
    {
     "data": {
      "application/vnd.jupyter.widget-view+json": {
       "model_id": "d22cccd227ec40f7a375a969dee2e0f2",
       "version_major": 2,
       "version_minor": 0
      },
      "text/plain": [
       "  0%|          | 0/1 [00:00<?, ?it/s]"
      ]
     },
     "metadata": {},
     "output_type": "display_data"
    },
    {
     "name": "stdout",
     "output_type": "stream",
     "text": [
      "수집한 댓글 수 :  1\n",
      "좋아요,댓글,날짜,다운로드 4\n"
     ]
    },
    {
     "data": {
      "application/vnd.jupyter.widget-view+json": {
       "model_id": "9680340695534db783df6bbfb68e0cda",
       "version_major": 2,
       "version_minor": 0
      },
      "text/plain": [
       "  0%|          | 0/1 [00:00<?, ?it/s]"
      ]
     },
     "metadata": {},
     "output_type": "display_data"
    },
    {
     "name": "stdout",
     "output_type": "stream",
     "text": [
      "수집한 댓글 수 :  1\n",
      "좋아요,댓글,날짜,다운로드 4\n"
     ]
    },
    {
     "data": {
      "application/vnd.jupyter.widget-view+json": {
       "model_id": "e33075b466704ff4a97b807729119892",
       "version_major": 2,
       "version_minor": 0
      },
      "text/plain": [
       "  0%|          | 0/12 [00:00<?, ?it/s]"
      ]
     },
     "metadata": {},
     "output_type": "display_data"
    },
    {
     "name": "stdout",
     "output_type": "stream",
     "text": [
      "수집한 댓글 수 :  1\n",
      "수집한 댓글 수 :  12\n",
      "수집한 댓글 수 :  12\n",
      "수집한 댓글 수 :  12\n",
      "수집한 댓글 수 :  12\n",
      "수집한 댓글 수 :  12\n",
      "수집한 댓글 수 :  12\n",
      "수집한 댓글 수 :  12\n",
      "수집한 댓글 수 :  12\n",
      "수집한 댓글 수 :  12\n",
      "수집한 댓글 수 :  12\n",
      "좋아요,댓글,날짜,다운로드 4\n"
     ]
    },
    {
     "data": {
      "application/vnd.jupyter.widget-view+json": {
       "model_id": "59d40af9e5df4d8e95f55a0c7b3b9b3e",
       "version_major": 2,
       "version_minor": 0
      },
      "text/plain": [
       "  0%|          | 0/1 [00:00<?, ?it/s]"
      ]
     },
     "metadata": {},
     "output_type": "display_data"
    },
    {
     "name": "stdout",
     "output_type": "stream",
     "text": [
      "수집한 댓글 수 :  1\n",
      "좋아요,댓글,날짜,다운로드 4\n"
     ]
    },
    {
     "data": {
      "application/vnd.jupyter.widget-view+json": {
       "model_id": "2a6c4e2d5470487d84d3dd0bd7109cef",
       "version_major": 2,
       "version_minor": 0
      },
      "text/plain": [
       "  0%|          | 0/1 [00:00<?, ?it/s]"
      ]
     },
     "metadata": {},
     "output_type": "display_data"
    },
    {
     "name": "stdout",
     "output_type": "stream",
     "text": [
      "수집한 댓글 수 :  1\n",
      "좋아요,댓글,날짜,다운로드 4\n"
     ]
    },
    {
     "data": {
      "application/vnd.jupyter.widget-view+json": {
       "model_id": "11b5866e4ec944a59c06659c2c6467ea",
       "version_major": 2,
       "version_minor": 0
      },
      "text/plain": [
       "0it [00:00, ?it/s]"
      ]
     },
     "metadata": {},
     "output_type": "display_data"
    },
    {
     "name": "stdout",
     "output_type": "stream",
     "text": [
      "수집한 댓글 수 :  0\n",
      "좋아요,댓글,날짜,다운로드 4\n"
     ]
    },
    {
     "data": {
      "application/vnd.jupyter.widget-view+json": {
       "model_id": "5ee5633b6b054bf29652324f358008b9",
       "version_major": 2,
       "version_minor": 0
      },
      "text/plain": [
       "  0%|          | 0/3 [00:00<?, ?it/s]"
      ]
     },
     "metadata": {},
     "output_type": "display_data"
    },
    {
     "name": "stdout",
     "output_type": "stream",
     "text": [
      "수집한 댓글 수 :  1\n",
      "수집한 댓글 수 :  1\n",
      "수집한 댓글 수 :  3\n",
      "좋아요,댓글,날짜,다운로드 4\n"
     ]
    },
    {
     "data": {
      "application/vnd.jupyter.widget-view+json": {
       "model_id": "81638b7c82e449d2a79cd51da463388d",
       "version_major": 2,
       "version_minor": 0
      },
      "text/plain": [
       "  0%|          | 0/3 [00:00<?, ?it/s]"
      ]
     },
     "metadata": {},
     "output_type": "display_data"
    },
    {
     "name": "stdout",
     "output_type": "stream",
     "text": [
      "수집한 댓글 수 :  3\n",
      "수집한 댓글 수 :  3\n",
      "수집한 댓글 수 :  3\n",
      "좋아요,댓글,날짜,다운로드 4\n"
     ]
    },
    {
     "data": {
      "application/vnd.jupyter.widget-view+json": {
       "model_id": "8d2fe6d8aa2445f3abe0e98151b5104b",
       "version_major": 2,
       "version_minor": 0
      },
      "text/plain": [
       "  0%|          | 0/4 [00:00<?, ?it/s]"
      ]
     },
     "metadata": {},
     "output_type": "display_data"
    },
    {
     "name": "stdout",
     "output_type": "stream",
     "text": [
      "수집한 댓글 수 :  1\n",
      "수집한 댓글 수 :  1\n",
      "수집한 댓글 수 :  1\n",
      "수집한 댓글 수 :  1\n",
      "좋아요,댓글,날짜,다운로드 4\n"
     ]
    },
    {
     "data": {
      "application/vnd.jupyter.widget-view+json": {
       "model_id": "063b783028cf417e850230da35cea1a0",
       "version_major": 2,
       "version_minor": 0
      },
      "text/plain": [
       "  0%|          | 0/1 [00:00<?, ?it/s]"
      ]
     },
     "metadata": {},
     "output_type": "display_data"
    },
    {
     "name": "stdout",
     "output_type": "stream",
     "text": [
      "수집한 댓글 수 :  1\n",
      "좋아요,댓글,날짜,다운로드 4\n"
     ]
    },
    {
     "data": {
      "application/vnd.jupyter.widget-view+json": {
       "model_id": "e81ec403c9e148bfa87ad596a6bff2a7",
       "version_major": 2,
       "version_minor": 0
      },
      "text/plain": [
       "0it [00:00, ?it/s]"
      ]
     },
     "metadata": {},
     "output_type": "display_data"
    },
    {
     "name": "stdout",
     "output_type": "stream",
     "text": [
      "수집한 댓글 수 :  0\n",
      "좋아요,댓글,날짜,다운로드 4\n"
     ]
    },
    {
     "data": {
      "application/vnd.jupyter.widget-view+json": {
       "model_id": "81367fb5aa0b4154938a350a5e098a62",
       "version_major": 2,
       "version_minor": 0
      },
      "text/plain": [
       "0it [00:00, ?it/s]"
      ]
     },
     "metadata": {},
     "output_type": "display_data"
    },
    {
     "name": "stdout",
     "output_type": "stream",
     "text": [
      "수집한 댓글 수 :  0\n",
      "좋아요,댓글,날짜,다운로드 4\n"
     ]
    },
    {
     "data": {
      "application/vnd.jupyter.widget-view+json": {
       "model_id": "52cd62eceab84ef8a1ba68bd91dfd45c",
       "version_major": 2,
       "version_minor": 0
      },
      "text/plain": [
       "  0%|          | 0/6 [00:00<?, ?it/s]"
      ]
     },
     "metadata": {},
     "output_type": "display_data"
    },
    {
     "name": "stdout",
     "output_type": "stream",
     "text": [
      "수집한 댓글 수 :  6\n",
      "수집한 댓글 수 :  6\n",
      "수집한 댓글 수 :  6\n",
      "수집한 댓글 수 :  6\n",
      "수집한 댓글 수 :  6\n",
      "수집한 댓글 수 :  6\n",
      "좋아요,댓글,날짜,다운로드 4\n"
     ]
    },
    {
     "data": {
      "application/vnd.jupyter.widget-view+json": {
       "model_id": "bfd4cf90f51543a6b5972aae29aa55ad",
       "version_major": 2,
       "version_minor": 0
      },
      "text/plain": [
       "0it [00:00, ?it/s]"
      ]
     },
     "metadata": {},
     "output_type": "display_data"
    },
    {
     "name": "stdout",
     "output_type": "stream",
     "text": [
      "수집한 댓글 수 :  0\n",
      "좋아요,댓글,날짜,다운로드 4\n"
     ]
    },
    {
     "data": {
      "application/vnd.jupyter.widget-view+json": {
       "model_id": "d0a15cca058c4ac7a68d661e3ef84cf1",
       "version_major": 2,
       "version_minor": 0
      },
      "text/plain": [
       "  0%|          | 0/2 [00:00<?, ?it/s]"
      ]
     },
     "metadata": {},
     "output_type": "display_data"
    },
    {
     "name": "stdout",
     "output_type": "stream",
     "text": [
      "수집한 댓글 수 :  1\n",
      "수집한 댓글 수 :  1\n",
      "좋아요,댓글,날짜,다운로드 4\n"
     ]
    },
    {
     "data": {
      "application/vnd.jupyter.widget-view+json": {
       "model_id": "09bb9992b41f4facb714a56da2620b71",
       "version_major": 2,
       "version_minor": 0
      },
      "text/plain": [
       "  0%|          | 0/1 [00:00<?, ?it/s]"
      ]
     },
     "metadata": {},
     "output_type": "display_data"
    },
    {
     "name": "stdout",
     "output_type": "stream",
     "text": [
      "수집한 댓글 수 :  1\n",
      "좋아요,댓글,날짜,다운로드 4\n"
     ]
    },
    {
     "data": {
      "application/vnd.jupyter.widget-view+json": {
       "model_id": "84f538889c4a4ea3905e239e50f5c188",
       "version_major": 2,
       "version_minor": 0
      },
      "text/plain": [
       "  0%|          | 0/2 [00:00<?, ?it/s]"
      ]
     },
     "metadata": {},
     "output_type": "display_data"
    },
    {
     "name": "stdout",
     "output_type": "stream",
     "text": [
      "수집한 댓글 수 :  1\n",
      "수집한 댓글 수 :  1\n",
      "좋아요,댓글,날짜,다운로드 4\n"
     ]
    },
    {
     "data": {
      "application/vnd.jupyter.widget-view+json": {
       "model_id": "176486664ffd485da16b18fa6ac8d860",
       "version_major": 2,
       "version_minor": 0
      },
      "text/plain": [
       "  0%|          | 0/1 [00:00<?, ?it/s]"
      ]
     },
     "metadata": {},
     "output_type": "display_data"
    },
    {
     "name": "stdout",
     "output_type": "stream",
     "text": [
      "수집한 댓글 수 :  1\n",
      "좋아요,댓글,날짜,다운로드 4\n"
     ]
    },
    {
     "data": {
      "application/vnd.jupyter.widget-view+json": {
       "model_id": "f31b89ae4ebf484a9e55fd035c9ab0bf",
       "version_major": 2,
       "version_minor": 0
      },
      "text/plain": [
       "  0%|          | 0/1 [00:00<?, ?it/s]"
      ]
     },
     "metadata": {},
     "output_type": "display_data"
    },
    {
     "name": "stdout",
     "output_type": "stream",
     "text": [
      "수집한 댓글 수 :  1\n",
      "좋아요,댓글,날짜,다운로드 4\n"
     ]
    },
    {
     "data": {
      "application/vnd.jupyter.widget-view+json": {
       "model_id": "c4c2104c3f8a470a936fbc203e4e139b",
       "version_major": 2,
       "version_minor": 0
      },
      "text/plain": [
       "  0%|          | 0/2 [00:00<?, ?it/s]"
      ]
     },
     "metadata": {},
     "output_type": "display_data"
    },
    {
     "name": "stdout",
     "output_type": "stream",
     "text": [
      "수집한 댓글 수 :  1\n",
      "수집한 댓글 수 :  1\n",
      "좋아요,댓글,날짜,다운로드 4\n"
     ]
    },
    {
     "data": {
      "application/vnd.jupyter.widget-view+json": {
       "model_id": "ca885ca40c214f3fab428bce3315f93e",
       "version_major": 2,
       "version_minor": 0
      },
      "text/plain": [
       "  0%|          | 0/2 [00:00<?, ?it/s]"
      ]
     },
     "metadata": {},
     "output_type": "display_data"
    },
    {
     "name": "stdout",
     "output_type": "stream",
     "text": [
      "수집한 댓글 수 :  1\n",
      "수집한 댓글 수 :  2\n",
      "좋아요,댓글,날짜,다운로드 4\n"
     ]
    },
    {
     "data": {
      "application/vnd.jupyter.widget-view+json": {
       "model_id": "544edff3684e434aa41da4caa7987df0",
       "version_major": 2,
       "version_minor": 0
      },
      "text/plain": [
       "  0%|          | 0/3 [00:00<?, ?it/s]"
      ]
     },
     "metadata": {},
     "output_type": "display_data"
    },
    {
     "name": "stdout",
     "output_type": "stream",
     "text": [
      "수집한 댓글 수 :  1\n",
      "수집한 댓글 수 :  3\n",
      "수집한 댓글 수 :  3\n",
      "좋아요,댓글,날짜,다운로드 4\n"
     ]
    },
    {
     "data": {
      "application/vnd.jupyter.widget-view+json": {
       "model_id": "0d968dae930b44cda856dec002d43efd",
       "version_major": 2,
       "version_minor": 0
      },
      "text/plain": [
       "  0%|          | 0/1 [00:00<?, ?it/s]"
      ]
     },
     "metadata": {},
     "output_type": "display_data"
    },
    {
     "name": "stdout",
     "output_type": "stream",
     "text": [
      "수집한 댓글 수 :  1\n",
      "좋아요,댓글,날짜,다운로드 4\n"
     ]
    },
    {
     "data": {
      "application/vnd.jupyter.widget-view+json": {
       "model_id": "30b80984c82644c9b385a8fcdb588936",
       "version_major": 2,
       "version_minor": 0
      },
      "text/plain": [
       "  0%|          | 0/4 [00:00<?, ?it/s]"
      ]
     },
     "metadata": {},
     "output_type": "display_data"
    },
    {
     "name": "stdout",
     "output_type": "stream",
     "text": [
      "수집한 댓글 수 :  3\n",
      "수집한 댓글 수 :  3\n",
      "수집한 댓글 수 :  3\n",
      "수집한 댓글 수 :  3\n",
      "좋아요,댓글,날짜,다운로드 4\n"
     ]
    },
    {
     "data": {
      "application/vnd.jupyter.widget-view+json": {
       "model_id": "480cc999ab3e4e799580235656d3e28a",
       "version_major": 2,
       "version_minor": 0
      },
      "text/plain": [
       "0it [00:00, ?it/s]"
      ]
     },
     "metadata": {},
     "output_type": "display_data"
    },
    {
     "name": "stdout",
     "output_type": "stream",
     "text": [
      "수집한 댓글 수 :  0\n",
      "좋아요,댓글,날짜,다운로드 4\n"
     ]
    },
    {
     "data": {
      "application/vnd.jupyter.widget-view+json": {
       "model_id": "1f6903716e7e4a259faef3a3da4431ab",
       "version_major": 2,
       "version_minor": 0
      },
      "text/plain": [
       "  0%|          | 0/3 [00:00<?, ?it/s]"
      ]
     },
     "metadata": {},
     "output_type": "display_data"
    },
    {
     "name": "stdout",
     "output_type": "stream",
     "text": [
      "수집한 댓글 수 :  1\n",
      "수집한 댓글 수 :  1\n",
      "수집한 댓글 수 :  1\n",
      "좋아요,댓글,날짜,다운로드 4\n"
     ]
    },
    {
     "data": {
      "application/vnd.jupyter.widget-view+json": {
       "model_id": "789ed12eca3c40fb853c03de82cda49d",
       "version_major": 2,
       "version_minor": 0
      },
      "text/plain": [
       "  0%|          | 0/4 [00:00<?, ?it/s]"
      ]
     },
     "metadata": {},
     "output_type": "display_data"
    },
    {
     "name": "stdout",
     "output_type": "stream",
     "text": [
      "수집한 댓글 수 :  1\n",
      "수집한 댓글 수 :  4\n",
      "수집한 댓글 수 :  4\n",
      "수집한 댓글 수 :  4\n",
      "좋아요,댓글,날짜,다운로드 4\n"
     ]
    },
    {
     "data": {
      "application/vnd.jupyter.widget-view+json": {
       "model_id": "1a4cdee04160488886c023824f409639",
       "version_major": 2,
       "version_minor": 0
      },
      "text/plain": [
       "  0%|          | 0/3 [00:00<?, ?it/s]"
      ]
     },
     "metadata": {},
     "output_type": "display_data"
    },
    {
     "name": "stdout",
     "output_type": "stream",
     "text": [
      "수집한 댓글 수 :  1\n",
      "수집한 댓글 수 :  1\n",
      "수집한 댓글 수 :  1\n",
      "좋아요,댓글,날짜,다운로드 4\n"
     ]
    },
    {
     "data": {
      "application/vnd.jupyter.widget-view+json": {
       "model_id": "e8e5f782dc6943fbaee3e550d11d4a89",
       "version_major": 2,
       "version_minor": 0
      },
      "text/plain": [
       "  0%|          | 0/1 [00:00<?, ?it/s]"
      ]
     },
     "metadata": {},
     "output_type": "display_data"
    },
    {
     "name": "stdout",
     "output_type": "stream",
     "text": [
      "수집한 댓글 수 :  1\n",
      "좋아요,댓글,날짜,다운로드 4\n"
     ]
    },
    {
     "data": {
      "application/vnd.jupyter.widget-view+json": {
       "model_id": "3d771760eaf44062ae6c47dbf21e01c6",
       "version_major": 2,
       "version_minor": 0
      },
      "text/plain": [
       "  0%|          | 0/2 [00:00<?, ?it/s]"
      ]
     },
     "metadata": {},
     "output_type": "display_data"
    },
    {
     "name": "stdout",
     "output_type": "stream",
     "text": [
      "수집한 댓글 수 :  1\n",
      "수집한 댓글 수 :  1\n",
      "좋아요,댓글,날짜,다운로드 4\n"
     ]
    },
    {
     "data": {
      "application/vnd.jupyter.widget-view+json": {
       "model_id": "b45263d93a01499794097d7f41034c69",
       "version_major": 2,
       "version_minor": 0
      },
      "text/plain": [
       "  0%|          | 0/2 [00:00<?, ?it/s]"
      ]
     },
     "metadata": {},
     "output_type": "display_data"
    },
    {
     "name": "stdout",
     "output_type": "stream",
     "text": [
      "수집한 댓글 수 :  1\n",
      "수집한 댓글 수 :  2\n",
      "좋아요,댓글,날짜,다운로드 4\n"
     ]
    },
    {
     "data": {
      "application/vnd.jupyter.widget-view+json": {
       "model_id": "c1d0f93711ef46a3be0b818a89dc9114",
       "version_major": 2,
       "version_minor": 0
      },
      "text/plain": [
       "  0%|          | 0/3 [00:00<?, ?it/s]"
      ]
     },
     "metadata": {},
     "output_type": "display_data"
    },
    {
     "name": "stdout",
     "output_type": "stream",
     "text": [
      "수집한 댓글 수 :  1\n",
      "수집한 댓글 수 :  1\n",
      "수집한 댓글 수 :  3\n",
      "좋아요,댓글,날짜,다운로드 4\n"
     ]
    },
    {
     "data": {
      "application/vnd.jupyter.widget-view+json": {
       "model_id": "2f5330af5bf744b69a7123dd42a1eaef",
       "version_major": 2,
       "version_minor": 0
      },
      "text/plain": [
       "  0%|          | 0/2 [00:00<?, ?it/s]"
      ]
     },
     "metadata": {},
     "output_type": "display_data"
    },
    {
     "name": "stdout",
     "output_type": "stream",
     "text": [
      "수집한 댓글 수 :  1\n",
      "수집한 댓글 수 :  2\n",
      "좋아요,댓글,날짜,다운로드 4\n"
     ]
    },
    {
     "data": {
      "application/vnd.jupyter.widget-view+json": {
       "model_id": "b9dfd3937e3d487693a5e808be4c5ba5",
       "version_major": 2,
       "version_minor": 0
      },
      "text/plain": [
       "  0%|          | 0/1 [00:00<?, ?it/s]"
      ]
     },
     "metadata": {},
     "output_type": "display_data"
    },
    {
     "name": "stdout",
     "output_type": "stream",
     "text": [
      "수집한 댓글 수 :  1\n",
      "좋아요,댓글,날짜,다운로드 4\n"
     ]
    },
    {
     "data": {
      "application/vnd.jupyter.widget-view+json": {
       "model_id": "608351ceaeb448809d04c4402af62979",
       "version_major": 2,
       "version_minor": 0
      },
      "text/plain": [
       "  0%|          | 0/2 [00:00<?, ?it/s]"
      ]
     },
     "metadata": {},
     "output_type": "display_data"
    },
    {
     "name": "stdout",
     "output_type": "stream",
     "text": [
      "수집한 댓글 수 :  2\n",
      "수집한 댓글 수 :  2\n",
      "좋아요,댓글,날짜,다운로드 4\n"
     ]
    },
    {
     "data": {
      "application/vnd.jupyter.widget-view+json": {
       "model_id": "623f4e8acf114fe4b8212c5757e3ab97",
       "version_major": 2,
       "version_minor": 0
      },
      "text/plain": [
       "0it [00:00, ?it/s]"
      ]
     },
     "metadata": {},
     "output_type": "display_data"
    },
    {
     "name": "stdout",
     "output_type": "stream",
     "text": [
      "수집한 댓글 수 :  0\n",
      "좋아요,댓글,날짜,다운로드 4\n"
     ]
    },
    {
     "data": {
      "application/vnd.jupyter.widget-view+json": {
       "model_id": "67d2b82be9104d418740256645932958",
       "version_major": 2,
       "version_minor": 0
      },
      "text/plain": [
       "0it [00:00, ?it/s]"
      ]
     },
     "metadata": {},
     "output_type": "display_data"
    },
    {
     "name": "stdout",
     "output_type": "stream",
     "text": [
      "수집한 댓글 수 :  0\n",
      "좋아요,댓글,날짜,다운로드 4\n"
     ]
    },
    {
     "data": {
      "application/vnd.jupyter.widget-view+json": {
       "model_id": "440f99bde1414a358cb804b52698898b",
       "version_major": 2,
       "version_minor": 0
      },
      "text/plain": [
       "  0%|          | 0/1 [00:00<?, ?it/s]"
      ]
     },
     "metadata": {},
     "output_type": "display_data"
    },
    {
     "name": "stdout",
     "output_type": "stream",
     "text": [
      "수집한 댓글 수 :  1\n",
      "좋아요,댓글,날짜,다운로드 4\n"
     ]
    },
    {
     "data": {
      "application/vnd.jupyter.widget-view+json": {
       "model_id": "e8b017b95a914bf3a02aa84015f0f939",
       "version_major": 2,
       "version_minor": 0
      },
      "text/plain": [
       "  0%|          | 0/1 [00:00<?, ?it/s]"
      ]
     },
     "metadata": {},
     "output_type": "display_data"
    },
    {
     "name": "stdout",
     "output_type": "stream",
     "text": [
      "수집한 댓글 수 :  1\n",
      "좋아요,댓글,날짜,다운로드 4\n"
     ]
    },
    {
     "data": {
      "application/vnd.jupyter.widget-view+json": {
       "model_id": "a157108931394fe69cf298335e14bb72",
       "version_major": 2,
       "version_minor": 0
      },
      "text/plain": [
       "  0%|          | 0/1 [00:00<?, ?it/s]"
      ]
     },
     "metadata": {},
     "output_type": "display_data"
    },
    {
     "name": "stdout",
     "output_type": "stream",
     "text": [
      "수집한 댓글 수 :  1\n",
      "좋아요,댓글,날짜,다운로드 4\n"
     ]
    },
    {
     "data": {
      "application/vnd.jupyter.widget-view+json": {
       "model_id": "1e904263e6d74ae09c41631881631b51",
       "version_major": 2,
       "version_minor": 0
      },
      "text/plain": [
       "0it [00:00, ?it/s]"
      ]
     },
     "metadata": {},
     "output_type": "display_data"
    },
    {
     "name": "stdout",
     "output_type": "stream",
     "text": [
      "수집한 댓글 수 :  0\n",
      "좋아요,댓글,날짜,다운로드 4\n"
     ]
    },
    {
     "data": {
      "application/vnd.jupyter.widget-view+json": {
       "model_id": "7dc9c8be96454e65a4cf4ea81400d9ce",
       "version_major": 2,
       "version_minor": 0
      },
      "text/plain": [
       "  0%|          | 0/1 [00:00<?, ?it/s]"
      ]
     },
     "metadata": {},
     "output_type": "display_data"
    },
    {
     "name": "stdout",
     "output_type": "stream",
     "text": [
      "수집한 댓글 수 :  1\n",
      "좋아요,댓글,날짜,다운로드 4\n"
     ]
    },
    {
     "data": {
      "application/vnd.jupyter.widget-view+json": {
       "model_id": "fb6fc54922f24c6480738616197f4172",
       "version_major": 2,
       "version_minor": 0
      },
      "text/plain": [
       "  0%|          | 0/1 [00:00<?, ?it/s]"
      ]
     },
     "metadata": {},
     "output_type": "display_data"
    },
    {
     "name": "stdout",
     "output_type": "stream",
     "text": [
      "수집한 댓글 수 :  1\n",
      "좋아요,댓글,날짜,다운로드 4\n"
     ]
    },
    {
     "data": {
      "application/vnd.jupyter.widget-view+json": {
       "model_id": "82d21eaa7e6d4c4f973aacdf719f2239",
       "version_major": 2,
       "version_minor": 0
      },
      "text/plain": [
       "0it [00:00, ?it/s]"
      ]
     },
     "metadata": {},
     "output_type": "display_data"
    },
    {
     "name": "stdout",
     "output_type": "stream",
     "text": [
      "수집한 댓글 수 :  0\n",
      "좋아요,댓글,날짜,다운로드 4\n"
     ]
    },
    {
     "data": {
      "application/vnd.jupyter.widget-view+json": {
       "model_id": "0f9a0eeb4aba45bf8298454a0189ae48",
       "version_major": 2,
       "version_minor": 0
      },
      "text/plain": [
       "  0%|          | 0/5 [00:00<?, ?it/s]"
      ]
     },
     "metadata": {},
     "output_type": "display_data"
    },
    {
     "name": "stdout",
     "output_type": "stream",
     "text": [
      "수집한 댓글 수 :  1\n",
      "수집한 댓글 수 :  5\n",
      "수집한 댓글 수 :  5\n",
      "수집한 댓글 수 :  5\n",
      "수집한 댓글 수 :  5\n",
      "좋아요,댓글,날짜,다운로드 4\n"
     ]
    },
    {
     "data": {
      "application/vnd.jupyter.widget-view+json": {
       "model_id": "fa7270429685472795ef99a6fb356f41",
       "version_major": 2,
       "version_minor": 0
      },
      "text/plain": [
       "  0%|          | 0/4 [00:00<?, ?it/s]"
      ]
     },
     "metadata": {},
     "output_type": "display_data"
    },
    {
     "name": "stdout",
     "output_type": "stream",
     "text": [
      "수집한 댓글 수 :  1\n",
      "수집한 댓글 수 :  1\n",
      "수집한 댓글 수 :  1\n",
      "수집한 댓글 수 :  3\n",
      "좋아요,댓글,날짜,다운로드 4\n"
     ]
    },
    {
     "data": {
      "application/vnd.jupyter.widget-view+json": {
       "model_id": "c3a63094e5e14f0d9def35a75f69a65a",
       "version_major": 2,
       "version_minor": 0
      },
      "text/plain": [
       "  0%|          | 0/3 [00:00<?, ?it/s]"
      ]
     },
     "metadata": {},
     "output_type": "display_data"
    },
    {
     "name": "stdout",
     "output_type": "stream",
     "text": [
      "수집한 댓글 수 :  1\n",
      "수집한 댓글 수 :  3\n",
      "수집한 댓글 수 :  3\n",
      "좋아요,댓글,날짜,다운로드 4\n"
     ]
    },
    {
     "data": {
      "application/vnd.jupyter.widget-view+json": {
       "model_id": "35ae1a84507946609cd2b2a7198bfabc",
       "version_major": 2,
       "version_minor": 0
      },
      "text/plain": [
       "  0%|          | 0/2 [00:00<?, ?it/s]"
      ]
     },
     "metadata": {},
     "output_type": "display_data"
    },
    {
     "name": "stdout",
     "output_type": "stream",
     "text": [
      "수집한 댓글 수 :  1\n",
      "수집한 댓글 수 :  1\n",
      "좋아요,댓글,날짜,다운로드 4\n"
     ]
    },
    {
     "data": {
      "application/vnd.jupyter.widget-view+json": {
       "model_id": "a4c26948b35d41278554d672ec4e155b",
       "version_major": 2,
       "version_minor": 0
      },
      "text/plain": [
       "0it [00:00, ?it/s]"
      ]
     },
     "metadata": {},
     "output_type": "display_data"
    },
    {
     "name": "stdout",
     "output_type": "stream",
     "text": [
      "수집한 댓글 수 :  0\n",
      "좋아요,댓글,날짜,다운로드 4\n"
     ]
    },
    {
     "data": {
      "application/vnd.jupyter.widget-view+json": {
       "model_id": "67fe8bd5615a4b7ba0535218fba26ae5",
       "version_major": 2,
       "version_minor": 0
      },
      "text/plain": [
       "  0%|          | 0/1 [00:00<?, ?it/s]"
      ]
     },
     "metadata": {},
     "output_type": "display_data"
    },
    {
     "name": "stdout",
     "output_type": "stream",
     "text": [
      "수집한 댓글 수 :  1\n",
      "좋아요,댓글,날짜,다운로드 4\n"
     ]
    },
    {
     "data": {
      "application/vnd.jupyter.widget-view+json": {
       "model_id": "4ef350ad584944b9bd2626aa1fd4d779",
       "version_major": 2,
       "version_minor": 0
      },
      "text/plain": [
       "0it [00:00, ?it/s]"
      ]
     },
     "metadata": {},
     "output_type": "display_data"
    },
    {
     "name": "stdout",
     "output_type": "stream",
     "text": [
      "수집한 댓글 수 :  0\n",
      "좋아요,댓글,날짜,다운로드 4\n"
     ]
    },
    {
     "data": {
      "application/vnd.jupyter.widget-view+json": {
       "model_id": "f0ff0662baef4e7ab633cea717475cb8",
       "version_major": 2,
       "version_minor": 0
      },
      "text/plain": [
       "  0%|          | 0/1 [00:00<?, ?it/s]"
      ]
     },
     "metadata": {},
     "output_type": "display_data"
    },
    {
     "name": "stdout",
     "output_type": "stream",
     "text": [
      "수집한 댓글 수 :  1\n",
      "좋아요,댓글,날짜,다운로드 4\n"
     ]
    },
    {
     "data": {
      "application/vnd.jupyter.widget-view+json": {
       "model_id": "2d8cfec279e1416188cd8bad837b7c59",
       "version_major": 2,
       "version_minor": 0
      },
      "text/plain": [
       "0it [00:00, ?it/s]"
      ]
     },
     "metadata": {},
     "output_type": "display_data"
    },
    {
     "name": "stdout",
     "output_type": "stream",
     "text": [
      "수집한 댓글 수 :  0\n",
      "좋아요,댓글,날짜,다운로드 4\n"
     ]
    },
    {
     "data": {
      "application/vnd.jupyter.widget-view+json": {
       "model_id": "f737b98ccde345d9b894e51dd4bca41c",
       "version_major": 2,
       "version_minor": 0
      },
      "text/plain": [
       "  0%|          | 0/2 [00:00<?, ?it/s]"
      ]
     },
     "metadata": {},
     "output_type": "display_data"
    },
    {
     "name": "stdout",
     "output_type": "stream",
     "text": [
      "수집한 댓글 수 :  1\n",
      "수집한 댓글 수 :  1\n",
      "좋아요,댓글,날짜,다운로드 4\n"
     ]
    },
    {
     "data": {
      "application/vnd.jupyter.widget-view+json": {
       "model_id": "994b64640aee4482b4ee734391f62c5d",
       "version_major": 2,
       "version_minor": 0
      },
      "text/plain": [
       "  0%|          | 0/2 [00:00<?, ?it/s]"
      ]
     },
     "metadata": {},
     "output_type": "display_data"
    },
    {
     "name": "stdout",
     "output_type": "stream",
     "text": [
      "수집한 댓글 수 :  1\n",
      "수집한 댓글 수 :  1\n",
      "좋아요,댓글,날짜,다운로드 4\n"
     ]
    },
    {
     "data": {
      "application/vnd.jupyter.widget-view+json": {
       "model_id": "0bf17c23d00d46a0acb785f5e3f2aec2",
       "version_major": 2,
       "version_minor": 0
      },
      "text/plain": [
       "  0%|          | 0/1 [00:00<?, ?it/s]"
      ]
     },
     "metadata": {},
     "output_type": "display_data"
    },
    {
     "name": "stdout",
     "output_type": "stream",
     "text": [
      "수집한 댓글 수 :  1\n",
      "좋아요,댓글,날짜,다운로드 4\n"
     ]
    },
    {
     "data": {
      "application/vnd.jupyter.widget-view+json": {
       "model_id": "d99a99bc624147dd9333bea84dfc5c62",
       "version_major": 2,
       "version_minor": 0
      },
      "text/plain": [
       "  0%|          | 0/2 [00:00<?, ?it/s]"
      ]
     },
     "metadata": {},
     "output_type": "display_data"
    },
    {
     "name": "stdout",
     "output_type": "stream",
     "text": [
      "수집한 댓글 수 :  1\n",
      "수집한 댓글 수 :  1\n",
      "좋아요,댓글,날짜,다운로드 4\n"
     ]
    },
    {
     "data": {
      "application/vnd.jupyter.widget-view+json": {
       "model_id": "888301d8ac8e4dc29897bf946513a084",
       "version_major": 2,
       "version_minor": 0
      },
      "text/plain": [
       "  0%|          | 0/2 [00:00<?, ?it/s]"
      ]
     },
     "metadata": {},
     "output_type": "display_data"
    },
    {
     "name": "stdout",
     "output_type": "stream",
     "text": [
      "수집한 댓글 수 :  2\n",
      "수집한 댓글 수 :  2\n",
      "좋아요,댓글,날짜,다운로드 4\n"
     ]
    },
    {
     "data": {
      "application/vnd.jupyter.widget-view+json": {
       "model_id": "049e465378254512938762f798d2b700",
       "version_major": 2,
       "version_minor": 0
      },
      "text/plain": [
       "  0%|          | 0/3 [00:00<?, ?it/s]"
      ]
     },
     "metadata": {},
     "output_type": "display_data"
    },
    {
     "name": "stdout",
     "output_type": "stream",
     "text": [
      "수집한 댓글 수 :  1\n",
      "수집한 댓글 수 :  3\n",
      "수집한 댓글 수 :  3\n",
      "좋아요,댓글,날짜,다운로드 4\n"
     ]
    },
    {
     "data": {
      "application/vnd.jupyter.widget-view+json": {
       "model_id": "13cd0590c77740a09420715af3e1d0a9",
       "version_major": 2,
       "version_minor": 0
      },
      "text/plain": [
       "0it [00:00, ?it/s]"
      ]
     },
     "metadata": {},
     "output_type": "display_data"
    },
    {
     "name": "stdout",
     "output_type": "stream",
     "text": [
      "수집한 댓글 수 :  0\n",
      "좋아요,댓글,날짜,다운로드 4\n"
     ]
    },
    {
     "data": {
      "application/vnd.jupyter.widget-view+json": {
       "model_id": "ab315d142a3a454682f2b042a32fa207",
       "version_major": 2,
       "version_minor": 0
      },
      "text/plain": [
       "  0%|          | 0/2 [00:00<?, ?it/s]"
      ]
     },
     "metadata": {},
     "output_type": "display_data"
    },
    {
     "name": "stdout",
     "output_type": "stream",
     "text": [
      "수집한 댓글 수 :  1\n",
      "수집한 댓글 수 :  2\n",
      "좋아요,댓글,날짜,다운로드 4\n"
     ]
    },
    {
     "data": {
      "application/vnd.jupyter.widget-view+json": {
       "model_id": "6fbb6ff1807d4699a7ed4ab3ecc6e3d6",
       "version_major": 2,
       "version_minor": 0
      },
      "text/plain": [
       "  0%|          | 0/1 [00:00<?, ?it/s]"
      ]
     },
     "metadata": {},
     "output_type": "display_data"
    },
    {
     "name": "stdout",
     "output_type": "stream",
     "text": [
      "수집한 댓글 수 :  1\n",
      "좋아요,댓글,날짜,다운로드 4\n"
     ]
    },
    {
     "data": {
      "application/vnd.jupyter.widget-view+json": {
       "model_id": "9848b43df7254690a7bc86310feb6083",
       "version_major": 2,
       "version_minor": 0
      },
      "text/plain": [
       "0it [00:00, ?it/s]"
      ]
     },
     "metadata": {},
     "output_type": "display_data"
    },
    {
     "name": "stdout",
     "output_type": "stream",
     "text": [
      "수집한 댓글 수 :  0\n",
      "좋아요,댓글,날짜,다운로드 4\n"
     ]
    },
    {
     "data": {
      "application/vnd.jupyter.widget-view+json": {
       "model_id": "11890f2d3a0648988166f88e1afa8bc8",
       "version_major": 2,
       "version_minor": 0
      },
      "text/plain": [
       "  0%|          | 0/3 [00:00<?, ?it/s]"
      ]
     },
     "metadata": {},
     "output_type": "display_data"
    },
    {
     "name": "stdout",
     "output_type": "stream",
     "text": [
      "수집한 댓글 수 :  1\n",
      "수집한 댓글 수 :  1\n",
      "수집한 댓글 수 :  1\n",
      "좋아요,댓글,날짜,다운로드 4\n"
     ]
    },
    {
     "data": {
      "application/vnd.jupyter.widget-view+json": {
       "model_id": "b99797efdabe45b6a33147228ad77c74",
       "version_major": 2,
       "version_minor": 0
      },
      "text/plain": [
       "  0%|          | 0/2 [00:00<?, ?it/s]"
      ]
     },
     "metadata": {},
     "output_type": "display_data"
    },
    {
     "name": "stdout",
     "output_type": "stream",
     "text": [
      "수집한 댓글 수 :  1\n",
      "수집한 댓글 수 :  1\n",
      "좋아요,댓글,날짜,다운로드 4\n"
     ]
    },
    {
     "data": {
      "application/vnd.jupyter.widget-view+json": {
       "model_id": "004d2977c6eb4b2f9ad3c782eade5030",
       "version_major": 2,
       "version_minor": 0
      },
      "text/plain": [
       "  0%|          | 0/2 [00:00<?, ?it/s]"
      ]
     },
     "metadata": {},
     "output_type": "display_data"
    },
    {
     "name": "stdout",
     "output_type": "stream",
     "text": [
      "수집한 댓글 수 :  1\n",
      "수집한 댓글 수 :  1\n",
      "좋아요,댓글,날짜,다운로드 4\n"
     ]
    },
    {
     "data": {
      "application/vnd.jupyter.widget-view+json": {
       "model_id": "92d0e2555f2648f3a6b84bfb47161506",
       "version_major": 2,
       "version_minor": 0
      },
      "text/plain": [
       "  0%|          | 0/2 [00:00<?, ?it/s]"
      ]
     },
     "metadata": {},
     "output_type": "display_data"
    },
    {
     "name": "stdout",
     "output_type": "stream",
     "text": [
      "수집한 댓글 수 :  2\n",
      "수집한 댓글 수 :  2\n",
      "좋아요,댓글,날짜,다운로드 4\n"
     ]
    },
    {
     "data": {
      "application/vnd.jupyter.widget-view+json": {
       "model_id": "841f408de3ed4c78ab4fb4709ae5498d",
       "version_major": 2,
       "version_minor": 0
      },
      "text/plain": [
       "0it [00:00, ?it/s]"
      ]
     },
     "metadata": {},
     "output_type": "display_data"
    },
    {
     "name": "stdout",
     "output_type": "stream",
     "text": [
      "수집한 댓글 수 :  0\n",
      "좋아요,댓글,날짜,다운로드 4\n"
     ]
    },
    {
     "data": {
      "application/vnd.jupyter.widget-view+json": {
       "model_id": "e72aca0a90c1479ba9f0e10f0b3ce09e",
       "version_major": 2,
       "version_minor": 0
      },
      "text/plain": [
       "  0%|          | 0/2 [00:00<?, ?it/s]"
      ]
     },
     "metadata": {},
     "output_type": "display_data"
    },
    {
     "name": "stdout",
     "output_type": "stream",
     "text": [
      "수집한 댓글 수 :  1\n",
      "수집한 댓글 수 :  1\n",
      "좋아요,댓글,날짜,다운로드 4\n"
     ]
    },
    {
     "data": {
      "application/vnd.jupyter.widget-view+json": {
       "model_id": "dc66ebd6c3c34b5db396f672075948aa",
       "version_major": 2,
       "version_minor": 0
      },
      "text/plain": [
       "  0%|          | 0/2 [00:00<?, ?it/s]"
      ]
     },
     "metadata": {},
     "output_type": "display_data"
    },
    {
     "name": "stdout",
     "output_type": "stream",
     "text": [
      "수집한 댓글 수 :  1\n",
      "수집한 댓글 수 :  2\n",
      "좋아요,댓글,날짜,다운로드 4\n"
     ]
    },
    {
     "data": {
      "application/vnd.jupyter.widget-view+json": {
       "model_id": "ff958abfd660492f8b92dfc9030f3b9b",
       "version_major": 2,
       "version_minor": 0
      },
      "text/plain": [
       "  0%|          | 0/4 [00:00<?, ?it/s]"
      ]
     },
     "metadata": {},
     "output_type": "display_data"
    },
    {
     "name": "stdout",
     "output_type": "stream",
     "text": [
      "수집한 댓글 수 :  1\n",
      "수집한 댓글 수 :  4\n",
      "수집한 댓글 수 :  4\n",
      "수집한 댓글 수 :  4\n",
      "좋아요,댓글,날짜,다운로드 4\n"
     ]
    },
    {
     "data": {
      "application/vnd.jupyter.widget-view+json": {
       "model_id": "c13fa670c3d946bbb2a9dbd63047f44d",
       "version_major": 2,
       "version_minor": 0
      },
      "text/plain": [
       "0it [00:00, ?it/s]"
      ]
     },
     "metadata": {},
     "output_type": "display_data"
    },
    {
     "name": "stdout",
     "output_type": "stream",
     "text": [
      "수집한 댓글 수 :  0\n",
      "좋아요,댓글,날짜,다운로드 4\n"
     ]
    },
    {
     "data": {
      "application/vnd.jupyter.widget-view+json": {
       "model_id": "8e64e98a83514cbf91703ecc7ca4bbf0",
       "version_major": 2,
       "version_minor": 0
      },
      "text/plain": [
       "  0%|          | 0/2 [00:00<?, ?it/s]"
      ]
     },
     "metadata": {},
     "output_type": "display_data"
    },
    {
     "name": "stdout",
     "output_type": "stream",
     "text": [
      "수집한 댓글 수 :  1\n",
      "수집한 댓글 수 :  1\n",
      "좋아요,댓글,날짜,다운로드 4\n"
     ]
    },
    {
     "data": {
      "application/vnd.jupyter.widget-view+json": {
       "model_id": "1f941f628feb4f408cfe334f9c9e9db4",
       "version_major": 2,
       "version_minor": 0
      },
      "text/plain": [
       "  0%|          | 0/2 [00:00<?, ?it/s]"
      ]
     },
     "metadata": {},
     "output_type": "display_data"
    },
    {
     "name": "stdout",
     "output_type": "stream",
     "text": [
      "수집한 댓글 수 :  1\n",
      "수집한 댓글 수 :  1\n",
      "좋아요,댓글,날짜,다운로드 4\n"
     ]
    },
    {
     "data": {
      "application/vnd.jupyter.widget-view+json": {
       "model_id": "6167b0bbdcf242dbae496a31a743eab4",
       "version_major": 2,
       "version_minor": 0
      },
      "text/plain": [
       "  0%|          | 0/1 [00:00<?, ?it/s]"
      ]
     },
     "metadata": {},
     "output_type": "display_data"
    },
    {
     "name": "stdout",
     "output_type": "stream",
     "text": [
      "수집한 댓글 수 :  1\n",
      "좋아요,댓글,날짜,다운로드 4\n"
     ]
    },
    {
     "data": {
      "application/vnd.jupyter.widget-view+json": {
       "model_id": "afaab96ee3cc41859180b73037e9c6b8",
       "version_major": 2,
       "version_minor": 0
      },
      "text/plain": [
       "  0%|          | 0/2 [00:00<?, ?it/s]"
      ]
     },
     "metadata": {},
     "output_type": "display_data"
    },
    {
     "name": "stdout",
     "output_type": "stream",
     "text": [
      "수집한 댓글 수 :  1\n",
      "수집한 댓글 수 :  1\n",
      "좋아요,댓글,날짜,다운로드 4\n"
     ]
    },
    {
     "data": {
      "application/vnd.jupyter.widget-view+json": {
       "model_id": "d24fae6627df4b41b3e4dfa9f5f1ec15",
       "version_major": 2,
       "version_minor": 0
      },
      "text/plain": [
       "  0%|          | 0/4 [00:00<?, ?it/s]"
      ]
     },
     "metadata": {},
     "output_type": "display_data"
    },
    {
     "name": "stdout",
     "output_type": "stream",
     "text": [
      "수집한 댓글 수 :  4\n",
      "수집한 댓글 수 :  4\n",
      "수집한 댓글 수 :  4\n",
      "수집한 댓글 수 :  4\n",
      "좋아요,댓글,날짜,다운로드 4\n"
     ]
    },
    {
     "data": {
      "application/vnd.jupyter.widget-view+json": {
       "model_id": "6b98d480de5e4fee97b79f92557a470b",
       "version_major": 2,
       "version_minor": 0
      },
      "text/plain": [
       "  0%|          | 0/4 [00:00<?, ?it/s]"
      ]
     },
     "metadata": {},
     "output_type": "display_data"
    },
    {
     "name": "stdout",
     "output_type": "stream",
     "text": [
      "수집한 댓글 수 :  1\n",
      "수집한 댓글 수 :  1\n",
      "수집한 댓글 수 :  1\n",
      "수집한 댓글 수 :  1\n",
      "좋아요,댓글,날짜,다운로드 4\n"
     ]
    },
    {
     "data": {
      "application/vnd.jupyter.widget-view+json": {
       "model_id": "ac43a6b346114477bc43db032798fecc",
       "version_major": 2,
       "version_minor": 0
      },
      "text/plain": [
       "0it [00:00, ?it/s]"
      ]
     },
     "metadata": {},
     "output_type": "display_data"
    },
    {
     "name": "stdout",
     "output_type": "stream",
     "text": [
      "수집한 댓글 수 :  0\n",
      "좋아요,댓글,날짜,다운로드 4\n"
     ]
    },
    {
     "data": {
      "application/vnd.jupyter.widget-view+json": {
       "model_id": "73b56e639ef44dd48b74e5ef25567c06",
       "version_major": 2,
       "version_minor": 0
      },
      "text/plain": [
       "  0%|          | 0/5 [00:00<?, ?it/s]"
      ]
     },
     "metadata": {},
     "output_type": "display_data"
    },
    {
     "name": "stdout",
     "output_type": "stream",
     "text": [
      "수집한 댓글 수 :  1\n",
      "수집한 댓글 수 :  1\n",
      "수집한 댓글 수 :  1\n",
      "수집한 댓글 수 :  3\n",
      "수집한 댓글 수 :  3\n",
      "좋아요,댓글,날짜,다운로드 4\n"
     ]
    },
    {
     "data": {
      "application/vnd.jupyter.widget-view+json": {
       "model_id": "ae864abaa06b4b868d26c1c4185820b7",
       "version_major": 2,
       "version_minor": 0
      },
      "text/plain": [
       "0it [00:00, ?it/s]"
      ]
     },
     "metadata": {},
     "output_type": "display_data"
    },
    {
     "name": "stdout",
     "output_type": "stream",
     "text": [
      "수집한 댓글 수 :  0\n",
      "좋아요,댓글,날짜,다운로드 4\n"
     ]
    },
    {
     "data": {
      "application/vnd.jupyter.widget-view+json": {
       "model_id": "ad0eda82d66942c98432cac026579eb5",
       "version_major": 2,
       "version_minor": 0
      },
      "text/plain": [
       "  0%|          | 0/2 [00:00<?, ?it/s]"
      ]
     },
     "metadata": {},
     "output_type": "display_data"
    },
    {
     "name": "stdout",
     "output_type": "stream",
     "text": [
      "수집한 댓글 수 :  1\n",
      "수집한 댓글 수 :  2\n",
      "좋아요,댓글,날짜,다운로드 4\n"
     ]
    },
    {
     "data": {
      "application/vnd.jupyter.widget-view+json": {
       "model_id": "c94decf89f2c473aa24418dd8c4e5736",
       "version_major": 2,
       "version_minor": 0
      },
      "text/plain": [
       "  0%|          | 0/2 [00:00<?, ?it/s]"
      ]
     },
     "metadata": {},
     "output_type": "display_data"
    },
    {
     "name": "stdout",
     "output_type": "stream",
     "text": [
      "수집한 댓글 수 :  1\n",
      "수집한 댓글 수 :  2\n",
      "좋아요,댓글,날짜,다운로드 4\n"
     ]
    },
    {
     "data": {
      "application/vnd.jupyter.widget-view+json": {
       "model_id": "ac0795b65cea49edb56beec274d0bb3e",
       "version_major": 2,
       "version_minor": 0
      },
      "text/plain": [
       "  0%|          | 0/2 [00:00<?, ?it/s]"
      ]
     },
     "metadata": {},
     "output_type": "display_data"
    },
    {
     "name": "stdout",
     "output_type": "stream",
     "text": [
      "수집한 댓글 수 :  1\n",
      "수집한 댓글 수 :  1\n",
      "좋아요,댓글,날짜,다운로드 4\n"
     ]
    },
    {
     "data": {
      "application/vnd.jupyter.widget-view+json": {
       "model_id": "9bb6ebee73ea4b13921806adbe558b59",
       "version_major": 2,
       "version_minor": 0
      },
      "text/plain": [
       "0it [00:00, ?it/s]"
      ]
     },
     "metadata": {},
     "output_type": "display_data"
    },
    {
     "name": "stdout",
     "output_type": "stream",
     "text": [
      "수집한 댓글 수 :  0\n",
      "좋아요,댓글,날짜,다운로드 4\n"
     ]
    },
    {
     "data": {
      "application/vnd.jupyter.widget-view+json": {
       "model_id": "436bca01202f4fa292325baebfc02a49",
       "version_major": 2,
       "version_minor": 0
      },
      "text/plain": [
       "  0%|          | 0/4 [00:00<?, ?it/s]"
      ]
     },
     "metadata": {},
     "output_type": "display_data"
    },
    {
     "name": "stdout",
     "output_type": "stream",
     "text": [
      "수집한 댓글 수 :  1\n",
      "수집한 댓글 수 :  1\n",
      "수집한 댓글 수 :  1\n",
      "수집한 댓글 수 :  1\n",
      "좋아요,댓글,날짜,다운로드 4\n"
     ]
    },
    {
     "data": {
      "application/vnd.jupyter.widget-view+json": {
       "model_id": "e87d74e5786842a8bf01439c7e0636f0",
       "version_major": 2,
       "version_minor": 0
      },
      "text/plain": [
       "  0%|          | 0/2 [00:00<?, ?it/s]"
      ]
     },
     "metadata": {},
     "output_type": "display_data"
    },
    {
     "name": "stdout",
     "output_type": "stream",
     "text": [
      "수집한 댓글 수 :  1\n",
      "수집한 댓글 수 :  2\n",
      "좋아요,댓글,날짜,다운로드 4\n"
     ]
    },
    {
     "data": {
      "application/vnd.jupyter.widget-view+json": {
       "model_id": "a3739e5710994db0b0b9a0d3605e19fb",
       "version_major": 2,
       "version_minor": 0
      },
      "text/plain": [
       "  0%|          | 0/2 [00:00<?, ?it/s]"
      ]
     },
     "metadata": {},
     "output_type": "display_data"
    },
    {
     "name": "stdout",
     "output_type": "stream",
     "text": [
      "수집한 댓글 수 :  2\n",
      "수집한 댓글 수 :  2\n",
      "좋아요,댓글,날짜,다운로드 4\n"
     ]
    },
    {
     "data": {
      "application/vnd.jupyter.widget-view+json": {
       "model_id": "d4de4338afee4227aee28f4509a6cc0c",
       "version_major": 2,
       "version_minor": 0
      },
      "text/plain": [
       "  0%|          | 0/3 [00:00<?, ?it/s]"
      ]
     },
     "metadata": {},
     "output_type": "display_data"
    },
    {
     "name": "stdout",
     "output_type": "stream",
     "text": [
      "수집한 댓글 수 :  1\n",
      "수집한 댓글 수 :  1\n",
      "수집한 댓글 수 :  3\n",
      "좋아요,댓글,날짜,다운로드 4\n"
     ]
    },
    {
     "data": {
      "application/vnd.jupyter.widget-view+json": {
       "model_id": "97a60741311846e9baa93f86da2ab1e6",
       "version_major": 2,
       "version_minor": 0
      },
      "text/plain": [
       "  0%|          | 0/6 [00:00<?, ?it/s]"
      ]
     },
     "metadata": {},
     "output_type": "display_data"
    },
    {
     "name": "stdout",
     "output_type": "stream",
     "text": [
      "수집한 댓글 수 :  1\n",
      "수집한 댓글 수 :  1\n",
      "수집한 댓글 수 :  6\n",
      "수집한 댓글 수 :  6\n",
      "수집한 댓글 수 :  6\n",
      "수집한 댓글 수 :  6\n",
      "좋아요,댓글,날짜,다운로드 4\n"
     ]
    },
    {
     "data": {
      "application/vnd.jupyter.widget-view+json": {
       "model_id": "583cf48ce5834e8e9118ba720b702233",
       "version_major": 2,
       "version_minor": 0
      },
      "text/plain": [
       "0it [00:00, ?it/s]"
      ]
     },
     "metadata": {},
     "output_type": "display_data"
    },
    {
     "name": "stdout",
     "output_type": "stream",
     "text": [
      "수집한 댓글 수 :  0\n",
      "좋아요,댓글,날짜,다운로드 4\n"
     ]
    },
    {
     "data": {
      "application/vnd.jupyter.widget-view+json": {
       "model_id": "a0697a9106fe4165888a7d46ab01aa88",
       "version_major": 2,
       "version_minor": 0
      },
      "text/plain": [
       "0it [00:00, ?it/s]"
      ]
     },
     "metadata": {},
     "output_type": "display_data"
    },
    {
     "name": "stdout",
     "output_type": "stream",
     "text": [
      "수집한 댓글 수 :  0\n",
      "좋아요,댓글,날짜,다운로드 4\n"
     ]
    },
    {
     "data": {
      "application/vnd.jupyter.widget-view+json": {
       "model_id": "83b06a1ac78142348eafaa2859225fad",
       "version_major": 2,
       "version_minor": 0
      },
      "text/plain": [
       "  0%|          | 0/2 [00:00<?, ?it/s]"
      ]
     },
     "metadata": {},
     "output_type": "display_data"
    },
    {
     "name": "stdout",
     "output_type": "stream",
     "text": [
      "수집한 댓글 수 :  2\n",
      "수집한 댓글 수 :  2\n",
      "좋아요,댓글,날짜,다운로드 4\n"
     ]
    },
    {
     "data": {
      "application/vnd.jupyter.widget-view+json": {
       "model_id": "7f0b994c399b452c91204c2f4dc2d1f0",
       "version_major": 2,
       "version_minor": 0
      },
      "text/plain": [
       "  0%|          | 0/3 [00:00<?, ?it/s]"
      ]
     },
     "metadata": {},
     "output_type": "display_data"
    },
    {
     "name": "stdout",
     "output_type": "stream",
     "text": [
      "수집한 댓글 수 :  3\n",
      "수집한 댓글 수 :  3\n",
      "수집한 댓글 수 :  3\n",
      "좋아요,댓글,날짜,다운로드 4\n"
     ]
    },
    {
     "data": {
      "application/vnd.jupyter.widget-view+json": {
       "model_id": "8ba85e6b15824345bf7b4f01759d68f3",
       "version_major": 2,
       "version_minor": 0
      },
      "text/plain": [
       "  0%|          | 0/1 [00:00<?, ?it/s]"
      ]
     },
     "metadata": {},
     "output_type": "display_data"
    },
    {
     "name": "stdout",
     "output_type": "stream",
     "text": [
      "수집한 댓글 수 :  1\n",
      "좋아요,댓글,날짜,다운로드 4\n"
     ]
    },
    {
     "data": {
      "application/vnd.jupyter.widget-view+json": {
       "model_id": "a0e90519f7584a70b20bce98a2ae71eb",
       "version_major": 2,
       "version_minor": 0
      },
      "text/plain": [
       "0it [00:00, ?it/s]"
      ]
     },
     "metadata": {},
     "output_type": "display_data"
    },
    {
     "name": "stdout",
     "output_type": "stream",
     "text": [
      "수집한 댓글 수 :  0\n",
      "좋아요,댓글,날짜,다운로드 4\n"
     ]
    },
    {
     "data": {
      "application/vnd.jupyter.widget-view+json": {
       "model_id": "e1a822deae3643009dfe910a778490d0",
       "version_major": 2,
       "version_minor": 0
      },
      "text/plain": [
       "  0%|          | 0/5 [00:00<?, ?it/s]"
      ]
     },
     "metadata": {},
     "output_type": "display_data"
    },
    {
     "name": "stdout",
     "output_type": "stream",
     "text": [
      "수집한 댓글 수 :  5\n",
      "수집한 댓글 수 :  5\n",
      "수집한 댓글 수 :  5\n",
      "수집한 댓글 수 :  5\n",
      "수집한 댓글 수 :  5\n",
      "좋아요,댓글,날짜,다운로드 4\n"
     ]
    },
    {
     "data": {
      "application/vnd.jupyter.widget-view+json": {
       "model_id": "9f24d9fc02ef47b8875785580de729ec",
       "version_major": 2,
       "version_minor": 0
      },
      "text/plain": [
       "0it [00:00, ?it/s]"
      ]
     },
     "metadata": {},
     "output_type": "display_data"
    },
    {
     "name": "stdout",
     "output_type": "stream",
     "text": [
      "수집한 댓글 수 :  0\n",
      "좋아요,댓글,날짜,다운로드 4\n"
     ]
    },
    {
     "data": {
      "application/vnd.jupyter.widget-view+json": {
       "model_id": "c2b2e80889c8423496fb140d22d890e2",
       "version_major": 2,
       "version_minor": 0
      },
      "text/plain": [
       "  0%|          | 0/3 [00:00<?, ?it/s]"
      ]
     },
     "metadata": {},
     "output_type": "display_data"
    },
    {
     "name": "stdout",
     "output_type": "stream",
     "text": [
      "수집한 댓글 수 :  1\n",
      "수집한 댓글 수 :  1\n",
      "수집한 댓글 수 :  1\n",
      "좋아요,댓글,날짜,다운로드 4\n"
     ]
    },
    {
     "data": {
      "application/vnd.jupyter.widget-view+json": {
       "model_id": "fd13148972ac48759ac5bc6caa966223",
       "version_major": 2,
       "version_minor": 0
      },
      "text/plain": [
       "  0%|          | 0/1 [00:00<?, ?it/s]"
      ]
     },
     "metadata": {},
     "output_type": "display_data"
    },
    {
     "name": "stdout",
     "output_type": "stream",
     "text": [
      "수집한 댓글 수 :  1\n",
      "좋아요,댓글,날짜,다운로드 4\n"
     ]
    },
    {
     "data": {
      "application/vnd.jupyter.widget-view+json": {
       "model_id": "d5f6cf602dd84904afacaf9ed4d59aa2",
       "version_major": 2,
       "version_minor": 0
      },
      "text/plain": [
       "  0%|          | 0/2 [00:00<?, ?it/s]"
      ]
     },
     "metadata": {},
     "output_type": "display_data"
    },
    {
     "name": "stdout",
     "output_type": "stream",
     "text": [
      "수집한 댓글 수 :  1\n",
      "수집한 댓글 수 :  1\n",
      "좋아요,댓글,날짜,다운로드 4\n"
     ]
    },
    {
     "data": {
      "application/vnd.jupyter.widget-view+json": {
       "model_id": "fd0da34507664f7fa69ae138e8bb017b",
       "version_major": 2,
       "version_minor": 0
      },
      "text/plain": [
       "  0%|          | 0/2 [00:00<?, ?it/s]"
      ]
     },
     "metadata": {},
     "output_type": "display_data"
    },
    {
     "name": "stdout",
     "output_type": "stream",
     "text": [
      "수집한 댓글 수 :  1\n",
      "수집한 댓글 수 :  1\n",
      "좋아요,댓글,날짜,다운로드 4\n"
     ]
    },
    {
     "data": {
      "application/vnd.jupyter.widget-view+json": {
       "model_id": "e69167cb4be64ca89c573157d4d164fa",
       "version_major": 2,
       "version_minor": 0
      },
      "text/plain": [
       "0it [00:00, ?it/s]"
      ]
     },
     "metadata": {},
     "output_type": "display_data"
    },
    {
     "name": "stdout",
     "output_type": "stream",
     "text": [
      "수집한 댓글 수 :  0\n",
      "좋아요,댓글,날짜,다운로드 4\n"
     ]
    },
    {
     "data": {
      "application/vnd.jupyter.widget-view+json": {
       "model_id": "f214337937734859b1b10c29db93d8e2",
       "version_major": 2,
       "version_minor": 0
      },
      "text/plain": [
       "  0%|          | 0/1 [00:00<?, ?it/s]"
      ]
     },
     "metadata": {},
     "output_type": "display_data"
    },
    {
     "name": "stdout",
     "output_type": "stream",
     "text": [
      "수집한 댓글 수 :  1\n",
      "좋아요,댓글,날짜,다운로드 4\n"
     ]
    },
    {
     "data": {
      "application/vnd.jupyter.widget-view+json": {
       "model_id": "ebc8109ba9c24f1aabc7e8a3fd86caf8",
       "version_major": 2,
       "version_minor": 0
      },
      "text/plain": [
       "  0%|          | 0/3 [00:00<?, ?it/s]"
      ]
     },
     "metadata": {},
     "output_type": "display_data"
    },
    {
     "name": "stdout",
     "output_type": "stream",
     "text": [
      "수집한 댓글 수 :  1\n",
      "수집한 댓글 수 :  3\n",
      "수집한 댓글 수 :  3\n",
      "좋아요,댓글,날짜,다운로드 4\n"
     ]
    },
    {
     "data": {
      "application/vnd.jupyter.widget-view+json": {
       "model_id": "2a84c57797a94b59a06229ffc98add65",
       "version_major": 2,
       "version_minor": 0
      },
      "text/plain": [
       "0it [00:00, ?it/s]"
      ]
     },
     "metadata": {},
     "output_type": "display_data"
    },
    {
     "name": "stdout",
     "output_type": "stream",
     "text": [
      "수집한 댓글 수 :  0\n",
      "좋아요,댓글,날짜,다운로드 4\n"
     ]
    },
    {
     "data": {
      "application/vnd.jupyter.widget-view+json": {
       "model_id": "49f489583b124497a6049010efa52097",
       "version_major": 2,
       "version_minor": 0
      },
      "text/plain": [
       "  0%|          | 0/2 [00:00<?, ?it/s]"
      ]
     },
     "metadata": {},
     "output_type": "display_data"
    },
    {
     "name": "stdout",
     "output_type": "stream",
     "text": [
      "수집한 댓글 수 :  1\n",
      "수집한 댓글 수 :  1\n",
      "좋아요,댓글,날짜,다운로드 4\n"
     ]
    },
    {
     "data": {
      "application/vnd.jupyter.widget-view+json": {
       "model_id": "8a43b0e149d240ddab79e88d2e890e21",
       "version_major": 2,
       "version_minor": 0
      },
      "text/plain": [
       "  0%|          | 0/3 [00:00<?, ?it/s]"
      ]
     },
     "metadata": {},
     "output_type": "display_data"
    },
    {
     "name": "stdout",
     "output_type": "stream",
     "text": [
      "수집한 댓글 수 :  1\n",
      "수집한 댓글 수 :  3\n",
      "수집한 댓글 수 :  3\n",
      "좋아요,댓글,날짜,다운로드 4\n"
     ]
    },
    {
     "data": {
      "application/vnd.jupyter.widget-view+json": {
       "model_id": "1bfb63558b4c45b7a3548084e4dfeff4",
       "version_major": 2,
       "version_minor": 0
      },
      "text/plain": [
       "  0%|          | 0/2 [00:00<?, ?it/s]"
      ]
     },
     "metadata": {},
     "output_type": "display_data"
    },
    {
     "name": "stdout",
     "output_type": "stream",
     "text": [
      "수집한 댓글 수 :  1\n",
      "수집한 댓글 수 :  1\n",
      "좋아요,댓글,날짜,다운로드 4\n"
     ]
    },
    {
     "data": {
      "application/vnd.jupyter.widget-view+json": {
       "model_id": "201e74c867fc488f8551c0ebfb92d1ad",
       "version_major": 2,
       "version_minor": 0
      },
      "text/plain": [
       "  0%|          | 0/3 [00:00<?, ?it/s]"
      ]
     },
     "metadata": {},
     "output_type": "display_data"
    },
    {
     "name": "stdout",
     "output_type": "stream",
     "text": [
      "수집한 댓글 수 :  1\n",
      "수집한 댓글 수 :  1\n",
      "수집한 댓글 수 :  1\n",
      "좋아요,댓글,날짜,다운로드 4\n"
     ]
    },
    {
     "data": {
      "application/vnd.jupyter.widget-view+json": {
       "model_id": "996b7afd4a61406cae6af3ad0d87fce3",
       "version_major": 2,
       "version_minor": 0
      },
      "text/plain": [
       "  0%|          | 0/2 [00:00<?, ?it/s]"
      ]
     },
     "metadata": {},
     "output_type": "display_data"
    },
    {
     "name": "stdout",
     "output_type": "stream",
     "text": [
      "수집한 댓글 수 :  1\n",
      "수집한 댓글 수 :  1\n",
      "좋아요,댓글,날짜,다운로드 4\n"
     ]
    },
    {
     "data": {
      "application/vnd.jupyter.widget-view+json": {
       "model_id": "21068c640abe4e05b333206b09cd27c9",
       "version_major": 2,
       "version_minor": 0
      },
      "text/plain": [
       "  0%|          | 0/2 [00:00<?, ?it/s]"
      ]
     },
     "metadata": {},
     "output_type": "display_data"
    },
    {
     "name": "stdout",
     "output_type": "stream",
     "text": [
      "수집한 댓글 수 :  1\n",
      "수집한 댓글 수 :  2\n",
      "좋아요,댓글,날짜,다운로드 4\n"
     ]
    },
    {
     "data": {
      "application/vnd.jupyter.widget-view+json": {
       "model_id": "e29088b8f58e4b5590f34baeb90c9493",
       "version_major": 2,
       "version_minor": 0
      },
      "text/plain": [
       "  0%|          | 0/1 [00:00<?, ?it/s]"
      ]
     },
     "metadata": {},
     "output_type": "display_data"
    },
    {
     "name": "stdout",
     "output_type": "stream",
     "text": [
      "수집한 댓글 수 :  1\n",
      "좋아요,댓글,날짜,다운로드 4\n"
     ]
    },
    {
     "data": {
      "application/vnd.jupyter.widget-view+json": {
       "model_id": "5fee0e8fba5948e9849c2279b3b47e0a",
       "version_major": 2,
       "version_minor": 0
      },
      "text/plain": [
       "  0%|          | 0/2 [00:00<?, ?it/s]"
      ]
     },
     "metadata": {},
     "output_type": "display_data"
    },
    {
     "name": "stdout",
     "output_type": "stream",
     "text": [
      "수집한 댓글 수 :  2\n",
      "수집한 댓글 수 :  2\n",
      "좋아요,댓글,날짜,다운로드 4\n"
     ]
    },
    {
     "data": {
      "application/vnd.jupyter.widget-view+json": {
       "model_id": "ee60d7f64e4047ea92cbb78e6d1afc39",
       "version_major": 2,
       "version_minor": 0
      },
      "text/plain": [
       "0it [00:00, ?it/s]"
      ]
     },
     "metadata": {},
     "output_type": "display_data"
    },
    {
     "name": "stdout",
     "output_type": "stream",
     "text": [
      "수집한 댓글 수 :  0\n",
      "좋아요,댓글,날짜,다운로드 4\n"
     ]
    },
    {
     "data": {
      "application/vnd.jupyter.widget-view+json": {
       "model_id": "bc95c21dc3f54a9da136d048d77de2de",
       "version_major": 2,
       "version_minor": 0
      },
      "text/plain": [
       "  0%|          | 0/1 [00:00<?, ?it/s]"
      ]
     },
     "metadata": {},
     "output_type": "display_data"
    },
    {
     "name": "stdout",
     "output_type": "stream",
     "text": [
      "수집한 댓글 수 :  1\n",
      "좋아요,댓글,날짜,다운로드 4\n"
     ]
    },
    {
     "data": {
      "application/vnd.jupyter.widget-view+json": {
       "model_id": "8962164a782940f9b1756985a1f7247c",
       "version_major": 2,
       "version_minor": 0
      },
      "text/plain": [
       "  0%|          | 0/3 [00:00<?, ?it/s]"
      ]
     },
     "metadata": {},
     "output_type": "display_data"
    },
    {
     "name": "stdout",
     "output_type": "stream",
     "text": [
      "수집한 댓글 수 :  1\n",
      "수집한 댓글 수 :  1\n",
      "수집한 댓글 수 :  1\n",
      "좋아요,댓글,날짜,다운로드 4\n"
     ]
    },
    {
     "data": {
      "application/vnd.jupyter.widget-view+json": {
       "model_id": "a3593ff7eb8b49ba900c22bd512c965e",
       "version_major": 2,
       "version_minor": 0
      },
      "text/plain": [
       "  0%|          | 0/1 [00:00<?, ?it/s]"
      ]
     },
     "metadata": {},
     "output_type": "display_data"
    },
    {
     "name": "stdout",
     "output_type": "stream",
     "text": [
      "수집한 댓글 수 :  1\n",
      "좋아요,댓글,날짜,다운로드 4\n"
     ]
    },
    {
     "data": {
      "application/vnd.jupyter.widget-view+json": {
       "model_id": "100eb72db31948e9ba0973688467bd6f",
       "version_major": 2,
       "version_minor": 0
      },
      "text/plain": [
       "  0%|          | 0/7 [00:00<?, ?it/s]"
      ]
     },
     "metadata": {},
     "output_type": "display_data"
    },
    {
     "name": "stdout",
     "output_type": "stream",
     "text": [
      "수집한 댓글 수 :  1\n",
      "수집한 댓글 수 :  7\n",
      "수집한 댓글 수 :  7\n",
      "수집한 댓글 수 :  7\n",
      "수집한 댓글 수 :  7\n",
      "수집한 댓글 수 :  7\n",
      "수집한 댓글 수 :  7\n",
      "좋아요,댓글,날짜,다운로드 4\n"
     ]
    },
    {
     "data": {
      "application/vnd.jupyter.widget-view+json": {
       "model_id": "6c41396fa5b24b6d86e9dd16b98ace90",
       "version_major": 2,
       "version_minor": 0
      },
      "text/plain": [
       "  0%|          | 0/6 [00:00<?, ?it/s]"
      ]
     },
     "metadata": {},
     "output_type": "display_data"
    },
    {
     "name": "stdout",
     "output_type": "stream",
     "text": [
      "수집한 댓글 수 :  1\n",
      "수집한 댓글 수 :  1\n",
      "수집한 댓글 수 :  1\n",
      "수집한 댓글 수 :  1\n",
      "수집한 댓글 수 :  1\n",
      "수집한 댓글 수 :  1\n",
      "좋아요,댓글,날짜,다운로드 4\n"
     ]
    },
    {
     "data": {
      "application/vnd.jupyter.widget-view+json": {
       "model_id": "d561353dffb44937a23c7602e3e6d0b7",
       "version_major": 2,
       "version_minor": 0
      },
      "text/plain": [
       "  0%|          | 0/3 [00:00<?, ?it/s]"
      ]
     },
     "metadata": {},
     "output_type": "display_data"
    },
    {
     "name": "stdout",
     "output_type": "stream",
     "text": [
      "수집한 댓글 수 :  1\n",
      "수집한 댓글 수 :  2\n",
      "수집한 댓글 수 :  2\n",
      "좋아요,댓글,날짜,다운로드 4\n"
     ]
    },
    {
     "data": {
      "application/vnd.jupyter.widget-view+json": {
       "model_id": "13f4361c1a9e42b6b3842ca5face7392",
       "version_major": 2,
       "version_minor": 0
      },
      "text/plain": [
       "  0%|          | 0/3 [00:00<?, ?it/s]"
      ]
     },
     "metadata": {},
     "output_type": "display_data"
    },
    {
     "name": "stdout",
     "output_type": "stream",
     "text": [
      "수집한 댓글 수 :  1\n",
      "수집한 댓글 수 :  2\n",
      "수집한 댓글 수 :  2\n",
      "좋아요,댓글,날짜,다운로드 4\n"
     ]
    },
    {
     "data": {
      "application/vnd.jupyter.widget-view+json": {
       "model_id": "98de144477fa42778e0c70c30b15a2df",
       "version_major": 2,
       "version_minor": 0
      },
      "text/plain": [
       "  0%|          | 0/6 [00:00<?, ?it/s]"
      ]
     },
     "metadata": {},
     "output_type": "display_data"
    },
    {
     "name": "stdout",
     "output_type": "stream",
     "text": [
      "수집한 댓글 수 :  1\n",
      "수집한 댓글 수 :  6\n",
      "수집한 댓글 수 :  6\n",
      "수집한 댓글 수 :  6\n",
      "수집한 댓글 수 :  6\n",
      "수집한 댓글 수 :  6\n",
      "좋아요,댓글,날짜,다운로드 4\n"
     ]
    },
    {
     "data": {
      "application/vnd.jupyter.widget-view+json": {
       "model_id": "ad3ec72a710b4d5c97071c36f4fe0f56",
       "version_major": 2,
       "version_minor": 0
      },
      "text/plain": [
       "  0%|          | 0/1 [00:00<?, ?it/s]"
      ]
     },
     "metadata": {},
     "output_type": "display_data"
    },
    {
     "name": "stdout",
     "output_type": "stream",
     "text": [
      "수집한 댓글 수 :  1\n",
      "좋아요,댓글,날짜,다운로드 4\n"
     ]
    },
    {
     "data": {
      "application/vnd.jupyter.widget-view+json": {
       "model_id": "b1a1600276604e5c9495308eb4f19c02",
       "version_major": 2,
       "version_minor": 0
      },
      "text/plain": [
       "  0%|          | 0/3 [00:00<?, ?it/s]"
      ]
     },
     "metadata": {},
     "output_type": "display_data"
    },
    {
     "name": "stdout",
     "output_type": "stream",
     "text": [
      "수집한 댓글 수 :  1\n",
      "수집한 댓글 수 :  3\n",
      "수집한 댓글 수 :  3\n",
      "좋아요,댓글,날짜,다운로드 4\n"
     ]
    },
    {
     "data": {
      "application/vnd.jupyter.widget-view+json": {
       "model_id": "4684ffd888b5457baa00e437e36a3d33",
       "version_major": 2,
       "version_minor": 0
      },
      "text/plain": [
       "  0%|          | 0/4 [00:00<?, ?it/s]"
      ]
     },
     "metadata": {},
     "output_type": "display_data"
    },
    {
     "name": "stdout",
     "output_type": "stream",
     "text": [
      "수집한 댓글 수 :  4\n",
      "수집한 댓글 수 :  4\n",
      "수집한 댓글 수 :  4\n",
      "수집한 댓글 수 :  4\n",
      "좋아요,댓글,날짜,다운로드 4\n"
     ]
    },
    {
     "data": {
      "application/vnd.jupyter.widget-view+json": {
       "model_id": "77c3ee1195ec4f61b1913fcd6b375d4f",
       "version_major": 2,
       "version_minor": 0
      },
      "text/plain": [
       "  0%|          | 0/1 [00:00<?, ?it/s]"
      ]
     },
     "metadata": {},
     "output_type": "display_data"
    },
    {
     "name": "stdout",
     "output_type": "stream",
     "text": [
      "수집한 댓글 수 :  1\n",
      "좋아요,댓글,날짜,다운로드 4\n"
     ]
    },
    {
     "data": {
      "application/vnd.jupyter.widget-view+json": {
       "model_id": "bedfcba9ffcd46c9bba487405ae4a9c6",
       "version_major": 2,
       "version_minor": 0
      },
      "text/plain": [
       "  0%|          | 0/6 [00:00<?, ?it/s]"
      ]
     },
     "metadata": {},
     "output_type": "display_data"
    },
    {
     "name": "stdout",
     "output_type": "stream",
     "text": [
      "수집한 댓글 수 :  1\n",
      "수집한 댓글 수 :  1\n",
      "수집한 댓글 수 :  6\n",
      "수집한 댓글 수 :  6\n",
      "수집한 댓글 수 :  6\n",
      "수집한 댓글 수 :  6\n"
     ]
    },
    {
     "data": {
      "text/html": [
       "<div>\n",
       "<style scoped>\n",
       "    .dataframe tbody tr th:only-of-type {\n",
       "        vertical-align: middle;\n",
       "    }\n",
       "\n",
       "    .dataframe tbody tr th {\n",
       "        vertical-align: top;\n",
       "    }\n",
       "\n",
       "    .dataframe thead th {\n",
       "        text-align: right;\n",
       "    }\n",
       "</style>\n",
       "<table border=\"1\" class=\"dataframe\">\n",
       "  <thead>\n",
       "    <tr style=\"text-align: right;\">\n",
       "      <th></th>\n",
       "      <th>timestamp</th>\n",
       "      <th>text</th>\n",
       "      <th>comment_count</th>\n",
       "      <th>liked_by_count</th>\n",
       "      <th>url</th>\n",
       "    </tr>\n",
       "  </thead>\n",
       "  <tbody>\n",
       "    <tr>\n",
       "      <th>0</th>\n",
       "      <td>2018-09-09</td>\n",
       "      <td>스트릿 패션요즘 내 워너비 패션.#street#fashion#ootd#daily#d...</td>\n",
       "      <td>5</td>\n",
       "      <td>460</td>\n",
       "      <td>https://dumpor.com/c/9773669645852929661</td>\n",
       "    </tr>\n",
       "    <tr>\n",
       "      <th>1</th>\n",
       "      <td>2017-09-09</td>\n",
       "      <td>스트릿 패션커프스셔츠와 니트를 함께 매치한 코디#street #fashion #oo...</td>\n",
       "      <td>5</td>\n",
       "      <td>421</td>\n",
       "      <td>https://dumpor.com/c/6336282447139006831</td>\n",
       "    </tr>\n",
       "    <tr>\n",
       "      <th>2</th>\n",
       "      <td>2016-09-09</td>\n",
       "      <td>스트릿 패션스트릿패션에 있어서 트렌디함이 담겨있는 코디와 센스있는 아이템 선택!sw...</td>\n",
       "      <td>0</td>\n",
       "      <td>383</td>\n",
       "      <td>https://dumpor.com/c/8464676982229353721</td>\n",
       "    </tr>\n",
       "    <tr>\n",
       "      <th>3</th>\n",
       "      <td>2017-09-09</td>\n",
       "      <td>스트릿 패션톰브라운 트레이닝복 시밀러 룩#street #fashion #ootd #...</td>\n",
       "      <td>0</td>\n",
       "      <td>382</td>\n",
       "      <td>https://dumpor.com/c/1358205463673238931</td>\n",
       "    </tr>\n",
       "    <tr>\n",
       "      <th>4</th>\n",
       "      <td>2018-09-09</td>\n",
       "      <td>스트릿 패션슬슬 벚꽃놀이를 가볼까나~?🌸 -#해외 #스트릿패션 #웨크웨어 #패션 #...</td>\n",
       "      <td>0</td>\n",
       "      <td>249</td>\n",
       "      <td>https://dumpor.com/c/2341347826658309471</td>\n",
       "    </tr>\n",
       "    <tr>\n",
       "      <th>...</th>\n",
       "      <td>...</td>\n",
       "      <td>...</td>\n",
       "      <td>...</td>\n",
       "      <td>...</td>\n",
       "      <td>...</td>\n",
       "    </tr>\n",
       "    <tr>\n",
       "      <th>663</th>\n",
       "      <td>2017-09-09</td>\n",
       "      <td>스트릿 패션 시크하고 멋스러운 스카잔#street #fashion #ootd #da...</td>\n",
       "      <td>1</td>\n",
       "      <td>290</td>\n",
       "      <td>https://dumpor.com/c/8317514848745220841</td>\n",
       "    </tr>\n",
       "    <tr>\n",
       "      <th>664</th>\n",
       "      <td>2017-09-09</td>\n",
       "      <td>스트릿 패션#율리아나세르젠코 #UlyanaSergeenko패션에 관심있는 분이시라면...</td>\n",
       "      <td>3</td>\n",
       "      <td>267</td>\n",
       "      <td>https://dumpor.com/c/5124558692342706451</td>\n",
       "    </tr>\n",
       "    <tr>\n",
       "      <th>665</th>\n",
       "      <td>2018-09-09</td>\n",
       "      <td>스트릿 패션체크코트와 머스타드컬러비니는 사랑입니다.#해외 #스트릿패션 #웨크웨어 #...</td>\n",
       "      <td>4</td>\n",
       "      <td>459</td>\n",
       "      <td>https://dumpor.com/c/9877304214009839171</td>\n",
       "    </tr>\n",
       "    <tr>\n",
       "      <th>666</th>\n",
       "      <td>2016-09-09</td>\n",
       "      <td>해외 스트릿패션펑키한 부츠와 미니멀한 룩.조형적인 이어링의 매치, 머리부터 발끝까지...</td>\n",
       "      <td>1</td>\n",
       "      <td>331</td>\n",
       "      <td>https://dumpor.com/c/1521924596542121121</td>\n",
       "    </tr>\n",
       "    <tr>\n",
       "      <th>667</th>\n",
       "      <td>2018-09-09</td>\n",
       "      <td>스트릿 패션여성스러운 프릴 시스루 블라우스에 연청데님바지로 러블리한 봄코디 완성ღ</td>\n",
       "      <td>6</td>\n",
       "      <td>324</td>\n",
       "      <td>https://dumpor.com/c/8631404819169619571</td>\n",
       "    </tr>\n",
       "  </tbody>\n",
       "</table>\n",
       "<p>668 rows × 5 columns</p>\n",
       "</div>"
      ],
      "text/plain": [
       "      timestamp                                               text  \\\n",
       "0    2018-09-09  스트릿 패션요즘 내 워너비 패션.#street#fashion#ootd#daily#d...   \n",
       "1    2017-09-09  스트릿 패션커프스셔츠와 니트를 함께 매치한 코디#street #fashion #oo...   \n",
       "2    2016-09-09  스트릿 패션스트릿패션에 있어서 트렌디함이 담겨있는 코디와 센스있는 아이템 선택!sw...   \n",
       "3    2017-09-09  스트릿 패션톰브라운 트레이닝복 시밀러 룩#street #fashion #ootd #...   \n",
       "4    2018-09-09  스트릿 패션슬슬 벚꽃놀이를 가볼까나~?🌸 -#해외 #스트릿패션 #웨크웨어 #패션 #...   \n",
       "..          ...                                                ...   \n",
       "663  2017-09-09  스트릿 패션 시크하고 멋스러운 스카잔#street #fashion #ootd #da...   \n",
       "664  2017-09-09  스트릿 패션#율리아나세르젠코 #UlyanaSergeenko패션에 관심있는 분이시라면...   \n",
       "665  2018-09-09  스트릿 패션체크코트와 머스타드컬러비니는 사랑입니다.#해외 #스트릿패션 #웨크웨어 #...   \n",
       "666  2016-09-09  해외 스트릿패션펑키한 부츠와 미니멀한 룩.조형적인 이어링의 매치, 머리부터 발끝까지...   \n",
       "667  2018-09-09      스트릿 패션여성스러운 프릴 시스루 블라우스에 연청데님바지로 러블리한 봄코디 완성ღ   \n",
       "\n",
       "    comment_count liked_by_count                                       url  \n",
       "0               5            460  https://dumpor.com/c/9773669645852929661  \n",
       "1               5            421  https://dumpor.com/c/6336282447139006831  \n",
       "2               0            383  https://dumpor.com/c/8464676982229353721  \n",
       "3               0            382  https://dumpor.com/c/1358205463673238931  \n",
       "4               0            249  https://dumpor.com/c/2341347826658309471  \n",
       "..            ...            ...                                       ...  \n",
       "663             1            290  https://dumpor.com/c/8317514848745220841  \n",
       "664             3            267  https://dumpor.com/c/5124558692342706451  \n",
       "665             4            459  https://dumpor.com/c/9877304214009839171  \n",
       "666             1            331  https://dumpor.com/c/1521924596542121121  \n",
       "667             6            324  https://dumpor.com/c/8631404819169619571  \n",
       "\n",
       "[668 rows x 5 columns]"
      ]
     },
     "execution_count": 32,
     "metadata": {},
     "output_type": "execute_result"
    }
   ],
   "source": [
    "#게시글 정보(이것도 각오하고 돌려야됨)\n",
    "import datetime\n",
    "from datetime import date, datetime, timedelta\n",
    "\n",
    "b_url = pd.read_csv('./{}/{}_게시글url.csv'.format(keyword,keyword))['url']\n",
    "b_url = b_url.apply(lambda x : x.replace('https://dumpor.com',''))\n",
    "\n",
    "url_s = pd.Series(temp3)\n",
    "url_halfs_list = list(url_s[(url_s.apply(lambda x : any([url in x for url in b_url])))].values)\n",
    "\n",
    "#드라이버 재시작\n",
    "#driver = webdriver.Chrome(executable_path= r'C:/Users/ourus/Python_KPC/Insta_Crawling/chromedriver_win32/chromedriver', chrome_options=options)\n",
    "driver = webdriver.Chrome(executable_path= r'C:/Users/학생/Downloads/chromedriver_win32/chromedriver', chrome_options=options)\n",
    "\n",
    "#각 게시글에서 정보추출\n",
    "nonetype = type(print()) #타입비교 용도\n",
    "index_dict = {} #데이터 임시저장\n",
    "df4_3 = pd.DataFrame()\n",
    "\n",
    "\n",
    "for index, url_half in tqdm(enumerate(url_halfs_list)):\n",
    "    #저장 초기화\n",
    "    contents = {}\n",
    "    #contents['shortcode'] = [] #계정은 위에서 받아놓았음 \n",
    "    contents['timestamp'] = [] #\n",
    "    contents['text'] = []\n",
    "    contents['comment_count'] = []\n",
    "    contents['liked_by_count'] = []\n",
    "    contents['url'] = []\n",
    "    real_url = f'https://dumpor.com{url_half}'\n",
    "    \n",
    "    driver.get(real_url)\n",
    "    source = driver.page_source\n",
    "    soup = BeautifulSoup(source, 'html.parser')\n",
    "    \n",
    "    #사람처럼 행동 random하게 스크롤 작동\n",
    "    ran_cnt = random.randint(1,2)\n",
    "    ran_length = random.choice(np.arange(100,200,100))\n",
    "    for count in range(0,ran_cnt):\n",
    "        driver.execute_script(f\"window.scrollTo(0, {ran_length})\")\n",
    "        ran_length *= 2\n",
    "#         time.sleep(0.5)\n",
    "    \n",
    "    #dates\n",
    "    try :\n",
    "        date = get_date()\n",
    "        timestamp = time_change(date)\n",
    "    except :\n",
    "        timestamp = da\n",
    "        print('timestamp 예외발생')\n",
    "    \n",
    "    #본문\n",
    "    try :\n",
    "        text = get_post_text()\n",
    "        #user_id = souop.select('a.sqdOP.yWX7d._8A5w5.ZIAjV')[0].text\n",
    "    except :\n",
    "        text = ''\n",
    "    \n",
    "    temp4 = get_likes_replies()\n",
    "    #댓글수\n",
    "    try :\n",
    "        comment_count = temp4[1]\n",
    "    except : \n",
    "        comment_count = []\n",
    "    \n",
    "    #좋아요수\n",
    "    try : \n",
    "        liked_by_count = temp4[0]\n",
    "    except:\n",
    "        liked_by_count = []\n",
    "        \n",
    "    #최소화해놓으면 안되고 최소화 하지 않으면 작동안함()\n",
    "#     random_stop = random.randint(1,2) #인간답게하려고 랜덤으로 2~4초 스탑\n",
    "#     time.sleep(random_stop)\n",
    "      \n",
    "    #저장\n",
    "    contents['timestamp'] = str(timestamp) #date\n",
    "    contents['text'] = text\n",
    "    contents['comment_count'] = comment_count\n",
    "    contents['liked_by_count'] = liked_by_count\n",
    "    contents['url'] = real_url\n",
    "    \n",
    "    url_title = url_half.replace('/','_')\n",
    "    \n",
    "    url_titles = []\n",
    "    reply_dict = get_reply_info(temp4[1])\n",
    "    for i in range(len(reply_dict)):\n",
    "        url_titles.append(url_title[3:])\n",
    "    \n",
    "    df4_1 = pd.DataFrame({'comm_id': url_titles})\n",
    "    df4_2 = pd.DataFrame(reply_dict.items(), columns = ['comm_by_username', 'comm_text'])\n",
    "    df4 = pd.concat([df4_1,df4_2], axis = 1)\n",
    "    df4_3 = pd.concat([df4_3, df4], axis = 0)\n",
    "\n",
    "    #인덱스맞춰저장\n",
    "    index_dict[index] = contents\n",
    "\n",
    "#데이터프레임화\n",
    "\n",
    "df3 = pd.DataFrame(index_dict)\n",
    "df3 = df3.T\n",
    "\n",
    "df4_3.to_csv('./{}/{}_댓글.csv'.format(keyword,keyword), encoding='utf-8-sig')\n",
    "df3.to_csv('./{}/{}_게시글정보.csv'.format(keyword,keyword), encoding='utf-8-sig')\n",
    "df3"
   ]
  },
  {
   "cell_type": "code",
   "execution_count": 30,
   "id": "d1d1e3cf",
   "metadata": {},
   "outputs": [],
   "source": []
  },
  {
   "cell_type": "code",
   "execution_count": 29,
   "id": "c50f7b27",
   "metadata": {},
   "outputs": [
    {
     "data": {
      "text/html": [
       "<div>\n",
       "<style scoped>\n",
       "    .dataframe tbody tr th:only-of-type {\n",
       "        vertical-align: middle;\n",
       "    }\n",
       "\n",
       "    .dataframe tbody tr th {\n",
       "        vertical-align: top;\n",
       "    }\n",
       "\n",
       "    .dataframe thead th {\n",
       "        text-align: right;\n",
       "    }\n",
       "</style>\n",
       "<table border=\"1\" class=\"dataframe\">\n",
       "  <thead>\n",
       "    <tr style=\"text-align: right;\">\n",
       "      <th></th>\n",
       "      <th>0</th>\n",
       "    </tr>\n",
       "  </thead>\n",
       "  <tbody>\n",
       "    <tr>\n",
       "      <th>d_seong22</th>\n",
       "      <td>화나네</td>\n",
       "    </tr>\n",
       "    <tr>\n",
       "      <th>paakwoo</th>\n",
       "      <td>아기자룡☺️☺️</td>\n",
       "    </tr>\n",
       "    <tr>\n",
       "      <th>y_one.me</th>\n",
       "      <td>헐 애기때랑 또가타….❤️❤️</td>\n",
       "    </tr>\n",
       "    <tr>\n",
       "      <th>siiiinn_2j</th>\n",
       "      <td>큩걸~❤️</td>\n",
       "    </tr>\n",
       "    <tr>\n",
       "      <th>30s.en</th>\n",
       "      <td>아나 ㅋㅋㅋㅋㅋㅋㅋㅋㅋㅋ귀엽냩ㅌㅌㅌㅌㅌㅌ</td>\n",
       "    </tr>\n",
       "    <tr>\n",
       "      <th>__mar_16</th>\n",
       "      <td>너는 어릴때부터 이뿼구나..</td>\n",
       "    </tr>\n",
       "    <tr>\n",
       "      <th>vorte_reve</th>\n",
       "      <td>누가봐도 아가론샤</td>\n",
       "    </tr>\n",
       "    <tr>\n",
       "      <th>yu.__.j_01</th>\n",
       "      <td>어린 시절부터 완성형,,,베이비💕</td>\n",
       "    </tr>\n",
       "  </tbody>\n",
       "</table>\n",
       "</div>"
      ],
      "text/plain": [
       "                                 0\n",
       "d_seong22                      화나네\n",
       "paakwoo                   아기자룡☺️☺️\n",
       "y_one.me          헐 애기때랑 또가타….❤️❤️\n",
       "siiiinn_2j                   큩걸~❤️\n",
       "30s.en      아나 ㅋㅋㅋㅋㅋㅋㅋㅋㅋㅋ귀엽냩ㅌㅌㅌㅌㅌㅌ\n",
       "__mar_16           너는 어릴때부터 이뿼구나..\n",
       "vorte_reve               누가봐도 아가론샤\n",
       "yu.__.j_01      어린 시절부터 완성형,,,베이비💕"
      ]
     },
     "execution_count": 29,
     "metadata": {},
     "output_type": "execute_result"
    }
   ],
   "source": [
    "df4.T"
   ]
  },
  {
   "cell_type": "code",
   "execution_count": null,
   "id": "6144cd81",
   "metadata": {},
   "outputs": [],
   "source": []
  },
  {
   "cell_type": "code",
   "execution_count": null,
   "id": "d2b72004",
   "metadata": {},
   "outputs": [],
   "source": []
  },
  {
   "cell_type": "markdown",
   "id": "3eff9913",
   "metadata": {},
   "source": [
    "### 인플루언서\n",
    "- 계정명     .. O\n",
    "- 프로필     .. O\n",
    "- 팔로워수    .. O\n",
    "- 팔로윙수    .. O\n",
    "- 비즈니스 계정 ..X\n",
    "- 카테고리명   ..X\n",
    "- 프로필사진url .. O\n",
    "- 게시글 수    .. O\n",
    "\n",
    "### 팔로워 리스트\n",
    "- 계정명       ..O\n",
    "- 프로필사진url ..O\n",
    "\n",
    "### 포스트(게시글)\n",
    "- 게시글 id .. X\n",
    "- 날짜      .. O\n",
    "- 타입      ..X\n",
    "- 텍스트    .. O\n",
    "- 댓글수    .. O\n",
    "- 좋아요수  .. O\n",
    "- 이미지캡션   ..X\n",
    "\n",
    "### 좋아요_클릭\n",
    "- 게시글id ..X\n",
    "- 좋아요수  ..O\n",
    "- 좋아요클릭id .. X\n",
    "\n",
    "### 댓글\n",
    "- 게시글id ..X\n",
    "- 댓글id  .. O\n",
    "- 댓글내용 .. O\n",
    "\n",
    "### 팔로워 개인 프로필\n",
    "- 계정명  .. O\n",
    "- 팔로워수  .. O\n",
    "- 팔로윙수  .. O\n",
    "- 비즈니스 계정 ..X\n",
    "- 카테고리명  .. X\n",
    "- 프로필사진url.. O\n",
    "- 게시글수  .. O"
   ]
  },
  {
   "cell_type": "markdown",
   "id": "0216cc93",
   "metadata": {},
   "source": [
    "## ----------------------------------------여기까지--------------------------------------------------"
   ]
  },
  {
   "cell_type": "code",
   "execution_count": null,
   "id": "01b8ddd4",
   "metadata": {},
   "outputs": [],
   "source": []
  },
  {
   "cell_type": "code",
   "execution_count": null,
   "id": "f779fe5a",
   "metadata": {},
   "outputs": [],
   "source": []
  },
  {
   "cell_type": "code",
   "execution_count": null,
   "id": "ccf0470f",
   "metadata": {},
   "outputs": [],
   "source": []
  },
  {
   "cell_type": "code",
   "execution_count": null,
   "id": "5ae41798",
   "metadata": {},
   "outputs": [],
   "source": []
  },
  {
   "cell_type": "code",
   "execution_count": 437,
   "id": "37eda6f7",
   "metadata": {},
   "outputs": [],
   "source": [
    "url2 = 'https://dumpor.com/v/p_xoun/followers'"
   ]
  },
  {
   "cell_type": "code",
   "execution_count": 438,
   "id": "c884fa15",
   "metadata": {},
   "outputs": [
    {
     "name": "stderr",
     "output_type": "stream",
     "text": [
      "<ipython-input-438-c7c79097c5e4>:2: DeprecationWarning: use options instead of chrome_options\n",
      "  driver = webdriver.Chrome(executable_path= r'C:/Users/ourus/Python_KPC/Insta_Crawling/chromedriver_win32/chromedriver', chrome_options=options)\n"
     ]
    }
   ],
   "source": [
    "url3 = \"https://dumpor.com/c/5350319975241489362\"\n",
    "driver = webdriver.Chrome(executable_path= r'C:/Users/ourus/Python_KPC/Insta_Crawling/chromedriver_win32/chromedriver', chrome_options=options)\n",
    "driver.get(url2)"
   ]
  },
  {
   "cell_type": "code",
   "execution_count": 321,
   "id": "6b218199",
   "metadata": {},
   "outputs": [],
   "source": [
    "source = driver.page_source\n",
    "soup = BeautifulSoup(source, 'html.parser')"
   ]
  },
  {
   "cell_type": "code",
   "execution_count": 447,
   "id": "7f7b5102",
   "metadata": {},
   "outputs": [
    {
     "data": {
      "text/plain": [
       "'https://cdn1.dumpor.com/view?q=%3DYjNiJDOy0DZpN3Xj52XmczQDJkMyEjN9U2bmgjMzUWO3UjN4I2M5MDNkhzY3MTOlhTM3czMhZWY3EGZ9g2bmQTL30jYjNmJBFUQBJ0aUNWLH9UQ90GZlZyXyQULslDWBlEO3N0azkGTYV1M9MGav91Yu9lJ0Vmbu4GZjJmZuEmbm5SMtUzayhmZu0WYydWY0Nnbp1Ddo91Yu91PnBnau42X3ADO2AjM1QTMxgDNyQzN1AjN281M5UjN2UzNzMTNwUDNwQzX3MzNxUzM0EjMvATNxgHM1EzcvkTMtUDO4IjLxUDdvY3L0Vmbu4GZjJmZuEmbm5SMtUzayhmZu0WYydWY0Nnbp9yL6MHc0RHa'"
      ]
     },
     "execution_count": 447,
     "metadata": {},
     "output_type": "execute_result"
    }
   ],
   "source": [
    "a_tag = soup.select('.container .content__list.followers.grid.infinite_scroll a')\n",
    "a_tag[0].img['src']"
   ]
  },
  {
   "cell_type": "code",
   "execution_count": 448,
   "id": "324e9fb4",
   "metadata": {},
   "outputs": [
    {
     "ename": "KeyboardInterrupt",
     "evalue": "",
     "output_type": "error",
     "traceback": [
      "\u001b[1;31m---------------------------------------------------------------------------\u001b[0m",
      "\u001b[1;31mKeyboardInterrupt\u001b[0m                         Traceback (most recent call last)",
      "\u001b[1;32m<ipython-input-448-879c02561dc8>\u001b[0m in \u001b[0;36m<module>\u001b[1;34m\u001b[0m\n\u001b[0;32m      5\u001b[0m         \u001b[1;32mbreak\u001b[0m\u001b[1;33m\u001b[0m\u001b[1;33m\u001b[0m\u001b[0m\n\u001b[0;32m      6\u001b[0m \u001b[1;33m\u001b[0m\u001b[0m\n\u001b[1;32m----> 7\u001b[1;33m     \u001b[0msource\u001b[0m \u001b[1;33m=\u001b[0m \u001b[0mdriver\u001b[0m\u001b[1;33m.\u001b[0m\u001b[0mpage_source\u001b[0m\u001b[1;33m\u001b[0m\u001b[1;33m\u001b[0m\u001b[0m\n\u001b[0m\u001b[0;32m      8\u001b[0m     \u001b[0msoup\u001b[0m \u001b[1;33m=\u001b[0m \u001b[0mBeautifulSoup\u001b[0m\u001b[1;33m(\u001b[0m\u001b[0msource\u001b[0m\u001b[1;33m,\u001b[0m \u001b[1;34m'html.parser'\u001b[0m\u001b[1;33m)\u001b[0m\u001b[1;33m\u001b[0m\u001b[1;33m\u001b[0m\u001b[0m\n\u001b[0;32m      9\u001b[0m \u001b[1;33m\u001b[0m\u001b[0m\n",
      "\u001b[1;32m~\\anaconda3\\lib\\site-packages\\selenium\\webdriver\\remote\\webdriver.py\u001b[0m in \u001b[0;36mpage_source\u001b[1;34m(self)\u001b[0m\n\u001b[0;32m    677\u001b[0m             \u001b[0mdriver\u001b[0m\u001b[1;33m.\u001b[0m\u001b[0mpage_source\u001b[0m\u001b[1;33m\u001b[0m\u001b[1;33m\u001b[0m\u001b[0m\n\u001b[0;32m    678\u001b[0m         \"\"\"\n\u001b[1;32m--> 679\u001b[1;33m         \u001b[1;32mreturn\u001b[0m \u001b[0mself\u001b[0m\u001b[1;33m.\u001b[0m\u001b[0mexecute\u001b[0m\u001b[1;33m(\u001b[0m\u001b[0mCommand\u001b[0m\u001b[1;33m.\u001b[0m\u001b[0mGET_PAGE_SOURCE\u001b[0m\u001b[1;33m)\u001b[0m\u001b[1;33m[\u001b[0m\u001b[1;34m'value'\u001b[0m\u001b[1;33m]\u001b[0m\u001b[1;33m\u001b[0m\u001b[1;33m\u001b[0m\u001b[0m\n\u001b[0m\u001b[0;32m    680\u001b[0m \u001b[1;33m\u001b[0m\u001b[0m\n\u001b[0;32m    681\u001b[0m     \u001b[1;32mdef\u001b[0m \u001b[0mclose\u001b[0m\u001b[1;33m(\u001b[0m\u001b[0mself\u001b[0m\u001b[1;33m)\u001b[0m\u001b[1;33m:\u001b[0m\u001b[1;33m\u001b[0m\u001b[1;33m\u001b[0m\u001b[0m\n",
      "\u001b[1;32m~\\anaconda3\\lib\\site-packages\\selenium\\webdriver\\remote\\webdriver.py\u001b[0m in \u001b[0;36mexecute\u001b[1;34m(self, driver_command, params)\u001b[0m\n\u001b[0;32m    317\u001b[0m \u001b[1;33m\u001b[0m\u001b[0m\n\u001b[0;32m    318\u001b[0m         \u001b[0mparams\u001b[0m \u001b[1;33m=\u001b[0m \u001b[0mself\u001b[0m\u001b[1;33m.\u001b[0m\u001b[0m_wrap_value\u001b[0m\u001b[1;33m(\u001b[0m\u001b[0mparams\u001b[0m\u001b[1;33m)\u001b[0m\u001b[1;33m\u001b[0m\u001b[1;33m\u001b[0m\u001b[0m\n\u001b[1;32m--> 319\u001b[1;33m         \u001b[0mresponse\u001b[0m \u001b[1;33m=\u001b[0m \u001b[0mself\u001b[0m\u001b[1;33m.\u001b[0m\u001b[0mcommand_executor\u001b[0m\u001b[1;33m.\u001b[0m\u001b[0mexecute\u001b[0m\u001b[1;33m(\u001b[0m\u001b[0mdriver_command\u001b[0m\u001b[1;33m,\u001b[0m \u001b[0mparams\u001b[0m\u001b[1;33m)\u001b[0m\u001b[1;33m\u001b[0m\u001b[1;33m\u001b[0m\u001b[0m\n\u001b[0m\u001b[0;32m    320\u001b[0m         \u001b[1;32mif\u001b[0m \u001b[0mresponse\u001b[0m\u001b[1;33m:\u001b[0m\u001b[1;33m\u001b[0m\u001b[1;33m\u001b[0m\u001b[0m\n\u001b[0;32m    321\u001b[0m             \u001b[0mself\u001b[0m\u001b[1;33m.\u001b[0m\u001b[0merror_handler\u001b[0m\u001b[1;33m.\u001b[0m\u001b[0mcheck_response\u001b[0m\u001b[1;33m(\u001b[0m\u001b[0mresponse\u001b[0m\u001b[1;33m)\u001b[0m\u001b[1;33m\u001b[0m\u001b[1;33m\u001b[0m\u001b[0m\n",
      "\u001b[1;32m~\\anaconda3\\lib\\site-packages\\selenium\\webdriver\\remote\\remote_connection.py\u001b[0m in \u001b[0;36mexecute\u001b[1;34m(self, command, params)\u001b[0m\n\u001b[0;32m    372\u001b[0m         \u001b[0mdata\u001b[0m \u001b[1;33m=\u001b[0m \u001b[0mutils\u001b[0m\u001b[1;33m.\u001b[0m\u001b[0mdump_json\u001b[0m\u001b[1;33m(\u001b[0m\u001b[0mparams\u001b[0m\u001b[1;33m)\u001b[0m\u001b[1;33m\u001b[0m\u001b[1;33m\u001b[0m\u001b[0m\n\u001b[0;32m    373\u001b[0m         \u001b[0murl\u001b[0m \u001b[1;33m=\u001b[0m \u001b[1;34m'%s%s'\u001b[0m \u001b[1;33m%\u001b[0m \u001b[1;33m(\u001b[0m\u001b[0mself\u001b[0m\u001b[1;33m.\u001b[0m\u001b[0m_url\u001b[0m\u001b[1;33m,\u001b[0m \u001b[0mpath\u001b[0m\u001b[1;33m)\u001b[0m\u001b[1;33m\u001b[0m\u001b[1;33m\u001b[0m\u001b[0m\n\u001b[1;32m--> 374\u001b[1;33m         \u001b[1;32mreturn\u001b[0m \u001b[0mself\u001b[0m\u001b[1;33m.\u001b[0m\u001b[0m_request\u001b[0m\u001b[1;33m(\u001b[0m\u001b[0mcommand_info\u001b[0m\u001b[1;33m[\u001b[0m\u001b[1;36m0\u001b[0m\u001b[1;33m]\u001b[0m\u001b[1;33m,\u001b[0m \u001b[0murl\u001b[0m\u001b[1;33m,\u001b[0m \u001b[0mbody\u001b[0m\u001b[1;33m=\u001b[0m\u001b[0mdata\u001b[0m\u001b[1;33m)\u001b[0m\u001b[1;33m\u001b[0m\u001b[1;33m\u001b[0m\u001b[0m\n\u001b[0m\u001b[0;32m    375\u001b[0m \u001b[1;33m\u001b[0m\u001b[0m\n\u001b[0;32m    376\u001b[0m     \u001b[1;32mdef\u001b[0m \u001b[0m_request\u001b[0m\u001b[1;33m(\u001b[0m\u001b[0mself\u001b[0m\u001b[1;33m,\u001b[0m \u001b[0mmethod\u001b[0m\u001b[1;33m,\u001b[0m \u001b[0murl\u001b[0m\u001b[1;33m,\u001b[0m \u001b[0mbody\u001b[0m\u001b[1;33m=\u001b[0m\u001b[1;32mNone\u001b[0m\u001b[1;33m)\u001b[0m\u001b[1;33m:\u001b[0m\u001b[1;33m\u001b[0m\u001b[1;33m\u001b[0m\u001b[0m\n",
      "\u001b[1;32m~\\anaconda3\\lib\\site-packages\\selenium\\webdriver\\remote\\remote_connection.py\u001b[0m in \u001b[0;36m_request\u001b[1;34m(self, method, url, body)\u001b[0m\n\u001b[0;32m    395\u001b[0m \u001b[1;33m\u001b[0m\u001b[0m\n\u001b[0;32m    396\u001b[0m         \u001b[1;32mif\u001b[0m \u001b[0mself\u001b[0m\u001b[1;33m.\u001b[0m\u001b[0mkeep_alive\u001b[0m\u001b[1;33m:\u001b[0m\u001b[1;33m\u001b[0m\u001b[1;33m\u001b[0m\u001b[0m\n\u001b[1;32m--> 397\u001b[1;33m             \u001b[0mresp\u001b[0m \u001b[1;33m=\u001b[0m \u001b[0mself\u001b[0m\u001b[1;33m.\u001b[0m\u001b[0m_conn\u001b[0m\u001b[1;33m.\u001b[0m\u001b[0mrequest\u001b[0m\u001b[1;33m(\u001b[0m\u001b[0mmethod\u001b[0m\u001b[1;33m,\u001b[0m \u001b[0murl\u001b[0m\u001b[1;33m,\u001b[0m \u001b[0mbody\u001b[0m\u001b[1;33m=\u001b[0m\u001b[0mbody\u001b[0m\u001b[1;33m,\u001b[0m \u001b[0mheaders\u001b[0m\u001b[1;33m=\u001b[0m\u001b[0mheaders\u001b[0m\u001b[1;33m)\u001b[0m\u001b[1;33m\u001b[0m\u001b[1;33m\u001b[0m\u001b[0m\n\u001b[0m\u001b[0;32m    398\u001b[0m \u001b[1;33m\u001b[0m\u001b[0m\n\u001b[0;32m    399\u001b[0m             \u001b[0mstatuscode\u001b[0m \u001b[1;33m=\u001b[0m \u001b[0mresp\u001b[0m\u001b[1;33m.\u001b[0m\u001b[0mstatus\u001b[0m\u001b[1;33m\u001b[0m\u001b[1;33m\u001b[0m\u001b[0m\n",
      "\u001b[1;32m~\\anaconda3\\lib\\site-packages\\urllib3\\request.py\u001b[0m in \u001b[0;36mrequest\u001b[1;34m(self, method, url, fields, headers, **urlopen_kw)\u001b[0m\n\u001b[0;32m     72\u001b[0m \u001b[1;33m\u001b[0m\u001b[0m\n\u001b[0;32m     73\u001b[0m         \u001b[1;32mif\u001b[0m \u001b[0mmethod\u001b[0m \u001b[1;32min\u001b[0m \u001b[0mself\u001b[0m\u001b[1;33m.\u001b[0m\u001b[0m_encode_url_methods\u001b[0m\u001b[1;33m:\u001b[0m\u001b[1;33m\u001b[0m\u001b[1;33m\u001b[0m\u001b[0m\n\u001b[1;32m---> 74\u001b[1;33m             return self.request_encode_url(\n\u001b[0m\u001b[0;32m     75\u001b[0m                 \u001b[0mmethod\u001b[0m\u001b[1;33m,\u001b[0m \u001b[0murl\u001b[0m\u001b[1;33m,\u001b[0m \u001b[0mfields\u001b[0m\u001b[1;33m=\u001b[0m\u001b[0mfields\u001b[0m\u001b[1;33m,\u001b[0m \u001b[0mheaders\u001b[0m\u001b[1;33m=\u001b[0m\u001b[0mheaders\u001b[0m\u001b[1;33m,\u001b[0m \u001b[1;33m**\u001b[0m\u001b[0murlopen_kw\u001b[0m\u001b[1;33m\u001b[0m\u001b[1;33m\u001b[0m\u001b[0m\n\u001b[0;32m     76\u001b[0m             )\n",
      "\u001b[1;32m~\\anaconda3\\lib\\site-packages\\urllib3\\request.py\u001b[0m in \u001b[0;36mrequest_encode_url\u001b[1;34m(self, method, url, fields, headers, **urlopen_kw)\u001b[0m\n\u001b[0;32m     94\u001b[0m             \u001b[0murl\u001b[0m \u001b[1;33m+=\u001b[0m \u001b[1;34m\"?\"\u001b[0m \u001b[1;33m+\u001b[0m \u001b[0murlencode\u001b[0m\u001b[1;33m(\u001b[0m\u001b[0mfields\u001b[0m\u001b[1;33m)\u001b[0m\u001b[1;33m\u001b[0m\u001b[1;33m\u001b[0m\u001b[0m\n\u001b[0;32m     95\u001b[0m \u001b[1;33m\u001b[0m\u001b[0m\n\u001b[1;32m---> 96\u001b[1;33m         \u001b[1;32mreturn\u001b[0m \u001b[0mself\u001b[0m\u001b[1;33m.\u001b[0m\u001b[0murlopen\u001b[0m\u001b[1;33m(\u001b[0m\u001b[0mmethod\u001b[0m\u001b[1;33m,\u001b[0m \u001b[0murl\u001b[0m\u001b[1;33m,\u001b[0m \u001b[1;33m**\u001b[0m\u001b[0mextra_kw\u001b[0m\u001b[1;33m)\u001b[0m\u001b[1;33m\u001b[0m\u001b[1;33m\u001b[0m\u001b[0m\n\u001b[0m\u001b[0;32m     97\u001b[0m \u001b[1;33m\u001b[0m\u001b[0m\n\u001b[0;32m     98\u001b[0m     def request_encode_body(\n",
      "\u001b[1;32m~\\anaconda3\\lib\\site-packages\\urllib3\\poolmanager.py\u001b[0m in \u001b[0;36murlopen\u001b[1;34m(self, method, url, redirect, **kw)\u001b[0m\n\u001b[0;32m    373\u001b[0m             \u001b[0mresponse\u001b[0m \u001b[1;33m=\u001b[0m \u001b[0mconn\u001b[0m\u001b[1;33m.\u001b[0m\u001b[0murlopen\u001b[0m\u001b[1;33m(\u001b[0m\u001b[0mmethod\u001b[0m\u001b[1;33m,\u001b[0m \u001b[0murl\u001b[0m\u001b[1;33m,\u001b[0m \u001b[1;33m**\u001b[0m\u001b[0mkw\u001b[0m\u001b[1;33m)\u001b[0m\u001b[1;33m\u001b[0m\u001b[1;33m\u001b[0m\u001b[0m\n\u001b[0;32m    374\u001b[0m         \u001b[1;32melse\u001b[0m\u001b[1;33m:\u001b[0m\u001b[1;33m\u001b[0m\u001b[1;33m\u001b[0m\u001b[0m\n\u001b[1;32m--> 375\u001b[1;33m             \u001b[0mresponse\u001b[0m \u001b[1;33m=\u001b[0m \u001b[0mconn\u001b[0m\u001b[1;33m.\u001b[0m\u001b[0murlopen\u001b[0m\u001b[1;33m(\u001b[0m\u001b[0mmethod\u001b[0m\u001b[1;33m,\u001b[0m \u001b[0mu\u001b[0m\u001b[1;33m.\u001b[0m\u001b[0mrequest_uri\u001b[0m\u001b[1;33m,\u001b[0m \u001b[1;33m**\u001b[0m\u001b[0mkw\u001b[0m\u001b[1;33m)\u001b[0m\u001b[1;33m\u001b[0m\u001b[1;33m\u001b[0m\u001b[0m\n\u001b[0m\u001b[0;32m    376\u001b[0m \u001b[1;33m\u001b[0m\u001b[0m\n\u001b[0;32m    377\u001b[0m         \u001b[0mredirect_location\u001b[0m \u001b[1;33m=\u001b[0m \u001b[0mredirect\u001b[0m \u001b[1;32mand\u001b[0m \u001b[0mresponse\u001b[0m\u001b[1;33m.\u001b[0m\u001b[0mget_redirect_location\u001b[0m\u001b[1;33m(\u001b[0m\u001b[1;33m)\u001b[0m\u001b[1;33m\u001b[0m\u001b[1;33m\u001b[0m\u001b[0m\n",
      "\u001b[1;32m~\\anaconda3\\lib\\site-packages\\urllib3\\connectionpool.py\u001b[0m in \u001b[0;36murlopen\u001b[1;34m(self, method, url, body, headers, retries, redirect, assert_same_host, timeout, pool_timeout, release_conn, chunked, body_pos, **response_kw)\u001b[0m\n\u001b[0;32m    697\u001b[0m \u001b[1;33m\u001b[0m\u001b[0m\n\u001b[0;32m    698\u001b[0m             \u001b[1;31m# Make the request on the httplib connection object.\u001b[0m\u001b[1;33m\u001b[0m\u001b[1;33m\u001b[0m\u001b[1;33m\u001b[0m\u001b[0m\n\u001b[1;32m--> 699\u001b[1;33m             httplib_response = self._make_request(\n\u001b[0m\u001b[0;32m    700\u001b[0m                 \u001b[0mconn\u001b[0m\u001b[1;33m,\u001b[0m\u001b[1;33m\u001b[0m\u001b[1;33m\u001b[0m\u001b[0m\n\u001b[0;32m    701\u001b[0m                 \u001b[0mmethod\u001b[0m\u001b[1;33m,\u001b[0m\u001b[1;33m\u001b[0m\u001b[1;33m\u001b[0m\u001b[0m\n",
      "\u001b[1;32m~\\anaconda3\\lib\\site-packages\\urllib3\\connectionpool.py\u001b[0m in \u001b[0;36m_make_request\u001b[1;34m(self, conn, method, url, timeout, chunked, **httplib_request_kw)\u001b[0m\n\u001b[0;32m    443\u001b[0m                     \u001b[1;31m# Python 3 (including for exceptions like SystemExit).\u001b[0m\u001b[1;33m\u001b[0m\u001b[1;33m\u001b[0m\u001b[1;33m\u001b[0m\u001b[0m\n\u001b[0;32m    444\u001b[0m                     \u001b[1;31m# Otherwise it looks like a bug in the code.\u001b[0m\u001b[1;33m\u001b[0m\u001b[1;33m\u001b[0m\u001b[1;33m\u001b[0m\u001b[0m\n\u001b[1;32m--> 445\u001b[1;33m                     \u001b[0msix\u001b[0m\u001b[1;33m.\u001b[0m\u001b[0mraise_from\u001b[0m\u001b[1;33m(\u001b[0m\u001b[0me\u001b[0m\u001b[1;33m,\u001b[0m \u001b[1;32mNone\u001b[0m\u001b[1;33m)\u001b[0m\u001b[1;33m\u001b[0m\u001b[1;33m\u001b[0m\u001b[0m\n\u001b[0m\u001b[0;32m    446\u001b[0m         \u001b[1;32mexcept\u001b[0m \u001b[1;33m(\u001b[0m\u001b[0mSocketTimeout\u001b[0m\u001b[1;33m,\u001b[0m \u001b[0mBaseSSLError\u001b[0m\u001b[1;33m,\u001b[0m \u001b[0mSocketError\u001b[0m\u001b[1;33m)\u001b[0m \u001b[1;32mas\u001b[0m \u001b[0me\u001b[0m\u001b[1;33m:\u001b[0m\u001b[1;33m\u001b[0m\u001b[1;33m\u001b[0m\u001b[0m\n\u001b[0;32m    447\u001b[0m             \u001b[0mself\u001b[0m\u001b[1;33m.\u001b[0m\u001b[0m_raise_timeout\u001b[0m\u001b[1;33m(\u001b[0m\u001b[0merr\u001b[0m\u001b[1;33m=\u001b[0m\u001b[0me\u001b[0m\u001b[1;33m,\u001b[0m \u001b[0murl\u001b[0m\u001b[1;33m=\u001b[0m\u001b[0murl\u001b[0m\u001b[1;33m,\u001b[0m \u001b[0mtimeout_value\u001b[0m\u001b[1;33m=\u001b[0m\u001b[0mread_timeout\u001b[0m\u001b[1;33m)\u001b[0m\u001b[1;33m\u001b[0m\u001b[1;33m\u001b[0m\u001b[0m\n",
      "\u001b[1;32m~\\anaconda3\\lib\\site-packages\\urllib3\\packages\\six.py\u001b[0m in \u001b[0;36mraise_from\u001b[1;34m(value, from_value)\u001b[0m\n",
      "\u001b[1;32m~\\anaconda3\\lib\\site-packages\\urllib3\\connectionpool.py\u001b[0m in \u001b[0;36m_make_request\u001b[1;34m(self, conn, method, url, timeout, chunked, **httplib_request_kw)\u001b[0m\n\u001b[0;32m    438\u001b[0m                 \u001b[1;31m# Python 3\u001b[0m\u001b[1;33m\u001b[0m\u001b[1;33m\u001b[0m\u001b[1;33m\u001b[0m\u001b[0m\n\u001b[0;32m    439\u001b[0m                 \u001b[1;32mtry\u001b[0m\u001b[1;33m:\u001b[0m\u001b[1;33m\u001b[0m\u001b[1;33m\u001b[0m\u001b[0m\n\u001b[1;32m--> 440\u001b[1;33m                     \u001b[0mhttplib_response\u001b[0m \u001b[1;33m=\u001b[0m \u001b[0mconn\u001b[0m\u001b[1;33m.\u001b[0m\u001b[0mgetresponse\u001b[0m\u001b[1;33m(\u001b[0m\u001b[1;33m)\u001b[0m\u001b[1;33m\u001b[0m\u001b[1;33m\u001b[0m\u001b[0m\n\u001b[0m\u001b[0;32m    441\u001b[0m                 \u001b[1;32mexcept\u001b[0m \u001b[0mBaseException\u001b[0m \u001b[1;32mas\u001b[0m \u001b[0me\u001b[0m\u001b[1;33m:\u001b[0m\u001b[1;33m\u001b[0m\u001b[1;33m\u001b[0m\u001b[0m\n\u001b[0;32m    442\u001b[0m                     \u001b[1;31m# Remove the TypeError from the exception chain in\u001b[0m\u001b[1;33m\u001b[0m\u001b[1;33m\u001b[0m\u001b[1;33m\u001b[0m\u001b[0m\n",
      "\u001b[1;32m~\\anaconda3\\lib\\http\\client.py\u001b[0m in \u001b[0;36mgetresponse\u001b[1;34m(self)\u001b[0m\n\u001b[0;32m   1345\u001b[0m         \u001b[1;32mtry\u001b[0m\u001b[1;33m:\u001b[0m\u001b[1;33m\u001b[0m\u001b[1;33m\u001b[0m\u001b[0m\n\u001b[0;32m   1346\u001b[0m             \u001b[1;32mtry\u001b[0m\u001b[1;33m:\u001b[0m\u001b[1;33m\u001b[0m\u001b[1;33m\u001b[0m\u001b[0m\n\u001b[1;32m-> 1347\u001b[1;33m                 \u001b[0mresponse\u001b[0m\u001b[1;33m.\u001b[0m\u001b[0mbegin\u001b[0m\u001b[1;33m(\u001b[0m\u001b[1;33m)\u001b[0m\u001b[1;33m\u001b[0m\u001b[1;33m\u001b[0m\u001b[0m\n\u001b[0m\u001b[0;32m   1348\u001b[0m             \u001b[1;32mexcept\u001b[0m \u001b[0mConnectionError\u001b[0m\u001b[1;33m:\u001b[0m\u001b[1;33m\u001b[0m\u001b[1;33m\u001b[0m\u001b[0m\n\u001b[0;32m   1349\u001b[0m                 \u001b[0mself\u001b[0m\u001b[1;33m.\u001b[0m\u001b[0mclose\u001b[0m\u001b[1;33m(\u001b[0m\u001b[1;33m)\u001b[0m\u001b[1;33m\u001b[0m\u001b[1;33m\u001b[0m\u001b[0m\n",
      "\u001b[1;32m~\\anaconda3\\lib\\http\\client.py\u001b[0m in \u001b[0;36mbegin\u001b[1;34m(self)\u001b[0m\n\u001b[0;32m    305\u001b[0m         \u001b[1;31m# read until we get a non-100 response\u001b[0m\u001b[1;33m\u001b[0m\u001b[1;33m\u001b[0m\u001b[1;33m\u001b[0m\u001b[0m\n\u001b[0;32m    306\u001b[0m         \u001b[1;32mwhile\u001b[0m \u001b[1;32mTrue\u001b[0m\u001b[1;33m:\u001b[0m\u001b[1;33m\u001b[0m\u001b[1;33m\u001b[0m\u001b[0m\n\u001b[1;32m--> 307\u001b[1;33m             \u001b[0mversion\u001b[0m\u001b[1;33m,\u001b[0m \u001b[0mstatus\u001b[0m\u001b[1;33m,\u001b[0m \u001b[0mreason\u001b[0m \u001b[1;33m=\u001b[0m \u001b[0mself\u001b[0m\u001b[1;33m.\u001b[0m\u001b[0m_read_status\u001b[0m\u001b[1;33m(\u001b[0m\u001b[1;33m)\u001b[0m\u001b[1;33m\u001b[0m\u001b[1;33m\u001b[0m\u001b[0m\n\u001b[0m\u001b[0;32m    308\u001b[0m             \u001b[1;32mif\u001b[0m \u001b[0mstatus\u001b[0m \u001b[1;33m!=\u001b[0m \u001b[0mCONTINUE\u001b[0m\u001b[1;33m:\u001b[0m\u001b[1;33m\u001b[0m\u001b[1;33m\u001b[0m\u001b[0m\n\u001b[0;32m    309\u001b[0m                 \u001b[1;32mbreak\u001b[0m\u001b[1;33m\u001b[0m\u001b[1;33m\u001b[0m\u001b[0m\n",
      "\u001b[1;32m~\\anaconda3\\lib\\http\\client.py\u001b[0m in \u001b[0;36m_read_status\u001b[1;34m(self)\u001b[0m\n\u001b[0;32m    266\u001b[0m \u001b[1;33m\u001b[0m\u001b[0m\n\u001b[0;32m    267\u001b[0m     \u001b[1;32mdef\u001b[0m \u001b[0m_read_status\u001b[0m\u001b[1;33m(\u001b[0m\u001b[0mself\u001b[0m\u001b[1;33m)\u001b[0m\u001b[1;33m:\u001b[0m\u001b[1;33m\u001b[0m\u001b[1;33m\u001b[0m\u001b[0m\n\u001b[1;32m--> 268\u001b[1;33m         \u001b[0mline\u001b[0m \u001b[1;33m=\u001b[0m \u001b[0mstr\u001b[0m\u001b[1;33m(\u001b[0m\u001b[0mself\u001b[0m\u001b[1;33m.\u001b[0m\u001b[0mfp\u001b[0m\u001b[1;33m.\u001b[0m\u001b[0mreadline\u001b[0m\u001b[1;33m(\u001b[0m\u001b[0m_MAXLINE\u001b[0m \u001b[1;33m+\u001b[0m \u001b[1;36m1\u001b[0m\u001b[1;33m)\u001b[0m\u001b[1;33m,\u001b[0m \u001b[1;34m\"iso-8859-1\"\u001b[0m\u001b[1;33m)\u001b[0m\u001b[1;33m\u001b[0m\u001b[1;33m\u001b[0m\u001b[0m\n\u001b[0m\u001b[0;32m    269\u001b[0m         \u001b[1;32mif\u001b[0m \u001b[0mlen\u001b[0m\u001b[1;33m(\u001b[0m\u001b[0mline\u001b[0m\u001b[1;33m)\u001b[0m \u001b[1;33m>\u001b[0m \u001b[0m_MAXLINE\u001b[0m\u001b[1;33m:\u001b[0m\u001b[1;33m\u001b[0m\u001b[1;33m\u001b[0m\u001b[0m\n\u001b[0;32m    270\u001b[0m             \u001b[1;32mraise\u001b[0m \u001b[0mLineTooLong\u001b[0m\u001b[1;33m(\u001b[0m\u001b[1;34m\"status line\"\u001b[0m\u001b[1;33m)\u001b[0m\u001b[1;33m\u001b[0m\u001b[1;33m\u001b[0m\u001b[0m\n",
      "\u001b[1;32m~\\anaconda3\\lib\\socket.py\u001b[0m in \u001b[0;36mreadinto\u001b[1;34m(self, b)\u001b[0m\n\u001b[0;32m    667\u001b[0m         \u001b[1;32mwhile\u001b[0m \u001b[1;32mTrue\u001b[0m\u001b[1;33m:\u001b[0m\u001b[1;33m\u001b[0m\u001b[1;33m\u001b[0m\u001b[0m\n\u001b[0;32m    668\u001b[0m             \u001b[1;32mtry\u001b[0m\u001b[1;33m:\u001b[0m\u001b[1;33m\u001b[0m\u001b[1;33m\u001b[0m\u001b[0m\n\u001b[1;32m--> 669\u001b[1;33m                 \u001b[1;32mreturn\u001b[0m \u001b[0mself\u001b[0m\u001b[1;33m.\u001b[0m\u001b[0m_sock\u001b[0m\u001b[1;33m.\u001b[0m\u001b[0mrecv_into\u001b[0m\u001b[1;33m(\u001b[0m\u001b[0mb\u001b[0m\u001b[1;33m)\u001b[0m\u001b[1;33m\u001b[0m\u001b[1;33m\u001b[0m\u001b[0m\n\u001b[0m\u001b[0;32m    670\u001b[0m             \u001b[1;32mexcept\u001b[0m \u001b[0mtimeout\u001b[0m\u001b[1;33m:\u001b[0m\u001b[1;33m\u001b[0m\u001b[1;33m\u001b[0m\u001b[0m\n\u001b[0;32m    671\u001b[0m                 \u001b[0mself\u001b[0m\u001b[1;33m.\u001b[0m\u001b[0m_timeout_occurred\u001b[0m \u001b[1;33m=\u001b[0m \u001b[1;32mTrue\u001b[0m\u001b[1;33m\u001b[0m\u001b[1;33m\u001b[0m\u001b[0m\n",
      "\u001b[1;31mKeyboardInterrupt\u001b[0m: "
     ]
    }
   ],
   "source": [
    "followers_dict={}\n",
    "count = 0\n",
    "while True:\n",
    "    if(count > 1857):\n",
    "        break\n",
    "\n",
    "    source = driver.page_source\n",
    "    soup = BeautifulSoup(source, 'html.parser')\n",
    "\n",
    "    a_tag = soup.select('.container .content__list.followers.grid.infinite_scroll a')\n",
    "\n",
    "    for a in a_tag:\n",
    "        id_url = a.attrs['href'] #https://dumpor.com/v/계정\n",
    "        followers_dict[id_url[21:]] = a.img['src'] # {계정이름 : 프로필이미지 url}\n",
    "\n",
    "    driver.execute_script(\"window.scrollTo(0, document.body.scrollHeight)\") #휠스크롤\n",
    "\n",
    "    #followers_dict = set(followers_dict)\n",
    "    time.sleep(0.5)\n",
    "    count = count + 1\n"
   ]
  },
  {
   "cell_type": "code",
   "execution_count": 372,
   "id": "bc352639",
   "metadata": {},
   "outputs": [
    {
     "name": "stdout",
     "output_type": "stream",
     "text": [
      "{'muni_koon': '피드 잘보고가요! 자극받고갑니닷🔥소통해요!😊', 'chell_byeol': 'ㅎㅣ 몸매 머선129❤️', 'w_wpppi': '곰도리 두마리🐻🐻\\u200d❄️', 'crescentreasures_sidra32': 'Collab? Dm @crescentreasures', '0529.gaeun.ig': '온니 넘 이쁘세요', 'luxeitem_02': '스타일 멋집니당~제 피드도 놀러오세용~^^', 'a_unxa': '인형이냐거', 'ye_e_jin': '아 예뿌다', 'y_one.me': '아 넘이뻐,,,,,,', '__mar_16': '너 혼혈이라며? 천국과 한국 ><', 'vegemmil': 'ㅂㄹ야', 'yu.__.j_01': '와…미췬…아이돌인줄💖', '20._june': '론아 갈 수록 넘 예쁘다 ❤️', 'kim_sj62': '헙 예쁘다', '8.26.seining': '오엠쥐~ 넌 비올때 우산쓰지마라,,,꽃에는 물이 필요하니깐,,,', 'cactus_ze': '헉 여신님 🥰🥰', '1.03lio': '마스크 써야지', 'auaaa.y': '왤케 예뿌냐 진짜', '30s.en': 'ㅈㄴ이뻐 존나 이뻐 존나이뻐 ㅈㄴㅇㅃㅇㅃㅇㅃ'}\n"
     ]
    }
   ],
   "source": [
    "tag = soup.select('#card-page > .container .wrap.comments.mb-4 > div > div > div > div')\n",
    "follwers_dict = {}\n",
    "id_list = []\n",
    "text_list = []\n",
    "for a in tag:\n",
    "\n",
    "    user_id = a.p.text\n",
    "    n = 1\n",
    "    for b in a:\n",
    "        n = n+1\n",
    "        text = b.text\n",
    "        if n%2==0: #id\n",
    "            text_list.append(text[1:]) \n",
    "        else: #댓글\n",
    "            text_list.append(text)\n",
    "            \n",
    "followers_dict={text_list[i]: text_list[i + 1] for i in range(0, len(text_list), 2)}\n",
    "print(followers_dict)\n",
    "        \n"
   ]
  },
  {
   "cell_type": "code",
   "execution_count": null,
   "id": "11004d31",
   "metadata": {},
   "outputs": [],
   "source": []
  },
  {
   "cell_type": "code",
   "execution_count": 221,
   "id": "763e81fa",
   "metadata": {},
   "outputs": [],
   "source": [
    "#getCount_Posts_Followers_Followings()\n",
    "#get_InfluId_Biography_ProfileUrl()\n",
    "#get_Followers_dict(url, followers)\n"
   ]
  },
  {
   "cell_type": "code",
   "execution_count": null,
   "id": "caec8163",
   "metadata": {},
   "outputs": [],
   "source": []
  },
  {
   "cell_type": "code",
   "execution_count": 279,
   "id": "fd7014e7",
   "metadata": {},
   "outputs": [],
   "source": [
    "main_text = soup.select_one('#card-page div.main__list').text"
   ]
  },
  {
   "cell_type": "code",
   "execution_count": 280,
   "id": "0052ca23",
   "metadata": {},
   "outputs": [
    {
     "data": {
      "text/plain": [
       "'🌞ㅡ#teamfollowback #맞팔해요 #fllowme#셀스타그램#likeforlikes#얼스타그램 #선팔하면맞팔#전주카페#selca#selfie #팔로우100#뷰티#대전카페#첫줄#좋아요#셀스타그램#헬스#대전프로필#following#필라테스#ootd#청주#오오티디#맞팔#좋반#flf#f#lfl#첫줄반사#lfl#f4f'"
      ]
     },
     "execution_count": 280,
     "metadata": {},
     "output_type": "execute_result"
    }
   ],
   "source": [
    "main_text"
   ]
  },
  {
   "cell_type": "code",
   "execution_count": null,
   "id": "1708df72",
   "metadata": {},
   "outputs": [],
   "source": []
  },
  {
   "cell_type": "code",
   "execution_count": 282,
   "id": "d9aa5f4d",
   "metadata": {},
   "outputs": [
    {
     "data": {
      "text/plain": [
       "'3 days ago'"
      ]
     },
     "execution_count": 282,
     "metadata": {},
     "output_type": "execute_result"
    }
   ],
   "source": [
    "dates_text = soup.select_one('#card-page div.main__user-desc').text\n",
    "dates = dates_text[5+len('ja.lyong'):]\n",
    "dates"
   ]
  },
  {
   "cell_type": "code",
   "execution_count": 260,
   "id": "8ef6bd9c",
   "metadata": {},
   "outputs": [
    {
     "data": {
      "text/plain": [
       "'3 days ago'"
      ]
     },
     "execution_count": 260,
     "metadata": {},
     "output_type": "execute_result"
    }
   ],
   "source": []
  },
  {
   "cell_type": "code",
   "execution_count": 275,
   "id": "f514c6b5",
   "metadata": {},
   "outputs": [],
   "source": []
  },
  {
   "cell_type": "code",
   "execution_count": 262,
   "id": "d47950f6",
   "metadata": {},
   "outputs": [],
   "source": []
  },
  {
   "cell_type": "code",
   "execution_count": 278,
   "id": "de3ce60f",
   "metadata": {},
   "outputs": [
    {
     "data": {
      "text/plain": [
       "datetime.date(2021, 8, 14)"
      ]
     },
     "execution_count": 278,
     "metadata": {},
     "output_type": "execute_result"
    }
   ],
   "source": []
  },
  {
   "cell_type": "code",
   "execution_count": null,
   "id": "75355db5",
   "metadata": {},
   "outputs": [],
   "source": [
    "user_id_url"
   ]
  },
  {
   "cell_type": "code",
   "execution_count": null,
   "id": "7bb9c156",
   "metadata": {},
   "outputs": [],
   "source": [
    "user_id = user_id_url[3:]\n",
    "user_id"
   ]
  },
  {
   "cell_type": "code",
   "execution_count": null,
   "id": "e1dea87e",
   "metadata": {},
   "outputs": [],
   "source": []
  },
  {
   "cell_type": "code",
   "execution_count": null,
   "id": "47b7b586",
   "metadata": {},
   "outputs": [],
   "source": []
  },
  {
   "cell_type": "code",
   "execution_count": null,
   "id": "79ccc72a",
   "metadata": {},
   "outputs": [],
   "source": []
  },
  {
   "cell_type": "code",
   "execution_count": null,
   "id": "24920e26",
   "metadata": {},
   "outputs": [],
   "source": []
  },
  {
   "cell_type": "code",
   "execution_count": null,
   "id": "f735d1a7",
   "metadata": {},
   "outputs": [],
   "source": []
  },
  {
   "cell_type": "code",
   "execution_count": 466,
   "id": "05e21b50",
   "metadata": {},
   "outputs": [],
   "source": []
  },
  {
   "cell_type": "code",
   "execution_count": null,
   "id": "1169b4f4",
   "metadata": {},
   "outputs": [],
   "source": []
  },
  {
   "cell_type": "code",
   "execution_count": null,
   "id": "ab8392c3",
   "metadata": {},
   "outputs": [],
   "source": []
  },
  {
   "cell_type": "code",
   "execution_count": null,
   "id": "269dfa4f",
   "metadata": {},
   "outputs": [],
   "source": []
  },
  {
   "cell_type": "code",
   "execution_count": null,
   "id": "d366408a",
   "metadata": {},
   "outputs": [],
   "source": []
  },
  {
   "cell_type": "code",
   "execution_count": null,
   "id": "e4727a54",
   "metadata": {},
   "outputs": [],
   "source": []
  },
  {
   "cell_type": "code",
   "execution_count": null,
   "id": "50d5fc5c",
   "metadata": {},
   "outputs": [],
   "source": []
  }
 ],
 "metadata": {
  "kernelspec": {
   "display_name": "Python 3",
   "language": "python",
   "name": "python3"
  },
  "language_info": {
   "codemirror_mode": {
    "name": "ipython",
    "version": 3
   },
   "file_extension": ".py",
   "mimetype": "text/x-python",
   "name": "python",
   "nbconvert_exporter": "python",
   "pygments_lexer": "ipython3",
   "version": "3.8.8"
  }
 },
 "nbformat": 4,
 "nbformat_minor": 5
}
